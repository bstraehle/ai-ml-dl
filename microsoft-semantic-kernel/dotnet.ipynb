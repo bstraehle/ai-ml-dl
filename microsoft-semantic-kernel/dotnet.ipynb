{
 "cells": [
  {
   "cell_type": "markdown",
   "metadata": {},
   "source": [
    "# OpenAI chat completion example\n",
    "Open Visual Studio Code, install the <a href=\"https://marketplace.visualstudio.com/items?itemName=ms-dotnettools.dotnet-interactive-vscode\">Polyglot Notebook</a> extension, and select the .NET Interactive kernel."
   ]
  },
  {
   "cell_type": "code",
   "execution_count": 2,
   "metadata": {
    "dotnet_interactive": {
     "language": "csharp"
    },
    "polyglot_notebook": {
     "kernelName": "csharp"
    },
    "vscode": {
     "languageId": "polyglot-notebook"
    }
   },
   "outputs": [
    {
     "data": {
      "text/html": [
       "<div><div></div><div></div><div><strong>Installed Packages</strong><ul><li><span>Microsoft.SemanticKernel, 1.1.0</span></li></ul></div></div>"
      ]
     },
     "metadata": {},
     "output_type": "display_data"
    }
   ],
   "source": [
    "#r \"nuget:Microsoft.SemanticKernel\""
   ]
  },
  {
   "cell_type": "code",
   "execution_count": 4,
   "metadata": {
    "dotnet_interactive": {
     "language": "csharp"
    },
    "polyglot_notebook": {
     "kernelName": "csharp"
    },
    "vscode": {
     "languageId": "polyglot-notebook"
    }
   },
   "outputs": [],
   "source": [
    "using Microsoft.SemanticKernel;\n",
    "using Microsoft.SemanticKernel.Connectors.OpenAI;"
   ]
  },
  {
   "cell_type": "code",
   "execution_count": 5,
   "metadata": {
    "dotnet_interactive": {
     "language": "csharp"
    },
    "polyglot_notebook": {
     "kernelName": "csharp"
    },
    "vscode": {
     "languageId": "polyglot-notebook"
    }
   },
   "outputs": [
    {
     "name": "stdout",
     "output_type": "stream",
     "text": [
      "Energy cannot be created or destroyed, entropy always increases.\r\n"
     ]
    }
   ],
   "source": [
    "var builder = Kernel.CreateBuilder();\n",
    "\n",
    "builder.AddOpenAIChatCompletion(\n",
    "         \"gpt-3.5-turbo\", // Model\n",
    "         \"sk-...\"); // API key\n",
    "\n",
    "var kernel = builder.Build();\n",
    "\n",
    "var prompt = @\"{{$input}}\n",
    "\n",
    "One line TLDR with the fewest words.\";\n",
    "\n",
    "var summarize = kernel.CreateFunctionFromPrompt(\n",
    "    prompt, \n",
    "    executionSettings: new OpenAIPromptExecutionSettings { MaxTokens = 100 });\n",
    "\n",
    "string input = @\"\n",
    "1st Law of Thermodynamics - Energy cannot be created or destroyed.\n",
    "2nd Law of Thermodynamics - For a spontaneous process, the entropy of the universe increases.\n",
    "3rd Law of Thermodynamics - A perfect crystal at zero Kelvin has zero entropy.\";\n",
    "\n",
    "Console.WriteLine(await kernel.InvokeAsync(summarize, new() { [\"input\"] = input }));"
   ]
  }
 ],
 "metadata": {
  "language_info": {
   "name": "csharp"
  },
  "orig_nbformat": 4
 },
 "nbformat": 4,
 "nbformat_minor": 2
}
