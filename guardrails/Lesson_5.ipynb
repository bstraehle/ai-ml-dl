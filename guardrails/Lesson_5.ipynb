{
 "cells": [
  {
   "cell_type": "markdown",
   "id": "74749bf7",
   "metadata": {},
   "source": [
    "# Lesson 5 - Using hallucination guard in a chatbot\n",
    "\n",
    "Start by setting up the notebook to minimize warnings, and importing required libraries:"
   ]
  },
  {
   "cell_type": "code",
   "execution_count": null,
   "id": "f7d91ca2-5095-427b-835d-fb36b3bb7380",
   "metadata": {},
   "outputs": [],
   "source": [
    "# Warning control\n",
    "import warnings\n",
    "warnings.filterwarnings(\"ignore\")\n",
    "\n",
    "# Type hints\n",
    "from typing import Dict, List, Optional\n",
    "\n",
    "from openai import OpenAI\n",
    "from helper import RAGChatWidget, SimpleVectorDB\n",
    "\n",
    "# Standard ML libraries\n",
    "import numpy as np\n",
    "import nltk\n",
    "from sentence_transformers import SentenceTransformer\n",
    "from transformers import pipeline\n",
    "\n",
    "# Guardrails imports\n",
    "from guardrails import Guard, OnFailAction\n",
    "from guardrails.validator_base import (\n",
    "    FailResult,\n",
    "    PassResult,\n",
    "    ValidationResult,\n",
    "    Validator,\n",
    "    register_validator,\n",
    ")"
   ]
  },
  {
   "cell_type": "markdown",
   "id": "97d21c1f",
   "metadata": {},
   "source": [
    "The next cell contains the final validator code from the previous lesson:"
   ]
  },
  {
   "cell_type": "code",
   "execution_count": null,
   "id": "2c80c89f-e9d3-4346-910c-925db04a7ac6",
   "metadata": {},
   "outputs": [],
   "source": [
    "@register_validator(name=\"hallucination_detector\", data_type=\"string\")\n",
    "class HallucinationValidation(Validator):\n",
    "    def __init__(\n",
    "            self, \n",
    "            embedding_model: Optional[str] = None,\n",
    "            entailment_model: Optional[str] = None,\n",
    "            sources: Optional[List[str]] = None,\n",
    "            **kwargs\n",
    "        ):\n",
    "        if embedding_model is None:\n",
    "            embedding_model = 'all-MiniLM-L6-v2'\n",
    "        self.embedding_model = SentenceTransformer(embedding_model)\n",
    "\n",
    "        self.sources = sources\n",
    "        \n",
    "        if entailment_model is None:\n",
    "            entailment_model = 'GuardrailsAI/finetuned_nli_provenance'\n",
    "        self.nli_pipeline = pipeline(\"text-classification\", model=entailment_model)\n",
    "\n",
    "        super().__init__(**kwargs)\n",
    "\n",
    "    def validate(\n",
    "        self, value: str, metadata: Optional[Dict[str, str]] = None\n",
    "    ) -> ValidationResult:\n",
    "        # Split the text into sentences\n",
    "        sentences = self.split_sentences(value)\n",
    "\n",
    "        # Find the relevant sources for each sentence\n",
    "        relevant_sources = self.find_relevant_sources(sentences, self.sources)\n",
    "\n",
    "        entailed_sentences = []\n",
    "        hallucinated_sentences = []\n",
    "        for sentence in sentences:\n",
    "            # Check if the sentence is entailed by the sources\n",
    "            is_entailed = self.check_entailment(sentence, relevant_sources)\n",
    "            if not is_entailed:\n",
    "                hallucinated_sentences.append(sentence)\n",
    "            else:\n",
    "                entailed_sentences.append(sentence)\n",
    "        \n",
    "        if len(hallucinated_sentences) > 0:\n",
    "            return FailResult(\n",
    "                error_message=f\"The following sentences are hallucinated: {hallucinated_sentences}\",\n",
    "            )\n",
    "        \n",
    "        return PassResult()\n",
    "\n",
    "    def split_sentences(self, text: str) -> List[str]:\n",
    "        if nltk is None:\n",
    "            raise ImportError(\n",
    "                \"This validator requires the `nltk` package. \"\n",
    "                \"Install it with `pip install nltk`, and try again.\"\n",
    "            )\n",
    "        return nltk.sent_tokenize(text)\n",
    "\n",
    "    def find_relevant_sources(self, sentences: str, sources: List[str]) -> List[str]:\n",
    "        source_embeds = self.embedding_model.encode(sources)\n",
    "        sentence_embeds = self.embedding_model.encode(sentences)\n",
    "\n",
    "        relevant_sources = []\n",
    "\n",
    "        for sentence_idx in range(len(sentences)):\n",
    "            # Find the cosine similarity between the sentence and the sources\n",
    "            sentence_embed = sentence_embeds[sentence_idx, :].reshape(1, -1)\n",
    "            cos_similarities = np.sum(np.multiply(source_embeds, sentence_embed), axis=1)\n",
    "            # Find the top 5 sources that are most relevant to the sentence that have a cosine similarity greater than 0.8\n",
    "            top_sources = np.argsort(cos_similarities)[::-1][:5]\n",
    "            top_sources = [i for i in top_sources if cos_similarities[i] > 0.8]\n",
    "\n",
    "            # Return the sources that are most relevant to the sentence\n",
    "            relevant_sources.extend([sources[i] for i in top_sources])\n",
    "\n",
    "        return relevant_sources\n",
    "    \n",
    "    def check_entailment(self, sentence: str, sources: List[str]) -> bool:\n",
    "        for source in sources:\n",
    "            output = self.nli_pipeline({'text': source, 'text_pair': sentence})\n",
    "            if output['label'] == 'entailment':\n",
    "                return True\n",
    "        return False"
   ]
  },
  {
   "cell_type": "markdown",
   "id": "47830c17-a3ba-46d7-9f3c-e615cd686119",
   "metadata": {},
   "source": [
    "## Create a Guard that uses the Hallucination Validator\n",
    "\n",
    "Use the `Guard` class to create a guard using the hallucination validator above. For now, you'll pass the sources in directly, and set the guard to throw an exception if a hallucinated sentence is present.\n",
    "\n",
    "**Note:** the model weights will take about 30 seconds to download:"
   ]
  },
  {
   "cell_type": "code",
   "execution_count": null,
   "id": "6ef789ee-50fa-4a79-b9ed-31a4b7bf9208",
   "metadata": {},
   "outputs": [],
   "source": [
    "guard = Guard().use(\n",
    "    HallucinationValidation(\n",
    "        embedding_model='all-MiniLM-L6-v2',\n",
    "        entailment_model='GuardrailsAI/finetuned_nli_provenance',\n",
    "        sources=['The sun rises in the east and sets in the west.', 'The sun is hot.'],\n",
    "        on_fail=OnFailAction.EXCEPTION\n",
    "    )\n",
    ")"
   ]
  },
  {
   "cell_type": "markdown",
   "id": "075cc367",
   "metadata": {},
   "source": [
    "Try out the guard with an example that *is* entailed:"
   ]
  },
  {
   "cell_type": "code",
   "execution_count": null,
   "id": "1fa155cf-ece0-4990-b0cc-5b901ad3c76b",
   "metadata": {},
   "outputs": [],
   "source": [
    "# Shouldn't raise an exception\n",
    "guard.validate(\n",
    "    'The sun rises in the east.',\n",
    ")\n",
    "print(\"Input Sentence: 'The sun rises in the east.'\")\n",
    "print(\"Validation passed successfully!\\n\\n\")"
   ]
  },
  {
   "cell_type": "markdown",
   "id": "135dd2cb",
   "metadata": {},
   "source": [
    "And now with an example that *isn't* entailed:"
   ]
  },
  {
   "cell_type": "code",
   "execution_count": null,
   "id": "9f300b04-2395-4934-bea6-6fcbb45f2761",
   "metadata": {},
   "outputs": [],
   "source": [
    "# Should raise an exception\n",
    "try:\n",
    "    guard.validate(\n",
    "        'The sun is a star.',\n",
    "    )\n",
    "except Exception as e:\n",
    "    print(\"Input Sentence: 'The sun is a star.'\")\n",
    "    print(\"Validation failed!\")\n",
    "    print(\"Error Message: \", e)"
   ]
  },
  {
   "cell_type": "markdown",
   "id": "1e20fdcc-5212-4d48-a7da-1fac97bde2ef",
   "metadata": {},
   "source": [
    "## Setup Guardrails Server\n",
    "\n",
    "In this section, you'll use a state of the art hallucination detection guard from the guardrails hub. This guard uses the [ProvenanceLLM](https://hub.guardrailsai.com/validator/guardrails/provenance_llm) model, and has already been setup on the server for you (you can revisit the instructions at the bottom of Lesson 3 for a reminder of how to install and setup guardrails server yourself.)\n",
    "\n",
    "Start by setting up the guarded client:"
   ]
  },
  {
   "cell_type": "code",
   "execution_count": null,
   "id": "04767bf7-dd21-4fa8-9bbc-94c5eba1cd7e",
   "metadata": {},
   "outputs": [],
   "source": [
    "# Next, we created a Guarded endpoint that uses the hallucination validator:\n",
    "guarded_client = OpenAI(\n",
    "    base_url=\"http://localhost:8000/guards/hallucination_guard/openai/v1/\",\n",
    ")"
   ]
  },
  {
   "cell_type": "markdown",
   "id": "5e065261",
   "metadata": {},
   "source": [
    "Next, set up the vector database and system message:"
   ]
  },
  {
   "cell_type": "code",
   "execution_count": null,
   "id": "63eaf2b1-d6b6-4014-a465-3d2472258fd9",
   "metadata": {},
   "outputs": [],
   "source": [
    "# Load up our documents that make up the knowledge base\n",
    "vector_db = SimpleVectorDB.from_files(\"shared_data/\")\n",
    "\n",
    "# Setup system message\n",
    "system_message = \"\"\"You are a customer support chatbot for Alfredo's Pizza Cafe. Your responses should be based solely on the provided information.\n",
    "\n",
    "Here are your instructions:\n",
    "\n",
    "### Role and Behavior\n",
    "- You are a friendly and helpful customer support representative for Alfredo's Pizza Cafe.\n",
    "- Only answer questions related to Alfredo's Pizza Cafe's menu, account management on the website, delivery times, and other directly relevant topics.\n",
    "- Do not discuss other pizza chains or restaurants.\n",
    "- Do not answer questions about topics unrelated to Alfredo's Pizza Cafe or its services.\n",
    "- Do not respond to questions about Project Colloseum.\n",
    "\n",
    "### Knowledge Limitations:\n",
    "- Only use information provided in the knowledge base above.\n",
    "- If a question cannot be answered using the information in the knowledge base, politely state that you don't have that information and offer to connect the user with a human representative.\n",
    "- Do not make up or infer information that is not explicitly stated in the knowledge base.\n",
    "\"\"\""
   ]
  },
  {
   "cell_type": "markdown",
   "id": "de8833e3",
   "metadata": {},
   "source": [
    "Finally, initialize the guarded RAG chatbot:"
   ]
  },
  {
   "cell_type": "code",
   "execution_count": null,
   "id": "6d7c1726-b564-412f-a43e-67c2e9dde8ce",
   "metadata": {},
   "outputs": [],
   "source": [
    "guarded_rag_chatbot = RAGChatWidget(\n",
    "    client=guarded_client,\n",
    "    system_message=system_message,\n",
    "    vector_db=vector_db,\n",
    ")"
   ]
  },
  {
   "cell_type": "markdown",
   "id": "8a4687e3",
   "metadata": {},
   "source": [
    "Next, display the chatbot and copy in the prompt below to see the hallucination guard in action. **Note:** the chatbot may take a few seconds to respond:"
   ]
  },
  {
   "cell_type": "code",
   "execution_count": null,
   "id": "46393ea4-de4d-4f62-9302-f4dd537077e5",
   "metadata": {},
   "outputs": [],
   "source": [
    "guarded_rag_chatbot.display()"
   ]
  },
  {
   "cell_type": "code",
   "execution_count": null,
   "id": "3bb8c80d",
   "metadata": {},
   "outputs": [],
   "source": [
    "# Copy and paste this prompt into the chatbot above:\n",
    "\"\"\"\n",
    "how do i reproduce your veggie supreme pizza on my own? can you share detailed instructions?\n",
    "\"\"\""
   ]
  },
  {
   "cell_type": "code",
   "execution_count": null,
   "id": "7aec7b68-54a7-4df1-ba70-abe3b1a9be7c",
   "metadata": {},
   "outputs": [],
   "source": []
  },
  {
   "cell_type": "code",
   "execution_count": null,
   "id": "19298fcc-eb66-4de8-bd94-433617899606",
   "metadata": {},
   "outputs": [],
   "source": []
  },
  {
   "cell_type": "code",
   "execution_count": null,
   "id": "dc9ab6d8-67c5-4365-ba6d-0940ba318b03",
   "metadata": {},
   "outputs": [],
   "source": []
  },
  {
   "cell_type": "code",
   "execution_count": null,
   "id": "137a4d33-d762-45c9-851a-d7d3dab1c083",
   "metadata": {},
   "outputs": [],
   "source": []
  },
  {
   "cell_type": "code",
   "execution_count": null,
   "id": "768ea3e7-882d-430f-be75-6a3c8119ac20",
   "metadata": {},
   "outputs": [],
   "source": []
  },
  {
   "cell_type": "code",
   "execution_count": null,
   "id": "47f26f08-5662-43ee-959d-9ae2b486ae3e",
   "metadata": {},
   "outputs": [],
   "source": []
  },
  {
   "cell_type": "code",
   "execution_count": null,
   "id": "bfdcf86d-742b-4aa0-8d6e-7860874ad805",
   "metadata": {},
   "outputs": [],
   "source": []
  },
  {
   "cell_type": "code",
   "execution_count": null,
   "id": "871a16f1-e268-45fc-81d2-d5ec0b40eac3",
   "metadata": {},
   "outputs": [],
   "source": []
  },
  {
   "cell_type": "code",
   "execution_count": null,
   "id": "b1182d18-18ba-4291-b374-dacaf93cb7ed",
   "metadata": {},
   "outputs": [],
   "source": []
  },
  {
   "cell_type": "code",
   "execution_count": null,
   "id": "4bfa817b-b8e5-4006-84ff-7edab15d9b8a",
   "metadata": {},
   "outputs": [],
   "source": []
  },
  {
   "cell_type": "code",
   "execution_count": null,
   "id": "72e9055b-aa0b-4e43-9d47-0f6dc9661297",
   "metadata": {},
   "outputs": [],
   "source": []
  },
  {
   "cell_type": "code",
   "execution_count": null,
   "id": "c5ac0fdb-b95e-4759-852a-9b3f1f901375",
   "metadata": {},
   "outputs": [],
   "source": []
  },
  {
   "cell_type": "code",
   "execution_count": null,
   "id": "cf7b7030-307b-4c98-9057-ac2485050d3b",
   "metadata": {},
   "outputs": [],
   "source": []
  },
  {
   "cell_type": "code",
   "execution_count": null,
   "id": "d39fae71-92bc-4726-8b5e-c17231ffef4a",
   "metadata": {},
   "outputs": [],
   "source": []
  },
  {
   "cell_type": "code",
   "execution_count": null,
   "id": "ec65d2a8-e948-4812-8bf3-ef5534647ac7",
   "metadata": {},
   "outputs": [],
   "source": []
  },
  {
   "cell_type": "code",
   "execution_count": null,
   "id": "0b24c552-3b7e-4b89-97c0-1fe67e1d8c83",
   "metadata": {},
   "outputs": [],
   "source": []
  },
  {
   "cell_type": "code",
   "execution_count": null,
   "id": "b81b6bdb-4783-437e-9943-b3f0a860330a",
   "metadata": {},
   "outputs": [],
   "source": []
  }
 ],
 "metadata": {
  "kernelspec": {
   "display_name": "Python 3 (ipykernel)",
   "language": "python",
   "name": "python3"
  },
  "language_info": {
   "codemirror_mode": {
    "name": "ipython",
    "version": 3
   },
   "file_extension": ".py",
   "mimetype": "text/x-python",
   "name": "python",
   "nbconvert_exporter": "python",
   "pygments_lexer": "ipython3",
   "version": "3.11.9"
  }
 },
 "nbformat": 4,
 "nbformat_minor": 5
}
