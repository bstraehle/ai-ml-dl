{
 "cells": [
  {
   "cell_type": "markdown",
   "id": "3e03e8de",
   "metadata": {},
   "source": [
    "# Lesson 7 - Ensuring no PII is leaked\n",
    "\n",
    "Start by setting up the notebook to minimize warnings, and importing required libraries:"
   ]
  },
  {
   "cell_type": "code",
   "execution_count": null,
   "id": "8cc16732-365b-45de-9284-500b71f61b07",
   "metadata": {
    "height": 82
   },
   "outputs": [],
   "source": [
    "# Warning control\n",
    "import warnings\n",
    "warnings.filterwarnings(\"ignore\")\n",
    "%env TOKENIZERS_PARALLELISM=true"
   ]
  },
  {
   "cell_type": "code",
   "execution_count": null,
   "id": "bee850f1-b629-406f-bf14-12086717064c",
   "metadata": {
    "height": 421
   },
   "outputs": [],
   "source": [
    "# Type hints\n",
    "from typing import Optional, Any, Dict\n",
    "\n",
    "# Standard imports\n",
    "import time\n",
    "from openai import OpenAI\n",
    "\n",
    "# Helper functions\n",
    "from helper import RAGChatWidget, SimpleVectorDB\n",
    "\n",
    "# Presidio imports\n",
    "from presidio_analyzer import AnalyzerEngine\n",
    "from presidio_anonymizer import AnonymizerEngine\n",
    "\n",
    "# Guardrails imports\n",
    "from guardrails import Guard, OnFailAction, install\n",
    "from guardrails.validator_base import (\n",
    "    FailResult,\n",
    "    PassResult,\n",
    "    ValidationResult,\n",
    "    Validator,\n",
    "    register_validator,\n",
    ")"
   ]
  },
  {
   "cell_type": "markdown",
   "id": "044f406e",
   "metadata": {},
   "source": [
    "Set up the client, vector database, and system message for the chatbot:"
   ]
  },
  {
   "cell_type": "code",
   "execution_count": null,
   "id": "a2cfe30d-c4c2-4ad9-a2e8-60ad5f13adf0",
   "metadata": {
    "height": 404
   },
   "outputs": [],
   "source": [
    "# Setup an OpenAI client\n",
    "unguarded_client = OpenAI()\n",
    "\n",
    "# Load up our documents that make up the knowledge base\n",
    "vector_db = SimpleVectorDB.from_files(\"shared_data/\")\n",
    "\n",
    "# Setup system message\n",
    "system_message = \"\"\"You are a customer support chatbot for Alfredo's Pizza Cafe. Your responses should be based solely on the provided information.\n",
    "\n",
    "Here are your instructions:\n",
    "\n",
    "### Role and Behavior\n",
    "- You are a friendly and helpful customer support representative for Alfredo's Pizza Cafe.\n",
    "- Only answer questions related to Alfredo's Pizza Cafe's menu, account management on the website, delivery times, and other directly relevant topics.\n",
    "- Do not discuss other pizza chains or restaurants.\n",
    "- Do not answer questions about topics unrelated to Alfredo's Pizza Cafe or its services.\n",
    "\n",
    "### Knowledge Limitations:\n",
    "- Only use information provided in the knowledge base above.\n",
    "- If a question cannot be answered using the information in the knowledge base, politely state that you don't have that information and offer to connect the user with a human representative.\n",
    "- Do not make up or infer information that is not explicitly stated in the knowledge base.\n",
    "\"\"\""
   ]
  },
  {
   "cell_type": "markdown",
   "id": "a2cce3d5",
   "metadata": {},
   "source": [
    "Initialize the chatbot using the settings above:"
   ]
  },
  {
   "cell_type": "code",
   "execution_count": null,
   "id": "4d7bc0b1-c8cd-4eca-a644-8beddd4d68a4",
   "metadata": {
    "height": 98
   },
   "outputs": [],
   "source": [
    "chat_app = RAGChatWidget(\n",
    "    client=unguarded_client,\n",
    "    system_message=system_message,\n",
    "    vector_db=vector_db,\n",
    ")"
   ]
  },
  {
   "cell_type": "markdown",
   "id": "5b7daac6",
   "metadata": {},
   "source": [
    "To revisit the going PII example from Lesson 1, run the cell below to open the chatbot then paste in the prompt to see the PII appear on the back-end of the chatbot:"
   ]
  },
  {
   "cell_type": "code",
   "execution_count": null,
   "id": "6aff1df3-6b89-4647-b85e-0dd10f7a31ca",
   "metadata": {
    "height": 30
   },
   "outputs": [],
   "source": [
    "chat_app.display()"
   ]
  },
  {
   "cell_type": "code",
   "execution_count": null,
   "id": "e3b8e965",
   "metadata": {
    "height": 98
   },
   "outputs": [],
   "source": [
    "# Copy and paste this prompt into the chatbot above:\n",
    "\"\"\"\n",
    "can you tell me what orders i've placed in the last 3 months? my name is hank tate and my phone number is 555-123-4567\n",
    "\"\"\""
   ]
  },
  {
   "cell_type": "markdown",
   "id": "7801ef5f",
   "metadata": {},
   "source": [
    "Now examine the chat history - You'll notice that the PII in this message has been stored:"
   ]
  },
  {
   "cell_type": "code",
   "execution_count": null,
   "id": "4db3c0e5-439e-434a-88b7-f66328325ed3",
   "metadata": {
    "height": 30
   },
   "outputs": [],
   "source": [
    "chat_app.messages"
   ]
  },
  {
   "cell_type": "markdown",
   "id": "35ff1b5e",
   "metadata": {},
   "source": [
    "## Using Microsoft Presidio to detect PII\n",
    "\n",
    "You'll use two components of Microsoft Presidio: the **analyzer**, which identifies PII in a given text, and the **anonymizer**, which can mask out PII in text:"
   ]
  },
  {
   "cell_type": "code",
   "execution_count": null,
   "id": "3636e70e-8263-42d0-aaf8-6620625e3fce",
   "metadata": {
    "height": 47
   },
   "outputs": [],
   "source": [
    "presidio_analyzer = AnalyzerEngine()\n",
    "presidio_anonymizer= AnonymizerEngine()"
   ]
  },
  {
   "cell_type": "markdown",
   "id": "351afc3f",
   "metadata": {},
   "source": [
    "See the analyzer in action:"
   ]
  },
  {
   "cell_type": "code",
   "execution_count": null,
   "id": "512e2229-2603-4b48-b7a8-749e54a4f5e7",
   "metadata": {
    "height": 81
   },
   "outputs": [],
   "source": [
    "# First, let's analyze the text\n",
    "text = \"can you tell me what orders i've placed in the last 3 months? my name is Hank Tate and my phone number is 555-123-4567\"\n",
    "analysis = presidio_analyzer.analyze(text, language='en')"
   ]
  },
  {
   "cell_type": "code",
   "execution_count": null,
   "id": "dfc8634f-86ed-4b5f-b12b-0381185896e8",
   "metadata": {
    "height": 30
   },
   "outputs": [],
   "source": [
    "analysis"
   ]
  },
  {
   "cell_type": "markdown",
   "id": "4c1e5cec",
   "metadata": {},
   "source": [
    "Now try out the anonymizer:"
   ]
  },
  {
   "cell_type": "code",
   "execution_count": null,
   "id": "84e2c823-4b7a-4c31-9284-fc9695b501bd",
   "metadata": {
    "height": 64
   },
   "outputs": [],
   "source": [
    "# Then, we can anonymize the text using the analysis output\n",
    "print(presidio_anonymizer.anonymize(text=text, analyzer_results=analysis))"
   ]
  },
  {
   "cell_type": "markdown",
   "id": "30a7af7b-4071-46cf-93a2-afe5ecb6c9f1",
   "metadata": {},
   "source": [
    "## Building a PII Validator\n",
    "\n",
    "### Step 1: Implement a function to detect PII"
   ]
  },
  {
   "cell_type": "code",
   "execution_count": null,
   "id": "284afd57-ba5c-4a7d-bb0b-3324692f0a8d",
   "metadata": {
    "height": 183
   },
   "outputs": [],
   "source": [
    "def detect_pii(\n",
    "    text: str\n",
    ") -> list[str]:\n",
    "    result = presidio_analyzer.analyze(\n",
    "        text,\n",
    "        language='en',\n",
    "        entities=[\"PERSON\", \"PHONE_NUMBER\"]\n",
    "    )\n",
    "    return [entity.entity_type for entity in result]"
   ]
  },
  {
   "cell_type": "markdown",
   "id": "d0ddd16e-37b6-4ad0-bf1c-74c605de8841",
   "metadata": {},
   "source": [
    "### Step 2: Create a Guardrail that filters out PII"
   ]
  },
  {
   "cell_type": "code",
   "execution_count": null,
   "id": "88140ed6-f984-4b45-b950-725913268692",
   "metadata": {
    "height": 268
   },
   "outputs": [],
   "source": [
    "@register_validator(name=\"pii_detector\", data_type=\"string\")\n",
    "class PIIDetector(Validator):\n",
    "    def _validate(\n",
    "        self,\n",
    "        value: Any,\n",
    "        metadata: Dict[str, Any] = {}\n",
    "    ) -> ValidationResult:\n",
    "        detected_pii = detect_pii(value)\n",
    "        if detected_pii:\n",
    "            return FailResult(\n",
    "                error_message=f\"PII detected: {', '.join(detected_pii)}\",\n",
    "                metadata={\"detected_pii\": detected_pii},\n",
    "            )\n",
    "        return PassResult(message=\"No PII detected\")"
   ]
  },
  {
   "cell_type": "markdown",
   "id": "d3ea31ef-3545-48c7-9441-f2d308196267",
   "metadata": {},
   "source": [
    "### Step 3: Create a Guard that ensures no PII is leaked\n",
    "\n",
    "Initalize the guard and try it out on the message from above."
   ]
  },
  {
   "cell_type": "code",
   "execution_count": null,
   "id": "c15e5169-f6ac-4d24-a550-299258ba2e6e",
   "metadata": {
    "height": 200
   },
   "outputs": [],
   "source": [
    "guard = Guard(name='pii_guard').use(\n",
    "    PIIDetector(\n",
    "        on_fail=OnFailAction.EXCEPTION\n",
    "    ),\n",
    ")\n",
    "\n",
    "try:\n",
    "    guard.validate(\"can you tell me what orders i've placed in the last 3 months? my name is Hank Tate and my phone number is 555-123-4567\")\n",
    "except Exception as e:\n",
    "    print(e)"
   ]
  },
  {
   "cell_type": "markdown",
   "id": "aed3fc46-8068-470b-be35-bb19caf0e3f2",
   "metadata": {},
   "source": [
    "## Run Guardrails Server"
   ]
  },
  {
   "cell_type": "code",
   "execution_count": null,
   "id": "8d9cecb5-eb2c-4eca-b02d-4f7b69a5c410",
   "metadata": {
    "height": 149
   },
   "outputs": [],
   "source": [
    "guarded_client = OpenAI(base_url='http://localhost:8000/guards/pii_guard/openai/v1/')\n",
    "\n",
    "guarded_rag_chatbot = RAGChatWidget(\n",
    "    client=guarded_client,\n",
    "    system_message=system_message,\n",
    "    vector_db=vector_db,\n",
    ")"
   ]
  },
  {
   "cell_type": "code",
   "execution_count": null,
   "id": "2c416fcd-dd2d-499f-aa81-a33803272d80",
   "metadata": {
    "height": 30
   },
   "outputs": [],
   "source": [
    "guarded_rag_chatbot.display()"
   ]
  },
  {
   "cell_type": "code",
   "execution_count": null,
   "id": "aad45f11",
   "metadata": {
    "height": 98
   },
   "outputs": [],
   "source": [
    "# Copy and paste this prompt into the chatbot above:\n",
    "\"\"\"\n",
    "can you tell me what orders i've placed in the last 3 months? my name is hank tate and my phone number is 555-123-4567\n",
    "\"\"\""
   ]
  },
  {
   "cell_type": "markdown",
   "id": "1bfa1bff",
   "metadata": {},
   "source": [
    "Now examine the backend: you'll see that the message containing the PII has not been saved:"
   ]
  },
  {
   "cell_type": "code",
   "execution_count": null,
   "id": "c1c63527-7359-4530-bd88-137217f80e9b",
   "metadata": {
    "height": 30
   },
   "outputs": [],
   "source": [
    "guarded_rag_chatbot.messages"
   ]
  },
  {
   "cell_type": "markdown",
   "id": "0153268e-05cc-4192-ab52-0be1278ac3cc",
   "metadata": {},
   "source": [
    "## Real Time Stream Validation\n",
    "\n",
    "Here you'll use the DetectPII guard to anonymize text generated by an LLM in real time! \n",
    "\n",
    "First, set up a new guard that uses the pii_entities guard to validate the **output** of the LLM. This time, you'll set `on_fail` to fix, which will replace the detected PII before it is shown to the user:"
   ]
  },
  {
   "cell_type": "code",
   "execution_count": null,
   "id": "b7cf7b9d-f470-4b86-959e-bca03904f109",
   "metadata": {
    "height": 115
   },
   "outputs": [],
   "source": [
    "from guardrails.hub import DetectPII\n",
    "\n",
    "guard = Guard().use(\n",
    "    DetectPII(pii_entities=[\"PHONE_NUMBER\", \"EMAIL_ADDRESS\"], on_fail=\"fix\")\n",
    ")"
   ]
  },
  {
   "cell_type": "markdown",
   "id": "fa207a5e",
   "metadata": {},
   "source": [
    "Now use the guard in a call to an LLM to anonymize the output. You'll use the `stream=True` to use the validator on each LLM chunk and replace PII before it is shown to the user:"
   ]
  },
  {
   "cell_type": "code",
   "execution_count": null,
   "id": "44979277-ecea-4725-b1ac-2287fd50ccee",
   "metadata": {
    "height": 370
   },
   "outputs": [],
   "source": [
    "from IPython.display import clear_output\n",
    "\n",
    "validated_llm_req = guard(\n",
    "    model=\"gpt-3.5-turbo\",\n",
    "    messages=[\n",
    "        {\"role\": \"system\", \"content\": \"You are a chatbot.\"},\n",
    "        {\n",
    "            \"role\": \"user\",\n",
    "            \"content\": \"Write a short 2-sentence paragraph about an unnamed protagonist while interspersing some made-up 10 digit phone numbers for the protagonist.\",\n",
    "        },\n",
    "    ],\n",
    "    stream=True,\n",
    ")\n",
    "\n",
    "validated_output = \"\"\n",
    "for chunk in validated_llm_req:\n",
    "    clear_output(wait=True)\n",
    "    validated_output = \"\".join([validated_output, chunk.validated_output])\n",
    "    print(validated_output)\n",
    "    time.sleep(1)"
   ]
  },
  {
   "cell_type": "code",
   "execution_count": null,
   "id": "4876ccdc-9d89-4090-a63c-c691468b1308",
   "metadata": {
    "height": 30
   },
   "outputs": [],
   "source": []
  },
  {
   "cell_type": "code",
   "execution_count": null,
   "id": "5e55f482-554b-4d04-90c8-7b4a1abe58a7",
   "metadata": {
    "height": 30
   },
   "outputs": [],
   "source": []
  },
  {
   "cell_type": "code",
   "execution_count": null,
   "id": "c78c133a-e43b-472b-860a-0cfa4fc63b97",
   "metadata": {
    "height": 30
   },
   "outputs": [],
   "source": []
  },
  {
   "cell_type": "code",
   "execution_count": null,
   "id": "f1e2751c-f2e4-4230-b216-08101897b636",
   "metadata": {
    "height": 30
   },
   "outputs": [],
   "source": []
  },
  {
   "cell_type": "code",
   "execution_count": null,
   "id": "0e533f04-7681-4590-b616-cfc6f80b719d",
   "metadata": {
    "height": 30
   },
   "outputs": [],
   "source": []
  },
  {
   "cell_type": "code",
   "execution_count": null,
   "id": "5b76f1d6-c685-402b-82c1-04b9f1f89673",
   "metadata": {
    "height": 30
   },
   "outputs": [],
   "source": []
  },
  {
   "cell_type": "code",
   "execution_count": null,
   "id": "11936710-bac2-4cc6-9869-b95db7887cbe",
   "metadata": {
    "height": 30
   },
   "outputs": [],
   "source": []
  },
  {
   "cell_type": "code",
   "execution_count": null,
   "id": "70483a12-5bb8-471d-a278-82764e2cedb2",
   "metadata": {
    "height": 30
   },
   "outputs": [],
   "source": []
  },
  {
   "cell_type": "code",
   "execution_count": null,
   "id": "9bc0c1ca-125a-4eed-87c4-2470f57cef76",
   "metadata": {
    "height": 30
   },
   "outputs": [],
   "source": []
  },
  {
   "cell_type": "code",
   "execution_count": null,
   "id": "4fff7d29-0a65-4a5a-b393-4f32ed51f3a3",
   "metadata": {
    "height": 30
   },
   "outputs": [],
   "source": []
  },
  {
   "cell_type": "code",
   "execution_count": null,
   "id": "1f365955-e956-4070-ac8e-648e4c267ca8",
   "metadata": {
    "height": 30
   },
   "outputs": [],
   "source": []
  },
  {
   "cell_type": "code",
   "execution_count": null,
   "id": "93ab3e93-0c49-48a8-b7fb-7a81f9220fcf",
   "metadata": {
    "height": 30
   },
   "outputs": [],
   "source": []
  },
  {
   "cell_type": "code",
   "execution_count": null,
   "id": "9466c1b0-56c3-4f35-a692-8ed366eb07a0",
   "metadata": {
    "height": 30
   },
   "outputs": [],
   "source": []
  },
  {
   "cell_type": "code",
   "execution_count": null,
   "id": "a82f75fe-1fb1-41c8-a312-3b7990512849",
   "metadata": {
    "height": 30
   },
   "outputs": [],
   "source": []
  },
  {
   "cell_type": "code",
   "execution_count": null,
   "id": "1795191f-5c53-47d4-ba7d-fc783bea06df",
   "metadata": {
    "height": 30
   },
   "outputs": [],
   "source": []
  },
  {
   "cell_type": "code",
   "execution_count": null,
   "id": "de332039-b13f-48c9-b5ea-cb3b5cec5fe8",
   "metadata": {
    "height": 30
   },
   "outputs": [],
   "source": []
  },
  {
   "cell_type": "code",
   "execution_count": null,
   "id": "1935968b-c49e-43ed-b1c4-c2213e2b5bfd",
   "metadata": {
    "height": 30
   },
   "outputs": [],
   "source": []
  },
  {
   "cell_type": "code",
   "execution_count": null,
   "id": "5bd94dac-4360-43f6-af1e-c16009f558b8",
   "metadata": {
    "height": 30
   },
   "outputs": [],
   "source": []
  },
  {
   "cell_type": "code",
   "execution_count": null,
   "id": "8f82e6e9-ea0d-44c4-b9a8-9a38b5d4b090",
   "metadata": {
    "height": 30
   },
   "outputs": [],
   "source": []
  }
 ],
 "metadata": {
  "kernelspec": {
   "display_name": "Python 3 (ipykernel)",
   "language": "python",
   "name": "python3"
  },
  "language_info": {
   "codemirror_mode": {
    "name": "ipython",
    "version": 3
   },
   "file_extension": ".py",
   "mimetype": "text/x-python",
   "name": "python",
   "nbconvert_exporter": "python",
   "pygments_lexer": "ipython3",
   "version": "3.11.9"
  }
 },
 "nbformat": 4,
 "nbformat_minor": 5
}
