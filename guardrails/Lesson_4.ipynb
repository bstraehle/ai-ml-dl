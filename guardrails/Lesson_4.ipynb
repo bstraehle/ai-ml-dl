{
 "cells": [
  {
   "cell_type": "markdown",
   "id": "16fc5316",
   "metadata": {},
   "source": [
    "# Lesson 4 - Checking for hallucinations using NLI\n",
    "\n",
    "Start by setting up the notebook to minimize warnings:"
   ]
  },
  {
   "cell_type": "code",
   "execution_count": null,
   "id": "66f81ddd-0883-49a5-aa90-0986d2e1e23d",
   "metadata": {},
   "outputs": [],
   "source": [
    "# Warning control\n",
    "import warnings\n",
    "warnings.filterwarnings(\"ignore\")"
   ]
  },
  {
   "cell_type": "markdown",
   "id": "3948338f",
   "metadata": {},
   "source": [
    "Import OpenAI client and helpers to set up RAG chatbot and vector database:"
   ]
  },
  {
   "cell_type": "code",
   "execution_count": null,
   "id": "d3636513-637a-43ae-95eb-351001b41970",
   "metadata": {},
   "outputs": [],
   "source": [
    "from openai import OpenAI\n",
    "from helper import RAGChatWidget, SimpleVectorDB"
   ]
  },
  {
   "cell_type": "markdown",
   "id": "edc13a1a",
   "metadata": {},
   "source": [
    "Set up the client, vector database, and system message for the chatbot:"
   ]
  },
  {
   "cell_type": "code",
   "execution_count": null,
   "id": "2b36be4b-14ac-41c0-8b9a-b9fef09c2058",
   "metadata": {},
   "outputs": [],
   "source": [
    "# Setup an OpenAI client\n",
    "unguarded_client = OpenAI()\n",
    "\n",
    "# Load up our documents that make up the knowledge base\n",
    "vector_db = SimpleVectorDB.from_files(\"shared_data/\")\n",
    "\n",
    "# Setup system message\n",
    "system_message = \"\"\"You are a customer support chatbot for Alfredo's Pizza Cafe. Your responses should be based solely on the provided information.\n",
    "\n",
    "Here are your instructions:\n",
    "\n",
    "### Role and Behavior\n",
    "- You are a friendly and helpful customer support representative for Alfredo's Pizza Cafe.\n",
    "- Only answer questions related to Alfredo's Pizza Cafe's menu, account management on the website, delivery times, and other directly relevant topics.\n",
    "- Do not discuss other pizza chains or restaurants.\n",
    "- Do not answer questions about topics unrelated to Alfredo's Pizza Cafe or its services.\n",
    "\n",
    "### Knowledge Limitations:\n",
    "- Only use information provided in the knowledge base above.\n",
    "- If a question cannot be answered using the information in the knowledge base, politely state that you don't have that information and offer to connect the user with a human representative.\n",
    "- Do not make up or infer information that is not explicitly stated in the knowledge base.\n",
    "\"\"\""
   ]
  },
  {
   "cell_type": "markdown",
   "id": "7ca39cea",
   "metadata": {},
   "source": [
    "Initialize the chatbot using the settings above:"
   ]
  },
  {
   "cell_type": "code",
   "execution_count": null,
   "id": "a8e4e178-377c-4fcc-8bfb-aa23965f155f",
   "metadata": {},
   "outputs": [],
   "source": [
    "# Setup RAG chatbot\n",
    "rag_chatbot = RAGChatWidget(\n",
    "    client=unguarded_client,\n",
    "    system_message=system_message,\n",
    "    vector_db=vector_db,\n",
    ")"
   ]
  },
  {
   "cell_type": "markdown",
   "id": "3cdee09a",
   "metadata": {},
   "source": [
    "To revisit the hallucination example from Lesson 1, run the cell below to open the chatbot then paste in the prompt:"
   ]
  },
  {
   "cell_type": "code",
   "execution_count": null,
   "id": "7e64092d-a022-470b-b869-1ffd77a8c1e5",
   "metadata": {},
   "outputs": [],
   "source": [
    "rag_chatbot.display()"
   ]
  },
  {
   "cell_type": "code",
   "execution_count": null,
   "id": "15b7a5fd",
   "metadata": {},
   "outputs": [],
   "source": [
    "# Copy and paste this prompt into the chatbot above:\n",
    "\"\"\"\n",
    "how do i reproduce your veggie supreme pizza on my own? can you share detailed instructions?\n",
    "\"\"\""
   ]
  },
  {
   "cell_type": "markdown",
   "id": "5152d6f1-8a9a-48f6-9adf-493b71d2f445",
   "metadata": {},
   "source": [
    "## Setup an Natural Language Inference (NLI) Model\n",
    "\n",
    "Import some additional packages to setup the NLI model:"
   ]
  },
  {
   "cell_type": "code",
   "execution_count": null,
   "id": "4053c667-a9ca-4a8e-a9f4-b827211bffb9",
   "metadata": {},
   "outputs": [],
   "source": [
    "# Type hints\n",
    "from typing import Dict, List, Optional\n",
    "\n",
    "# Standard ML libraries\n",
    "import numpy as np\n",
    "import nltk\n",
    "from sentence_transformers import SentenceTransformer\n",
    "from transformers import pipeline\n",
    "\n",
    "# Guardrails imports\n",
    "from guardrails import Guard, OnFailAction\n",
    "from guardrails.validator_base import (\n",
    "    FailResult,\n",
    "    PassResult,\n",
    "    ValidationResult,\n",
    "    Validator,\n",
    "    register_validator,\n",
    ")"
   ]
  },
  {
   "cell_type": "markdown",
   "id": "b2ee9ad6",
   "metadata": {},
   "source": [
    "Create a hugging face pipeline to access the NLI model (**Note:** the weights will take about 30 seconds to download):"
   ]
  },
  {
   "cell_type": "code",
   "execution_count": null,
   "id": "84ad2c92-4114-43bb-9924-a0f3faeb9ce1",
   "metadata": {},
   "outputs": [],
   "source": [
    "entailment_model = 'GuardrailsAI/finetuned_nli_provenance'\n",
    "NLI_PIPELINE = pipeline(\"text-classification\", model=entailment_model)"
   ]
  },
  {
   "cell_type": "markdown",
   "id": "6cf62d63",
   "metadata": {},
   "source": [
    "Try out the pipeline:"
   ]
  },
  {
   "cell_type": "code",
   "execution_count": null,
   "id": "48b36e7f-694e-44ce-8791-66f50a5377c4",
   "metadata": {},
   "outputs": [],
   "source": [
    "# Example 1: Entailed sentence\n",
    "premise = \"The sun rises in the east and sets in the west.\"\n",
    "hypothesis = \"The sun rises in the east.\"\n",
    "result = NLI_PIPELINE({'text': premise, 'text_pair': hypothesis})\n",
    "print(f\"Example of an entailed sentence:\\n\\tPremise: {premise}\\n\\tHypothesis: {hypothesis}\\n\\tResult: {result}\\n\\n\")"
   ]
  },
  {
   "cell_type": "code",
   "execution_count": null,
   "id": "d1301457-8d22-4c6c-ad10-8d0373ab7577",
   "metadata": {},
   "outputs": [],
   "source": [
    "# Example 2: Contradictory sentence\n",
    "premise = \"The sun rises in the east and sets in the west.\"\n",
    "hypothesis = \"The sun rises in the west.\"\n",
    "result = NLI_PIPELINE({'text': premise, 'text_pair': hypothesis})\n",
    "print(f\"Example of a contradictory sentence:\\n\\tPremise: {premise}\\n\\tHypothesis: {hypothesis}\\n\\tResult: {result}\")"
   ]
  },
  {
   "cell_type": "markdown",
   "id": "3dd0f162-a743-4722-8bac-89e80a725a8d",
   "metadata": {},
   "source": [
    "## Building a Hallucination Validator\n",
    "\n",
    "In this section, you'll build a validator to test for hallucinations in the responses of your RAG chatbot. The validator will check that the response is grounded in the texts of your vector database.\n",
    "\n",
    "Start by setting up a validator with stubs for the `__init__` and `validate` functions:"
   ]
  },
  {
   "cell_type": "code",
   "execution_count": null,
   "id": "10d562d5-9d14-4507-b89d-1458374dea18",
   "metadata": {},
   "outputs": [],
   "source": [
    "@register_validator(name=\"hallucination_detector\", data_type=\"string\")\n",
    "class HallucinationValidation(Validator):\n",
    "    def __init__(self, **kwargs):\n",
    "        super().__init__(**kwargs)\n",
    "\n",
    "    def validate(\n",
    "        self, value: str, metadata: Optional[Dict[str, str]] = None\n",
    "    ) -> ValidationResult:\n",
    "        pass"
   ]
  },
  {
   "cell_type": "markdown",
   "id": "b235cf1f",
   "metadata": {},
   "source": [
    "Next, start fleshing out the pieces of the validator. Start by building the function that will split the response of the LLM into individual sentences:"
   ]
  },
  {
   "cell_type": "code",
   "execution_count": null,
   "id": "0e110685-a0be-48a2-bda7-b04f84d25527",
   "metadata": {},
   "outputs": [],
   "source": [
    "@register_validator(name=\"hallucination_detector\", data_type=\"string\")\n",
    "class HallucinationValidation(Validator):\n",
    "    def __init__(self, **kwargs):\n",
    "        super().__init__(**kwargs)\n",
    "\n",
    "    def validate(\n",
    "        self, value: str, metadata: Optional[Dict[str, str]] = None\n",
    "    ) -> ValidationResult:\n",
    "        # Split the text into sentences\n",
    "        sentences = self.split_sentences(value)\n",
    "        pass\n",
    "\n",
    "    def split_sentences(self, text: str) -> List[str]:\n",
    "        if nltk is None:\n",
    "            raise ImportError(\n",
    "                \"This validator requires the `nltk` package. \"\n",
    "                \"Install it with `pip install nltk`, and try again.\"\n",
    "            )\n",
    "\n",
    "        return nltk.sent_tokenize(text)"
   ]
  },
  {
   "cell_type": "markdown",
   "id": "c7c7defb",
   "metadata": {},
   "source": [
    "Now finalize the logic of the validate function. You'll loop through each sentence and check if it is grounded in the texts in the vector database using the `find_relevant_sources` and `check_entailment` functions. Then update the `__init__` function to set up the needed class variables."
   ]
  },
  {
   "cell_type": "code",
   "execution_count": null,
   "id": "5f43e4f8-968b-497b-b93e-20c3e3946090",
   "metadata": {},
   "outputs": [],
   "source": [
    "@register_validator(name=\"hallucination_detector\", data_type=\"string\")\n",
    "class HallucinationValidation(Validator):\n",
    "    def __init__(\n",
    "            self, \n",
    "            embedding_model: Optional[str] = None,\n",
    "            entailment_model: Optional[str] = None,\n",
    "            sources: Optional[List[str]] = None,\n",
    "            **kwargs\n",
    "        ):\n",
    "        if embedding_model is None:\n",
    "            embedding_model = 'all-MiniLM-L6-v2'\n",
    "        self.embedding_model = SentenceTransformer(embedding_model)\n",
    "\n",
    "        self.sources = sources\n",
    "        \n",
    "        if entailment_model is None:\n",
    "            entailment_model = 'GuardrailsAI/finetuned_nli_provenance'\n",
    "        self.nli_pipeline = pipeline(\"text-classification\", model=entailment_model)\n",
    "\n",
    "        super().__init__(**kwargs)\n",
    "\n",
    "    def validate(\n",
    "        self, value: str, metadata: Optional[Dict[str, str]] = None\n",
    "    ) -> ValidationResult:\n",
    "        # Split the text into sentences\n",
    "        sentences = self.split_sentences(value)\n",
    "\n",
    "        # Find the relevant sources for each sentence\n",
    "        relevant_sources = self.find_relevant_sources(sentences, self.sources)\n",
    "\n",
    "        entailed_sentences = []\n",
    "        hallucinated_sentences = []\n",
    "        for sentence in sentences:\n",
    "            # Check if the sentence is entailed by the sources\n",
    "            is_entailed = self.check_entailment(sentence, relevant_sources)\n",
    "            if not is_entailed:\n",
    "                hallucinated_sentences.append(sentence)\n",
    "            else:\n",
    "                entailed_sentences.append(sentence)\n",
    "        \n",
    "        if len(hallucinated_sentences) > 0:\n",
    "            return FailResult(\n",
    "                error_message=f\"The following sentences are hallucinated: {hallucinated_sentences}\",\n",
    "            )\n",
    "        \n",
    "        return PassResult()\n",
    "\n",
    "    def split_sentences(self, text: str) -> List[str]:\n",
    "        if nltk is None:\n",
    "            raise ImportError(\n",
    "                \"This validator requires the `nltk` package. \"\n",
    "                \"Install it with `pip install nltk`, and try again.\"\n",
    "            )\n",
    "        return nltk.sent_tokenize(text)\n",
    "\n",
    "    def find_relevant_sources(self, sentences: str, sources: List[str]) -> List[str]:\n",
    "        source_embeds = self.embedding_model.encode(sources)\n",
    "        sentence_embeds = self.embedding_model.encode(sentences)\n",
    "\n",
    "        relevant_sources = []\n",
    "\n",
    "        for sentence_idx in range(len(sentences)):\n",
    "            # Find the cosine similarity between the sentence and the sources\n",
    "            sentence_embed = sentence_embeds[sentence_idx, :].reshape(1, -1)\n",
    "            cos_similarities = np.sum(np.multiply(source_embeds, sentence_embed), axis=1)\n",
    "            # Find the top 5 sources that are most relevant to the sentence that have a cosine similarity greater than 0.8\n",
    "            top_sources = np.argsort(cos_similarities)[::-1][:5]\n",
    "            top_sources = [i for i in top_sources if cos_similarities[i] > 0.8]\n",
    "\n",
    "            # Return the sources that are most relevant to the sentence\n",
    "            relevant_sources.extend([sources[i] for i in top_sources])\n",
    "\n",
    "        return relevant_sources\n",
    "    \n",
    "    def check_entailment(self, sentence: str, sources: List[str]) -> bool:\n",
    "        for source in sources:\n",
    "            output = self.nli_pipeline({'text': source, 'text_pair': sentence})\n",
    "            if output['label'] == 'entailment':\n",
    "                return True\n",
    "        return False"
   ]
  },
  {
   "cell_type": "markdown",
   "id": "9916852f",
   "metadata": {},
   "source": [
    "Try out the validator. First you'll create an instance of the `HallucinationValidation` class above, passing in the same sentence as you used in the pipeline test above:"
   ]
  },
  {
   "cell_type": "code",
   "execution_count": null,
   "id": "29175dd8",
   "metadata": {},
   "outputs": [],
   "source": [
    "hallucination_validator = HallucinationValidation(\n",
    "    sources = [\"The sun rises in the east and sets in the west\"]\n",
    ")"
   ]
  },
  {
   "cell_type": "markdown",
   "id": "5922f690",
   "metadata": {},
   "source": [
    "Then use the `validate()` function of this object, passing in the sentence you want to test. The first example does not entail, but the second does:"
   ]
  },
  {
   "cell_type": "code",
   "execution_count": null,
   "id": "9125a11a",
   "metadata": {},
   "outputs": [],
   "source": [
    "result = hallucination_validator.validate(\"The sun sets in the east\")\n",
    "print(f\"Validation outcome: {result.outcome}\")\n",
    "if result.outcome == \"fail\":\n",
    "    print(f\"Error message: {result.error_message}\")"
   ]
  },
  {
   "cell_type": "code",
   "execution_count": null,
   "id": "8e6ffd57",
   "metadata": {},
   "outputs": [],
   "source": [
    "result = hallucination_validator.validate(\"The sun sets in the west\")\n",
    "print(f\"Validation outcome: {result.outcome}\")\n",
    "if result.outcome == \"fail\":\n",
    "    print(f\"Error message: {result.error_message}\")"
   ]
  },
  {
   "cell_type": "markdown",
   "id": "c5978013",
   "metadata": {},
   "source": [
    "In the next lesson, you'll build a guard around this validator. "
   ]
  },
  {
   "cell_type": "code",
   "execution_count": null,
   "id": "8d7c42c0-628d-4811-9bfa-5647d7c0808e",
   "metadata": {},
   "outputs": [],
   "source": []
  },
  {
   "cell_type": "code",
   "execution_count": null,
   "id": "ea834167-5896-445b-84d5-83af199138e6",
   "metadata": {},
   "outputs": [],
   "source": []
  },
  {
   "cell_type": "code",
   "execution_count": null,
   "id": "de951e9e-1dc9-4d62-a1f9-01446f902723",
   "metadata": {},
   "outputs": [],
   "source": []
  },
  {
   "cell_type": "code",
   "execution_count": null,
   "id": "0b49b0f1-c7b3-4f02-b52b-9eb25cb5b174",
   "metadata": {},
   "outputs": [],
   "source": []
  },
  {
   "cell_type": "code",
   "execution_count": null,
   "id": "e4f99699-68c9-41f6-8f39-34f1118fa5fd",
   "metadata": {},
   "outputs": [],
   "source": []
  },
  {
   "cell_type": "code",
   "execution_count": null,
   "id": "264a9600-3d7f-4871-8a31-0ff8c3be2de7",
   "metadata": {},
   "outputs": [],
   "source": []
  },
  {
   "cell_type": "code",
   "execution_count": null,
   "id": "fcb16b1c-242a-4320-9af6-d33e788d7543",
   "metadata": {},
   "outputs": [],
   "source": []
  },
  {
   "cell_type": "code",
   "execution_count": null,
   "id": "b793f026-a38d-4e69-a662-888da43e906b",
   "metadata": {},
   "outputs": [],
   "source": []
  },
  {
   "cell_type": "code",
   "execution_count": null,
   "id": "ff982df0-fdcf-4dd6-8a70-06e409865595",
   "metadata": {},
   "outputs": [],
   "source": []
  },
  {
   "cell_type": "code",
   "execution_count": null,
   "id": "8f2e551d-fb1e-4863-9385-4828aea0f001",
   "metadata": {},
   "outputs": [],
   "source": []
  },
  {
   "cell_type": "code",
   "execution_count": null,
   "id": "aeddf3af-2564-47ed-90ef-5af11a0c93ce",
   "metadata": {},
   "outputs": [],
   "source": []
  },
  {
   "cell_type": "code",
   "execution_count": null,
   "id": "ac5d422a-093c-468e-9b53-34e0c73a448a",
   "metadata": {},
   "outputs": [],
   "source": []
  },
  {
   "cell_type": "code",
   "execution_count": null,
   "id": "448a3059-fbd2-40f5-9b52-4e0cecb51922",
   "metadata": {},
   "outputs": [],
   "source": []
  },
  {
   "cell_type": "code",
   "execution_count": null,
   "id": "5c593342-fce5-47e1-89bc-4e73bc467ddc",
   "metadata": {},
   "outputs": [],
   "source": []
  },
  {
   "cell_type": "code",
   "execution_count": null,
   "id": "0e65f701-e7f3-4684-b8ae-9f156df8432d",
   "metadata": {},
   "outputs": [],
   "source": []
  },
  {
   "cell_type": "code",
   "execution_count": null,
   "id": "7a3a407e-eecf-4613-bea5-b702a8726a75",
   "metadata": {},
   "outputs": [],
   "source": []
  },
  {
   "cell_type": "code",
   "execution_count": null,
   "id": "2b9bcdc4-da18-4174-9149-377122a4f3a1",
   "metadata": {},
   "outputs": [],
   "source": []
  },
  {
   "cell_type": "code",
   "execution_count": null,
   "id": "1c6543b2-1a02-4397-aede-94bfb94c979e",
   "metadata": {},
   "outputs": [],
   "source": []
  },
  {
   "cell_type": "code",
   "execution_count": null,
   "id": "ed7261ab-d6a8-494e-b31d-e728ad53c039",
   "metadata": {},
   "outputs": [],
   "source": []
  },
  {
   "cell_type": "code",
   "execution_count": null,
   "id": "32ec63f1-7129-475f-bc85-62624a9d8fd4",
   "metadata": {},
   "outputs": [],
   "source": []
  },
  {
   "cell_type": "code",
   "execution_count": null,
   "id": "a24ed34d-18c5-4841-ad7b-a054a52002f4",
   "metadata": {},
   "outputs": [],
   "source": []
  },
  {
   "cell_type": "code",
   "execution_count": null,
   "id": "b8f68449-ba94-481d-a797-ad2ee7f7114e",
   "metadata": {},
   "outputs": [],
   "source": []
  },
  {
   "cell_type": "code",
   "execution_count": null,
   "id": "7dda57ba-36c3-4e3a-b144-8b2a7e8fb4f0",
   "metadata": {},
   "outputs": [],
   "source": []
  },
  {
   "cell_type": "code",
   "execution_count": null,
   "id": "f236f955-b8ad-4a7f-9e71-a4528210c0ee",
   "metadata": {},
   "outputs": [],
   "source": []
  },
  {
   "cell_type": "code",
   "execution_count": null,
   "id": "583cf544-d680-4ec9-b800-141b0a10f938",
   "metadata": {},
   "outputs": [],
   "source": []
  },
  {
   "cell_type": "code",
   "execution_count": null,
   "id": "c5c1ec03-e8d1-42eb-af7c-94a18798d9d7",
   "metadata": {},
   "outputs": [],
   "source": []
  },
  {
   "cell_type": "code",
   "execution_count": null,
   "id": "f0eef648-e163-423d-a104-eaaf63138b18",
   "metadata": {},
   "outputs": [],
   "source": []
  },
  {
   "cell_type": "code",
   "execution_count": null,
   "id": "0245ea2b-b76e-46fb-9cdc-f068d12376dc",
   "metadata": {},
   "outputs": [],
   "source": []
  },
  {
   "cell_type": "code",
   "execution_count": null,
   "id": "0f140f13-caea-4445-913f-06864d7104d4",
   "metadata": {},
   "outputs": [],
   "source": []
  }
 ],
 "metadata": {
  "kernelspec": {
   "display_name": "Python 3 (ipykernel)",
   "language": "python",
   "name": "python3"
  },
  "language_info": {
   "codemirror_mode": {
    "name": "ipython",
    "version": 3
   },
   "file_extension": ".py",
   "mimetype": "text/x-python",
   "name": "python",
   "nbconvert_exporter": "python",
   "pygments_lexer": "ipython3",
   "version": "3.11.9"
  }
 },
 "nbformat": 4,
 "nbformat_minor": 5
}
