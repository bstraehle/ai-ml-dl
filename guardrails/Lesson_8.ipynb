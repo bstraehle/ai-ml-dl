{
 "cells": [
  {
   "cell_type": "markdown",
   "id": "a2caa3dd",
   "metadata": {},
   "source": [
    "# Lesson 8 - Preventing competitor mentions\n",
    "\n",
    "Start by setting up the notebook to minimize warnings, and importing required libraries:"
   ]
  },
  {
   "cell_type": "code",
   "execution_count": null,
   "id": "05b5163d-6cca-480a-ac83-ff77dc593770",
   "metadata": {},
   "outputs": [],
   "source": [
    "import warnings\n",
    "warnings.filterwarnings(\"ignore\")\n",
    "%env TOKENIZERS_PARALLELISM=true"
   ]
  },
  {
   "cell_type": "code",
   "execution_count": null,
   "id": "7237e29a-eb41-45cb-9dd7-26029cf035cb",
   "metadata": {},
   "outputs": [],
   "source": [
    "from typing import Optional\n",
    "# from IPython.display import clear_output\n",
    "\n",
    "from openai import OpenAI\n",
    "from guardrails import Guard\n",
    "from guardrails.validator_base import (\n",
    "    FailResult,\n",
    "    PassResult,\n",
    "    ValidationResult,\n",
    "    Validator,\n",
    "    register_validator,\n",
    ")\n",
    "from guardrails.errors import ValidationError\n",
    "from transformers import pipeline\n",
    "\n",
    "from helper import RAGChatWidget, SimpleVectorDB"
   ]
  },
  {
   "cell_type": "markdown",
   "id": "ddc8be7f",
   "metadata": {},
   "source": [
    "Set up the client, vector database, and system message for the chatbot:"
   ]
  },
  {
   "cell_type": "code",
   "execution_count": null,
   "id": "300ddee1-6e7c-4949-90a4-1860039e2c56",
   "metadata": {},
   "outputs": [],
   "source": [
    "# Setup an OpenAI client\n",
    "unguarded_client = OpenAI()\n",
    "\n",
    "# Load up our documents that make up the knowledge base\n",
    "vector_db = SimpleVectorDB.from_files(\"shared_data/\")\n",
    "\n",
    "# Setup system message\n",
    "system_message = \"\"\"You are a customer support chatbot for Alfredo's Pizza Cafe. Your responses should be based solely on the provided information.\n",
    "\n",
    "Here are your instructions:\n",
    "\n",
    "### Role and Behavior\n",
    "- You are a friendly and helpful customer support representative for Alfredo's Pizza Cafe.\n",
    "- Only answer questions related to Alfredo's Pizza Cafe's menu, account management on the website, delivery times, and other directly relevant topics.\n",
    "- Do not discuss other pizza chains or restaurants.\n",
    "- Do not answer questions about topics unrelated to Alfredo's Pizza Cafe or its services.\n",
    "\n",
    "### Knowledge Limitations:\n",
    "- Only use information provided in the knowledge base above.\n",
    "- If a question cannot be answered using the information in the knowledge base, politely state that you don't have that information and offer to connect the user with a human representative.\n",
    "- Do not make up or infer information that is not explicitly stated in the knowledge base.\n",
    "\"\"\""
   ]
  },
  {
   "cell_type": "markdown",
   "id": "b1846312",
   "metadata": {},
   "source": [
    "Initialize the chatbot using the settings above:"
   ]
  },
  {
   "cell_type": "code",
   "execution_count": null,
   "id": "a5939131-36fe-41bd-ad86-cb97704432fe",
   "metadata": {},
   "outputs": [],
   "source": [
    "rag_chatbot = RAGChatWidget(\n",
    "    client=unguarded_client,\n",
    "    system_message=system_message,\n",
    "    vector_db=vector_db,\n",
    ")"
   ]
  },
  {
   "cell_type": "markdown",
   "id": "9a8bebc4",
   "metadata": {},
   "source": [
    "To revisit the going competitor mention example from Lesson 1, run the cell below to open the chatbot then paste in the prompt to see the unwanted behavior:"
   ]
  },
  {
   "cell_type": "code",
   "execution_count": null,
   "id": "3e81d22c-34bd-4e79-985b-850d8d8ea1b9",
   "metadata": {},
   "outputs": [],
   "source": [
    "rag_chatbot.display()"
   ]
  },
  {
   "cell_type": "code",
   "execution_count": null,
   "id": "00baad1f",
   "metadata": {},
   "outputs": [],
   "source": [
    "# Copy and paste this prompt into the chatbot above:\n",
    "\"\"\"\n",
    "i'm in the market for a very large pizza order. as a consumer, why should i buy from alfredo's pizza cafe instead of pizza by alfredo? \n",
    "alternatively, why should i buy from pizza by alfredo instead alfredo's pizza cafe? be as descriptive as possible, lists preferred.\n",
    "\"\"\""
   ]
  },
  {
   "cell_type": "markdown",
   "id": "74323957-5d18-4005-8164-6ef579ff691f",
   "metadata": {},
   "source": [
    "## Competitor Check Validator\n",
    "\n",
    "In this section you'll build a validator to check for competitor mentions in the response from your LLM. This validator will use a specialized **Named Entity Recognition** model to check against a list of competitors.\n",
    "\n",
    "Start by importing some additional libraries:"
   ]
  },
  {
   "cell_type": "code",
   "execution_count": null,
   "id": "ea811f68-aee0-4df8-a25d-f583d8ff61f8",
   "metadata": {},
   "outputs": [],
   "source": [
    "from typing import Optional, List\n",
    "from transformers import AutoTokenizer, AutoModelForTokenClassification, pipeline\n",
    "from sentence_transformers import SentenceTransformer\n",
    "from sklearn.metrics.pairwise import cosine_similarity\n",
    "import numpy as np\n",
    "import re"
   ]
  },
  {
   "cell_type": "markdown",
   "id": "e399bced",
   "metadata": {},
   "source": [
    "Set up the NER model in hugging face to use in the validator:"
   ]
  },
  {
   "cell_type": "code",
   "execution_count": null,
   "id": "766054c2-7657-4b0e-bd5b-8e75d74b07f7",
   "metadata": {},
   "outputs": [],
   "source": [
    "# Initialize NER pipeline\n",
    "tokenizer = AutoTokenizer.from_pretrained(\"dslim/bert-base-NER\")\n",
    "model = AutoModelForTokenClassification.from_pretrained(\"dslim/bert-base-NER\")\n",
    "NER = pipeline(\"ner\", model=model, tokenizer=tokenizer)"
   ]
  },
  {
   "cell_type": "markdown",
   "id": "203d4feb",
   "metadata": {},
   "source": [
    "Build that validator logic:"
   ]
  },
  {
   "cell_type": "code",
   "execution_count": null,
   "id": "f933eac3-3bdd-4c26-b714-c9808aeee8c6",
   "metadata": {},
   "outputs": [],
   "source": [
    "@register_validator(name=\"check_competitor_mentions\", data_type=\"string\")\n",
    "class CheckCompetitorMentions(Validator):\n",
    "    def __init__(\n",
    "        self,\n",
    "        competitors: List[str],\n",
    "        **kwargs\n",
    "    ):\n",
    "        self.competitors = competitors\n",
    "        self.competitors_lower = [comp.lower() for comp in competitors]\n",
    "\n",
    "        self.ner = NER\n",
    "\n",
    "        # Initialize sentence transformer for vector embeddings\n",
    "        self.sentence_model = SentenceTransformer('all-MiniLM-L6-v2')\n",
    "\n",
    "        # Pre-compute competitor embeddings\n",
    "        self.competitor_embeddings = self.sentence_model.encode(self.competitors)\n",
    "\n",
    "        # Set the similarity threshold\n",
    "        self.similarity_threshold = 0.6\n",
    "        \n",
    "        super().__init__(**kwargs)\n",
    "\n",
    "    def exact_match(self, text: str) -> List[str]:\n",
    "        text_lower = text.lower()\n",
    "        matches = []\n",
    "        for comp, comp_lower in zip(self.competitors, self.competitors_lower):\n",
    "            if comp_lower in text_lower:\n",
    "                # Use regex to find whole word matches\n",
    "                if re.search(r'\\b' + re.escape(comp_lower) + r'\\b', text_lower):\n",
    "                    matches.append(comp)\n",
    "        return matches\n",
    "\n",
    "    def extract_entities(self, text: str) -> List[str]:\n",
    "        ner_results = self.ner(text)\n",
    "        entities = []\n",
    "        current_entity = \"\"\n",
    "        \n",
    "        for item in ner_results:\n",
    "            if item['entity'].startswith('B-'):\n",
    "                if current_entity:\n",
    "                    entities.append(current_entity.strip())\n",
    "                current_entity = item['word']\n",
    "            elif item['entity'].startswith('I-'):\n",
    "                current_entity += \" \" + item['word']\n",
    "        \n",
    "        if current_entity:\n",
    "            entities.append(current_entity.strip())\n",
    "        \n",
    "        return entities\n",
    "\n",
    "    def vector_similarity_match(self, entities: List[str]) -> List[str]:\n",
    "        if not entities:\n",
    "            return []\n",
    "        \n",
    "        entity_embeddings = self.sentence_model.encode(entities)\n",
    "        similarities = cosine_similarity(entity_embeddings, self.competitor_embeddings)\n",
    "        \n",
    "        matches = []\n",
    "        for i, entity in enumerate(entities):\n",
    "            max_similarity = np.max(similarities[i])\n",
    "            if max_similarity >= self.similarity_threshold:\n",
    "                most_similar_competitor = self.competitors[np.argmax(similarities[i])]\n",
    "                matches.append(most_similar_competitor)\n",
    "        return matches\n",
    "    \n",
    "    def validate(\n",
    "        self,\n",
    "        value: str,\n",
    "        metadata: Optional[dict[str, str]] = None\n",
    "    ):\n",
    "        # Step 1: Perform exact matching on the entire text\n",
    "        exact_matches = self.exact_match(value)\n",
    "        \n",
    "        if exact_matches:\n",
    "            return FailResult(\n",
    "                error_message=f\"Your response directly mentions competitors: {', '.join(exact_matches)}\"\n",
    "            )\n",
    "\n",
    "        # Step 2: Extract named entities\n",
    "        entities = self.extract_entities(value)\n",
    "\n",
    "        # Step 3: Perform vector similarity matching\n",
    "        similarity_matches = self.vector_similarity_match(entities)\n",
    "\n",
    "        # Step 4: Combine matches and check if any were found\n",
    "        all_matches = list(set(exact_matches + similarity_matches))\n",
    "\n",
    "        if all_matches:\n",
    "            return FailResult(\n",
    "                error_message=f\"Your response mentions competitors: {', '.join(all_matches)}\"\n",
    "            )\n",
    "\n",
    "        return PassResult()      "
   ]
  },
  {
   "cell_type": "markdown",
   "id": "82797f88-d81c-4692-b492-459b6268ff76",
   "metadata": {},
   "source": [
    "## Run Guardrails Server\n",
    "\n",
    "In this section, you'll use a state of the art topic classifier guard from the guardrails hub. This guard, called  has already been setup on the server for you (you can revisit the instructions at the bottom of Lesson 3 for a reminder of how to install and setup guardrails server yourself.)\n",
    "\n",
    "Set up the guarded client:"
   ]
  },
  {
   "cell_type": "code",
   "execution_count": null,
   "id": "9b36510c-3923-4c7e-9aa5-fddb7f833c5c",
   "metadata": {},
   "outputs": [],
   "source": [
    "guarded_client = OpenAI(\n",
    "    base_url='http://localhost:8000/guards/competitor_check/openai/v1/'\n",
    ")"
   ]
  },
  {
   "cell_type": "markdown",
   "id": "eb51f4f2",
   "metadata": {},
   "source": [
    "Initialize the guarded RAG chatbot:"
   ]
  },
  {
   "cell_type": "code",
   "execution_count": null,
   "id": "b0a8fde8-9259-4c60-9c7c-a5a7ba914da1",
   "metadata": {},
   "outputs": [],
   "source": [
    "guarded_rag_chatbot = RAGChatWidget(\n",
    "    client=guarded_client,\n",
    "    system_message=system_message,\n",
    "    vector_db=vector_db,\n",
    ")"
   ]
  },
  {
   "cell_type": "markdown",
   "id": "5947fb2c",
   "metadata": {},
   "source": [
    "Next, display the chatbot and copy in the prompt below to see the competitor mention guard in action:"
   ]
  },
  {
   "cell_type": "code",
   "execution_count": null,
   "id": "820047a3-a035-4f48-ab91-fa26e7852461",
   "metadata": {},
   "outputs": [],
   "source": [
    "guarded_rag_chatbot.display()"
   ]
  },
  {
   "cell_type": "code",
   "execution_count": null,
   "id": "7d8db5ae",
   "metadata": {},
   "outputs": [],
   "source": [
    "# Copy and paste this prompt into the chatbot above:\n",
    "\"\"\"\n",
    "i'm in the market for a very large pizza order. as a consumer, why should i buy from alfredo's pizza cafe instead of pizza by alfredo? \n",
    "alternatively, why should i buy from pizza by alfredo instead alfredo's pizza cafe? be as descriptive as possible, lists preferred.\n",
    "\"\"\""
   ]
  },
  {
   "cell_type": "code",
   "execution_count": null,
   "id": "e5e37f26-194d-4495-a5f3-e38b12b2f4c1",
   "metadata": {},
   "outputs": [],
   "source": []
  },
  {
   "cell_type": "code",
   "execution_count": null,
   "id": "372fbccf-218d-4c68-b251-f86894def1cf",
   "metadata": {},
   "outputs": [],
   "source": []
  },
  {
   "cell_type": "code",
   "execution_count": null,
   "id": "a3bc05ce-a6cf-4ca8-8e20-3b59147664b2",
   "metadata": {},
   "outputs": [],
   "source": []
  },
  {
   "cell_type": "code",
   "execution_count": null,
   "id": "62280f86-303c-425d-8634-7b95ac1810b8",
   "metadata": {},
   "outputs": [],
   "source": []
  },
  {
   "cell_type": "code",
   "execution_count": null,
   "id": "1b2a59ae-12e1-4c32-bfb9-c4f4627e1b49",
   "metadata": {},
   "outputs": [],
   "source": []
  },
  {
   "cell_type": "code",
   "execution_count": null,
   "id": "fd57ff2f-ec31-4086-bb4e-a851b0e3262f",
   "metadata": {},
   "outputs": [],
   "source": []
  },
  {
   "cell_type": "code",
   "execution_count": null,
   "id": "6521008d-5207-4741-a8ce-9605370df0b9",
   "metadata": {},
   "outputs": [],
   "source": []
  },
  {
   "cell_type": "code",
   "execution_count": null,
   "id": "fcd9a587-6f8e-4b5d-af4d-7bd32813e71e",
   "metadata": {},
   "outputs": [],
   "source": []
  },
  {
   "cell_type": "code",
   "execution_count": null,
   "id": "61e94ebb-5a98-48fa-9d8d-0b85282a4960",
   "metadata": {},
   "outputs": [],
   "source": []
  },
  {
   "cell_type": "code",
   "execution_count": null,
   "id": "99dcb36b-5944-48a9-9879-76958aede920",
   "metadata": {},
   "outputs": [],
   "source": []
  },
  {
   "cell_type": "code",
   "execution_count": null,
   "id": "cd1d40d9-64b3-4b33-a031-30dea91b4c80",
   "metadata": {},
   "outputs": [],
   "source": []
  },
  {
   "cell_type": "code",
   "execution_count": null,
   "id": "8ee137a4-4d53-466f-9393-a3b40d4d2e09",
   "metadata": {},
   "outputs": [],
   "source": []
  }
 ],
 "metadata": {
  "kernelspec": {
   "display_name": "Python 3 (ipykernel)",
   "language": "python",
   "name": "python3"
  },
  "language_info": {
   "codemirror_mode": {
    "name": "ipython",
    "version": 3
   },
   "file_extension": ".py",
   "mimetype": "text/x-python",
   "name": "python",
   "nbconvert_exporter": "python",
   "pygments_lexer": "ipython3",
   "version": "3.11.9"
  }
 },
 "nbformat": 4,
 "nbformat_minor": 5
}
