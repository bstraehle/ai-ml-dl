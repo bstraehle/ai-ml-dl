{
 "cells": [
  {
   "cell_type": "markdown",
   "id": "f3d078a4",
   "metadata": {},
   "source": [
    "# Lesson 3: Tuning"
   ]
  },
  {
   "cell_type": "markdown",
   "id": "ce5574dc",
   "metadata": {},
   "source": [
    "Welcome to Lesson 3!\n",
    "\n",
    "To access the `requirements.txt` and `utils3.py` file for this course, go to `File` and click `Open`."
   ]
  },
  {
   "cell_type": "markdown",
   "id": "299f72bd",
   "metadata": {},
   "source": [
    "#### 1. Load imports"
   ]
  },
  {
   "cell_type": "code",
   "execution_count": null,
   "id": "f8fe96c1-bb30-4a44-860a-98ec4326e74f",
   "metadata": {
    "height": 149
   },
   "outputs": [],
   "source": [
    "from flwr.client import Client, ClientApp, NumPyClient\n",
    "from flwr.server import ServerApp, ServerConfig\n",
    "from flwr.server.strategy import FedAvg\n",
    "from flwr.simulation import run_simulation\n",
    "from flwr_datasets import FederatedDataset\n",
    "\n",
    "from utils3 import *"
   ]
  },
  {
   "cell_type": "markdown",
   "id": "827e9149",
   "metadata": {},
   "source": [
    "#### 2. Prepare the datasets"
   ]
  },
  {
   "cell_type": "markdown",
   "id": "c127d303",
   "metadata": {},
   "source": [
    "* Prepare data using Flower Datasets.\n",
    "\n",
    "Use `flwr-datasets` that provides with a Federated Dataset abstraction."
   ]
  },
  {
   "cell_type": "code",
   "execution_count": null,
   "id": "07bf7905-111d-4cdc-9f65-9883b8ccf393",
   "metadata": {
    "height": 217
   },
   "outputs": [],
   "source": [
    "def load_data(partition_id):\n",
    "    fds = FederatedDataset(dataset=\"mnist\", partitioners={\"train\": 5})\n",
    "    partition = fds.load_partition(partition_id)\n",
    "\n",
    "    traintest = partition.train_test_split(test_size=0.2, seed=42)\n",
    "    traintest = traintest.with_transform(normalize)\n",
    "    trainset, testset = traintest[\"train\"], traintest[\"test\"]\n",
    "\n",
    "    trainloader = DataLoader(trainset, batch_size=64, shuffle=True)\n",
    "    testloader = DataLoader(testset, batch_size=64)\n",
    "    return trainloader, testloader"
   ]
  },
  {
   "cell_type": "markdown",
   "id": "7905e136",
   "metadata": {},
   "source": [
    "#### 3. Clients configuration"
   ]
  },
  {
   "cell_type": "markdown",
   "id": "68400707",
   "metadata": {},
   "source": [
    "* Define fit_config.\n",
    "\n",
    "Flower can send configuration values to clients."
   ]
  },
  {
   "cell_type": "code",
   "execution_count": null,
   "id": "16125466-5b8b-4c57-956c-542cd0b8f4a2",
   "metadata": {
    "height": 115
   },
   "outputs": [],
   "source": [
    "def fit_config(server_round: int):\n",
    "    config_dict = {\n",
    "        \"local_epochs\": 2 if server_round < 3 else 5,\n",
    "    }\n",
    "    return config_dict"
   ]
  },
  {
   "cell_type": "markdown",
   "id": "5eadf6e5",
   "metadata": {},
   "source": [
    "* The FedAvg strategy in the Server Function."
   ]
  },
  {
   "cell_type": "code",
   "execution_count": null,
   "id": "a09f1649-c5d8-44d1-9777-0270f2864723",
   "metadata": {
    "height": 285
   },
   "outputs": [],
   "source": [
    "net = SimpleModel()\n",
    "params = ndarrays_to_parameters(get_weights(net))\n",
    "\n",
    "def server_fn(context: Context):\n",
    "    strategy = FedAvg(\n",
    "        min_fit_clients=5,\n",
    "        fraction_evaluate=0.0,\n",
    "        initial_parameters=params,\n",
    "        on_fit_config_fn=fit_config,  # <- NEW\n",
    "    )\n",
    "    config=ServerConfig(num_rounds=3)\n",
    "    return ServerAppComponents(\n",
    "        strategy=strategy,\n",
    "        config=config,\n",
    "    )"
   ]
  },
  {
   "cell_type": "markdown",
   "id": "a6da428f",
   "metadata": {},
   "source": [
    "* Define an instance of ServerApp."
   ]
  },
  {
   "cell_type": "code",
   "execution_count": null,
   "id": "30e24c28-4420-4432-9cbd-ab0773215c36",
   "metadata": {
    "height": 30
   },
   "outputs": [],
   "source": [
    "server = ServerApp(server_fn=server_fn)"
   ]
  },
  {
   "cell_type": "markdown",
   "id": "a75c3feb",
   "metadata": {},
   "source": [
    "* Define FlowerClient.\n",
    "\n",
    "The client side receives the configuration dictionary in the `fit` method."
   ]
  },
  {
   "cell_type": "code",
   "execution_count": null,
   "id": "0918d659-8c35-4cf8-a2fb-aaa0e8475fde",
   "metadata": {
    "height": 353
   },
   "outputs": [],
   "source": [
    "class FlowerClient(NumPyClient):\n",
    "    def __init__(self, net, trainloader, testloader):\n",
    "        self.net = net\n",
    "        self.trainloader = trainloader\n",
    "        self.testloader = testloader\n",
    "\n",
    "    def fit(self, parameters, config):\n",
    "        set_weights(self.net, parameters)\n",
    "\n",
    "        epochs = config[\"local_epochs\"]\n",
    "        log(INFO, f\"client trains for {epochs} epochs\")\n",
    "        train_model(self.net, self.trainloader, epochs)\n",
    "\n",
    "        return get_weights(self.net), len(self.trainloader), {}\n",
    "\n",
    "    def evaluate(self, parameters, config):\n",
    "        set_weights(self.net, parameters)\n",
    "        loss, accuracy = evaluate_model(self.net, self.testloader)\n",
    "        return loss, len(self.testloader), {\"accuracy\": accuracy}"
   ]
  },
  {
   "cell_type": "markdown",
   "id": "0edac892",
   "metadata": {},
   "source": [
    "* Create the Client Function and the Client App."
   ]
  },
  {
   "cell_type": "code",
   "execution_count": null,
   "id": "79093643-032d-41b3-a544-dab4362acaac",
   "metadata": {
    "height": 166
   },
   "outputs": [],
   "source": [
    "def client_fn(context: Context) -> Client:\n",
    "    net = SimpleModel()\n",
    "    partition_id = int(context.node_config[\"partition-id\"])\n",
    "    trainloader, testloader = load_data(partition_id=partition_id)\n",
    "    return FlowerClient(net, trainloader, testloader).to_client()\n",
    "\n",
    "\n",
    "client = ClientApp(client_fn)"
   ]
  },
  {
   "cell_type": "markdown",
   "id": "6fb8b07a",
   "metadata": {},
   "source": [
    "* Run Client and Server apps."
   ]
  },
  {
   "cell_type": "code",
   "execution_count": null,
   "id": "852baa38-2284-44f7-81e7-4106959094cd",
   "metadata": {
    "height": 115
   },
   "outputs": [],
   "source": [
    "run_simulation(server_app=server,\n",
    "               client_app=client,\n",
    "               num_supernodes=5,\n",
    "               backend_config=backend_setup\n",
    "               )"
   ]
  }
 ],
 "metadata": {
  "kernelspec": {
   "display_name": "Python 3 (ipykernel)",
   "language": "python",
   "name": "python3"
  },
  "language_info": {
   "codemirror_mode": {
    "name": "ipython",
    "version": 3
   },
   "file_extension": ".py",
   "mimetype": "text/x-python",
   "name": "python",
   "nbconvert_exporter": "python",
   "pygments_lexer": "ipython3",
   "version": "3.11.9"
  }
 },
 "nbformat": 4,
 "nbformat_minor": 5
}
