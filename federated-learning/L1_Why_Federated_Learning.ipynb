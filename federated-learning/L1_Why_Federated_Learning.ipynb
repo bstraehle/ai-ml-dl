{
 "cells": [
  {
   "cell_type": "markdown",
   "id": "e292839e",
   "metadata": {},
   "source": [
    "# Lesson 1: Why Federated Learning?"
   ]
  },
  {
   "cell_type": "markdown",
   "id": "0ff34c80",
   "metadata": {},
   "source": [
    "Welcome to Lesson 1!\n",
    "\n",
    "To access the `requirements.txt` and `utils1.py` file for this course, go to `File` and click `Open`."
   ]
  },
  {
   "cell_type": "markdown",
   "id": "4ddd5417",
   "metadata": {},
   "source": [
    "#### 1. Import utils"
   ]
  },
  {
   "cell_type": "code",
   "execution_count": null,
   "id": "da7dc512-c760-444b-ae0a-ba53cab7748f",
   "metadata": {
    "height": 30
   },
   "outputs": [],
   "source": [
    "from utils1 import *"
   ]
  },
  {
   "cell_type": "markdown",
   "id": "d68fbb81",
   "metadata": {},
   "source": [
    "#### 2. Import the MNIST dataset"
   ]
  },
  {
   "cell_type": "markdown",
   "id": "028649de",
   "metadata": {},
   "source": [
    "* Load the MNIST dataset using the `datasets.MNIST` function."
   ]
  },
  {
   "cell_type": "code",
   "execution_count": null,
   "id": "3cccea2b-ed71-4e69-b7eb-05ce74bce001",
   "metadata": {
    "height": 81
   },
   "outputs": [],
   "source": [
    "trainset = datasets.MNIST(\n",
    "    \"./MNIST_data/\", download=True, train=True, transform=transform\n",
    ")"
   ]
  },
  {
   "cell_type": "markdown",
   "id": "693ea8ee",
   "metadata": {},
   "source": [
    "* Split the training dataset to three datasets for this example."
   ]
  },
  {
   "cell_type": "code",
   "execution_count": null,
   "id": "1d36981b-8e69-4a0d-88e1-ce92242960f8",
   "metadata": {
    "height": 98
   },
   "outputs": [],
   "source": [
    "total_length = len(trainset)\n",
    "split_size = total_length // 3\n",
    "torch.manual_seed(42)\n",
    "part1, part2, part3 = random_split(trainset, [split_size] * 3)"
   ]
  },
  {
   "cell_type": "markdown",
   "id": "c47c55a3",
   "metadata": {},
   "source": [
    "* Set the three different datasets, excluding some digits as shown in the explanation.\n",
    "    - `part1` excludes digits 1, 3, and 7.\n",
    "    - `part2` excludes digits 2, 5, and 8.\n",
    "    - `part3` excludes digits 4, 6, and 9.\n",
    "\n",
    "This simulates the different datasets that might be available in real world (datasets with missing data, extra data, etc)."
   ]
  },
  {
   "cell_type": "code",
   "execution_count": null,
   "id": "4a012cad-8650-484a-9360-b2a163e8f2c2",
   "metadata": {
    "height": 81
   },
   "outputs": [],
   "source": [
    "part1 = exclude_digits(part1, excluded_digits=[1, 3, 7])\n",
    "part2 = exclude_digits(part2, excluded_digits=[2, 5, 8])\n",
    "part3 = exclude_digits(part3, excluded_digits=[4, 6, 9])"
   ]
  },
  {
   "cell_type": "markdown",
   "id": "62c74abb",
   "metadata": {},
   "source": [
    "> Note: The function ```exclude_digits``` has been provided for your use. You can find it in the `utils1.py` file. \n",
    "\n",
    "  To access this file, go to `File` and click `Open`."
   ]
  },
  {
   "cell_type": "markdown",
   "id": "2600f683",
   "metadata": {},
   "source": [
    "* Plot the three datasets."
   ]
  },
  {
   "cell_type": "code",
   "execution_count": null,
   "id": "81a58dd0-d342-4dac-9d86-41497a3d6551",
   "metadata": {
    "height": 64
   },
   "outputs": [],
   "source": [
    "plot_distribution(part1, \"Part 1\")\n",
    "plot_distribution(part2, \"Part 2\")\n",
    "plot_distribution(part3, \"Part 3\")"
   ]
  },
  {
   "cell_type": "markdown",
   "id": "76fae9ed",
   "metadata": {},
   "source": [
    "#### 3. Train and test the models"
   ]
  },
  {
   "cell_type": "markdown",
   "id": "66e38b1a",
   "metadata": {},
   "source": [
    "* Define three and run the models.\n",
    "\n",
    "Three instances of the `SimpleModel` class (`model1`, `model2`, `model3`) are created for training.\n",
    "Find the `SimpleModel` class in the `utils1.py` file."
   ]
  },
  {
   "cell_type": "code",
   "execution_count": null,
   "id": "10795a16-0043-4597-9191-3a57884fda75",
   "metadata": {
    "height": 149
   },
   "outputs": [],
   "source": [
    "model1 = SimpleModel()\n",
    "train_model(model1, part1)\n",
    "\n",
    "model2 = SimpleModel()\n",
    "train_model(model2, part2)\n",
    "\n",
    "model3 = SimpleModel()\n",
    "train_model(model3, part3)"
   ]
  },
  {
   "cell_type": "markdown",
   "id": "585e8721",
   "metadata": {},
   "source": [
    "#### 4. Evaluate the models"
   ]
  },
  {
   "cell_type": "markdown",
   "id": "2901c922",
   "metadata": {},
   "source": [
    "* Load the test dataset."
   ]
  },
  {
   "cell_type": "code",
   "execution_count": null,
   "id": "870eb745-71f5-4569-9576-3a101f59aec2",
   "metadata": {
    "height": 81
   },
   "outputs": [],
   "source": [
    "testset = datasets.MNIST(\n",
    "    \"./MNIST_data/\", download=True, train=False, transform=transform\n",
    ")"
   ]
  },
  {
   "cell_type": "markdown",
   "id": "641d451f",
   "metadata": {},
   "source": [
    "* Dataset preparation:\n",
    "   - `testset_137` includes digits 1, 3, and 7.\n",
    "   - `testset_258` includes digits 2, 5, and 8.\n",
    "   - `testset_469` includes digits 4, 6, and 9."
   ]
  },
  {
   "cell_type": "code",
   "execution_count": null,
   "id": "1f64e56f",
   "metadata": {
    "height": 81
   },
   "outputs": [],
   "source": [
    "testset_137 = include_digits(testset, included_digits=[1, 3, 7])\n",
    "testset_258 = include_digits(testset, included_digits=[2, 5, 8])\n",
    "testset_469 = include_digits(testset, included_digits=[4, 6, 9])"
   ]
  },
  {
   "cell_type": "markdown",
   "id": "98b7703d",
   "metadata": {},
   "source": [
    "> Note: The function ```include_digits``` has been provided for your use. You can find it in the `utils1.py` file. \n",
    "\n",
    "  To access this file, go to `File` and click `Open`."
   ]
  },
  {
   "cell_type": "markdown",
   "id": "b2ad21fd",
   "metadata": {},
   "source": [
    "* Evaluate the models with the test datasets.\n",
    "\n",
    "The `evaluate_model` function is called to evaluate each model defined above (`model1`, `model2`, `model3`) on both, the entire test dataset and specific subsets of the test dataset."
   ]
  },
  {
   "cell_type": "code",
   "execution_count": null,
   "id": "ddf04ae9-ef0b-4356-ba22-3e72794783a8",
   "metadata": {
    "height": 370
   },
   "outputs": [],
   "source": [
    "_, accuracy1 = evaluate_model(model1, testset)\n",
    "_, accuracy1_on_137 = evaluate_model(model1, testset_137)\n",
    "print(\n",
    "    f\"Model 1-> Test Accuracy on all digits: {accuracy1:.4f}, \"\n",
    "    f\"Test Accuracy on [1,3,7]: {accuracy1_on_137:.4f}\"\n",
    ")\n",
    "\n",
    "_, accuracy2 = evaluate_model(model2, testset)\n",
    "_, accuracy2_on_258 = evaluate_model(model2, testset_258)\n",
    "print(\n",
    "    f\"Model 2-> Test Accuracy on all digits: {accuracy2:.4f}, \"\n",
    "    f\"Test Accuracy on [2,5,8]: {accuracy2_on_258:.4f}\"\n",
    ")\n",
    "\n",
    "_, accuracy3 = evaluate_model(model3, testset)\n",
    "_, accuracy3_on_469 = evaluate_model(model3, testset_469)\n",
    "print(\n",
    "    f\"Model 3-> Test Accuracy on all digits: {accuracy3:.4f}, \"\n",
    "    f\"Test Accuracy on [4,6,9]: {accuracy3_on_469:.4f}\"\n",
    ")"
   ]
  },
  {
   "cell_type": "markdown",
   "id": "107191dd",
   "metadata": {},
   "source": [
    "* Analyze the results looking at the 'confusion matrix' for the three models just trained using the ```compute_confusion_matrix```. You can find this function in the `utils1.py` file. \n",
    "\n",
    "  To access this file, go to `File` and click `Open`."
   ]
  },
  {
   "cell_type": "code",
   "execution_count": null,
   "id": "002b285c-47de-45b5-a4b9-ace541adcd21",
   "metadata": {
    "height": 149
   },
   "outputs": [],
   "source": [
    "confusion_matrix_model1_all = compute_confusion_matrix(model1, testset)\n",
    "confusion_matrix_model2_all = compute_confusion_matrix(model2, testset)\n",
    "confusion_matrix_model3_all = compute_confusion_matrix(model3, testset)\n",
    "\n",
    "plot_confusion_matrix(confusion_matrix_model1_all, \"model 1\")\n",
    "plot_confusion_matrix(confusion_matrix_model2_all, \"model 2\")\n",
    "plot_confusion_matrix(confusion_matrix_model3_all, \"model 3\")"
   ]
  }
 ],
 "metadata": {
  "kernelspec": {
   "display_name": "Python 3 (ipykernel)",
   "language": "python",
   "name": "python3"
  },
  "language_info": {
   "codemirror_mode": {
    "name": "ipython",
    "version": 3
   },
   "file_extension": ".py",
   "mimetype": "text/x-python",
   "name": "python",
   "nbconvert_exporter": "python",
   "pygments_lexer": "ipython3",
   "version": "3.11.9"
  }
 },
 "nbformat": 4,
 "nbformat_minor": 5
}
