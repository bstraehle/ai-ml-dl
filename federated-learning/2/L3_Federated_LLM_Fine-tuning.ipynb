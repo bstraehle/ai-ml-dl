{
 "cells": [
  {
   "cell_type": "markdown",
   "id": "7a5e278c",
   "metadata": {},
   "source": [
    "# Lesson 3: Federated LLM Fine-tuning"
   ]
  },
  {
   "cell_type": "markdown",
   "id": "ffab775e",
   "metadata": {},
   "source": [
    "Welcome to Lesson 3!\n",
    "\n",
    "To access the `requirements.txt` and `utils` files for this course, go to `File` and click `Open`."
   ]
  },
  {
   "cell_type": "markdown",
   "id": "5aae51e7",
   "metadata": {},
   "source": [
    "#### 1. Import packages and utilities"
   ]
  },
  {
   "cell_type": "code",
   "execution_count": null,
   "id": "1d457c02-b6e8-4721-b5d8-a866517d8a0c",
   "metadata": {
    "height": 268
   },
   "outputs": [],
   "source": [
    "import warnings\n",
    "warnings.filterwarnings(\"ignore\", category=UserWarning)\n",
    "warnings.filterwarnings(\"ignore\", category=FutureWarning)\n",
    "import flwr as fl\n",
    "from flwr_datasets import FederatedDataset\n",
    "from flwr_datasets.partitioner import IidPartitioner\n",
    "from datasets import load_dataset\n",
    "from flwr.client.mod import fixedclipping_mod\n",
    "from flwr.server.strategy import (\n",
    "    DifferentialPrivacyClientSideFixedClipping\n",
    ")\n",
    "from utils.utils import * \n",
    "from utils.LLM import LLM_fl\n",
    "from utils.LLM import get_fireworks_api_key,load_env"
   ]
  },
  {
   "cell_type": "markdown",
   "id": "882a2963",
   "metadata": {},
   "source": [
    "* Load configuration."
   ]
  },
  {
   "cell_type": "code",
   "execution_count": null,
   "id": "6dae3e48-08de-412e-80f1-95de0039f3b8",
   "metadata": {
    "height": 64
   },
   "outputs": [],
   "source": [
    "cfg = get_config(\"federated\")\n",
    "\n",
    "print_config(cfg)"
   ]
  },
  {
   "cell_type": "markdown",
   "id": "99b584e0",
   "metadata": {},
   "source": [
    "#### 2. Dataset partition"
   ]
  },
  {
   "cell_type": "code",
   "execution_count": null,
   "id": "729eb95a-d86f-4871-a8e2-652227f4e983",
   "metadata": {
    "height": 183
   },
   "outputs": [],
   "source": [
    "partitioner = IidPartitioner(num_partitions=cfg.flower.num_clients)\n",
    "fds = FederatedDataset(\n",
    "    dataset=cfg.dataset.name,\n",
    "    partitioners={\"train\": partitioner}\n",
    ")\n",
    "\n",
    "partition_zero = fds.load_partition(0) \n",
    "\n",
    "format_dataset(partition_zero)"
   ]
  },
  {
   "cell_type": "markdown",
   "id": "d223c960",
   "metadata": {},
   "source": [
    "* Visualize the data partition."
   ]
  },
  {
   "cell_type": "code",
   "execution_count": null,
   "id": "c63940fa-d3bc-47f6-bab0-7f98e1f30230",
   "metadata": {
    "height": 30
   },
   "outputs": [],
   "source": [
    "visualize_partitions(fds)"
   ]
  },
  {
   "cell_type": "markdown",
   "id": "8bd12fc4",
   "metadata": {},
   "source": [
    "#### 3. Client and Server"
   ]
  },
  {
   "cell_type": "markdown",
   "id": "494c7556",
   "metadata": {},
   "source": [
    "* Load the tokenizer and other components."
   ]
  },
  {
   "cell_type": "code",
   "execution_count": null,
   "id": "187c7731-cd6a-4549-8a88-944fcabf64a4",
   "metadata": {
    "height": 183
   },
   "outputs": [],
   "source": [
    "(\n",
    "tokenizer,\n",
    "data_collator,\n",
    "formatting_prompts_func,\n",
    ") = get_tokenizer_and_data_collator_and_propt_formatting(\n",
    "    cfg.model.name, \n",
    "    cfg.model.use_fast_tokenizer,\n",
    "    cfg.train.padding_side,\n",
    ")"
   ]
  },
  {
   "cell_type": "markdown",
   "id": "d86d07d5",
   "metadata": {},
   "source": [
    "* Define the client."
   ]
  },
  {
   "cell_type": "code",
   "execution_count": null,
   "id": "f8aef1bf-47c4-484b-9a68-8a7731b660e0",
   "metadata": {
    "height": 234
   },
   "outputs": [],
   "source": [
    "save_path = \"./my_fl_model\"\n",
    "client = fl.client.ClientApp(\n",
    "    client_fn=gen_client_fn(\n",
    "        fds,\n",
    "        tokenizer,\n",
    "        formatting_prompts_func,\n",
    "        data_collator,\n",
    "        cfg.model, \n",
    "        cfg.train, \n",
    "        save_path,\n",
    "    ),\n",
    "    mods=[fixedclipping_mod] \n",
    ")"
   ]
  },
  {
   "cell_type": "markdown",
   "id": "ffe27528",
   "metadata": {},
   "source": [
    "> Note: The ```gen_client_fn``` function is provided for your use. You can find it in the utils folder > ```utils.py```"
   ]
  },
  {
   "cell_type": "markdown",
   "id": "f599a2f1",
   "metadata": {},
   "source": [
    "* Define the server function and add Differential Privacy."
   ]
  },
  {
   "cell_type": "code",
   "execution_count": null,
   "id": "4df181b7-b94c-4234-9743-1c1b3550d57e",
   "metadata": {
    "height": 625
   },
   "outputs": [],
   "source": [
    "def server_fn(context: Context):\n",
    "\n",
    "    # Define the Strategy\n",
    "    strategy = fl.server.strategy.FedAvg(\n",
    "        min_available_clients=cfg.flower.num_clients, # total clients\n",
    "        fraction_fit=cfg.flower.fraction_fit, # ratio of clients to sample\n",
    "        fraction_evaluate=0.0, # No federated evaluation\n",
    "        # A (optional) function used to configure a \"fit()\" round\n",
    "        on_fit_config_fn=get_on_fit_config(),\n",
    "        # A (optional) function to aggregate metrics sent by clients\n",
    "        fit_metrics_aggregation_fn=fit_weighted_average,\n",
    "        # A (optional) function to execute on the server after each round. \n",
    "        # In this example the function only saves the global model.\n",
    "        evaluate_fn=get_evaluate_fn( \n",
    "            cfg.model,\n",
    "            cfg.train.save_every_round,\n",
    "            cfg.flower.num_rounds,\n",
    "            save_path\n",
    "        ),\n",
    "    )\n",
    "\n",
    "    # Add Differential Privacy\n",
    "    sampled_clients = cfg.flower.num_clients*strategy.fraction_fit\n",
    "    strategy = DifferentialPrivacyClientSideFixedClipping(\n",
    "        strategy, \n",
    "        noise_multiplier=cfg.flower.dp.noise_mult,\n",
    "        clipping_norm=cfg.flower.dp.clip_norm, \n",
    "        num_sampled_clients=sampled_clients\n",
    "    )\n",
    "\n",
    "    # Number of rounds to run the simulation\n",
    "    num_rounds = cfg.flower.num_rounds\n",
    "    config = fl.server.ServerConfig(num_rounds=num_rounds)\n",
    "    \n",
    "    return fl.server.ServerAppComponents(strategy=strategy, config=config) "
   ]
  },
  {
   "cell_type": "markdown",
   "id": "c9a12ee6",
   "metadata": {},
   "source": [
    "* Instantiate the ServerApp."
   ]
  },
  {
   "cell_type": "code",
   "execution_count": null,
   "id": "c5c39cfe-aa8b-4901-8aa7-2dce50836456",
   "metadata": {
    "height": 47
   },
   "outputs": [],
   "source": [
    "server = fl.server.ServerApp(server_fn=server_fn)"
   ]
  },
  {
   "cell_type": "markdown",
   "id": "1fb90e54",
   "metadata": {},
   "source": [
    "#### 4. Run"
   ]
  },
  {
   "cell_type": "markdown",
   "id": "26a082e3",
   "metadata": {},
   "source": [
    "* Run the simulation."
   ]
  },
  {
   "cell_type": "markdown",
   "id": "896a9f13",
   "metadata": {},
   "source": [
    "> Note: This simulation might take a few minutes to complete."
   ]
  },
  {
   "cell_type": "code",
   "execution_count": null,
   "id": "b43eb1bd-eb58-429e-a35c-d4c9eb4a6743",
   "metadata": {
    "height": 166
   },
   "outputs": [],
   "source": [
    "client_resources = dict(cfg.flower.client_resources)\n",
    "fl.simulation.run_simulation(\n",
    "    server_app=server,\n",
    "    client_app=client,\n",
    "    num_supernodes=cfg.flower.num_clients,\n",
    "    backend_config={\"client_resources\": client_resources,\n",
    "                    \"init_args\": backend_setup}\n",
    ")"
   ]
  },
  {
   "cell_type": "markdown",
   "id": "4c2c2c62",
   "metadata": {},
   "source": [
    "* Run the fine-tuned model. "
   ]
  },
  {
   "cell_type": "code",
   "execution_count": null,
   "id": "c5480e6d-4054-4e87-a228-adf4021d36e1",
   "metadata": {
    "height": 47
   },
   "outputs": [],
   "source": [
    "# Load the checkpoint\n",
    "llm_eval = LLM_fl()"
   ]
  },
  {
   "cell_type": "code",
   "execution_count": null,
   "id": "997a3ef5-c206-44cd-bf28-520070872426",
   "metadata": {
    "height": 132
   },
   "outputs": [],
   "source": [
    "# Load dataset\n",
    "train_dataset = load_dataset(cfg.dataset.name, split='train')\n",
    "train_dataset = format_dataset(train_dataset)\n",
    "\n",
    "# Select training example\n",
    "example_index = 6"
   ]
  },
  {
   "cell_type": "code",
   "execution_count": null,
   "id": "493a4d5a-a36f-46b9-abc7-510e802b0e43",
   "metadata": {
    "height": 30
   },
   "outputs": [],
   "source": [
    "data_point = train_dataset[example_index]"
   ]
  },
  {
   "cell_type": "code",
   "execution_count": null,
   "id": "4b2610f9-fa1c-4165-b6d5-0956132d4735",
   "metadata": {
    "height": 64
   },
   "outputs": [],
   "source": [
    "# Print the prompt\n",
    "llm_eval.eval(data_point['instruction'], verbose=True)"
   ]
  },
  {
   "cell_type": "code",
   "execution_count": null,
   "id": "e829faf4-0aa1-4387-84be-c6c69f100673",
   "metadata": {
    "height": 47
   },
   "outputs": [],
   "source": [
    "# Print the fine-tuned LLM response\n",
    "llm_eval.print_response()"
   ]
  },
  {
   "cell_type": "code",
   "execution_count": null,
   "id": "0613d446-432b-4669-94bb-49618e7d1582",
   "metadata": {
    "height": 81
   },
   "outputs": [],
   "source": [
    "# Print the expected output from the medAlpaca dataset\n",
    "ex_response = format_string(data_point['response'])\n",
    "print(f\"Expected output:\\n\\t{ex_response}\")"
   ]
  },
  {
   "cell_type": "markdown",
   "id": "93800704",
   "metadata": {},
   "source": [
    "#### 5. Visualize results"
   ]
  },
  {
   "cell_type": "code",
   "execution_count": null,
   "id": "72abebc1-62f4-498c-b75b-89c03d6a10e1",
   "metadata": {
    "height": 64
   },
   "outputs": [],
   "source": [
    "visualize_results(\n",
    "    results=['7b/pretrained', '7b/cen_10', '7b/fl'])"
   ]
  },
  {
   "cell_type": "markdown",
   "id": "308d46bd",
   "metadata": {},
   "source": [
    "* See the results if you would provide the same amount of data to the centralized finetuned-model."
   ]
  },
  {
   "cell_type": "code",
   "execution_count": null,
   "id": "fccaae95-4bab-48b7-be16-eb4937230156",
   "metadata": {
    "height": 81
   },
   "outputs": [],
   "source": [
    "visualize_results(\n",
    "    results=['7b/pretrained', '7b/cen_10',\n",
    "             '7b/cen_full', '7b/fl'],\n",
    "    compact=True)"
   ]
  },
  {
   "cell_type": "markdown",
   "id": "ac7d077a",
   "metadata": {},
   "source": [
    "#### 6. One more analysis"
   ]
  },
  {
   "cell_type": "markdown",
   "id": "882aeaab",
   "metadata": {},
   "source": [
    "* Compute communication costs."
   ]
  },
  {
   "cell_type": "code",
   "execution_count": null,
   "id": "58226386-759c-4a24-8876-5855ea177c35",
   "metadata": {
    "height": 81
   },
   "outputs": [],
   "source": [
    "cfg = get_config(\"federated\")\n",
    "\n",
    "compute_communication_costs(cfg, comm_bw_mbps=20)"
   ]
  }
 ],
 "metadata": {
  "kernelspec": {
   "display_name": "Python 3 (ipykernel)",
   "language": "python",
   "name": "python3"
  },
  "language_info": {
   "codemirror_mode": {
    "name": "ipython",
    "version": 3
   },
   "file_extension": ".py",
   "mimetype": "text/x-python",
   "name": "python",
   "nbconvert_exporter": "python",
   "pygments_lexer": "ipython3",
   "version": "3.11.9"
  }
 },
 "nbformat": 4,
 "nbformat_minor": 5
}
