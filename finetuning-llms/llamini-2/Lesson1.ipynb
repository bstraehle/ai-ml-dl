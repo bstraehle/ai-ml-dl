{
 "cells": [
  {
   "cell_type": "markdown",
   "id": "37f536b8-b660-4374-86b5-891abc6147f9",
   "metadata": {},
   "source": [
    "# Lesson 1: Llama 3 Basics"
   ]
  },
  {
   "cell_type": "markdown",
   "id": "84b952c0-826a-4ee6-90c8-32342542da81",
   "metadata": {},
   "source": [
    "> Note: You can access the `data` and `util` subdirectories used in the course. In Jupyter version 6, this is via the File>Open menu. In Jupyter version 7 this is in View> File Browser\n",
    "\n",
    "> Also note that as models and systems change, the output of the models may shift from the video content."
   ]
  },
  {
   "cell_type": "code",
   "execution_count": null,
   "id": "3fb9c635-ca81-41f9-8805-514412c22384",
   "metadata": {
    "height": 47
   },
   "outputs": [],
   "source": [
    "from dotenv import load_dotenv\n",
    "_ = load_dotenv()   #load environmental variable LAMINI_API_KEY with key from .env file"
   ]
  },
  {
   "cell_type": "code",
   "execution_count": null,
   "id": "4837745d-7b47-45d1-a627-8c783d026364",
   "metadata": {
    "height": 30
   },
   "outputs": [],
   "source": [
    "import lamini"
   ]
  },
  {
   "cell_type": "code",
   "execution_count": null,
   "id": "360b4c80-1b67-403f-94b5-b1554d1144f9",
   "metadata": {
    "height": 30
   },
   "outputs": [],
   "source": [
    "llm = lamini.Lamini(model_name=\"meta-llama/Meta-Llama-3-8B-Instruct\")"
   ]
  },
  {
   "cell_type": "code",
   "execution_count": null,
   "id": "fadcb120-506b-4665-81a8-fff99927b653",
   "metadata": {
    "height": 166
   },
   "outputs": [],
   "source": [
    "prompt = \"\"\"\\\n",
    "<|begin_of_text|><|start_header_id|>system<|end_header_id|>\n",
    "\n",
    "You are a helpful assistant.<|eot_id|><|start_header_id|>user<|end_header_id|>\n",
    "\n",
    "Please write a birthday card for my good friend Andrew\\\n",
    "<|eot_id|><|start_header_id|>assistant<|end_header_id|>\n",
    "\n",
    "\"\"\""
   ]
  },
  {
   "cell_type": "code",
   "execution_count": null,
   "id": "717c7346-6e47-47ba-ab39-83af6483f55b",
   "metadata": {
    "height": 47
   },
   "outputs": [],
   "source": [
    "result = llm.generate(prompt, max_new_tokens=200)\n",
    "print(result)"
   ]
  },
  {
   "cell_type": "code",
   "execution_count": null,
   "id": "d9f05bb6-d7d6-4146-a4e0-1dab3aacffe8",
   "metadata": {
    "height": 200
   },
   "outputs": [],
   "source": [
    "prompt2 = ( \n",
    "    \"<|begin_of_text|>\"  # Start of prompt\n",
    "    \"<|start_header_id|>system<|end_header_id|>\\n\\n\"  #  header - system\n",
    "    \"You are a helpful assistant.\"  # system prompt\n",
    "    \"<|eot_id|>\" # end of turn\n",
    "    \"<|start_header_id|>user<|end_header_id|>\\n\\n\" # header - user\n",
    "    \"Please write a birthday card for my good friend Andrew\" \n",
    "    \"<|eot_id|>\" # end of turn\n",
    "    \"<|start_header_id|>assistant<|end_header_id|>\\n\\n\" # header - assistant\n",
    "    )\n",
    "print(prompt2)"
   ]
  },
  {
   "cell_type": "code",
   "execution_count": null,
   "id": "023d6bf6-4134-4ba3-b26c-11d00af44406",
   "metadata": {
    "height": 30
   },
   "outputs": [],
   "source": [
    "prompt == prompt2"
   ]
  },
  {
   "cell_type": "code",
   "execution_count": null,
   "id": "8a7bccb9-6bd1-4b58-96a6-23b413d05146",
   "metadata": {
    "height": 251
   },
   "outputs": [],
   "source": [
    "def make_llama_3_prompt(user, system=\"\"):\n",
    "    system_prompt = \"\"\n",
    "    if system != \"\":\n",
    "        system_prompt = (\n",
    "            f\"<|start_header_id|>system<|end_header_id|>\\n\\n{system}\"\n",
    "            f\"<|eot_id|>\"\n",
    "        )\n",
    "    prompt = (f\"<|begin_of_text|>{system_prompt}\"\n",
    "              f\"<|start_header_id|>user<|end_header_id|>\\n\\n\"\n",
    "              f\"{user}\"\n",
    "              f\"<|eot_id|>\"\n",
    "              f\"<|start_header_id|>assistant<|end_header_id|>\\n\\n\"\n",
    "         )\n",
    "    return prompt    "
   ]
  },
  {
   "cell_type": "code",
   "execution_count": null,
   "id": "290c5279-0a65-48ab-bf37-6bda9d6727b6",
   "metadata": {
    "height": 81
   },
   "outputs": [],
   "source": [
    "system_prompt = user_prompt = \"You are a helpful assistant.\"\n",
    "user_prompt = \"Please write a birthday card for my good friend Andrew\"\n",
    "prompt3 = make_llama_3_prompt(user_prompt, system_prompt)\n",
    "print(prompt3)"
   ]
  },
  {
   "cell_type": "code",
   "execution_count": null,
   "id": "84ebe3ca-809a-4340-80e6-470b8601cb32",
   "metadata": {
    "height": 30
   },
   "outputs": [],
   "source": [
    "prompt == prompt3"
   ]
  },
  {
   "cell_type": "code",
   "execution_count": null,
   "id": "41a0cb0a-aa99-493c-9bde-f9776cbeae56",
   "metadata": {
    "height": 64
   },
   "outputs": [],
   "source": [
    "user_prompt = \"Tell me a joke about birthday cake\"\n",
    "prompt = make_llama_3_prompt(user_prompt)\n",
    "print(prompt)"
   ]
  },
  {
   "cell_type": "code",
   "execution_count": null,
   "id": "029d2013-60fe-4a26-82b7-2ff067fd3906",
   "metadata": {
    "height": 47
   },
   "outputs": [],
   "source": [
    "result = llm.generate(prompt, max_new_tokens=200)\n",
    "print(result)"
   ]
  },
  {
   "cell_type": "markdown",
   "id": "6b9ae62e-17dd-42ae-9596-3dc511dd46df",
   "metadata": {},
   "source": [
    "#### Try some prompts of your own!"
   ]
  },
  {
   "cell_type": "code",
   "execution_count": null,
   "id": "1b26232c-3496-4070-beb9-798af78b2d1f",
   "metadata": {
    "height": 30
   },
   "outputs": [],
   "source": []
  },
  {
   "cell_type": "markdown",
   "id": "41f61330-571b-403f-8d01-0c58d53d972d",
   "metadata": {},
   "source": [
    "## Llama 3 can generate SQL"
   ]
  },
  {
   "cell_type": "code",
   "execution_count": null,
   "id": "5c953f69-59cc-4794-a0b5-bc686ccf7c7d",
   "metadata": {
    "height": 115
   },
   "outputs": [],
   "source": [
    "question = (\n",
    "    \"Given an arbitrary table named `sql_table`, \"\n",
    "    \"write a query to return how many rows are in the table.\" \n",
    "    )\n",
    "prompt = make_llama_3_prompt(question)\n",
    "print(llm.generate(prompt, max_new_tokens=200))"
   ]
  },
  {
   "cell_type": "code",
   "execution_count": null,
   "id": "83aec892-f0bc-46cb-9f73-098b98ecaa66",
   "metadata": {
    "height": 81
   },
   "outputs": [],
   "source": [
    "question = \"\"\"Given an arbitrary table named `sql_table`, \n",
    "help me calculate the average `height` where `age` is above 20.\"\"\"\n",
    "prompt = make_llama_3_prompt(question)\n",
    "print(llm.generate(prompt, max_new_tokens=200))"
   ]
  },
  {
   "cell_type": "code",
   "execution_count": null,
   "id": "55b192d2-0751-453b-9ae7-56e044605997",
   "metadata": {
    "height": 81
   },
   "outputs": [],
   "source": [
    "question = \"\"\"Given an arbitrary table named `sql_table`, \n",
    "Can you calculate the p95 `height` where the `age` is above 20?\"\"\"\n",
    "prompt = make_llama_3_prompt(question)\n",
    "print(llm.generate(prompt, max_new_tokens=200))"
   ]
  },
  {
   "cell_type": "code",
   "execution_count": null,
   "id": "ab0b93df-affc-4c43-a62b-7824d73e3dfb",
   "metadata": {
    "height": 115
   },
   "outputs": [],
   "source": [
    "question = (\"Given an arbitrary table named `sql_table`, \"\n",
    "            \"Can you calculate the p95 `height` \"\n",
    "            \"where the `age` is above 20? Use sqlite.\")\n",
    "prompt = make_llama_3_prompt(question)\n",
    "\n",
    "print(llm.generate(prompt, max_new_tokens=200))"
   ]
  },
  {
   "cell_type": "markdown",
   "id": "786e5a7c-213c-46b5-afb7-f7036a6ce0b3",
   "metadata": {},
   "source": [
    "#### Try some questions of your own!"
   ]
  },
  {
   "cell_type": "code",
   "execution_count": null,
   "id": "f6183126-10f2-4f8c-ad94-a6dc0db4d721",
   "metadata": {
    "height": 30
   },
   "outputs": [],
   "source": []
  }
 ],
 "metadata": {
  "kernelspec": {
   "display_name": "Python 3 (ipykernel)",
   "language": "python",
   "name": "python3"
  },
  "language_info": {
   "codemirror_mode": {
    "name": "ipython",
    "version": 3
   },
   "file_extension": ".py",
   "mimetype": "text/x-python",
   "name": "python",
   "nbconvert_exporter": "python",
   "pygments_lexer": "ipython3",
   "version": "3.11.9"
  }
 },
 "nbformat": 4,
 "nbformat_minor": 5
}
