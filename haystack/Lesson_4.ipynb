{
 "cells": [
  {
   "cell_type": "markdown",
   "id": "45ec35eb-833c-4d7b-8d4a-e7e603dfd241",
   "metadata": {},
   "source": [
    "# L4: Fallbacks with Branching Pipelines"
   ]
  },
  {
   "cell_type": "markdown",
   "id": "2b6c21d3-fef4-4f6a-a221-171abefdd71d",
   "metadata": {},
   "source": [
    "<p style=\"background-color:#fff6e4; padding:15px; border-width:3px; border-color:#f5ecda; border-style:solid; border-radius:6px\"> ⏳ <b>Note <code>(Kernel Starting)</code>:</b> This notebook takes about 30 seconds to be ready to use. You may start and watch the video while you wait.</p>"
   ]
  },
  {
   "cell_type": "code",
   "execution_count": null,
   "id": "b123a66d-d66d-40f5-b79f-e1f90f7f69ae",
   "metadata": {
    "height": 99
   },
   "outputs": [],
   "source": [
    "import warnings\n",
    "from helper import load_env\n",
    "\n",
    "warnings.filterwarnings('ignore')\n",
    "load_env()"
   ]
  },
  {
   "cell_type": "code",
   "execution_count": null,
   "id": "ec0e3d2c-6650-4367-81ea-27d2f0d9f2bb",
   "metadata": {
    "height": 149
   },
   "outputs": [],
   "source": [
    "from haystack import Pipeline, Document\n",
    "from haystack.components.routers import ConditionalRouter\n",
    "from haystack.components.builders.prompt_builder import PromptBuilder\n",
    "from haystack.components.generators import OpenAIGenerator\n",
    "from haystack.components.retrievers.in_memory import InMemoryBM25Retriever\n",
    "from haystack.components.websearch.serper_dev import SerperDevWebSearch\n",
    "from haystack.document_stores.in_memory import InMemoryDocumentStore"
   ]
  },
  {
   "cell_type": "markdown",
   "id": "abc035c0-0fd9-43f5-a113-3147c96e65a0",
   "metadata": {},
   "source": [
    "<p style=\"background-color:#fff6ff; padding:15px; border-width:3px; border-color:#efe6ef; border-style:solid; border-radius:6px\"> 💻 &nbsp; <b>Access <code>requirements.txt</code> and <code>helper.py</code> files:</b> 1) click on the <em>\"File\"</em> option on the top menu of the notebook and then 2) click on <em>\"Open\"</em>. For more help, please see the <em>\"Appendix - Tips and Help\"</em> Lesson.</p>"
   ]
  },
  {
   "cell_type": "markdown",
   "id": "795fd981-c845-4c1b-acf7-a73b79b2a3b8",
   "metadata": {},
   "source": [
    "### Index Documents into InMemoryDocumentStore"
   ]
  },
  {
   "cell_type": "code",
   "execution_count": null,
   "id": "c8104f65-2467-4886-9f53-76f3cbb991f6",
   "metadata": {
    "height": 149
   },
   "outputs": [],
   "source": [
    "documents = [Document(content=\"Retrievers: Retrieves relevant documents to a user query using keyword search or semantic search.\"),\n",
    "             Document(content=\"Embedders: Creates embeddings for text or documents.\"),\n",
    "             Document(content=\"Generators: Use a number of model providers to generate answers or content based on a prompt\"),\n",
    "             Document(content=\"File Converters: Converts different file types like TXT, Markdown, PDF, etc. into a Haystack Document type\")]\n",
    "\n",
    "document_store = InMemoryDocumentStore()\n",
    "document_store.write_documents(documents=documents)"
   ]
  },
  {
   "cell_type": "markdown",
   "id": "b8d8beec-f0e3-42d0-afdf-484c43704689",
   "metadata": {},
   "source": [
    "### Create RAG Pipeline"
   ]
  },
  {
   "cell_type": "code",
   "execution_count": null,
   "id": "b68b85a5-6e4e-4cff-b4ed-f6588f4635a2",
   "metadata": {
    "height": 183
   },
   "outputs": [],
   "source": [
    "rag_prompt_template = \"\"\"\n",
    "Answer the following query given the documents.\n",
    "If the answer is not contained within the documents, reply with 'no_answer'\n",
    "Query: {{query}}\n",
    "Documents:\n",
    "{% for document in documents %}\n",
    "  {{document.content}}\n",
    "{% endfor %}\n",
    "\"\"\""
   ]
  },
  {
   "cell_type": "code",
   "execution_count": null,
   "id": "753cfd82-682b-498a-a5d7-14f20534e434",
   "metadata": {
    "height": 149
   },
   "outputs": [],
   "source": [
    "rag = Pipeline()\n",
    "rag.add_component(\"retriever\", InMemoryBM25Retriever(document_store=document_store))\n",
    "rag.add_component(\"prompt_builder\", PromptBuilder(template=rag_prompt_template))\n",
    "rag.add_component(\"llm\", OpenAIGenerator())\n",
    "\n",
    "rag.connect(\"retriever.documents\", \"prompt_builder.documents\")\n",
    "rag.connect(\"prompt_builder\", \"llm\")"
   ]
  },
  {
   "cell_type": "code",
   "execution_count": null,
   "id": "23e070b0-7d45-4904-bb18-d2954f7f4489",
   "metadata": {
    "height": 30
   },
   "outputs": [],
   "source": [
    "rag.show()"
   ]
  },
  {
   "cell_type": "code",
   "execution_count": null,
   "id": "af6b4e27",
   "metadata": {
    "height": 81
   },
   "outputs": [],
   "source": [
    "query = \"What is a retriever for?\"\n",
    "\n",
    "rag.run({\"prompt_builder\":{\"query\": query},\n",
    "         \"retriever\": {\"query\": query}})"
   ]
  },
  {
   "cell_type": "code",
   "execution_count": null,
   "id": "d34c4445-203b-43f3-9e8f-59ed69629cf4",
   "metadata": {
    "height": 98
   },
   "outputs": [],
   "source": [
    "query = \"What Mistral components are there?\"\n",
    "\n",
    "rag.run({\"prompt_builder\":{\"query\": query},\n",
    "         \"retriever\": {\"query\": query}})"
   ]
  },
  {
   "cell_type": "markdown",
   "id": "79fcde4b-2863-42b1-9546-52d2663313b3",
   "metadata": {},
   "source": [
    "### Create Conditional Routes\n"
   ]
  },
  {
   "cell_type": "markdown",
   "id": "e3cb4d53",
   "metadata": {},
   "source": [
    "Now that you got the model to respond with an answer or `no_answer`, you can create pipeline branches that are activated according to this response using the [`ConditionalRouter`](https://docs.haystack.deepset.ai/docs/conditionalrouter?utm_campaign=developer-relations&utm_source=dlai) component for this."
   ]
  },
  {
   "cell_type": "code",
   "execution_count": null,
   "id": "937b9a36-0196-45d7-943f-9eb16f651960",
   "metadata": {
    "height": 268
   },
   "outputs": [],
   "source": [
    "routes = [\n",
    "    {\n",
    "        \"condition\": \"{{'no_answer' in replies[0]|lower}}\",\n",
    "        \"output\": \"{{query}}\",\n",
    "        \"output_name\": \"go_to_websearch\",\n",
    "        \"output_type\": str,\n",
    "    },\n",
    "    {\n",
    "        \"condition\": \"{{'no_answer' not in replies[0]|lower}}\",\n",
    "        \"output\": \"{{replies[0]}}\",\n",
    "        \"output_name\": \"answer\",\n",
    "        \"output_type\": str,\n",
    "    },\n",
    "]"
   ]
  },
  {
   "cell_type": "code",
   "execution_count": null,
   "id": "62e614e9-a5b5-468b-9fa6-ed3d47df24cb",
   "metadata": {
    "height": 64
   },
   "outputs": [],
   "source": [
    "router = ConditionalRouter(routes=routes)\n",
    "router.run(replies=['Geoff is my friend'], query=\"Who is Geoff?\")"
   ]
  },
  {
   "cell_type": "code",
   "execution_count": null,
   "id": "0c55142d-e558-4046-ba6a-5c60738381b3",
   "metadata": {
    "height": 47
   },
   "outputs": [],
   "source": [
    "router.run(replies=['No_answer'], query=\"Who is Geoff?\")"
   ]
  },
  {
   "cell_type": "code",
   "execution_count": null,
   "id": "a81b883b-fd56-4246-8bfc-2e33a834b85e",
   "metadata": {
    "height": 98
   },
   "outputs": [],
   "source": [
    "rag.add_component(\"router\", ConditionalRouter(routes=routes))\n",
    "rag.connect(\"llm.replies\", \"router.replies\")\n",
    "\n",
    "rag.show()"
   ]
  },
  {
   "cell_type": "code",
   "execution_count": null,
   "id": "4f1281c7-7620-40b0-9636-b44d630e6ae0",
   "metadata": {
    "height": 115
   },
   "outputs": [],
   "source": [
    "query = \"What Mistral components does Haystack have?\"\n",
    "\n",
    "rag.run({\"prompt_builder\":{\"query\": query},\n",
    "         \"retriever\": {\"query\": query},\n",
    "         \"router\": {\"query\": query}})"
   ]
  },
  {
   "cell_type": "markdown",
   "id": "6e7bce3f-ed62-4425-98ed-933b21dea3d2",
   "metadata": {},
   "source": [
    "### Create Websearch Branch\n"
   ]
  },
  {
   "cell_type": "code",
   "execution_count": null,
   "id": "63bc0877-8f91-4871-8ca6-296e9254ea5d",
   "metadata": {
    "height": 217
   },
   "outputs": [],
   "source": [
    "prompt_for_websearch = \"\"\"\n",
    "Answer the following query given the documents retrieved from the web.\n",
    "Your answer should indicate that your answer was generated from websearch.\n",
    "You can also reference the URLs that the answer was generated from\n",
    "\n",
    "Query: {{query}}\n",
    "Documents:\n",
    "{% for document in documents %}\n",
    "  {{document.content}}\n",
    "{% endfor %}\n",
    "\"\"\""
   ]
  },
  {
   "cell_type": "markdown",
   "id": "8d9409b0-7674-4fd1-8251-bab91c508a63",
   "metadata": {},
   "source": [
    "### Build a Pipeline with Conditional Routes"
   ]
  },
  {
   "cell_type": "code",
   "execution_count": null,
   "id": "c9613855-069a-4b60-86b7-3baa6b1370ae",
   "metadata": {
    "height": 336
   },
   "outputs": [],
   "source": [
    "rag_or_websearch = Pipeline()\n",
    "rag_or_websearch.add_component(\"retriever\", InMemoryBM25Retriever(document_store=document_store))\n",
    "rag_or_websearch.add_component(\"prompt_builder\", PromptBuilder(template=rag_prompt_template))\n",
    "rag_or_websearch.add_component(\"llm\", OpenAIGenerator())\n",
    "rag_or_websearch.add_component(\"router\", ConditionalRouter(routes))\n",
    "rag_or_websearch.add_component(\"websearch\", SerperDevWebSearch())\n",
    "rag_or_websearch.add_component(\"prompt_builder_for_websearch\", PromptBuilder(template=prompt_for_websearch))\n",
    "rag_or_websearch.add_component(\"llm_for_websearch\",  OpenAIGenerator())\n",
    "\n",
    "rag_or_websearch.connect(\"retriever\", \"prompt_builder.documents\")\n",
    "rag_or_websearch.connect(\"prompt_builder\", \"llm\")\n",
    "rag_or_websearch.connect(\"llm.replies\", \"router.replies\")\n",
    "rag_or_websearch.connect(\"router.go_to_websearch\", \"websearch.query\")\n",
    "rag_or_websearch.connect(\"router.go_to_websearch\", \"prompt_builder_for_websearch.query\")\n",
    "rag_or_websearch.connect(\"websearch.documents\", \"prompt_builder_for_websearch.documents\")\n",
    "rag_or_websearch.connect(\"prompt_builder_for_websearch\", \"llm_for_websearch\")\n",
    "\n",
    "rag_or_websearch.show()"
   ]
  },
  {
   "cell_type": "code",
   "execution_count": null,
   "id": "577bb627-207a-4b54-8b85-15588b30af03",
   "metadata": {
    "height": 115
   },
   "outputs": [],
   "source": [
    "query= \"What is a retriever for?\"\n",
    "\n",
    "rag_or_websearch.run({\"prompt_builder\":{\"query\": query},\n",
    "                      \"retriever\": {\"query\": query},\n",
    "                      \"router\": {\"query\": query}})"
   ]
  },
  {
   "cell_type": "code",
   "execution_count": null,
   "id": "f0009137-c3dc-4984-8a56-d9efa7947036",
   "metadata": {
    "height": 115
   },
   "outputs": [],
   "source": [
    "query = \"What Mistral components does Haystack have?\"\n",
    "\n",
    "rag_or_websearch.run({\"prompt_builder\":{\"query\": query},\n",
    "                      \"retriever\": {\"query\": query},\n",
    "                      \"router\": {\"query\": query}})"
   ]
  },
  {
   "cell_type": "markdown",
   "id": "0f3619bd",
   "metadata": {},
   "source": [
    "**Next:** Try out the following questions:\n",
    "\n",
    "- \"Who is the president of the USA?\"\n",
    "- \"How should I initialize a generator with a Mistral model with Haystack?\"\n",
    "- \"What is the capital of France?\""
   ]
  },
  {
   "cell_type": "code",
   "execution_count": null,
   "id": "2e2e3e21-7283-4124-99f3-1412c83fe9c5",
   "metadata": {
    "height": 30
   },
   "outputs": [],
   "source": []
  },
  {
   "cell_type": "code",
   "execution_count": null,
   "id": "bce54fce-f0d0-43be-8326-e2e1b70490ea",
   "metadata": {
    "height": 30
   },
   "outputs": [],
   "source": []
  },
  {
   "cell_type": "code",
   "execution_count": null,
   "id": "c7d6209b-0387-42dd-ae9b-5e758c6ecd4b",
   "metadata": {
    "height": 30
   },
   "outputs": [],
   "source": []
  },
  {
   "cell_type": "code",
   "execution_count": null,
   "id": "f9917c85-b23b-4342-85cf-a5379e088417",
   "metadata": {
    "height": 30
   },
   "outputs": [],
   "source": []
  },
  {
   "cell_type": "code",
   "execution_count": null,
   "id": "57d7ff01-4895-446d-ad00-9455a0e81df2",
   "metadata": {
    "height": 30
   },
   "outputs": [],
   "source": []
  },
  {
   "cell_type": "code",
   "execution_count": null,
   "id": "10acdb79-427c-4042-96ca-3ac516612d00",
   "metadata": {
    "height": 30
   },
   "outputs": [],
   "source": []
  }
 ],
 "metadata": {
  "kernelspec": {
   "display_name": "Python 3 (ipykernel)",
   "language": "python",
   "name": "python3"
  },
  "language_info": {
   "codemirror_mode": {
    "name": "ipython",
    "version": 3
   },
   "file_extension": ".py",
   "mimetype": "text/x-python",
   "name": "python",
   "nbconvert_exporter": "python",
   "pygments_lexer": "ipython3",
   "version": "3.11.9"
  }
 },
 "nbformat": 4,
 "nbformat_minor": 5
}
