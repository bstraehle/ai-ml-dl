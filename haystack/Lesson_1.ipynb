{
 "cells": [
  {
   "cell_type": "markdown",
   "id": "074cb0ae-eeb1-4082-acee-1b4c93c4fcc4",
   "metadata": {},
   "source": [
    "# L1: Haystack Building Blocks"
   ]
  },
  {
   "cell_type": "markdown",
   "id": "c90f55dc-4b00-4178-8177-caed293f7b24",
   "metadata": {},
   "source": [
    "<p style=\"background-color:#fff6e4; padding:15px; border-width:3px; border-color:#f5ecda; border-style:solid; border-radius:6px\"> ⏳ <b>Note <code>(Kernel Starting)</code>:</b> This notebook takes about 30 seconds to be ready to use. You may start and watch the video while you wait.</p>"
   ]
  },
  {
   "cell_type": "code",
   "execution_count": null,
   "id": "b7a24ae1-bbd9-4d99-9cfe-c7d7cb4a3013",
   "metadata": {
    "height": 48
   },
   "outputs": [],
   "source": [
    "import warnings\n",
    "warnings.filterwarnings('ignore')"
   ]
  },
  {
   "cell_type": "code",
   "execution_count": null,
   "id": "c7d8046a-9685-45e7-8c8d-74b0c654a99d",
   "metadata": {
    "height": 47
   },
   "outputs": [],
   "source": [
    "from helper import load_env\n",
    "load_env()"
   ]
  },
  {
   "cell_type": "markdown",
   "id": "d49501c0-c9ea-4a8c-bf8f-d0c7db3f79cb",
   "metadata": {},
   "source": [
    "<p style=\"background-color:#fff6ff; padding:15px; border-width:3px; border-color:#efe6ef; border-style:solid; border-radius:6px\"> 💻 &nbsp; <b>Access <code>requirements.txt</code> and <code>helper.py</code> files:</b> 1) click on the <em>\"File\"</em> option on the top menu of the notebook and then 2) click on <em>\"Open\"</em>. For more help, please see the <em>\"Appendix - Tips and Help\"</em> Lesson.</p>"
   ]
  },
  {
   "cell_type": "markdown",
   "id": "ad6b99b7",
   "metadata": {},
   "source": [
    "> **Note**: At time of recording, we are using haystack-ai==2.2.4 \n",
    "\n",
    "To build any sort of AI application with Haystack, we combine Components [[+]](https://docs.haystack.deepset.ai/docs/components?utm_campaign=developer-relations&utm_source=dlai) into full Pipelines [[+]](https://docs.haystack.deepset.ai/docs/pipelines?utm_campaign=developer-relations&utm_source=dlai)."
   ]
  },
  {
   "cell_type": "markdown",
   "id": "7ca01476-ddc8-47ef-b6c9-d03dc3e6cd30",
   "metadata": {},
   "source": [
    "## Components"
   ]
  },
  {
   "cell_type": "code",
   "execution_count": null,
   "id": "a3ab0d4c-3270-4904-af40-d3a2e0fba9f6",
   "metadata": {
    "height": 81
   },
   "outputs": [],
   "source": [
    "from haystack.components.embedders import OpenAIDocumentEmbedder\n",
    "\n",
    "embedder = OpenAIDocumentEmbedder(model=\"text-embedding-3-small\")"
   ]
  },
  {
   "cell_type": "code",
   "execution_count": null,
   "id": "6fbc9a3c-8e03-4891-b2ea-a78b5bd9573f",
   "metadata": {
    "height": 30
   },
   "outputs": [],
   "source": [
    "embedder"
   ]
  },
  {
   "cell_type": "code",
   "execution_count": null,
   "id": "e8bc48cf-c19b-4514-b40e-6519855d6148",
   "metadata": {
    "height": 132
   },
   "outputs": [],
   "source": [
    "from haystack.dataclasses import Document\n",
    "\n",
    "documents = [Document(content=\"Haystack is an open source AI framework to build full AI applications in Python\"),\n",
    "             Document(content=\"You can build AI Pipelines by combining Components\"),]\n",
    "\n",
    "embedder.run(documents=documents)"
   ]
  },
  {
   "cell_type": "markdown",
   "id": "a5a80062-7da6-4402-955c-3e66c084f008",
   "metadata": {},
   "source": [
    "## Pipelines\n",
    "### Initialize a Document Store\n",
    "\n",
    "Check out other available [Document Stores](https://docs.haystack.deepset.ai/docs/document-store?utm_campaign=developer-relations&utm_source=dlai). In this example, we will use the simplest document store that has no setup requirements, the [`InMemoryDocumentStore`](https://docs.haystack.deepset.ai/docs/inmemorydocumentstore?utm_campaign=developer-relations&utm_source=dlai).\n"
   ]
  },
  {
   "cell_type": "code",
   "execution_count": null,
   "id": "833acda7-69ff-4910-b804-5b5e1055ed25",
   "metadata": {
    "height": 81
   },
   "outputs": [],
   "source": [
    "from haystack.document_stores.in_memory import InMemoryDocumentStore\n",
    "\n",
    "document_store = InMemoryDocumentStore()"
   ]
  },
  {
   "cell_type": "markdown",
   "id": "faec1072-2e4e-4af6-aae0-abb843094773",
   "metadata": {},
   "source": [
    "### Writing documents with embeddings into a document store\n"
   ]
  },
  {
   "cell_type": "code",
   "execution_count": null,
   "id": "7e22e448-d929-4bb7-9eb1-a803b90cfa90",
   "metadata": {
    "height": 336
   },
   "outputs": [],
   "source": [
    "from haystack import Pipeline\n",
    "\n",
    "from haystack.components.converters.txt import TextFileToDocument\n",
    "from haystack.components.preprocessors.document_splitter import DocumentSplitter\n",
    "from haystack.components.embedders import OpenAIDocumentEmbedder\n",
    "from haystack.components.writers import DocumentWriter\n",
    "\n",
    "converter = TextFileToDocument()\n",
    "splitter = DocumentSplitter()\n",
    "embedder = OpenAIDocumentEmbedder()\n",
    "writer = DocumentWriter(document_store=document_store)\n",
    "\n",
    "indexing_pipeline = Pipeline()\n",
    "\n",
    "indexing_pipeline.add_component(\"converter\", converter)\n",
    "indexing_pipeline.add_component(\"splitter\", splitter)\n",
    "indexing_pipeline.add_component(\"embedder\", embedder)\n",
    "indexing_pipeline.add_component(\"writer\", writer)"
   ]
  },
  {
   "cell_type": "markdown",
   "id": "0e97387b-71c2-401a-9206-74e29626ce4d",
   "metadata": {},
   "source": [
    "#### Connecting Components"
   ]
  },
  {
   "cell_type": "code",
   "execution_count": null,
   "id": "570405d2-2517-43c7-a29d-cc4c0ffbff24",
   "metadata": {
    "height": 81
   },
   "outputs": [],
   "source": [
    "indexing_pipeline.connect(\"converter\", \"splitter\")\n",
    "indexing_pipeline.connect(\"splitter\", \"embedder\")\n",
    "indexing_pipeline.connect(\"embedder\", \"writer\")"
   ]
  },
  {
   "cell_type": "code",
   "execution_count": null,
   "id": "81bb8d46-91c4-4dfd-a9d5-cca9b463105d",
   "metadata": {
    "height": 30
   },
   "outputs": [],
   "source": [
    "indexing_pipeline.show()"
   ]
  },
  {
   "cell_type": "markdown",
   "id": "369efbd7-f94c-468d-9de5-872dc2567a94",
   "metadata": {},
   "source": [
    "#### Running Pipelines\n"
   ]
  },
  {
   "cell_type": "code",
   "execution_count": null,
   "id": "93396169-0559-4fce-ad5e-bbd28f30c5ca",
   "metadata": {
    "height": 47
   },
   "outputs": [],
   "source": [
    "indexing_pipeline.run({\"converter\": {\"sources\": ['data/davinci.txt']}})"
   ]
  },
  {
   "cell_type": "code",
   "execution_count": null,
   "id": "6c7e214c-b550-4447-8bdb-6fe78f5a532d",
   "metadata": {
    "height": 47
   },
   "outputs": [],
   "source": [
    "document_store.filter_documents()[5].content"
   ]
  },
  {
   "cell_type": "markdown",
   "id": "61750f54-f993-4933-9fc1-5df55d6e6d13",
   "metadata": {},
   "source": [
    "### Creating a document search pipeline"
   ]
  },
  {
   "cell_type": "code",
   "execution_count": null,
   "id": "1fa8b081-8d4e-420d-9c4d-eeb1d6f2ab82",
   "metadata": {
    "height": 234
   },
   "outputs": [],
   "source": [
    "from haystack.components.embedders import OpenAITextEmbedder\n",
    "from haystack.components.retrievers.in_memory import InMemoryEmbeddingRetriever\n",
    "\n",
    "query_embedder = OpenAITextEmbedder()\n",
    "retriever = InMemoryEmbeddingRetriever(document_store=document_store)\n",
    "\n",
    "document_search = Pipeline()\n",
    "\n",
    "document_search.add_component(\"query_embedder\", query_embedder)\n",
    "document_search.add_component(\"retriever\", retriever)\n",
    "\n",
    "document_search.connect(\"query_embedder.embedding\", \"retriever.query_embedding\")"
   ]
  },
  {
   "cell_type": "code",
   "execution_count": null,
   "id": "a5c1f792-fcbd-4752-a4ad-aa5f6364d0d7",
   "metadata": {
    "height": 30
   },
   "outputs": [],
   "source": [
    "document_search.show()"
   ]
  },
  {
   "cell_type": "code",
   "execution_count": null,
   "id": "fd3ffd75-334a-47d4-89a8-9d366bcbbbb6",
   "metadata": {
    "height": 166
   },
   "outputs": [],
   "source": [
    "question = \"How old was Davinci when he died?\"\n",
    "\n",
    "results = document_search.run({\"query_embedder\": {\"text\": question}})\n",
    "\n",
    "for i, document in enumerate(results[\"retriever\"][\"documents\"]):\n",
    "    print(\"\\n--------------\\n\")\n",
    "    print(f\"DOCUMENT {i}\")\n",
    "    print(document.content)"
   ]
  },
  {
   "cell_type": "code",
   "execution_count": null,
   "id": "38d5e8a6-0d58-40dc-b0db-0572a70809aa",
   "metadata": {
    "height": 183
   },
   "outputs": [],
   "source": [
    "question = \"How old was Davinci when he died?\"\n",
    "\n",
    "results = document_search.run({\"query_embedder\": {\"text\": question},\n",
    "                               \"retriever\": {\"top_k\": 3}})\n",
    "\n",
    "for i, document in enumerate(results[\"retriever\"][\"documents\"]):\n",
    "    print(\"\\n--------------\\n\")\n",
    "    print(f\"DOCUMENT {i}\")\n",
    "    print(document.content)"
   ]
  },
  {
   "cell_type": "markdown",
   "id": "c8e427ea",
   "metadata": {},
   "source": [
    "**Next: Try changing the `top_k` for the retriever, or change the question:**\n",
    "- Where was Davinci born?\n",
    "- When did Davinci live in Rome?"
   ]
  },
  {
   "cell_type": "code",
   "execution_count": null,
   "id": "605b71d1-c55c-44a9-b527-3c5445799ef1",
   "metadata": {
    "height": 30
   },
   "outputs": [],
   "source": []
  },
  {
   "cell_type": "code",
   "execution_count": null,
   "id": "b8cc519e-1d1b-4f9b-80b9-84855b644329",
   "metadata": {
    "height": 30
   },
   "outputs": [],
   "source": []
  },
  {
   "cell_type": "code",
   "execution_count": null,
   "id": "a3ceb73e-c4d5-4499-bd5f-8edf556d2395",
   "metadata": {
    "height": 30
   },
   "outputs": [],
   "source": []
  },
  {
   "cell_type": "code",
   "execution_count": null,
   "id": "62c9f2ae-2540-4c37-be20-f2e9aa77aa7e",
   "metadata": {
    "height": 30
   },
   "outputs": [],
   "source": []
  },
  {
   "cell_type": "code",
   "execution_count": null,
   "id": "ef13f244-4078-4ca0-97a5-a9a30744cf22",
   "metadata": {
    "height": 30
   },
   "outputs": [],
   "source": []
  },
  {
   "cell_type": "code",
   "execution_count": null,
   "id": "227ac565-c157-4388-9c62-bfcba574cdea",
   "metadata": {
    "height": 30
   },
   "outputs": [],
   "source": []
  }
 ],
 "metadata": {
  "kernelspec": {
   "display_name": "Python 3 (ipykernel)",
   "language": "python",
   "name": "python3"
  },
  "language_info": {
   "codemirror_mode": {
    "name": "ipython",
    "version": 3
   },
   "file_extension": ".py",
   "mimetype": "text/x-python",
   "name": "python",
   "nbconvert_exporter": "python",
   "pygments_lexer": "ipython3",
   "version": "3.11.9"
  }
 },
 "nbformat": 4,
 "nbformat_minor": 5
}
