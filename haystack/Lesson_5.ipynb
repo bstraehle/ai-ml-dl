{
 "cells": [
  {
   "cell_type": "markdown",
   "id": "f6d256da-0528-4d3a-a1c0-b27651832d99",
   "metadata": {},
   "source": [
    "# L5: Self-Reflecting Agents with Loops\n"
   ]
  },
  {
   "cell_type": "markdown",
   "id": "d202a402-45bb-4f1f-a3e9-7d1a19da927c",
   "metadata": {},
   "source": [
    "<p style=\"background-color:#fff6e4; padding:15px; border-width:3px; border-color:#f5ecda; border-style:solid; border-radius:6px\"> ⏳ <b>Note <code>(Kernel Starting)</code>:</b> This notebook takes about 30 seconds to be ready to use. You may start and watch the video while you wait.</p>"
   ]
  },
  {
   "cell_type": "code",
   "execution_count": null,
   "id": "d5a04162-dd19-4ea0-83ce-fecb9897636b",
   "metadata": {
    "height": 99
   },
   "outputs": [],
   "source": [
    "import warnings\n",
    "from helper import load_env\n",
    "\n",
    "warnings.filterwarnings('ignore')\n",
    "load_env()"
   ]
  },
  {
   "cell_type": "code",
   "execution_count": null,
   "id": "454ef447-8fa1-4467-b6b8-a7c54ca2e1f0",
   "metadata": {
    "height": 115
   },
   "outputs": [],
   "source": [
    "from typing import List\n",
    "from colorama import Fore\n",
    "from haystack import Pipeline, component\n",
    "from haystack.components.builders.prompt_builder import PromptBuilder\n",
    "from haystack.components.generators.openai import OpenAIGenerator"
   ]
  },
  {
   "cell_type": "markdown",
   "id": "78162097-8313-415b-851e-db9d29213522",
   "metadata": {},
   "source": [
    "<p style=\"background-color:#fff6ff; padding:15px; border-width:3px; border-color:#efe6ef; border-style:solid; border-radius:6px\"> 💻 &nbsp; <b>Access <code>requirements.txt</code> and <code>helper.py</code> files:</b> 1) click on the <em>\"File\"</em> option on the top menu of the notebook and then 2) click on <em>\"Open\"</em>. For more help, please see the <em>\"Appendix - Tips and Help\"</em> Lesson.</p>"
   ]
  },
  {
   "cell_type": "markdown",
   "id": "de5abaf6-3c82-4c67-87c0-0f39d59720f6",
   "metadata": {},
   "source": [
    "### Create an EntitiesValidator\n"
   ]
  },
  {
   "cell_type": "code",
   "execution_count": null,
   "id": "8bf41415-7edf-4640-8c97-987091a3673b",
   "metadata": {
    "height": 200
   },
   "outputs": [],
   "source": [
    "@component\n",
    "class EntitiesValidator:\n",
    "\n",
    "    @component.output_types(entities_to_validate=str, entities=str)\n",
    "    def run(self, replies: List[str]):\n",
    "        if 'DONE' in replies[0]:\n",
    "            return {\"entities\":replies[0].replace('DONE', '')}\n",
    "        else:\n",
    "            print(Fore.RED + \"Reflecting on entities\\n\", replies[0])\n",
    "            return {\"entities_to_validate\": replies[0]}"
   ]
  },
  {
   "cell_type": "code",
   "execution_count": null,
   "id": "797ff63f-9366-41ed-8d98-afb35a01c98f",
   "metadata": {
    "height": 64
   },
   "outputs": [],
   "source": [
    "entities_validator = EntitiesValidator()\n",
    "entities_validator.run(replies= [\"{'name': 'Tuana'}\"])"
   ]
  },
  {
   "cell_type": "code",
   "execution_count": null,
   "id": "d082178d-14bc-40df-ad13-1ce9dd510e8a",
   "metadata": {
    "height": 47
   },
   "outputs": [],
   "source": [
    "entities_validator.run(replies= [\"DONE {'name': 'Tuana'}\"])"
   ]
  },
  {
   "cell_type": "markdown",
   "id": "34202404-1d3b-4ab6-a48c-797d51544ce5",
   "metadata": {},
   "source": [
    "### Create a Prompt Template with an 'if' block\n"
   ]
  },
  {
   "cell_type": "code",
   "execution_count": null,
   "id": "024468c3-b46e-432b-a7c1-755af4077104",
   "metadata": {
    "height": 540
   },
   "outputs": [],
   "source": [
    "template = \"\"\"\"\n",
    "{% if entities_to_validate %}\n",
    "    Here was the text you were provided:\n",
    "    {{ text }}\n",
    "    Here are the entities you previously extracted: \n",
    "    {{ entities_to_validate[0] }}\n",
    "    Are these the correct entities? \n",
    "    Things to check for:\n",
    "    - Entity categories should exactly be \"Person\", \"Location\" and \"Date\"\n",
    "    - There should be no extra categories\n",
    "    - There should be no duplicate entities\n",
    "    - If there are no appropriate entities for a category, the category should have an empty list\n",
    "    If you are done say 'DONE' and return your new entities in the next line\n",
    "    If not, simply return the best entities you can come up with.\n",
    "    Entities:\n",
    "{% else %}\n",
    "    Extract entities from the following text\n",
    "    Text: {{ text }} \n",
    "    The entities should be presented as key-value pairs in a JSON object.\n",
    "    Example: \n",
    "    {\n",
    "        \"Person\": [\"value1\", \"value2\"], \n",
    "        \"Location\": [\"value3\", \"value4\"],\n",
    "        \"Date\": [\"value5\", \"value6\"]\n",
    "    }\n",
    "    If there are no possibilities for a particular category, return an empty list for this\n",
    "    category\n",
    "    Entities:\n",
    "{% endif %}\n",
    "\"\"\""
   ]
  },
  {
   "cell_type": "markdown",
   "id": "a66a245a-1145-45cb-a3b0-58804b2e54eb",
   "metadata": {},
   "source": [
    "### Create A Self-Reflecting Agent"
   ]
  },
  {
   "cell_type": "code",
   "execution_count": null,
   "id": "9f3467f0-1b81-4094-8eb8-c736e7711930",
   "metadata": {
    "height": 268
   },
   "outputs": [],
   "source": [
    "prompt_template = PromptBuilder(template=template)\n",
    "llm = OpenAIGenerator()\n",
    "entities_validator = EntitiesValidator()\n",
    "\n",
    "self_reflecting_agent = Pipeline(max_loops_allowed=10)\n",
    "\n",
    "self_reflecting_agent.add_component(\"prompt_builder\", prompt_template)\n",
    "self_reflecting_agent.add_component(\"entities_validator\", entities_validator)\n",
    "self_reflecting_agent.add_component(\"llm\", llm)\n",
    "\n",
    "self_reflecting_agent.connect(\"prompt_builder.prompt\", \"llm.prompt\")\n",
    "self_reflecting_agent.connect(\"llm.replies\", \"entities_validator.replies\")\n",
    "self_reflecting_agent.connect(\"entities_validator.entities_to_validate\", \"prompt_builder.entities_to_validate\")\n"
   ]
  },
  {
   "cell_type": "code",
   "execution_count": null,
   "id": "b460f824-a863-42d5-9ab1-0d170b71ade6",
   "metadata": {
    "height": 30
   },
   "outputs": [],
   "source": [
    "self_reflecting_agent.show()"
   ]
  },
  {
   "cell_type": "code",
   "execution_count": null,
   "id": "d9e50fb6-1505-43fc-8513-63396bb2d5c1",
   "metadata": {
    "height": 183
   },
   "outputs": [],
   "source": [
    "text = \"\"\"\n",
    "Istanbul is the largest city in Turkey, straddling the Bosporus Strait, \n",
    "the boundary between Europe and Asia. It is considered the country's economic, \n",
    "cultural and historic capital. The city has a population of over 15 million residents, \n",
    "comprising 19% of the population of Turkey,[4] and is the most populous city in Europe \n",
    "and the world's fifteenth-largest city.\"\"\"\n",
    "\n",
    "result = self_reflecting_agent.run({\"prompt_builder\": {\"text\": text}})\n",
    "print(Fore.GREEN + result['entities_validator']['entities'])"
   ]
  },
  {
   "cell_type": "code",
   "execution_count": null,
   "id": "23a725ec-129a-4d69-ad77-c4bf4fc01c35",
   "metadata": {
    "height": 217
   },
   "outputs": [],
   "source": [
    "text = \"\"\"\n",
    "Stefano: Hey all, let's start the all hands for June 6th 2024\n",
    "Geoff: Thanks, I'll kick it off with a request. Could we please add persistent memory to the Chroma document store.\n",
    "Stefano: Easy enough, I can add that to the feature requests. What else?\n",
    "Julain: There's a bug, some BM25 algorithms return negative scores and we filter them out from the results by default.\n",
    "Instead, we should probably check which algorithm is being used and keep results with negative scores accordingly.\n",
    "Esmail: Before we end this call, we should add a new Generator component for LlamaCpp in the next release.\n",
    "Tuana: Thanks all, I think we're done here, we can create some issues in GitHub about these.\"\"\"\n",
    "\n",
    "result = self_reflecting_agent.run({\"prompt_builder\": {\"text\": text}})\n",
    "print(Fore.GREEN + result['entities_validator']['entities'])"
   ]
  },
  {
   "cell_type": "code",
   "execution_count": null,
   "id": "6d47b21a-ea45-4dd9-a1e6-23bddcc42532",
   "metadata": {
    "height": 30
   },
   "outputs": [],
   "source": []
  },
  {
   "cell_type": "code",
   "execution_count": null,
   "id": "f6b83132-4e36-4a50-997e-4b9f861bedb5",
   "metadata": {
    "height": 30
   },
   "outputs": [],
   "source": []
  },
  {
   "cell_type": "code",
   "execution_count": null,
   "id": "e56790a3-f6e8-4675-831c-3d1686965e20",
   "metadata": {
    "height": 30
   },
   "outputs": [],
   "source": []
  },
  {
   "cell_type": "code",
   "execution_count": null,
   "id": "25dba78a-ef46-465e-956d-22ba00fad4a3",
   "metadata": {
    "height": 30
   },
   "outputs": [],
   "source": []
  },
  {
   "cell_type": "code",
   "execution_count": null,
   "id": "1f11817c-f053-44da-a30c-fca7e7f99c66",
   "metadata": {
    "height": 30
   },
   "outputs": [],
   "source": []
  },
  {
   "cell_type": "code",
   "execution_count": null,
   "id": "11dd4b48-109f-434e-933b-e7837948fa8f",
   "metadata": {
    "height": 30
   },
   "outputs": [],
   "source": []
  }
 ],
 "metadata": {
  "kernelspec": {
   "display_name": "Python 3 (ipykernel)",
   "language": "python",
   "name": "python3"
  },
  "language_info": {
   "codemirror_mode": {
    "name": "ipython",
    "version": 3
   },
   "file_extension": ".py",
   "mimetype": "text/x-python",
   "name": "python",
   "nbconvert_exporter": "python",
   "pygments_lexer": "ipython3",
   "version": "3.11.9"
  }
 },
 "nbformat": 4,
 "nbformat_minor": 5
}
