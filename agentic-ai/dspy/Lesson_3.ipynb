{
 "cells": [
  {
   "cell_type": "markdown",
   "id": "8203e759-9961-4ab9-91b3-231c89ef914e",
   "metadata": {},
   "source": [
    "# L3: Debug DSPy Agent with MLflow Tracing"
   ]
  },
  {
   "cell_type": "markdown",
   "id": "de9b8977-6898-4fdc-b1e2-a86618524bd9",
   "metadata": {},
   "source": [
    "<p style=\"background-color:#fff6e4; padding:15px; border-width:3px; border-color:#f5ecda; border-style:solid; border-radius:6px\"> ⏳ <b>Note <code>(Kernel Starting)</code>:</b> This notebook takes about 30 seconds to be ready to use. You may start and watch the video while you wait.</p>"
   ]
  },
  {
   "cell_type": "code",
   "execution_count": null,
   "id": "698244b6-dc7d-4274-b8cd-a6341f4252f9",
   "metadata": {
    "height": 130
   },
   "outputs": [],
   "source": [
    "from helper import get_openai_api_key\n",
    "openai_api_key = get_openai_api_key()\n",
    "\n",
    "import os\n",
    "\n",
    "os.environ[\"OPENAI_API_KEY\"] = get_openai_api_key()"
   ]
  },
  {
   "cell_type": "markdown",
   "id": "e82d2cf8-a398-4423-9d64-25db9ea7e470",
   "metadata": {},
   "source": [
    "<div style=\"background-color:#fff6ff; padding:13px; border-width:3px; border-color:#efe6ef; border-style:solid; border-radius:6px\">\n",
    "<p> 💻 &nbsp; <b>Access <code>requirements.txt</code> and <code>helper.py</code> files:</b> 1) click on the <em>\"File\"</em> option on the top menu of the notebook and then 2) click on <em>\"Open\"</em>.</p>\n",
    "\n",
    "<p> ⬇ &nbsp; <b>Download Notebooks:</b> 1) click on the <em>\"File\"</em> option on the top menu of the notebook and then 2) click on <em>\"Download as\"</em> and select <em>\"Notebook (.ipynb)\"</em>.</p>\n",
    "\n",
    "<p> 📒 &nbsp; For more help, please see the <em>\"Appendix – Tips, Help, and Download\"</em> Lesson.</p>\n",
    "</div>"
   ]
  },
  {
   "cell_type": "code",
   "execution_count": null,
   "id": "df7f9237-b626-4b69-bd47-3ae449422758",
   "metadata": {
    "height": 30
   },
   "outputs": [],
   "source": [
    "import mlflow"
   ]
  },
  {
   "cell_type": "code",
   "execution_count": null,
   "id": "f755784d-9432-4de7-8606-a86970e86907",
   "metadata": {
    "height": 81
   },
   "outputs": [],
   "source": [
    "from helper import get_mlflow_tracking_uri\n",
    "\n",
    "mlflow_tracking_uri = get_mlflow_tracking_uri()\n",
    "mlflow.set_tracking_uri(mlflow_tracking_uri)"
   ]
  },
  {
   "cell_type": "code",
   "execution_count": null,
   "id": "a6293ba0-e1f1-47c8-8a99-7870e125400b",
   "metadata": {
    "height": 30
   },
   "outputs": [],
   "source": [
    "mlflow.set_experiment(\"dspy_lesson_3\")"
   ]
  },
  {
   "cell_type": "code",
   "execution_count": null,
   "id": "062e419f-3c89-4bfc-b982-c2601495ee03",
   "metadata": {
    "height": 30
   },
   "outputs": [],
   "source": [
    "mlflow.dspy.autolog()"
   ]
  },
  {
   "cell_type": "code",
   "execution_count": null,
   "id": "859b1c04-f989-4432-a0c5-3353b7e1c25e",
   "metadata": {
    "height": 64
   },
   "outputs": [],
   "source": [
    "import dspy\n",
    "\n",
    "dspy.configure(lm=dspy.LM(\"openai/gpt-4o-mini\"))"
   ]
  },
  {
   "cell_type": "markdown",
   "id": "42c077df-e644-4244-9a04-414e2659343c",
   "metadata": {},
   "source": [
    "### Build an Airline Customer Service Agent with dspy.ReAct"
   ]
  },
  {
   "cell_type": "code",
   "execution_count": null,
   "id": "bbb72726-3fb3-4976-9438-16642347cee8",
   "metadata": {
    "height": 555
   },
   "outputs": [],
   "source": [
    "from pydantic import BaseModel\n",
    "\n",
    "class Date(BaseModel):\n",
    "    # Somehow LLM is bad at specifying `datetime.datetime`\n",
    "    year: int\n",
    "    month: int\n",
    "    day: int\n",
    "    hour: int\n",
    "\n",
    "class UserProfile(BaseModel):\n",
    "    user_id: str\n",
    "    name: str\n",
    "    email: str\n",
    "\n",
    "class Flight(BaseModel):\n",
    "    flight_id: str\n",
    "    date_time: Date\n",
    "    origin: str\n",
    "    destination: str\n",
    "    duration: float\n",
    "    price: float\n",
    "\n",
    "class Itinerary(BaseModel):\n",
    "    confirmation_number: str\n",
    "    user_profile: UserProfile\n",
    "    flight: Flight\n",
    "\n",
    "class Ticket(BaseModel):\n",
    "    user_request: str\n",
    "    user_profile: UserProfile\n"
   ]
  },
  {
   "cell_type": "code",
   "execution_count": null,
   "id": "314db595-79a5-4f56-aaa9-c8f20207dcbf",
   "metadata": {
    "height": 776
   },
   "outputs": [],
   "source": [
    "user_database = {\n",
    "    \"Adam\": UserProfile(user_id=\"1\", name=\"Adam\", email=\"adam@gmail.com\"),\n",
    "    \"Bob\": UserProfile(user_id=\"2\", name=\"Bob\", email=\"bob@gmail.com\"),\n",
    "    \"Chelsie\": UserProfile(user_id=\"3\", name=\"Chelsie\", email=\"chelsie@gmail.com\"),\n",
    "    \"David\": UserProfile(user_id=\"4\", name=\"David\", email=\"david@gmail.com\"),\n",
    "}\n",
    "\n",
    "flight_database = {\n",
    "    \"DA123\": Flight(\n",
    "        flight_id=\"DA123\",\n",
    "        origin=\"SFO\",\n",
    "        destination=\"JFK\",\n",
    "        date_time=Date(year=2025, month=9, day=1, hour=1),\n",
    "        duration=3,\n",
    "        price=200,\n",
    "    ),\n",
    "    \"DA125\": Flight(\n",
    "        flight_id=\"DA125\",\n",
    "        origin=\"SFO\",\n",
    "        destination=\"JFK\",\n",
    "        date_time=Date(year=2025, month=9, day=1, hour=7),\n",
    "        duration=9,\n",
    "        price=500,\n",
    "    ),\n",
    "    \"DA456\": Flight(\n",
    "        flight_id=\"DA456\",\n",
    "        origin=\"SFO\",\n",
    "        destination=\"SNA\",\n",
    "        date_time=Date(year=2025, month=10, day=1, hour=1),\n",
    "        duration=2,\n",
    "        price=100,\n",
    "    ),\n",
    "    \"DA460\": Flight(\n",
    "        flight_id=\"DA460\",\n",
    "        origin=\"SFO\",\n",
    "        destination=\"SNA\",\n",
    "        date_time=Date(year=2025, month=10, day=1, hour=9),\n",
    "        duration=2,\n",
    "        price=120,\n",
    "    ),\n",
    "}\n",
    "\n",
    "itinery_database = {}\n",
    "ticket_database = {}"
   ]
  },
  {
   "cell_type": "code",
   "execution_count": null,
   "id": "dcf83eee-ac47-4893-bf07-83c702bb3e8e",
   "metadata": {
    "height": 1320
   },
   "outputs": [],
   "source": [
    "import random\n",
    "import string\n",
    "\n",
    "\n",
    "def fetch_flight_info(date: Date, origin: str, destination: str):\n",
    "    \"\"\"Fetch flight information from origin to destination on the given date\"\"\"\n",
    "    flights = []\n",
    "\n",
    "    for flight_id, flight in flight_database.items():\n",
    "        if (\n",
    "            flight.date_time.year == date.year\n",
    "            and flight.date_time.month == date.month\n",
    "            and flight.date_time.day == date.day\n",
    "            and flight.origin == origin\n",
    "            and flight.destination == destination\n",
    "        ):\n",
    "            flights.append(flight)\n",
    "    return flights\n",
    "\n",
    "\n",
    "def fetch_itinerary(confirmation_number: str):\n",
    "    \"\"\"Fetch a booked itinerary information from database\"\"\"\n",
    "    return itinery_database.get(confirmation_number)\n",
    "\n",
    "\n",
    "def pick_flight(flights: list[Flight]):\n",
    "    \"\"\"Pick up the best flight that matches users' request.\"\"\"\n",
    "    sorted_flights = sorted(\n",
    "        flights,\n",
    "        key=lambda x: (\n",
    "            x.get(\"duration\") if isinstance(x, dict) else x.duration,\n",
    "            x.get(\"price\") if isinstance(x, dict) else x.price,\n",
    "        ),\n",
    "    )\n",
    "    return sorted_flights[0]\n",
    "\n",
    "def generate_id(length=8):\n",
    "    chars = string.ascii_lowercase + string.digits\n",
    "    return \"\".join(random.choices(chars, k=length))\n",
    "\n",
    "\n",
    "def book_itinerary(flight: Flight, user_profile: UserProfile):\n",
    "    \"\"\"Book a flight on behalf of the user.\"\"\"\n",
    "    confirmation_number = generate_id()\n",
    "    while confirmation_number in itinery_database:\n",
    "        confirmation_number = generate_id()\n",
    "    itinery_database[confirmation_number] = Itinerary(\n",
    "        confirmation_number=confirmation_number,\n",
    "        user_profile=user_profile,\n",
    "        flight=flight,\n",
    "    )\n",
    "    return confirmation_number, itinery_database[confirmation_number]\n",
    "\n",
    "\n",
    "def cancel_itinerary(confirmation_number: str, user_profile: UserProfile):\n",
    "    \"\"\"Cancel an itinerary on behalf of the user.\"\"\"\n",
    "    if confirmation_number in itinery_database:\n",
    "        del itinery_database[confirmation_number]\n",
    "        return\n",
    "    raise ValueError(\"Cannot find the itinerary, please check your confirmation number.\")\n",
    "\n",
    "\n",
    "def get_user_info(name: str):\n",
    "    \"\"\"Fetch the user profile from database with given name.\"\"\"\n",
    "    return user_database.get(name)\n",
    "\n",
    "\n",
    "def file_ticket(user_request: str, user_profile: UserProfile):\n",
    "    \"\"\"File a customer support ticket if this is something the agent cannot handle.\"\"\"\n",
    "    ticket_id = generate_id(length=6)\n",
    "    ticket_database[ticket_id] = Ticket(\n",
    "        user_request=user_request,\n",
    "        user_profile=user_profile,\n",
    "    )\n",
    "    return ticket_id\n"
   ]
  },
  {
   "cell_type": "code",
   "execution_count": null,
   "id": "ef890d0a-2dab-4624-8598-14dbcfb7ef12",
   "metadata": {
    "height": 96
   },
   "outputs": [],
   "source": [
    "class DSPyAirlineCustomerSerice(dspy.Signature):\n",
    "    \"\"\"You are an airline customer service agent. You are given a list of tools to handle user request. You should decide the right tool to use in order to fullfil users' request.\"\"\"\n",
    "    user_request: str = dspy.InputField()\n",
    "    process_result: str = dspy.OutputField(desc=\"Message that summarizes the process result, and the information users need, e.g., the confirmation_number if it's a flight booking request.\")"
   ]
  },
  {
   "cell_type": "code",
   "execution_count": null,
   "id": "be77a703-efc5-453e-b854-db69cf51d3b0",
   "metadata": {
    "height": 217
   },
   "outputs": [],
   "source": [
    "react = dspy.ReAct(\n",
    "    DSPyAirlineCustomerSerice,\n",
    "    tools = [\n",
    "        fetch_flight_info,\n",
    "        fetch_itinerary,\n",
    "        pick_flight,\n",
    "        book_itinerary,\n",
    "        cancel_itinerary,\n",
    "        get_user_info,\n",
    "        file_ticket,\n",
    "    ]\n",
    ")"
   ]
  },
  {
   "cell_type": "markdown",
   "id": "041799fa-3a2b-4c4b-92e0-56203a038dcf",
   "metadata": {},
   "source": [
    "<div style=\"background-color:#fff6ff; padding:13px; border-width:3px; border-color:#efe6ef; border-style:solid; border-radius:6px\">\n",
    "<p> 💻 &nbsp; <b>Larger MLflow Tracer View:</b> f the MLflow tracer window displayed in the notebook appears too small, you can click the <b>\"View in MLflow UI\"</b> link in the top-right corner to open it in a new, full-screen tab.</p>\n",
    "</div>"
   ]
  },
  {
   "cell_type": "code",
   "execution_count": null,
   "id": "cc78279c-1f0e-4719-8c7b-9c87d6a3af34",
   "metadata": {
    "height": 45
   },
   "outputs": [],
   "source": [
    "result = react(user_request=\"please help me book a flight from SFO to JFK on 09/01/2025, my name is Adam\")"
   ]
  },
  {
   "cell_type": "code",
   "execution_count": null,
   "id": "0cffda9e-5308-4ae0-8100-4a4127b5f269",
   "metadata": {
    "height": 30
   },
   "outputs": [],
   "source": []
  },
  {
   "cell_type": "code",
   "execution_count": null,
   "id": "a733169d-f704-4997-87f0-4a1bff2d07e8",
   "metadata": {
    "height": 30
   },
   "outputs": [],
   "source": []
  },
  {
   "cell_type": "code",
   "execution_count": null,
   "id": "57a19e27-d0f3-4f29-a40e-d38e98012931",
   "metadata": {
    "height": 30
   },
   "outputs": [],
   "source": []
  },
  {
   "cell_type": "code",
   "execution_count": null,
   "id": "f2a48c30-1aec-4ee6-af0d-e9c471871521",
   "metadata": {
    "height": 30
   },
   "outputs": [],
   "source": []
  },
  {
   "cell_type": "code",
   "execution_count": null,
   "id": "6d4a455e-796e-4692-8a52-b97cb32d30b8",
   "metadata": {
    "height": 30
   },
   "outputs": [],
   "source": []
  },
  {
   "cell_type": "code",
   "execution_count": null,
   "id": "82ec12eb-39fe-47f1-8057-040e572bd922",
   "metadata": {
    "height": 30
   },
   "outputs": [],
   "source": []
  }
 ],
 "metadata": {
  "kernelspec": {
   "display_name": "Python 3 (ipykernel)",
   "language": "python",
   "name": "python3"
  },
  "language_info": {
   "codemirror_mode": {
    "name": "ipython",
    "version": 3
   },
   "file_extension": ".py",
   "mimetype": "text/x-python",
   "name": "python",
   "nbconvert_exporter": "python",
   "pygments_lexer": "ipython3",
   "version": "3.11.3"
  }
 },
 "nbformat": 4,
 "nbformat_minor": 5
}
