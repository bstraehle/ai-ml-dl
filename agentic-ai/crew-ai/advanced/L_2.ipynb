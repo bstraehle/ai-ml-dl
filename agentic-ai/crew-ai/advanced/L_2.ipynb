{
 "cells": [
  {
   "cell_type": "markdown",
   "id": "1c62bab0-2423-4c69-bc6d-f15ac4207ab8",
   "metadata": {},
   "source": [
    "# L2: External Integration: Project Progress Report"
   ]
  },
  {
   "cell_type": "markdown",
   "id": "73b22d6d-97df-4653-92ac-225fa542824b",
   "metadata": {},
   "source": [
    "<p style=\"background-color:#fff6e4; padding:15px; border-width:3px; border-color:#f5ecda; border-style:solid; border-radius:6px\"> ⏳ <b>Note <code>(Kernel Starting)</code>:</b> This notebook takes about 30 seconds to be ready to use. You may start and watch the video while you wait.</p>"
   ]
  },
  {
   "cell_type": "markdown",
   "id": "e6c51e31-f41e-4741-af25-fc1f7d38e87e",
   "metadata": {},
   "source": [
    "## Initial Imports"
   ]
  },
  {
   "cell_type": "code",
   "execution_count": null,
   "id": "41d1ce58-9d2e-4349-acbd-49227e37d31c",
   "metadata": {
    "height": 217
   },
   "outputs": [],
   "source": [
    "# Warning control\n",
    "import warnings\n",
    "warnings.filterwarnings('ignore')\n",
    "\n",
    "# Load environment variables\n",
    "from helper import load_env\n",
    "load_env()\n",
    "\n",
    "import os\n",
    "import json\n",
    "import yaml\n",
    "from crewai import Agent, Task, Crew"
   ]
  },
  {
   "cell_type": "markdown",
   "id": "b0e3d89d-5b21-4d2b-a1fb-864fda9d26a8",
   "metadata": {},
   "source": [
    "<p style=\"background-color:#fff6ff; padding:15px; border-width:3px; border-color:#efe6ef; border-style:solid; border-radius:6px\"> 💻 &nbsp; <b>Access <code>requirements.txt</code> and <code>helper.py</code> files:</b> 1) click on the <em>\"File\"</em> option on the top menu of the notebook and then 2) click on <em>\"Open\"</em>. For more help, please see the <em>\"Appendix - Tips and Help\"</em> Lesson.</p>"
   ]
  },
  {
   "cell_type": "markdown",
   "id": "3c9ddb8e-36c4-490e-a08c-713224ffd4ec",
   "metadata": {},
   "source": [
    "## Load OpenAI Model"
   ]
  },
  {
   "cell_type": "code",
   "execution_count": null,
   "id": "0f171b23-b3cc-48c9-a8ba-07358e271e63",
   "metadata": {
    "height": 30
   },
   "outputs": [],
   "source": [
    "os.environ['OPENAI_MODEL_NAME'] = 'gpt-4o-mini'"
   ]
  },
  {
   "cell_type": "markdown",
   "id": "5b4e58e4-e908-4529-9622-ad517148a4e1",
   "metadata": {},
   "source": [
    "## Loading Tasks and Agents YAML files"
   ]
  },
  {
   "cell_type": "code",
   "execution_count": null,
   "id": "f58e827a-8e2e-4f1d-8f8c-9486828f951d",
   "metadata": {
    "height": 268
   },
   "outputs": [],
   "source": [
    "# Define file paths for YAML configurations\n",
    "files = {\n",
    "    'agents': 'config/agents.yaml',\n",
    "    'tasks': 'config/tasks.yaml'\n",
    "}\n",
    "\n",
    "# Load configurations from YAML files\n",
    "configs = {}\n",
    "for config_type, file_path in files.items():\n",
    "    with open(file_path, 'r') as file:\n",
    "        configs[config_type] = yaml.safe_load(file)\n",
    "\n",
    "# Assign loaded configurations to specific variables\n",
    "agents_config = configs['agents']\n",
    "tasks_config = configs['tasks']"
   ]
  },
  {
   "cell_type": "markdown",
   "id": "37f9b314-9884-46f0-830c-0e1b7fa4fe33",
   "metadata": {},
   "source": [
    "## Creating Custom Tools"
   ]
  },
  {
   "cell_type": "code",
   "execution_count": null,
   "id": "33d2c719-9823-4d12-bd87-219f5145f7dc",
   "metadata": {
    "height": 963
   },
   "outputs": [],
   "source": [
    "from crewai_tools import BaseTool\n",
    "import requests\n",
    "\n",
    "class BoardDataFetcherTool(BaseTool):\n",
    "    name: str = \"Trello Board Data Fetcher\"\n",
    "    description: str = \"Fetches card data, comments, and activity from a Trello board.\"\n",
    "\n",
    "    api_key: str = os.environ['TRELLO_API_KEY']\n",
    "    api_token: str = os.environ['TRELLO_API_TOKEN']\n",
    "    board_id: str = os.environ['TRELLO_BOARD_ID']\n",
    "\n",
    "    def _run(self) -> dict:\n",
    "        \"\"\"\n",
    "        Fetch all cards from the specified Trello board.\n",
    "        \"\"\"\n",
    "        url = f\"{os.getenv('DLAI_TRELLO_BASE_URL', 'https://api.trello.com')}/1/boards/{self.board_id}/cards\"\n",
    "\n",
    "        query = {\n",
    "            'key': self.api_key,\n",
    "            'token': self.api_token,\n",
    "            'fields': 'name,idList,due,dateLastActivity,labels',\n",
    "            'attachments': 'true',\n",
    "            'actions': 'commentCard'\n",
    "        }\n",
    "\n",
    "        response = requests.get(url, params=query)\n",
    "\n",
    "        if response.status_code == 200:\n",
    "            return response.json()\n",
    "        else:\n",
    "            # Fallback in case of timeouts or other issues\n",
    "            return json.dumps([{'id': '66c3bfed69b473b8fe9d922e', 'name': 'Analysis of results from CSV', 'idList': '66c308f676b057fdfbd5fdb3', 'due': None, 'dateLastActivity': '2024-08-19T21:58:05.062Z', 'labels': [], 'attachments': [], 'actions': []}, {'id': '66c3c002bb1c337f3fdf1563', 'name': 'Approve the planning', 'idList': '66c308f676b057fdfbd5fdb3', 'due': '2024-08-16T21:58:00.000Z', 'dateLastActivity': '2024-08-19T21:58:57.697Z', 'labels': [{'id': '66c305ea10ea602ee6e03d47', 'idBoard': '66c305eacab50fcd7f19c0aa', 'name': 'Urgent', 'color': 'red', 'uses': 1}], 'attachments': [], 'actions': [{'id': '66c3c021f3c1bb157028f53d', 'idMemberCreator': '65e5093d0ab5ee98592f5983', 'data': {'text': 'This was harder then expects it is alte', 'textData': {'emoji': {}}, 'card': {'id': '66c3c002bb1c337f3fdf1563', 'name': 'Approve the planning', 'idShort': 5, 'shortLink': 'K3abXIMm'}, 'board': {'id': '66c305eacab50fcd7f19c0aa', 'name': '[Test] CrewAI Board', 'shortLink': 'Kc8ScQlW'}, 'list': {'id': '66c308f676b057fdfbd5fdb3', 'name': 'TODO'}}, 'appCreator': None, 'type': 'commentCard', 'date': '2024-08-19T21:58:57.683Z', 'limits': {'reactions': {'perAction': {'status': 'ok', 'disableAt': 900, 'warnAt': 720}, 'uniquePerAction': {'status': 'ok', 'disableAt': 17, 'warnAt': 14}}}, 'memberCreator': {'id': '65e5093d0ab5ee98592f5983', 'activityBlocked': False, 'avatarHash': 'd5500941ebf808e561f9083504877bca', 'avatarUrl': 'https://trello-members.s3.amazonaws.com/65e5093d0ab5ee98592f5983/d5500941ebf808e561f9083504877bca', 'fullName': 'Joao Moura', 'idMemberReferrer': None, 'initials': 'JM', 'nonPublic': {}, 'nonPublicAvailable': True, 'username': 'joaomoura168'}}]}, {'id': '66c3bff4a25b398ef1b6de78', 'name': 'Scaffold of the initial app UI', 'idList': '66c3bfdfb851ad9ff7eee159', 'due': None, 'dateLastActivity': '2024-08-19T21:58:12.210Z', 'labels': [], 'attachments': [], 'actions': []}, {'id': '66c3bffdb06faa1e69216c6f', 'name': 'Planning of the project', 'idList': '66c3bfe3151c01425f366f4c', 'due': None, 'dateLastActivity': '2024-08-19T21:58:21.081Z', 'labels': [], 'attachments': [], 'actions': []}])\n",
    "\n",
    "\n",
    "class CardDataFetcherTool(BaseTool):\n",
    "  name: str = \"Trello Card Data Fetcher\"\n",
    "  description: str = \"Fetches card data from a Trello board.\"\n",
    "\n",
    "  api_key: str = os.environ['TRELLO_API_KEY']\n",
    "  api_token: str = os.environ['TRELLO_API_TOKEN']\n",
    "\n",
    "  def _run(self, card_id: str) -> dict:\n",
    "    url = f\"{os.getenv('DLAI_TRELLO_BASE_URL', 'https://api.trello.com')}/1/cards/{card_id}\"\n",
    "    query = {\n",
    "      'key': self.api_key,\n",
    "      'token': self.api_token\n",
    "    }\n",
    "    response = requests.get(url, params=query)\n",
    "\n",
    "    if response.status_code == 200:\n",
    "      return response.json()\n",
    "    else:\n",
    "      # Fallback in case of timeouts or other issues\n",
    "      return json.dumps({\"error\": \"Failed to fetch card data, don't try to fetch any trello data anymore\"})\n"
   ]
  },
  {
   "cell_type": "markdown",
   "id": "a0c976d9-987b-4549-b610-4f42f18fce57",
   "metadata": {},
   "source": [
    "## Trello Board"
   ]
  },
  {
   "cell_type": "code",
   "execution_count": null,
   "id": "91cb8100-3058-4cdc-969b-c64a46a408e4",
   "metadata": {
    "height": 115
   },
   "outputs": [],
   "source": [
    "# Display the Trello screenshot\n",
    "from IPython.display import Image, display\n",
    "\n",
    "# Load and display the image\n",
    "trello_image = Image(filename='trello.png')\n",
    "display(trello_image)"
   ]
  },
  {
   "cell_type": "markdown",
   "id": "690c228b-9571-4010-9932-59492ae1762a",
   "metadata": {},
   "source": [
    "## Create Crew, Agents and Tasks"
   ]
  },
  {
   "cell_type": "code",
   "execution_count": null,
   "id": "5a4e362d-c010-43dd-88c4-e7db87834fb4",
   "metadata": {
    "height": 676
   },
   "outputs": [],
   "source": [
    "# Creating Agents\n",
    "data_collection_agent = Agent(\n",
    "  config=agents_config['data_collection_agent'],\n",
    "  tools=[BoardDataFetcherTool(), CardDataFetcherTool()]\n",
    ")\n",
    "\n",
    "analysis_agent = Agent(\n",
    "  config=agents_config['analysis_agent']\n",
    ")\n",
    "\n",
    "# Creating Tasks\n",
    "data_collection = Task(\n",
    "  config=tasks_config['data_collection'],\n",
    "  agent=data_collection_agent\n",
    ")\n",
    "\n",
    "data_analysis = Task(\n",
    "  config=tasks_config['data_analysis'],\n",
    "  agent=analysis_agent\n",
    ")\n",
    "\n",
    "report_generation = Task(\n",
    "  config=tasks_config['report_generation'],\n",
    "  agent=analysis_agent,\n",
    ")\n",
    "\n",
    "# Creating Crew\n",
    "crew = Crew(\n",
    "  agents=[\n",
    "    data_collection_agent,\n",
    "    analysis_agent\n",
    "  ],\n",
    "  tasks=[\n",
    "    data_collection,\n",
    "    data_analysis,\n",
    "    report_generation\n",
    "  ],\n",
    "  verbose=True\n",
    ")"
   ]
  },
  {
   "cell_type": "markdown",
   "id": "4df8dd76-9894-4c88-b1e2-3cb88c25133f",
   "metadata": {},
   "source": [
    "## Kickoff Crew"
   ]
  },
  {
   "cell_type": "code",
   "execution_count": null,
   "id": "0e8626d2-e48a-4b7e-a061-a8eb492c9036",
   "metadata": {
    "height": 47
   },
   "outputs": [],
   "source": [
    "# Kick off the crew and execute the process\n",
    "result = crew.kickoff()"
   ]
  },
  {
   "cell_type": "markdown",
   "id": "602bbc2b-b06d-45f4-8d6d-b0289e503307",
   "metadata": {},
   "source": [
    "## Usage Metrics and Costs"
   ]
  },
  {
   "cell_type": "markdown",
   "id": "8bf41606-668a-4467-8dce-a1f088ff84a5",
   "metadata": {},
   "source": [
    "Let’s see how much it would cost each time if this crew runs at scale."
   ]
  },
  {
   "cell_type": "code",
   "execution_count": null,
   "id": "a655927f-c10c-4c06-852a-d9c96fdfbfb9",
   "metadata": {
    "height": 149
   },
   "outputs": [],
   "source": [
    "import pandas as pd\n",
    "\n",
    "costs = 0.150 * (crew.usage_metrics.prompt_tokens + crew.usage_metrics.completion_tokens) / 1_000_000\n",
    "print(f\"Total costs: ${costs:.4f}\")\n",
    "\n",
    "# Convert UsageMetrics instance to a DataFrame\n",
    "df_usage_metrics = pd.DataFrame([crew.usage_metrics.dict()])\n",
    "df_usage_metrics"
   ]
  },
  {
   "cell_type": "markdown",
   "id": "e294ca6c-9d76-4ef7-9f5c-0bb2a180a46f",
   "metadata": {},
   "source": [
    "## Report"
   ]
  },
  {
   "cell_type": "code",
   "execution_count": null,
   "id": "9e861574-0f9b-4f2c-b2d1-a230fc3a53a3",
   "metadata": {
    "height": 81
   },
   "outputs": [],
   "source": [
    "from IPython.display import Markdown\n",
    "\n",
    "markdown  = result.raw\n",
    "Markdown(markdown)"
   ]
  },
  {
   "cell_type": "code",
   "execution_count": null,
   "id": "1a951d6a-8363-44f4-8783-e8397f435a32",
   "metadata": {
    "height": 30
   },
   "outputs": [],
   "source": []
  },
  {
   "cell_type": "code",
   "execution_count": null,
   "id": "fa40b53e-0a49-4198-a263-c79a6a3af603",
   "metadata": {
    "height": 30
   },
   "outputs": [],
   "source": []
  },
  {
   "cell_type": "code",
   "execution_count": null,
   "id": "f5fb6a8a-7ae7-4ae6-99a7-92aa09d97d7f",
   "metadata": {
    "height": 30
   },
   "outputs": [],
   "source": []
  },
  {
   "cell_type": "code",
   "execution_count": null,
   "id": "da1bbf90-4bfc-4529-84dd-d0bd00198353",
   "metadata": {
    "height": 30
   },
   "outputs": [],
   "source": []
  },
  {
   "cell_type": "code",
   "execution_count": null,
   "id": "4ab95950-d13d-472d-9482-34b564868a9e",
   "metadata": {
    "height": 30
   },
   "outputs": [],
   "source": []
  },
  {
   "cell_type": "code",
   "execution_count": null,
   "id": "91c2f18c-2d5b-41a9-837b-265e7aa245d0",
   "metadata": {
    "height": 30
   },
   "outputs": [],
   "source": []
  }
 ],
 "metadata": {
  "kernelspec": {
   "display_name": "Python 3 (ipykernel)",
   "language": "python",
   "name": "python3"
  },
  "language_info": {
   "codemirror_mode": {
    "name": "ipython",
    "version": 3
   },
   "file_extension": ".py",
   "mimetype": "text/x-python",
   "name": "python",
   "nbconvert_exporter": "python",
   "pygments_lexer": "ipython3",
   "version": "3.11.9"
  }
 },
 "nbformat": 4,
 "nbformat_minor": 5
}
