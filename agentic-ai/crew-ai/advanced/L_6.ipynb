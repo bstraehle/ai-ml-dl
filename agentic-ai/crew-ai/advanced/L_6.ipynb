{
 "cells": [
  {
   "cell_type": "markdown",
   "id": "1834202c-29d0-422f-92ac-f401a5ee173c",
   "metadata": {},
   "source": [
    "# L6: Building Your Crew for Production"
   ]
  },
  {
   "cell_type": "markdown",
   "id": "12b2db0c-cdb4-4c1d-8d06-9b5523cb04a4",
   "metadata": {},
   "source": [
    "<p style=\"background-color:#fff6e4; padding:15px; border-width:3px; border-color:#f5ecda; border-style:solid; border-radius:6px\"> ⏳ <b>Note <code>(Kernel Starting)</code>:</b> This notebook takes about 30 seconds to be ready to use. You may start and watch the video while you wait.</p>"
   ]
  },
  {
   "cell_type": "markdown",
   "id": "3d31fd4d-5688-406e-9824-6a6d5a6abcff",
   "metadata": {},
   "source": [
    "## Initial Imports"
   ]
  },
  {
   "cell_type": "code",
   "execution_count": null,
   "id": "42cdccda-8484-48d1-9c57-36f4365d5400",
   "metadata": {},
   "outputs": [],
   "source": [
    "# Warning control\n",
    "import warnings\n",
    "warnings.filterwarnings('ignore')\n",
    "\n",
    "# Load environment variables\n",
    "from helper import load_env\n",
    "load_env()"
   ]
  },
  {
   "cell_type": "markdown",
   "id": "1f8c6290-be77-4e9a-abee-44c3e298d4fc",
   "metadata": {},
   "source": [
    "<p style=\"background-color:#fff6ff; padding:15px; border-width:3px; border-color:#efe6ef; border-style:solid; border-radius:6px\"> 💻 &nbsp; <b>Access <code>requirements.txt</code> and <code>helper.py</code> files:</b> 1) click on the <em>\"File\"</em> option on the top menu of the notebook and then 2) click on <em>\"Open\"</em>. For more help, please see the <em>\"Appendix - Tips and Help\"</em> Lesson.</p>"
   ]
  },
  {
   "cell_type": "markdown",
   "id": "9c9d8c71-769e-4c1e-8e6c-46479332cc46",
   "metadata": {},
   "source": [
    "## Creating a new project"
   ]
  },
  {
   "cell_type": "code",
   "execution_count": null,
   "id": "6a9cdff5-a397-4b18-8f34-93473a8741cc",
   "metadata": {},
   "outputs": [],
   "source": [
    "! crewai create crew new_project --provider openai"
   ]
  },
  {
   "cell_type": "markdown",
   "id": "edf7a0f2-7302-42af-8963-3dbc2ef781dc",
   "metadata": {},
   "source": [
    "## Setting up the Environment"
   ]
  },
  {
   "cell_type": "markdown",
   "id": "ce1cf0cf-d40b-4aa1-bc28-6fdce3952c27",
   "metadata": {},
   "source": [
    "<p style=\"background-color:#fff6e4; padding:15px; border-width:3px; border-color:#f5ecda; border-style:solid; border-radius:6px\"> ⏳ <b>Note</code>:</b> The following line might take a few minutes to finish.</p>"
   ]
  },
  {
   "cell_type": "code",
   "execution_count": null,
   "id": "dec8d5c6-5049-4f3f-b94d-682a0ae5bd03",
   "metadata": {},
   "outputs": [],
   "source": [
    "! cd new_project && crewai install"
   ]
  },
  {
   "cell_type": "markdown",
   "id": "5f88c796-8cea-4c46-90b2-0c884423dde7",
   "metadata": {},
   "source": [
    "## Setting Environment Variables"
   ]
  },
  {
   "cell_type": "code",
   "execution_count": null,
   "id": "ad8e0ac1-0246-43bc-a99a-7a3fbeb2a1c0",
   "metadata": {},
   "outputs": [],
   "source": [
    "! cat new_project/.env"
   ]
  },
  {
   "cell_type": "markdown",
   "id": "fa4b3b03-6ce9-4351-a738-aff246437111",
   "metadata": {},
   "source": [
    "## Running the Crew"
   ]
  },
  {
   "cell_type": "code",
   "execution_count": null,
   "id": "5fe150f6-f8c5-42a9-82df-391eabc9602d",
   "metadata": {},
   "outputs": [],
   "source": [
    "! cd new_project && crewai run"
   ]
  },
  {
   "cell_type": "markdown",
   "id": "abdaac0e-928b-49d4-9c46-714358a5d178",
   "metadata": {},
   "source": [
    "## Flows CLI - Command Line Interface"
   ]
  },
  {
   "cell_type": "code",
   "execution_count": null,
   "id": "4bd6171b-8432-4aaa-bfb3-01a5153b4ead",
   "metadata": {},
   "outputs": [],
   "source": [
    "! crewai create flow new_flow"
   ]
  },
  {
   "cell_type": "code",
   "execution_count": null,
   "id": "9f3c74aa-35cf-43f1-8ea8-0cafa2dda991",
   "metadata": {},
   "outputs": [],
   "source": [
    "! ls -1 new_flow"
   ]
  },
  {
   "cell_type": "code",
   "execution_count": null,
   "id": "162027cd-f13e-4d97-9274-71f633f28c4f",
   "metadata": {},
   "outputs": [],
   "source": [
    "! ls -1 new_flow/src/new_flow/"
   ]
  },
  {
   "cell_type": "code",
   "execution_count": null,
   "id": "bba6b0c7-9844-4fd0-832b-94e3410e512b",
   "metadata": {},
   "outputs": [],
   "source": []
  },
  {
   "cell_type": "code",
   "execution_count": null,
   "id": "82a8b501-7000-4091-8814-eed692ddbcf5",
   "metadata": {},
   "outputs": [],
   "source": []
  },
  {
   "cell_type": "code",
   "execution_count": null,
   "id": "24501ada-f1fb-48ec-a637-e2659ed7cf16",
   "metadata": {},
   "outputs": [],
   "source": []
  },
  {
   "cell_type": "code",
   "execution_count": null,
   "id": "782a5ea6-e85b-4ebe-9120-17f15a2db1b5",
   "metadata": {},
   "outputs": [],
   "source": []
  },
  {
   "cell_type": "code",
   "execution_count": null,
   "id": "17e7267b-8d41-4033-a69a-f72cb10308af",
   "metadata": {},
   "outputs": [],
   "source": []
  },
  {
   "cell_type": "code",
   "execution_count": null,
   "id": "7bc56040-f033-4b18-913f-dd68a4cd3fff",
   "metadata": {},
   "outputs": [],
   "source": []
  }
 ],
 "metadata": {
  "kernelspec": {
   "display_name": "Python 3 (ipykernel)",
   "language": "python",
   "name": "python3"
  },
  "language_info": {
   "codemirror_mode": {
    "name": "ipython",
    "version": 3
   },
   "file_extension": ".py",
   "mimetype": "text/x-python",
   "name": "python",
   "nbconvert_exporter": "python",
   "pygments_lexer": "ipython3",
   "version": "3.10.14"
  }
 },
 "nbformat": 4,
 "nbformat_minor": 5
}
