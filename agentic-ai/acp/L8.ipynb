{
 "cells": [
  {
   "cell_type": "markdown",
   "id": "51314003-4f36-453f-88ff-c6621b784d59",
   "metadata": {},
   "source": [
    "# Lesson 8 - Hierarchically Chaining the Agent Calls using a Router Agent"
   ]
  },
  {
   "cell_type": "markdown",
   "id": "4de52b6c",
   "metadata": {},
   "source": [
    "You will now create a hierarchical workflow using a router agent. Instead of having a fixed linear workflow like in the previous lesson, you will use a third agent (router) in the client-side that will decide when to call each ACP agent."
   ]
  },
  {
   "cell_type": "markdown",
   "id": "6b5c3f95-8f99-4d35-8369-d383176d6bc8",
   "metadata": {},
   "source": [
    "## 8.1. Start Up both ACP Servers"
   ]
  },
  {
   "cell_type": "markdown",
   "id": "39b7a6d8",
   "metadata": {},
   "source": [
    "First make sure the Insurer server is still running:\n",
    "- Open the terminal by running the cell below.\n",
    "- If the agent is still running from the previous lessons, then you don't need to do anything else.\n",
    "- If the agent has stopped running (the lab environment resets after 120 min), then you can run the server again by typing:\n",
    "  - `uv run crew_agent_server.py`\n",
    "\n",
    "\n",
    "**Note**: If you see this warning: \n",
    "`WARNING: Can not reach server, check if running on http://127.0.0.1:8333 : Request failed after 5 retries`\n",
    "you can ignore it. You'll learn later in another lesson about the BeeAI platform, which a registry you can use to manage and discover agents. If the platform is installed, it runs by default on port 8333. The ACP servers are configured to automatically connect to the platform. Since the platform is not installed in this environment, the ACP server will generate a warning."
   ]
  },
  {
   "cell_type": "code",
   "execution_count": null,
   "id": "e350c16f-672e-41f2-80d6-a3b854abc90f",
   "metadata": {},
   "outputs": [],
   "source": [
    "from IPython.display import IFrame\n",
    "import os\n",
    "url = os.environ.get('DLAI_LOCAL_URL').format(port=8888)\n",
    "IFrame(f\"{url}terminals/1\", width=800, height=600)"
   ]
  },
  {
   "cell_type": "markdown",
   "id": "a1c23330",
   "metadata": {},
   "source": [
    "Also make sure the Hospital server is still running:\n",
    "- Open the terminal by running the cell below.\n",
    "- If the agent is still running from the previous lessons, then you don't need to do anything else.\n",
    "- If the agent has stopped running (the lab environment resets after 120 min), then you can run the server again by typing:\n",
    "  - `uv run smolagents_server.py`"
   ]
  },
  {
   "cell_type": "code",
   "execution_count": null,
   "id": "639370d9-5241-4dab-b8cd-67298d9c8ea4",
   "metadata": {},
   "outputs": [],
   "source": [
    "IFrame(f\"{url}terminals/2\", width=800, height=600)"
   ]
  },
  {
   "cell_type": "markdown",
   "id": "52b648fc-f4f0-45b7-8d02-ecd368aeccc9",
   "metadata": {},
   "source": [
    "## 8.2. Import ACPCallingAgent"
   ]
  },
  {
   "cell_type": "markdown",
   "id": "07ce2605",
   "metadata": {},
   "source": [
    "The router agent is already implemented for you as the `ACPCallingAgent`. You are provided with a python file called `fastacp.py` where you can find the definition of the `ACPCallingAgent`. "
   ]
  },
  {
   "cell_type": "markdown",
   "id": "0eac5ddc",
   "metadata": {},
   "source": [
    "<p style=\"background-color:#fff6ff; padding:15px; border-width:3px; border-color:#efe6ef; border-style:solid; border-radius:6px\"> 💻 &nbsp; <b>To access the <code>fastacp.py</code> file:</b> 1) click on the <em>\"File\"</em> option on the top menu of the notebook, 2) click on <em>\"Open\"</em> and then 3) click on L8.\n",
    "</p>\n"
   ]
  },
  {
   "cell_type": "code",
   "execution_count": null,
   "id": "0dfeac96-37e7-4e5e-9162-3335e5837cac",
   "metadata": {},
   "outputs": [],
   "source": [
    "import asyncio \n",
    "import nest_asyncio\n",
    "from acp_sdk.client import Client\n",
    "from smolagents import LiteLLMModel\n",
    "from fastacp import AgentCollection, ACPCallingAgent\n",
    "from colorama import Fore"
   ]
  },
  {
   "cell_type": "code",
   "execution_count": null,
   "id": "d03d181e-d65e-47d3-83eb-1ba394d3801d",
   "metadata": {
    "jupyter": {
     "outputs_hidden": true
    }
   },
   "outputs": [],
   "source": [
    "print(ACPCallingAgent.__doc__)"
   ]
  },
  {
   "cell_type": "markdown",
   "id": "f4ae3cf3-6c40-4b13-a125-660f21d8f5a4",
   "metadata": {},
   "source": [
    "## 8.3. Run the Hierarchical Workflow "
   ]
  },
  {
   "cell_type": "code",
   "execution_count": null,
   "id": "dcbe8308-1bc2-4fd6-88b1-5367ac895e22",
   "metadata": {},
   "outputs": [],
   "source": [
    "nest_asyncio.apply()"
   ]
  },
  {
   "cell_type": "markdown",
   "id": "cae8cd09",
   "metadata": {},
   "source": [
    "**Note**: The `fastacp.py` file does not only contain the definition for the ACPCallingAgent, but it also includes this method: `AgentCollection.from_acp` where the client objects (`insurer` and `hospital`) discover the agents hosted on their corresponding servers by calling the method `.agents()`."
   ]
  },
  {
   "cell_type": "code",
   "execution_count": null,
   "id": "96eeae29-1b30-4850-bcc4-27beb65505bb",
   "metadata": {},
   "outputs": [],
   "source": [
    "model = LiteLLMModel(\n",
    "    model_id=\"openai/gpt-4\"\n",
    ")\n",
    "\n",
    "async def run_hospital_workflow() -> None:\n",
    "    async with Client(base_url=\"http://localhost:8001\") as insurer, Client(base_url=\"http://localhost:8000\") as hospital:\n",
    "        # agents discovery\n",
    "        agent_collection = await AgentCollection.from_acp(insurer, hospital)  \n",
    "        acp_agents = {agent.name: {'agent':agent, 'client':client} for client, agent in agent_collection.agents}\n",
    "        print(acp_agents) \n",
    "        # passing the agents as tools to ACPCallingAgent\n",
    "        acpagent = ACPCallingAgent(acp_agents=acp_agents, model=model)\n",
    "        # running the agent with a user query\n",
    "        result = await acpagent.run(\"do i need rehabilitation after a shoulder reconstruction and what is the waiting period from my insurance?\")\n",
    "        print(Fore.YELLOW + f\"Final result: {result}\" + Fore.RESET)"
   ]
  },
  {
   "cell_type": "code",
   "execution_count": null,
   "id": "ca04856a-6404-4e98-9420-bcf8c0e9296d",
   "metadata": {},
   "outputs": [],
   "source": [
    "asyncio.run(run_hospital_workflow())"
   ]
  },
  {
   "cell_type": "markdown",
   "id": "c7230a14",
   "metadata": {},
   "source": [
    "**Optional Reading:** Here's how the hierarchical flow works using the provided file `fastacp.py`:\n",
    "\n",
    "1. The agents hosted on each server are first discovered by their corresponding client objects and then converted to tools for the router agent (ACPCallingAgent): \n",
    "  \n",
    "  <img src=\"hr_1.png\" width=\"650\">\n",
    "\n",
    "2. When the router agent receives a user query, it breaks downs the query into smaller steps where each step can be executed by the specialized agent. For a given step, the router agent uses the client of the specialized agent to send the request to it:\n",
    "  \n",
    "  <img src=\"hr_2.png\" width=\"650\">"
   ]
  },
  {
   "cell_type": "markdown",
   "id": "247bd1c5",
   "metadata": {},
   "source": [
    "## 8.4. Resources"
   ]
  },
  {
   "cell_type": "markdown",
   "id": "7a24724b",
   "metadata": {},
   "source": [
    "- [Compose Agents](https://agentcommunicationprotocol.dev/how-to/compose-agents)\n",
    "- [Chained Agents as a Python file](https://github.com/nicknochnack/ACPWalkthrough/blob/main/5.%20Chained%20Agents.py)"
   ]
  },
  {
   "cell_type": "markdown",
   "id": "b2b478c3",
   "metadata": {},
   "source": [
    "<p style=\"background-color:#fff6ff; padding:15px; border-width:3px; border-color:#efe6ef; border-style:solid; border-radius:6px\"> 💻 &nbsp; <b>To access the <code>my_acp_project</code> folder:</b> 1) click on the <em>\"File\"</em> option on the top menu of the notebook and then 2) click on <em>\"Open\"</em>. "
   ]
  },
  {
   "cell_type": "markdown",
   "id": "b223bf29",
   "metadata": {},
   "source": [
    "<div style=\"background-color:#fff6ff; padding:13px; border-width:3px; border-color:#efe6ef; border-style:solid; border-radius:6px\">\n",
    "<p> ⬇ &nbsp; <b>Download Notebooks:</b> 1) click on the <em>\"File\"</em> option on the top menu of the notebook and then 2) click on <em>\"Download as\"</em> and select <em>\"Notebook (.ipynb)\"</em>.</p>\n",
    "</div>"
   ]
  }
 ],
 "metadata": {
  "kernelspec": {
   "display_name": "Python 3 (ipykernel)",
   "language": "python",
   "name": "python3"
  },
  "language_info": {
   "codemirror_mode": {
    "name": "ipython",
    "version": 3
   },
   "file_extension": ".py",
   "mimetype": "text/x-python",
   "name": "python",
   "nbconvert_exporter": "python",
   "pygments_lexer": "ipython3",
   "version": "3.11.6"
  }
 },
 "nbformat": 4,
 "nbformat_minor": 5
}
