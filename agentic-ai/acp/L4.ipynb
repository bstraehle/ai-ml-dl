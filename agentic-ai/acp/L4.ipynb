{
 "cells": [
  {
   "cell_type": "markdown",
   "id": "58502ae5-b320-4097-a5fb-1a7fabd62ed5",
   "metadata": {},
   "source": [
    "# Lesson 4 - Wrapping the RAG Agent into an ACP Server"
   ]
  },
  {
   "cell_type": "markdown",
   "id": "0f4076c6",
   "metadata": {},
   "source": [
    "In this lesson, you will wrap the RAG CrewAI agent you created in the last lesson in ACP server and then run the ACP server to activate the agent so it can be discoverable by an ACP client."
   ]
  },
  {
   "cell_type": "markdown",
   "id": "d365502f-ce01-4073-9114-1fcd3d12cbd2",
   "metadata": {},
   "source": [
    "## 4.1. Wrap the Agent in ACP  Server"
   ]
  },
  {
   "cell_type": "markdown",
   "id": "52a393e7",
   "metadata": {},
   "source": [
    "You will now take the same code you worked on in Lesson 3 and wrap it in a python file called: `crew_agent_server`.\n",
    "\n",
    "To make the agent ACP compliant, you can use the `@server.agent()` decorator to define your agent. The name is inferred from the function name, and the description is pulled from the docstring. Here's the minimal structure needed for an ACP-compliant agent:\n",
    "\n",
    "```python\n",
    "@server.agent()\n",
    "async def policy_agent(input: list[Message]) -> AsyncGenerator[RunYield, RunYieldResume]:\n",
    "    \"This is an agent for questions around policy coverage, it uses a RAG pattern to find answers based on policy documentation. Use it to help answer questions on coverage and waiting periods.\"\n",
    "    # Here goes the function definition\n",
    "    # ....\n",
    "    task_output = ...\n",
    "    yield Message(parts=[MessagePart(content=str(task_output))])\n",
    "```\n",
    "This configuration establishes several critical aspects of the agent:\n",
    "- **Function Definition**: The core functionality that determines what the agent does;\n",
    "- **Input Parameter**: The input parameter accepts a list of Message objects; \n",
    "- **Return Type**: The AsyncGenerator[RunYield, RunYieldResume] return type enables both streaming responses and the await pattern:\n",
    "   - AsyncGenerator: An async generator object that can be iterated with async for and supports await operations\n",
    "   - RunYield: The type of values this generator yields (sends out)\n",
    "   - RunYieldResume: The type of values this generator receives when resumed (sent back in) (in the definition below, you will only use RunYield)\n",
    "- **Documentation**: The docstring provides a human-readable description of the agent"
   ]
  },
  {
   "cell_type": "markdown",
   "id": "ba7802cd",
   "metadata": {},
   "source": [
    "Run the following cell to copy the content of the cell to the file `crew_agent_server.py` which will be saved under the folder `my_acp_project`. "
   ]
  },
  {
   "cell_type": "markdown",
   "id": "f79116e8",
   "metadata": {},
   "source": [
    "<p style=\"background-color:#fff6ff; padding:15px; border-width:3px; border-color:#efe6ef; border-style:solid; border-radius:6px\"> 💻 &nbsp; <b>To access the <code>my_acp_project</code> folder:</b> 1) click on the <em>\"File\"</em> option on the top menu of the notebook and then 2) click on <em>\"Open\"</em>. "
   ]
  },
  {
   "cell_type": "code",
   "execution_count": null,
   "id": "c6c31f89-a03c-4bd4-a710-aae07ce0f90e",
   "metadata": {},
   "outputs": [],
   "source": [
    "%%writefile ../my_acp_project/crew_agent_server.py\n",
    "from collections.abc import AsyncGenerator\n",
    "from acp_sdk.models import Message, MessagePart\n",
    "from acp_sdk.server import RunYield, RunYieldResume, Server\n",
    "\n",
    "from crewai import Crew, Task, Agent, LLM\n",
    "from crewai_tools import RagTool\n",
    "\n",
    "import nest_asyncio\n",
    "nest_asyncio.apply()\n",
    "\n",
    "server = Server()\n",
    "llm = LLM(model=\"openai/gpt-4\", max_tokens=1024)\n",
    "\n",
    "config = {\n",
    "    \"llm\": {\n",
    "        \"provider\": \"openai\",\n",
    "        \"config\": {\n",
    "            \"model\": \"gpt-4\",\n",
    "        }\n",
    "    },\n",
    "    \"embedding_model\": {\n",
    "        \"provider\": \"openai\",\n",
    "        \"config\": {\n",
    "            \"model\": \"text-embedding-ada-002\"\n",
    "        }\n",
    "    }\n",
    "}\n",
    "rag_tool = RagTool(config=config,  \n",
    "                   chunk_size=1200,       \n",
    "                   chunk_overlap=200,     \n",
    "                  )\n",
    "rag_tool.add(\"../data/gold-hospital-and-premium-extras.pdf\", data_type=\"pdf_file\")\n",
    "\n",
    "\n",
    "@server.agent()\n",
    "async def policy_agent(input: list[Message]) -> AsyncGenerator[RunYield, RunYieldResume]:\n",
    "    \"This is an agent for questions around policy coverage, it uses a RAG pattern to find answers based on policy documentation. Use it to help answer questions on coverage and waiting periods.\"\n",
    "\n",
    "    insurance_agent = Agent(\n",
    "        role=\"Senior Insurance Coverage Assistant\", \n",
    "        goal=\"Determine whether something is covered or not\",\n",
    "        backstory=\"You are an expert insurance agent designed to assist with coverage queries\",\n",
    "        verbose=True,\n",
    "        allow_delegation=False,\n",
    "        llm=llm,\n",
    "        tools=[rag_tool], \n",
    "        max_retry_limit=5\n",
    "    )\n",
    "    \n",
    "    task1 = Task(\n",
    "         description=input[0].parts[0].content,\n",
    "         expected_output = \"A comprehensive response as to the users question\",\n",
    "         agent=insurance_agent\n",
    "    )\n",
    "    crew = Crew(agents=[insurance_agent], tasks=[task1], verbose=True)\n",
    "    \n",
    "    task_output = await crew.kickoff_async()\n",
    "    yield Message(parts=[MessagePart(content=str(task_output))])\n",
    "\n",
    "if __name__ == \"__main__\":\n",
    "    server.run(port=8001)"
   ]
  },
  {
   "cell_type": "markdown",
   "id": "7eeda960-1a87-48d2-b536-017aef898e12",
   "metadata": {},
   "source": [
    "## 4.2. Run the Insurer ACP Server"
   ]
  },
  {
   "cell_type": "markdown",
   "id": "f2a26f5b-361c-4ce3-b6ca-7b58d9eabebc",
   "metadata": {},
   "source": [
    "Now to activate your configured ACP agent, you would need to run your agent server. The folder `my_acp_project` has been set up for you so you can run the agent server using `uv`:\n",
    "\n",
    "- Open the terminal by running the cell below\n",
    "- Type `uv run crew_agent_server.py` to run the server and activate your ACP agent.\n",
    "\n",
    "Please see note below if you want to replicate the work locally on your machine."
   ]
  },
  {
   "cell_type": "code",
   "execution_count": null,
   "id": "e2e0ab9f-e299-49e1-b5aa-076c6fd0b0d2",
   "metadata": {},
   "outputs": [],
   "source": [
    "from IPython.display import IFrame\n",
    "import os\n",
    "url = os.environ.get('DLAI_LOCAL_URL').format(port=8888)\n",
    "IFrame(f\"{url}terminals/1\", width=800, height=600)"
   ]
  },
  {
   "cell_type": "markdown",
   "id": "f96b590d",
   "metadata": {},
   "source": [
    "You now have an agent running on port 8001 that can receive messages from others, or be called via HTTP, using the ACP protocol. \n",
    "\n",
    "**Note**: If you see this warning: \n",
    "`WARNING: Can not reach server, check if running on http://127.0.0.1:8333 : Request failed after 5 retries`\n",
    "you can ignore it. You'll learn later in another lesson about the BeeAI platform, which a registry you can use to manage and discover agents. If the platform is installed, it runs by default on port 8333. The ACP servers are configured to automatically connect to the platform. Since the platform is not installed in this environment, the ACP server will generate a warning."
   ]
  },
  {
   "cell_type": "markdown",
   "id": "ceabc4e5",
   "metadata": {},
   "source": [
    "**Note: How to set up `my_acp_project` locally on your machine using the `uv` tool?**\n",
    "\n",
    "- First install `uv` by checking this [link](https://docs.astral.sh/uv/getting-started/installation/).\n",
    "\n",
    "After that, you can create `my_acp_project` in any directory of your choice, then in the terminal you can type the following commands:\n",
    "- `cd my_acp_porject`\n",
    "- `uv init`: to initialize the project\n",
    "- `uv venv`: to create a virtual environment\n",
    "- `uv add crewai crewai-tools acp-sdk load_dotenv nest-asyncio`: to define the dependencies.\n",
    "\n",
    "Then create `crew_agent_server.py` inside the `my_acp_project`.\n",
    "\n",
    "You can then run the server using `uv run`.  Since this code uses an OpenAI model, you would also need to specify an openAI API key in a `.env` file like this: `OPENAI_API_KEY=sk-...`. If you would like to use a local open source model using `Ollama`, please check the resource section below."
   ]
  },
  {
   "cell_type": "markdown",
   "id": "b3f25184",
   "metadata": {},
   "source": [
    "## Resources"
   ]
  },
  {
   "cell_type": "markdown",
   "id": "2c94b271",
   "metadata": {},
   "source": [
    "- [How to wrap Agent](https://agentcommunicationprotocol.dev/how-to/wrap-existing-agent)\n",
    "- [Configuration of ACP Agent](https://agentcommunicationprotocol.dev/core-concepts/agent-lifecycle#configuration)\n",
    "- [Same code using a local open source model: `ollama_chat/qwen2.5:14b`](https://github.com/nicknochnack/ACPWalkthrough/blob/main/2.%20CrewAI%20via%20Server.py)"
   ]
  },
  {
   "cell_type": "markdown",
   "id": "b8702523",
   "metadata": {},
   "source": [
    "<div style=\"background-color:#fff6ff; padding:13px; border-width:3px; border-color:#efe6ef; border-style:solid; border-radius:6px\">\n",
    "<p> ⬇ &nbsp; <b>Download Notebooks:</b> 1) click on the <em>\"File\"</em> option on the top menu of the notebook and then 2) click on <em>\"Download as\"</em> and select <em>\"Notebook (.ipynb)\"</em>.</p>\n",
    "\n",
    "</div>"
   ]
  }
 ],
 "metadata": {
  "kernelspec": {
   "display_name": "Python 3 (ipykernel)",
   "language": "python",
   "name": "python3"
  },
  "language_info": {
   "codemirror_mode": {
    "name": "ipython",
    "version": 3
   },
   "file_extension": ".py",
   "mimetype": "text/x-python",
   "name": "python",
   "nbconvert_exporter": "python",
   "pygments_lexer": "ipython3",
   "version": "3.11.6"
  }
 },
 "nbformat": 4,
 "nbformat_minor": 5
}
