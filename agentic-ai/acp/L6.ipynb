{
 "cells": [
  {
   "cell_type": "markdown",
   "id": "85fef7fd-1583-413a-a320-f130979642c8",
   "metadata": {},
   "source": [
    "# Lesson 6 - Wrapping a Smolagents Agent into an ACP Server"
   ]
  },
  {
   "cell_type": "markdown",
   "id": "7622f2c3",
   "metadata": {},
   "source": [
    "You will now create another ACP agent built with Smolagents. This second agent will be able to search the web to handle health based questions for patients.  You will wrap the agent definition in an ACP server similarly to how you did with the first RAG agent."
   ]
  },
  {
   "cell_type": "markdown",
   "id": "a65b5353-4b4e-4024-9cba-2a70d5d203d8",
   "metadata": {},
   "source": [
    "## 6.1. Wrap the Agent in ACP Server"
   ]
  },
  {
   "cell_type": "markdown",
   "id": "b49affb8",
   "metadata": {},
   "source": [
    "To define your agent, you will use [CodeAgent](https://smolagents.org/docs/agents-guided-tour/) from the Smolagents library. This type of agent writes and executes Python code at every step. For this agent, you will use two tools provided by Smolagents:\n",
    "\n",
    "- DuckDuckGoSearchTool: performs a web search using DuckDuckGo browser\n",
    "- VisitWebpageTool: can visit and extract content from web pages\n",
    "\n",
    "The agent is wrapped in an ACP server using `@server.agent()` decorator. The server will also run locally using a different port number: 8001. Run the following cell to save the agent as `smolagents_server.py` under `my_acp_project`."
   ]
  },
  {
   "cell_type": "code",
   "execution_count": null,
   "id": "8d9a42ee-c39a-4d47-ace0-6ab1c4da5c58",
   "metadata": {},
   "outputs": [],
   "source": [
    "%%writefile ../my_acp_project/smolagents_server.py\n",
    "from collections.abc import AsyncGenerator\n",
    "from acp_sdk.models import Message, MessagePart\n",
    "from acp_sdk.server import Context, RunYield, RunYieldResume, Server\n",
    "from smolagents import CodeAgent, DuckDuckGoSearchTool, LiteLLMModel, VisitWebpageTool\n",
    "import logging \n",
    "from dotenv import load_dotenv\n",
    "\n",
    "load_dotenv() \n",
    "\n",
    "server = Server()\n",
    "\n",
    "model = LiteLLMModel(\n",
    "    model_id=\"openai/gpt-4\",  \n",
    "    max_tokens=2048\n",
    ")\n",
    "\n",
    "@server.agent()\n",
    "async def health_agent(input: list[Message], context: Context) -> AsyncGenerator[RunYield, RunYieldResume]:\n",
    "    \"This is a CodeAgent which supports the hospital to handle health based questions for patients. Current or prospective patients can use it to find answers about their health and hospital treatments.\"\n",
    "    agent = CodeAgent(tools=[DuckDuckGoSearchTool(), VisitWebpageTool()], model=model)\n",
    "\n",
    "    prompt = input[0].parts[0].content\n",
    "    response = agent.run(prompt)\n",
    "\n",
    "    yield Message(parts=[MessagePart(content=str(response))])\n",
    "\n",
    "\n",
    "if __name__ == \"__main__\":\n",
    "    server.run(port=8000)"
   ]
  },
  {
   "cell_type": "markdown",
   "id": "b9527288-8508-4f79-b1f3-ecf301a93c72",
   "metadata": {},
   "source": [
    "## 6.2. Run the Hospital ACP Server"
   ]
  },
  {
   "cell_type": "markdown",
   "id": "61e6f7f0-c8ae-4084-b4e4-1f5314992b1a",
   "metadata": {},
   "source": [
    "Now to activate your configured ACP agent, you also need to run your agent from another terminal.\n",
    "\n",
    "- Open the second terminal by running the cell below;\n",
    "- Type `uv run smolagents_server.py` to run the server and activate your ACP agent.\n",
    "\n",
    "Please see note below if you want to replicate the work locally on your machine."
   ]
  },
  {
   "cell_type": "code",
   "execution_count": null,
   "id": "fe453dba-3385-4630-8240-67e422a207ab",
   "metadata": {},
   "outputs": [],
   "source": [
    "from IPython.display import IFrame\n",
    "import os\n",
    "url = os.environ.get('DLAI_LOCAL_URL').format(port=8888)\n",
    "IFrame(f\"{url}terminals/2\", width=800, height=600)"
   ]
  },
  {
   "cell_type": "markdown",
   "id": "0d6a83fd",
   "metadata": {},
   "source": [
    "If you see this warning: \n",
    "`WARNING: Can not reach server, check if running on http://127.0.0.1:8333 : Request failed after 5 retries`\n",
    "you can ignore it. You'll learn later in another lesson about the BeeAI platform, which a registry you can use to manage and discover agents. If the platform is installed, it runs by default on port 8333. The ACP servers are configured to automatically connect to the platform. Since the platform is not installed in this environment, the ACP server will generate a warning."
   ]
  },
  {
   "cell_type": "markdown",
   "id": "32efb318",
   "metadata": {},
   "source": [
    "**Note: How to update the `my_acp_project` locally on your machine so you can run the second server?**\n",
    "- cd `my_acp_project`\n",
    "- `uv add smolagents duckduckgo-search markdownify requests`"
   ]
  },
  {
   "cell_type": "markdown",
   "id": "a54e772d",
   "metadata": {},
   "source": [
    "## 6.3. Resources"
   ]
  },
  {
   "cell_type": "markdown",
   "id": "59a5de6c",
   "metadata": {},
   "source": [
    "- [Smolagents doc](https://smolagents.org/docs/smolagent-docs/)\n",
    "- [Short course: Building Code Agents with Hugging Face Smolagents ](https://www.deeplearning.ai/short-courses/building-code-agents-with-hugging-face-smolagents/)\n",
    "- [Same code using a local open source model: `ollama_chat/qwen2.5:14b`](https://github.com/nicknochnack/ACPWalkthrough/blob/main/4.%20smolagents%20ACP.py)"
   ]
  },
  {
   "cell_type": "markdown",
   "id": "10c92f46",
   "metadata": {},
   "source": [
    "<p style=\"background-color:#fff6ff; padding:15px; border-width:3px; border-color:#efe6ef; border-style:solid; border-radius:6px\"> 💻 &nbsp; <b>To access the <code>my_acp_project</code> folder:</b> 1) click on the <em>\"File\"</em> option on the top menu of the notebook and then 2) click on <em>\"Open\"</em>. "
   ]
  },
  {
   "cell_type": "markdown",
   "id": "d3699204",
   "metadata": {},
   "source": [
    "<div style=\"background-color:#fff6ff; padding:13px; border-width:3px; border-color:#efe6ef; border-style:solid; border-radius:6px\">\n",
    "<p> ⬇ &nbsp; <b>Download Notebooks:</b> 1) click on the <em>\"File\"</em> option on the top menu of the notebook and then 2) click on <em>\"Download as\"</em> and select <em>\"Notebook (.ipynb)\"</em>.</p>\n",
    "\n",
    "</div>"
   ]
  }
 ],
 "metadata": {
  "kernelspec": {
   "display_name": "Python 3 (ipykernel)",
   "language": "python",
   "name": "python3"
  },
  "language_info": {
   "codemirror_mode": {
    "name": "ipython",
    "version": 3
   },
   "file_extension": ".py",
   "mimetype": "text/x-python",
   "name": "python",
   "nbconvert_exporter": "python",
   "pygments_lexer": "ipython3",
   "version": "3.11.6"
  }
 },
 "nbformat": 4,
 "nbformat_minor": 5
}
