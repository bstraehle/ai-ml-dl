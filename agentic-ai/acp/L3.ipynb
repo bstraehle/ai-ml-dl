{
 "cells": [
  {
   "cell_type": "markdown",
   "id": "58502ae5-b320-4097-a5fb-1a7fabd62ed5",
   "metadata": {},
   "source": [
    "# Lesson 3 - Building a RAG Agent with CrewAI"
   ]
  },
  {
   "cell_type": "markdown",
   "id": "fa297dfd",
   "metadata": {},
   "source": [
    "In this lesson, you will build a RAG agent with `CrewAI`. You will do that by integrating `RagTool` from `crewai_tools` with a `CrewAI` agent. `RagTool` provides a way to create and query knowledge bases from various data sources, and allows the agent to access specialized context. In this lesson, you will provide the RAG tool a pdf file containing details about insurance coverage provided by a private health insurer. By the end of the lesson, you will build an insurer agent specialized in answering queries related to health benefits. In the next lessons, you will wrap this agent in an ACP server and make it interact with other ACP agents."
   ]
  },
  {
   "cell_type": "markdown",
   "id": "cad74450",
   "metadata": {},
   "source": [
    "<p style=\"background-color:#fff6ff; padding:15px; border-width:3px; border-color:#efe6ef; border-style:solid; border-radius:6px\"> 💻 &nbsp; <b>To Access <code>requirements.txt</code> and the <code>data</code> files:</b> 1) click on the <em>\"File\"</em> option on the top menu of the notebook and then 2) click on <em>\"Open\"</em>. For more help, please see the <em>\"Appendix – Tips, Help, and Download\"</em> Lesson.</p>"
   ]
  },
  {
   "cell_type": "markdown",
   "id": "b500d665",
   "metadata": {},
   "source": [
    "## 3.1. Import Libraries"
   ]
  },
  {
   "cell_type": "code",
   "execution_count": null,
   "id": "95a5c843-7fc4-410e-9b1a-c197e45477ac",
   "metadata": {},
   "outputs": [],
   "source": [
    "from crewai import Crew, Task, Agent, LLM\n",
    "from crewai_tools import RagTool"
   ]
  },
  {
   "cell_type": "code",
   "execution_count": null,
   "id": "4cad7d82-1911-4ff2-bf15-0921a1c37b68",
   "metadata": {},
   "outputs": [],
   "source": [
    "import warnings\n",
    "warnings.filterwarnings('ignore')"
   ]
  },
  {
   "cell_type": "markdown",
   "id": "aa6d9f55",
   "metadata": {},
   "source": [
    "## 3.2. Define the Agent's Large Language Model"
   ]
  },
  {
   "cell_type": "markdown",
   "id": "fa517dc3",
   "metadata": {},
   "source": [
    "You'll now define the large language model that you will use for your CrewAI agent. `max_tokens`: maximum number of tokens the model can generate in a single response.\n",
    "\n",
    "**Note**: If you will define this model locally, it requires that you define the API key in a **.env** file as follows:\n",
    "```\n",
    "# Required\n",
    "OPENAI_API_KEY=sk-...\n",
    "\n",
    "# Optional\n",
    "OPENAI_API_BASE=<custom-base-url>\n",
    "OPENAI_ORGANIZATION=<your-org-id>\n",
    "```"
   ]
  },
  {
   "cell_type": "code",
   "execution_count": null,
   "id": "1210effe-3404-4074-941c-99caab76a467",
   "metadata": {},
   "outputs": [],
   "source": [
    "llm = LLM(model=\"openai/gpt-4\", max_tokens=1024)"
   ]
  },
  {
   "cell_type": "markdown",
   "id": "3236ffd3",
   "metadata": {},
   "source": [
    "## 3.3. Define the RAG Tool"
   ]
  },
  {
   "cell_type": "markdown",
   "id": "5ae5afb4",
   "metadata": {},
   "source": [
    "For the RAG tool, you can define the model provider and the embedding model in a configuration Python dictionary. You can also define the details of your vector database. If you don't specify the vector database, the RagTool will use Chroma (ChromaDB) as the default vector database in local/in-memory mode."
   ]
  },
  {
   "cell_type": "code",
   "execution_count": null,
   "id": "eb8038c9-ff77-4225-8986-01afde9c6506",
   "metadata": {},
   "outputs": [],
   "source": [
    "config = {\n",
    "    \"llm\": {\n",
    "        \"provider\": \"openai\",\n",
    "        \"config\": {\n",
    "            \"model\": \"gpt-4\",\n",
    "        }\n",
    "    },\n",
    "    \"embedding_model\": {\n",
    "        \"provider\": \"openai\",\n",
    "        \"config\": {\n",
    "            \"model\": \"text-embedding-ada-002\"\n",
    "        }\n",
    "    }\n",
    "}"
   ]
  },
  {
   "cell_type": "markdown",
   "id": "ee65f01d",
   "metadata": {},
   "source": [
    "You can then pass the `config` to the `RagTool`, and then specify the data source for which the knowledge base will be constructed. When embedding your data, the `RagTool` chunks your document into chunks and create an embedding vector for each chunk. You can specify the chunk size (`chunk_size`: number of characters) and how many characters overlap between consecutive chunks (`chunk_overlap`). You can also use the default behavior."
   ]
  },
  {
   "cell_type": "code",
   "execution_count": null,
   "id": "d438a239-443c-4e85-bfef-cef76d83e7d0",
   "metadata": {},
   "outputs": [],
   "source": [
    "rag_tool = RagTool(config=config,  \n",
    "                   chunk_size=1200,       \n",
    "                   chunk_overlap=200,     \n",
    "                  )\n",
    "rag_tool.add(\"../data/gold-hospital-and-premium-extras.pdf\", data_type=\"pdf_file\")"
   ]
  },
  {
   "cell_type": "code",
   "execution_count": null,
   "id": "9c73082a-7c67-4845-b311-e4e5e0978312",
   "metadata": {},
   "outputs": [],
   "source": [
    "rag_tool"
   ]
  },
  {
   "cell_type": "markdown",
   "id": "76b34384",
   "metadata": {},
   "source": [
    "## 3.4. Define the Insurance Agent"
   ]
  },
  {
   "cell_type": "markdown",
   "id": "17f344aa",
   "metadata": {},
   "source": [
    "Now that you have the `rag_tool` defined, you define the CrewAI agent that can assist with insurance coverage queries."
   ]
  },
  {
   "cell_type": "code",
   "execution_count": null,
   "id": "3687f923-cd08-4e82-bfe3-1d47304a8c92",
   "metadata": {},
   "outputs": [],
   "source": [
    "insurance_agent = Agent(\n",
    "    role=\"Senior Insurance Coverage Assistant\", \n",
    "    goal=\"Determine whether something is covered or not\",\n",
    "    backstory=\"You are an expert insurance agent designed to assist with coverage queries\",\n",
    "    verbose=True,\n",
    "    allow_delegation=False,\n",
    "    llm=llm,\n",
    "    tools=[rag_tool], \n",
    "    max_retry_limit=5\n",
    ")"
   ]
  },
  {
   "cell_type": "markdown",
   "id": "2e138339",
   "metadata": {},
   "source": [
    "## 3.5. Define the Agent Task"
   ]
  },
  {
   "cell_type": "markdown",
   "id": "376fa787",
   "metadata": {},
   "source": [
    "Let's now test the insurance agent. For that, you need to define the agent task and pass to it the query and the agent."
   ]
  },
  {
   "cell_type": "code",
   "execution_count": null,
   "id": "7e161f8c-632c-4fa6-b009-96b0b9b7ac8e",
   "metadata": {},
   "outputs": [],
   "source": [
    "task1 = Task(\n",
    "        description='What is the waiting period for rehabilitation?',\n",
    "        expected_output = \"A comprehensive response as to the users question\",\n",
    "        agent=insurance_agent\n",
    ")"
   ]
  },
  {
   "cell_type": "markdown",
   "id": "bbc0223f",
   "metadata": {},
   "source": [
    "## 3.6. Run the Insurance Agent"
   ]
  },
  {
   "cell_type": "markdown",
   "id": "ed782541",
   "metadata": {},
   "source": [
    "To run the agent, you need to pass the agent and the task to a Crew object that you can run using the `kickoff` method."
   ]
  },
  {
   "cell_type": "code",
   "execution_count": null,
   "id": "6079bd73-52e1-42b2-8aee-73f4a5d8cfa7",
   "metadata": {},
   "outputs": [],
   "source": [
    "crew = Crew(agents=[insurance_agent], tasks=[task1], verbose=True)\n",
    "task_output = crew.kickoff()\n",
    "print(task_output) "
   ]
  },
  {
   "cell_type": "markdown",
   "id": "f15e8c91",
   "metadata": {},
   "source": [
    "## 3.7. Resources"
   ]
  },
  {
   "cell_type": "markdown",
   "id": "970b9431",
   "metadata": {},
   "source": [
    "- [CrewAI Agents](https://docs.crewai.com/concepts/agents)\n",
    "- [CrewAI Tasks](https://docs.crewai.com/concepts/tasks)\n",
    "- [CrewAI RagTool](https://docs.crewai.com/tools/ai-ml/ragtool)\n",
    "- [Short course on Multi Agents with CrewAI](https://www.deeplearning.ai/short-courses/multi-ai-agent-systems-with-crewai/)"
   ]
  },
  {
   "cell_type": "markdown",
   "id": "4a54f140",
   "metadata": {},
   "source": [
    "<div style=\"background-color:#fff6ff; padding:13px; border-width:3px; border-color:#efe6ef; border-style:solid; border-radius:6px\">\n",
    "<p> ⬇ &nbsp; <b>Download Notebooks:</b> 1) click on the <em>\"File\"</em> option on the top menu of the notebook and then 2) click on <em>\"Download as\"</em> and select <em>\"Notebook (.ipynb)\"</em>.</p>\n",
    "\n",
    "</div>"
   ]
  }
 ],
 "metadata": {
  "kernelspec": {
   "display_name": "Python 3 (ipykernel)",
   "language": "python",
   "name": "python3"
  },
  "language_info": {
   "codemirror_mode": {
    "name": "ipython",
    "version": 3
   },
   "file_extension": ".py",
   "mimetype": "text/x-python",
   "name": "python",
   "nbconvert_exporter": "python",
   "pygments_lexer": "ipython3",
   "version": "3.11.6"
  }
 },
 "nbformat": 4,
 "nbformat_minor": 5
}
