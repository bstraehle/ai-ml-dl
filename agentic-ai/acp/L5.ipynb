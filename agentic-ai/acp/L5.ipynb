{
 "cells": [
  {
   "cell_type": "markdown",
   "id": "58502ae5-b320-4097-a5fb-1a7fabd62ed5",
   "metadata": {},
   "source": [
    "# Lesson 5 - Calling an ACP Agent using the Client"
   ]
  },
  {
   "cell_type": "markdown",
   "id": "62d274fe",
   "metadata": {},
   "source": [
    "Now you have your ACP agent activated, you can now interact with it by sending requests from an ACP client. \n",
    "\n",
    "<img src=\"client-server.png\" width=\"450\">"
   ]
  },
  {
   "cell_type": "markdown",
   "id": "7eeda960-1a87-48d2-b536-017aef898e12",
   "metadata": {},
   "source": [
    "## 5.1. Run the Insurer ACP Server"
   ]
  },
  {
   "cell_type": "markdown",
   "id": "f2a26f5b-361c-4ce3-b6ca-7b58d9eabebc",
   "metadata": {},
   "source": [
    "First make sure the server is still running:\n",
    "- Open the terminal by running the cell below.\n",
    "- If the agent is still running from the previous lesson, then you don't need to do anything else.\n",
    "- If the agent has stopped running (the lab environment resets after 120 min), then you can run the server again by typing:\n",
    "  - `uv run crew_agent_server.py`\n",
    "\n",
    "**Note**: If you see this warning: \n",
    "`WARNING: Can not reach server, check if running on http://127.0.0.1:8333 : Request failed after 5 retries`\n",
    "you can ignore it. You'll learn later in another lesson about the BeeAI platform, which a registry you can use to manage and discover agents. If the platform is installed, it runs by default on port 8333. The ACP servers are configured to automatically connect to the platform. Since the platform is not installed in this environment, the ACP server will generate a warning."
   ]
  },
  {
   "cell_type": "code",
   "execution_count": null,
   "id": "e2e0ab9f-e299-49e1-b5aa-076c6fd0b0d2",
   "metadata": {},
   "outputs": [],
   "source": [
    "from IPython.display import IFrame\n",
    "import os\n",
    "url = os.environ.get('DLAI_LOCAL_URL').format(port=8888)\n",
    "IFrame(f\"{url}terminals/1\", width=800, height=600)"
   ]
  },
  {
   "cell_type": "markdown",
   "id": "a45fa876-e743-4bbb-943a-4cb3a0c52630",
   "metadata": {},
   "source": [
    "## 5.2. Run the ACP Client "
   ]
  },
  {
   "cell_type": "markdown",
   "id": "adfb4fb4",
   "metadata": {},
   "source": [
    "Now you will create an ACP client to interact with the ACP server. \n",
    "\n",
    "**Why `nest_asyncio` is needed?**\n",
    "\n",
    "You will run the ACP client from the environment of the jupyter notebook. Since the ACP client is an an asyncio process (can send asynchronous requests to the server), you will need first to import `nest_asyncio`. This is because the Jupyter notebook already runs an asyncio event loop in the background to handle various operations. When you try to run your own `asyncio` code (`asyncio.run()`), Python throws an error because you're trying to start a new event loop while one is already running. `nest_asyncio.apply()` allows nested event loops, which lets you run async code directly in Jupyter cells."
   ]
  },
  {
   "cell_type": "code",
   "execution_count": null,
   "id": "71a73abb-654e-4131-aaeb-9b915a3ac27a",
   "metadata": {},
   "outputs": [],
   "source": [
    "import nest_asyncio\n",
    "nest_asyncio.apply()"
   ]
  },
  {
   "cell_type": "markdown",
   "id": "b705d384",
   "metadata": {},
   "source": [
    "Since the agent is running locally at port 8001, all you need to do is to pass the endpoint `http://localhost:8001` to the client so it can discover the agents hosted inside the server. Using the `client`, you can execute the agent synchronously using the method `run_sync` (Synchronous execution waits until the agent completes processing and returns a single response). You will need to pass to `run_sync` the name of agent and the input message."
   ]
  },
  {
   "cell_type": "code",
   "execution_count": null,
   "id": "0f5c00cf-ce67-4b26-b248-34045df1f726",
   "metadata": {},
   "outputs": [],
   "source": [
    "from acp_sdk.client import Client\n",
    "import asyncio\n",
    "from colorama import Fore \n",
    "\n",
    "async def example() -> None:\n",
    "    async with Client(base_url=\"http://localhost:8001\") as client:\n",
    "        run = await client.run_sync(\n",
    "            agent=\"policy_agent\", input=\"What is the waiting period for rehabilitation?\"\n",
    "        )\n",
    "        print(Fore.YELLOW + run.output[0].parts[0].content + Fore.RESET)"
   ]
  },
  {
   "cell_type": "code",
   "execution_count": null,
   "id": "ac9c7b1b-23bc-4613-a699-106b42343f14",
   "metadata": {},
   "outputs": [],
   "source": [
    "asyncio.run(example())"
   ]
  },
  {
   "cell_type": "markdown",
   "id": "05a08003",
   "metadata": {},
   "source": [
    "You can also execute the agent in asynchronous or streaming ways (check the documentation [here](https://agentcommunicationprotocol.dev/how-to/discover-and-run-agent#run-an-agent))."
   ]
  },
  {
   "cell_type": "markdown",
   "id": "86cea315",
   "metadata": {},
   "source": [
    "## 5.3. Resources"
   ]
  },
  {
   "cell_type": "markdown",
   "id": "9570c813",
   "metadata": {},
   "source": [
    "- [Discover and Run Agent](https://agentcommunicationprotocol.dev/how-to/discover-and-run-agent)\n",
    "- [Client as a Python File](https://github.com/nicknochnack/ACPWalkthrough/blob/main/3.%20ACP%20client%20to%20CrewAI%20Server.py)"
   ]
  },
  {
   "cell_type": "markdown",
   "id": "ac81572c",
   "metadata": {},
   "source": [
    "<p style=\"background-color:#fff6ff; padding:15px; border-width:3px; border-color:#efe6ef; border-style:solid; border-radius:6px\"> 💻 &nbsp; <b>To access the <code>my_acp_project</code> folder:</b> 1) click on the <em>\"File\"</em> option on the top menu of the notebook and then 2) click on <em>\"Open\"</em>. "
   ]
  },
  {
   "cell_type": "markdown",
   "id": "18baf597",
   "metadata": {},
   "source": [
    "<div style=\"background-color:#fff6ff; padding:13px; border-width:3px; border-color:#efe6ef; border-style:solid; border-radius:6px\">\n",
    "<p> ⬇ &nbsp; <b>Download Notebooks:</b> 1) click on the <em>\"File\"</em> option on the top menu of the notebook and then 2) click on <em>\"Download as\"</em> and select <em>\"Notebook (.ipynb)\"</em>.</p>\n",
    "\n",
    "</div>"
   ]
  }
 ],
 "metadata": {
  "kernelspec": {
   "display_name": "Python 3 (ipykernel)",
   "language": "python",
   "name": "python3"
  },
  "language_info": {
   "codemirror_mode": {
    "name": "ipython",
    "version": 3
   },
   "file_extension": ".py",
   "mimetype": "text/x-python",
   "name": "python",
   "nbconvert_exporter": "python",
   "pygments_lexer": "ipython3",
   "version": "3.11.6"
  }
 },
 "nbformat": 4,
 "nbformat_minor": 5
}
