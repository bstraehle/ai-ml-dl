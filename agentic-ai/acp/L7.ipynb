{
 "cells": [
  {
   "cell_type": "markdown",
   "id": "85fef7fd-1583-413a-a320-f130979642c8",
   "metadata": {},
   "source": [
    "# Lesson 7 - Sequentially Chaining the Agent Calls"
   ]
  },
  {
   "cell_type": "markdown",
   "id": "44d0528f",
   "metadata": {},
   "source": [
    "Now that you have two activated ACP servers, you will create a sequential workflow by sequentially chaining the two agents as follows:\n",
    "- the Hospital agent that handles health-based questions for patients will execute first;\n",
    "- the Insurer agent that handles questions related to insurance coverage will execute secondly; \n",
    "- since these two agents are hosted on two separate servers, you will need two clients: each client will interact with one server.\n",
    "  - the first client will send the user's query to the hospital server and receives the response from the server;\n",
    "  - you will pass the response from the first client to the second client which will combine in its query and send it to the second server \n",
    "\n",
    "<img src=\"seq.png\" width=\"650\">"
   ]
  },
  {
   "cell_type": "markdown",
   "id": "afbb04f0-d77e-4e0f-8014-d065fc37c2ed",
   "metadata": {},
   "source": [
    "## 7.1. Run the Insurer ACP Server"
   ]
  },
  {
   "cell_type": "markdown",
   "id": "e723ed2d-c9a3-4a2c-ba7d-9c4174079dd3",
   "metadata": {},
   "source": [
    "First make sure the Insurer server is still running:\n",
    "- Open the terminal by running the cell below.\n",
    "- If the agent is still running from the previous lessons, then you don't need to do anything else.\n",
    "- If the agent has stopped running (the lab environment resets after 120 min), then you can run the server again by typing:\n",
    "  - `uv run crew_agent_server.py`"
   ]
  },
  {
   "cell_type": "code",
   "execution_count": null,
   "id": "b72b22c0-3923-49ed-b54e-06d60fc52de8",
   "metadata": {},
   "outputs": [],
   "source": [
    "from IPython.display import IFrame\n",
    "import os\n",
    "url = os.environ.get('DLAI_LOCAL_URL').format(port=8888)\n",
    "IFrame(f\"{url}terminals/1\", width=800, height=600)"
   ]
  },
  {
   "cell_type": "markdown",
   "id": "b9527288-8508-4f79-b1f3-ecf301a93c72",
   "metadata": {},
   "source": [
    "## 7.2. Run the Hospital ACP Server"
   ]
  },
  {
   "cell_type": "markdown",
   "id": "61e6f7f0-c8ae-4084-b4e4-1f5314992b1a",
   "metadata": {},
   "source": [
    "Also make sure the Hospital server is still running:\n",
    "- Open the terminal by running the cell below.\n",
    "- If the agent is still running from the previous lessons, then you don't need to do anything else.\n",
    "- If the agent has stopped running (the lab environment resets after 120 min), then you can run the server again by typing:\n",
    "  - `uv run smolagents_server.py`\n",
    "\n",
    "\n",
    "**Note**: If you see this warning: \n",
    "`WARNING: Can not reach server, check if running on http://127.0.0.1:8333 : Request failed after 5 retries`\n",
    "you can ignore it. You'll learn later in another lesson about the BeeAI platform, which a registry you can use to manage and discover agents. If the platform is installed, it runs by default on port 8333. The ACP servers are configured to automatically connect to the platform. Since the platform is not installed in this environment, the ACP server will generate a warning."
   ]
  },
  {
   "cell_type": "code",
   "execution_count": null,
   "id": "fe453dba-3385-4630-8240-67e422a207ab",
   "metadata": {},
   "outputs": [],
   "source": [
    "from IPython.display import IFrame\n",
    "import os\n",
    "url = os.environ.get('DLAI_LOCAL_URL').format(port=8888)\n",
    "IFrame(f\"{url}terminals/2\", width=800, height=600)"
   ]
  },
  {
   "cell_type": "markdown",
   "id": "1fc2b8c8-18d1-41d3-988e-9ac113290f35",
   "metadata": {},
   "source": [
    "## 7.3. Chain the LLM Calls "
   ]
  },
  {
   "cell_type": "markdown",
   "id": "79167488",
   "metadata": {},
   "source": [
    "You will now create two ACP clients, each will interact with one agent so that hospital agent will execute first and the insurer agent will execute secondly."
   ]
  },
  {
   "cell_type": "code",
   "execution_count": null,
   "id": "80c34c64-3092-418f-adda-fdc73fa7402a",
   "metadata": {},
   "outputs": [],
   "source": [
    "import nest_asyncio\n",
    "nest_asyncio.apply()"
   ]
  },
  {
   "cell_type": "code",
   "execution_count": null,
   "id": "8330f745-d01d-4978-af07-b33c8ad670b6",
   "metadata": {},
   "outputs": [],
   "source": [
    "from acp_sdk.client import Client\n",
    "import asyncio\n",
    "from colorama import Fore \n",
    "\n",
    "async def run_hospital_workflow() -> None:\n",
    "    async with Client(base_url=\"http://localhost:8001\") as insurer, Client(base_url=\"http://localhost:8000\") as hospital:\n",
    "        run1 = await hospital.run_sync(\n",
    "            agent=\"health_agent\", input=\"Do I need rehabilitation after a shoulder reconstruction?\"\n",
    "        )\n",
    "        content = run1.output[0].parts[0].content\n",
    "        print(Fore.LIGHTMAGENTA_EX+ content + Fore.RESET)\n",
    "\n",
    "        run2 = await insurer.run_sync(\n",
    "            agent=\"policy_agent\", input=f\"Context: {content} What is the waiting period for rehabilitation?\"\n",
    "        )\n",
    "        print(Fore.YELLOW + run2.output[0].parts[0].content + Fore.RESET)"
   ]
  },
  {
   "cell_type": "code",
   "execution_count": null,
   "id": "097bf9e4-8b9a-4c3d-b328-fcbb41e0cca9",
   "metadata": {},
   "outputs": [],
   "source": [
    "\n",
    "asyncio.run(run_hospital_workflow())"
   ]
  },
  {
   "cell_type": "markdown",
   "id": "b247be46",
   "metadata": {},
   "source": [
    "## 7.4. Resources"
   ]
  },
  {
   "cell_type": "markdown",
   "id": "86908e79",
   "metadata": {},
   "source": [
    "- [Compose Agents](https://agentcommunicationprotocol.dev/how-to/compose-agents)\n",
    "- [Chained Agents as a Python file](https://github.com/nicknochnack/ACPWalkthrough/blob/main/5.%20Chained%20Agents.py)"
   ]
  },
  {
   "cell_type": "markdown",
   "id": "26192903",
   "metadata": {},
   "source": [
    "<p style=\"background-color:#fff6ff; padding:15px; border-width:3px; border-color:#efe6ef; border-style:solid; border-radius:6px\"> 💻 &nbsp; <b>To access the <code>my_acp_project</code> folder:</b> 1) click on the <em>\"File\"</em> option on the top menu of the notebook and then 2) click on <em>\"Open\"</em>. "
   ]
  },
  {
   "cell_type": "markdown",
   "id": "c6971e28",
   "metadata": {},
   "source": [
    "<div style=\"background-color:#fff6ff; padding:13px; border-width:3px; border-color:#efe6ef; border-style:solid; border-radius:6px\">\n",
    "<p> ⬇ &nbsp; <b>Download Notebooks:</b> 1) click on the <em>\"File\"</em> option on the top menu of the notebook and then 2) click on <em>\"Download as\"</em> and select <em>\"Notebook (.ipynb)\"</em>.</p>\n",
    "\n",
    "</div>"
   ]
  }
 ],
 "metadata": {
  "kernelspec": {
   "display_name": "Python 3 (ipykernel)",
   "language": "python",
   "name": "python3"
  },
  "language_info": {
   "codemirror_mode": {
    "name": "ipython",
    "version": 3
   },
   "file_extension": ".py",
   "mimetype": "text/x-python",
   "name": "python",
   "nbconvert_exporter": "python",
   "pygments_lexer": "ipython3",
   "version": "3.11.6"
  }
 },
 "nbformat": 4,
 "nbformat_minor": 5
}
