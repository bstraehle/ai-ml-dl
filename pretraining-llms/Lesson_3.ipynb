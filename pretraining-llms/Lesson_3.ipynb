{
 "cells": [
  {
   "cell_type": "markdown",
   "id": "e93b5be4-1d2f-4f81-b603-dc5317dc9922",
   "metadata": {},
   "source": [
    "# Lesson 3: Data Packaging\n",
    "## 1. Tokenizing and creating input_ids\n",
    "\n",
    "Start by loading the dataset from the previous lesson:"
   ]
  },
  {
   "cell_type": "code",
   "execution_count": null,
   "id": "42fd6984-9ef5-49ef-97f0-3bf6d61ab5ec",
   "metadata": {
    "height": 149
   },
   "outputs": [],
   "source": [
    "import datasets\n",
    "\n",
    "dataset = datasets.load_dataset(\n",
    "    \"parquet\", \n",
    "    data_files=\"./data/preprocessed_dataset.parquet\", \n",
    "    split=\"train\"\n",
    ")\n",
    "print(dataset)"
   ]
  },
  {
   "cell_type": "markdown",
   "id": "6c26b86b",
   "metadata": {},
   "source": [
    "Use the `shard` method of the Hugging Face `Dataset` object to split the dataset into 10 smaller pieces, or *shards* (think shards of broken glass). You can read more about sharding at [this link](https://huggingface.co/docs/datasets/en/process#shard)."
   ]
  },
  {
   "cell_type": "code",
   "execution_count": null,
   "id": "be9222e8-427c-472c-9be3-d637e708ec77",
   "metadata": {
    "height": 47
   },
   "outputs": [],
   "source": [
    "dataset = dataset.shard(num_shards=10, index=0)\n",
    "print(dataset)"
   ]
  },
  {
   "cell_type": "markdown",
   "id": "2b7eaaf4",
   "metadata": {},
   "source": [
    "Load the tokenizer and try it out:"
   ]
  },
  {
   "cell_type": "code",
   "execution_count": null,
   "id": "5dc1e279-a00b-495f-be17-c349278f60fa",
   "metadata": {
    "height": 115
   },
   "outputs": [],
   "source": [
    "from transformers import AutoTokenizer\n",
    "model_path_or_name = \"./models/upstage/SOLAR-10.7B-v1.0\"\n",
    "tokenizer = AutoTokenizer.from_pretrained(\n",
    "    model_path_or_name, \n",
    "    use_fast=False\n",
    ")"
   ]
  },
  {
   "cell_type": "code",
   "execution_count": null,
   "id": "cb71f812-1196-46e4-849b-265a98060fbd",
   "metadata": {
    "height": 30
   },
   "outputs": [],
   "source": [
    "tokenizer.tokenize(\"I'm a short sentence\")"
   ]
  },
  {
   "cell_type": "markdown",
   "id": "148df352",
   "metadata": {},
   "source": [
    "Create a helper function:"
   ]
  },
  {
   "cell_type": "code",
   "execution_count": null,
   "id": "e62159f4-9764-4685-9353-1d2555a9fe48",
   "metadata": {
    "height": 353
   },
   "outputs": [],
   "source": [
    "def tokenization(example):\n",
    "    # Tokenize\n",
    "    tokens = tokenizer.tokenize(example[\"text\"])\n",
    "\n",
    "    # Convert tokens to ids\n",
    "    token_ids = tokenizer.convert_tokens_to_ids(tokens)\n",
    "\n",
    "    # Add <bos>, <eos> tokens to the front and back of tokens_ids \n",
    "    # bos: begin of sequence, eos: end of sequence\n",
    "    token_ids = [\n",
    "        tokenizer.bos_token_id] \\\n",
    "        + token_ids \\\n",
    "        + [tokenizer.eos_token_id\n",
    "    ]\n",
    "    example[\"input_ids\"] = token_ids\n",
    "\n",
    "    # We will be using this column to count the total number of tokens \n",
    "    # in the final dataset\n",
    "    example[\"num_tokens\"] = len(token_ids)\n",
    "    return example"
   ]
  },
  {
   "cell_type": "markdown",
   "id": "a956459d",
   "metadata": {},
   "source": [
    "Tokenize all the examples in the pretraining dataset:"
   ]
  },
  {
   "cell_type": "code",
   "execution_count": null,
   "id": "5ce5581f-003c-44f7-abb7-6b004c53dc5d",
   "metadata": {
    "height": 47
   },
   "outputs": [],
   "source": [
    "dataset = dataset.map(tokenization, load_from_cache_file=False)\n",
    "print(dataset)"
   ]
  },
  {
   "cell_type": "code",
   "execution_count": null,
   "id": "38a85094-0454-4123-b346-e4c65b919508",
   "metadata": {
    "height": 98
   },
   "outputs": [],
   "source": [
    "sample = dataset[3]\n",
    "\n",
    "print(\"text\", sample[\"text\"][:30]) # \n",
    "print(\"\\ninput_ids\", sample[\"input_ids\"][:30])\n",
    "print(\"\\nnum_tokens\", sample[\"num_tokens\"])"
   ]
  },
  {
   "cell_type": "markdown",
   "id": "a989d139",
   "metadata": {},
   "source": [
    "Check the total number of tokens in the dataset:"
   ]
  },
  {
   "cell_type": "code",
   "execution_count": null,
   "id": "17587a90-a707-465e-868d-75ea7b647dfb",
   "metadata": {
    "height": 47
   },
   "outputs": [],
   "source": [
    "import numpy as np\n",
    "np.sum(dataset[\"num_tokens\"])"
   ]
  },
  {
   "cell_type": "markdown",
   "id": "31f8b1a8-f9ec-40d4-8908-370062183b2b",
   "metadata": {},
   "source": [
    "## 2. Packing the data"
   ]
  },
  {
   "cell_type": "markdown",
   "id": "0414042b",
   "metadata": {},
   "source": [
    "![Packing data for training](./data_packing.png)"
   ]
  },
  {
   "cell_type": "markdown",
   "id": "386325db",
   "metadata": {},
   "source": [
    "Concatenate input_ids for all examples into a single list:"
   ]
  },
  {
   "cell_type": "code",
   "execution_count": null,
   "id": "61d75e13-9038-4c4b-9bf4-8230260dcc54",
   "metadata": {
    "height": 47
   },
   "outputs": [],
   "source": [
    "input_ids = np.concatenate(dataset[\"input_ids\"])\n",
    "print(len(input_ids))"
   ]
  },
  {
   "cell_type": "code",
   "execution_count": null,
   "id": "40ece0a4-663c-40fb-a468-ca1d0e9b8b15",
   "metadata": {
    "height": 30
   },
   "outputs": [],
   "source": [
    "max_seq_length = 32"
   ]
  },
  {
   "cell_type": "code",
   "execution_count": null,
   "id": "7be52b2b-1ef4-447c-ad16-eb96e0bc84d8",
   "metadata": {
    "height": 47
   },
   "outputs": [],
   "source": [
    "total_length = len(input_ids) - len(input_ids) % max_seq_length\n",
    "print(total_length)"
   ]
  },
  {
   "cell_type": "markdown",
   "id": "0791a4fd",
   "metadata": {},
   "source": [
    "Discard extra tokens from end of the list so number of tokens is exactly divisible by `max_seq_length`:"
   ]
  },
  {
   "cell_type": "code",
   "execution_count": null,
   "id": "e71708c6-8362-4b54-a954-c76614df428a",
   "metadata": {
    "height": 47
   },
   "outputs": [],
   "source": [
    "input_ids = input_ids[:total_length]\n",
    "print(input_ids.shape)"
   ]
  },
  {
   "cell_type": "code",
   "execution_count": null,
   "id": "5b08a247-94b0-451f-928b-12c28501d47c",
   "metadata": {
    "height": 47
   },
   "outputs": [],
   "source": [
    "input_ids_reshaped = input_ids.reshape(-1, max_seq_length).astype(np.int32)\n",
    "input_ids_reshaped.shape  "
   ]
  },
  {
   "cell_type": "code",
   "execution_count": null,
   "id": "3189b509-ce16-4a48-a518-e76c230bd637",
   "metadata": {
    "height": 30
   },
   "outputs": [],
   "source": [
    "type(input_ids_reshaped)"
   ]
  },
  {
   "cell_type": "markdown",
   "id": "e58c115f",
   "metadata": {},
   "source": [
    "Convert to Hugging Face dataset:"
   ]
  },
  {
   "cell_type": "code",
   "execution_count": null,
   "id": "10becde8-3917-41d5-b299-cceacaa95cef",
   "metadata": {
    "height": 98
   },
   "outputs": [],
   "source": [
    "input_ids_list = input_ids_reshaped.tolist()\n",
    "packaged_pretrain_dataset = datasets.Dataset.from_dict(\n",
    "    {\"input_ids\": input_ids_list}\n",
    ")\n",
    "print(packaged_pretrain_dataset)"
   ]
  },
  {
   "cell_type": "markdown",
   "id": "3aaec4dd",
   "metadata": {},
   "source": [
    "## 3. Save the packed dataset to disk"
   ]
  },
  {
   "cell_type": "code",
   "execution_count": null,
   "id": "57506c4b-ac2d-4e2c-9d16-c8cea8f995b3",
   "metadata": {
    "height": 30
   },
   "outputs": [],
   "source": [
    "packaged_pretrain_dataset.to_parquet(\"./data/packaged_pretrain_dataset.parquet\")"
   ]
  },
  {
   "cell_type": "code",
   "execution_count": null,
   "id": "6e9c0266-3679-4a48-a53d-17201d6b3222",
   "metadata": {
    "height": 30
   },
   "outputs": [],
   "source": []
  },
  {
   "cell_type": "code",
   "execution_count": null,
   "id": "6077a3ed-e227-4d8c-b20e-1014d361c1e0",
   "metadata": {
    "height": 30
   },
   "outputs": [],
   "source": []
  },
  {
   "cell_type": "code",
   "execution_count": null,
   "id": "77e88357-dea2-4572-8cb5-d97861c203b3",
   "metadata": {
    "height": 30
   },
   "outputs": [],
   "source": []
  },
  {
   "cell_type": "code",
   "execution_count": null,
   "id": "c4625853-319f-4299-ae78-bf94ad60fb93",
   "metadata": {
    "height": 30
   },
   "outputs": [],
   "source": []
  },
  {
   "cell_type": "code",
   "execution_count": null,
   "id": "096948c3-3328-4c6e-8b5d-f477705c4107",
   "metadata": {
    "height": 30
   },
   "outputs": [],
   "source": []
  },
  {
   "cell_type": "code",
   "execution_count": null,
   "id": "efd18fe2-a53c-4db1-a11b-0a807c28ee41",
   "metadata": {
    "height": 30
   },
   "outputs": [],
   "source": []
  },
  {
   "cell_type": "code",
   "execution_count": null,
   "id": "31810084-c80e-437c-acd3-bfe0b688895d",
   "metadata": {
    "height": 30
   },
   "outputs": [],
   "source": []
  },
  {
   "cell_type": "code",
   "execution_count": null,
   "id": "ecc9251d-377e-4c3f-b29c-a64f9a79691d",
   "metadata": {
    "height": 30
   },
   "outputs": [],
   "source": []
  },
  {
   "cell_type": "code",
   "execution_count": null,
   "id": "50271a9a-68cc-4a56-9dce-059f691974c5",
   "metadata": {
    "height": 30
   },
   "outputs": [],
   "source": []
  },
  {
   "cell_type": "code",
   "execution_count": null,
   "id": "ac58b4cc-5405-4478-9f6a-ecfc829cebf8",
   "metadata": {
    "height": 30
   },
   "outputs": [],
   "source": []
  },
  {
   "cell_type": "code",
   "execution_count": null,
   "id": "5104cb9e-63df-4688-9f6e-1014a3699d1f",
   "metadata": {
    "height": 30
   },
   "outputs": [],
   "source": []
  },
  {
   "cell_type": "code",
   "execution_count": null,
   "id": "926fb6c8-5f90-4422-8432-243bc4cb575d",
   "metadata": {
    "height": 30
   },
   "outputs": [],
   "source": []
  },
  {
   "cell_type": "code",
   "execution_count": null,
   "id": "dbfa9d1f-ac37-450d-8dbc-dfab489f2b2e",
   "metadata": {
    "height": 30
   },
   "outputs": [],
   "source": []
  }
 ],
 "metadata": {
  "kernelspec": {
   "display_name": "Python 3 (ipykernel)",
   "language": "python",
   "name": "python3"
  },
  "language_info": {
   "codemirror_mode": {
    "name": "ipython",
    "version": 3
   },
   "file_extension": ".py",
   "mimetype": "text/x-python",
   "name": "python",
   "nbconvert_exporter": "python",
   "pygments_lexer": "ipython3",
   "version": "3.11.9"
  }
 },
 "nbformat": 4,
 "nbformat_minor": 5
}
