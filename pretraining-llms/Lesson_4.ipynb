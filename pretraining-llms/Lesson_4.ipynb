{
 "cells": [
  {
   "cell_type": "markdown",
   "id": "ae54c1f5-8f4f-4fc3-a970-9d3e65d23355",
   "metadata": {},
   "source": [
    "# Lesson 4: Preparing your model for training"
   ]
  },
  {
   "cell_type": "code",
   "execution_count": null,
   "id": "eb5c998c-7135-4a0f-b3fa-9d2147f64eb6",
   "metadata": {
    "height": 251
   },
   "outputs": [],
   "source": [
    "# Ignore insignificant warnings (ex: deprecation warnings)\n",
    "import warnings\n",
    "warnings.filterwarnings('ignore')\n",
    "\n",
    "# Set a seed value for reproducibility\n",
    "import torch\n",
    "\n",
    "def fix_torch_seed(seed=42):\n",
    "    torch.manual_seed(seed)\n",
    "    torch.cuda.manual_seed(seed)\n",
    "    torch.backends.cudnn.deterministic = True\n",
    "    torch.backends.cudnn.benchmark = False\n",
    "\n",
    "fix_torch_seed()"
   ]
  },
  {
   "cell_type": "markdown",
   "id": "582f9486-36ce-4361-9f0b-5bd2f190c332",
   "metadata": {},
   "source": [
    "## 1. Model configuration\n",
    "\n",
    "You'll configure models based on Meta's Llama family of models. The transformers library has several tools for working with these models, which you can read about [here](https://huggingface.co/docs/transformers/main/en/model_doc/llama).\n",
    "\n",
    "Start by creating a `LlamaConfig` object to configure the architecture of the model:"
   ]
  },
  {
   "cell_type": "code",
   "execution_count": null,
   "id": "1e85be0c-d2fa-4070-9450-fce9ec7b5312",
   "metadata": {
    "height": 64
   },
   "outputs": [],
   "source": [
    "from transformers import LlamaConfig\n",
    "config = LlamaConfig()\n",
    "print(config)"
   ]
  },
  {
   "cell_type": "markdown",
   "id": "1f440840",
   "metadata": {},
   "source": [
    "Next, update parameters to change the model architecture:"
   ]
  },
  {
   "cell_type": "code",
   "execution_count": null,
   "id": "38993554-f050-479d-9f65-846f935af606",
   "metadata": {
    "height": 132
   },
   "outputs": [],
   "source": [
    "config.num_hidden_layers = 12      # reduced from 32 to 12\n",
    "config.hidden_size = 1024          # reduced 1/4 from 4096 to 1024\n",
    "config.intermediate_size = 4096    # reduced 1/3 from 11008 to 4096 (dimension of MLP representations)\n",
    "config.num_key_value_heads = 8     # reduced 1/4 from 32 to 8 (defaults to num_attention_heads=32)\n",
    "config.torch_dtype = \"bfloat16\"    # for half-precision training\n",
    "config.use_cache = False           # `True` is incompatible w/ gradient checkpointing\n",
    "print(config)"
   ]
  },
  {
   "cell_type": "markdown",
   "id": "4bb71119-897d-4b0a-91fb-4d49decd5f50",
   "metadata": {},
   "source": [
    "## 2. Weight initialization\n",
    "\n",
    "In the next sections, you'll explore four different ways to initialize the weights of a model for training:\n",
    "1. Random weight initialization\n",
    "2. Using an existing model for continued pre-training\n",
    "3. Downscaling an existing model\n",
    "4. Upscaling an existing model"
   ]
  },
  {
   "cell_type": "markdown",
   "id": "b1d47054-897d-4ab9-a382-6ea1aa824b88",
   "metadata": {},
   "source": [
    "### Random weight initialization\n",
    "\n",
    "Randomly initializing model weights sets all weights to values from a truncated normal distribution with mean 0 and standard deviation of 0.02. Values beyond 2-sigma from the mean are set to 0."
   ]
  },
  {
   "cell_type": "code",
   "execution_count": null,
   "id": "a860f758-3eb5-44bb-b920-f99d9c15e3bc",
   "metadata": {
    "height": 64
   },
   "outputs": [],
   "source": [
    "from transformers import LlamaForCausalLM\n",
    "model = LlamaForCausalLM(config)\n",
    "print(model)"
   ]
  },
  {
   "cell_type": "code",
   "execution_count": null,
   "id": "b754ad49-4ab4-4768-8140-c00cc73a6933",
   "metadata": {
    "height": 115
   },
   "outputs": [],
   "source": [
    "def print_nparams(model):\n",
    "    \"\"\"Calculate the total number of model parameters\"\"\"\n",
    "    nparams = sum(p.numel() for p in model.parameters())\n",
    "    print(f\"The total number of parameters is: {nparams}\")\n",
    "\n",
    "print_nparams(model)  # 248013824 => 248M"
   ]
  },
  {
   "cell_type": "markdown",
   "id": "58183c9f",
   "metadata": {},
   "source": [
    "Take a look at a sample of the weights in a single layer:"
   ]
  },
  {
   "cell_type": "code",
   "execution_count": null,
   "id": "b2350b11-b989-4b7b-8f60-0b53d6748b26",
   "metadata": {
    "height": 132
   },
   "outputs": [],
   "source": [
    "layer_name = \"model.layers.0.self_attn.q_proj.weight\"\n",
    "\n",
    "for name, param in model.named_parameters():\n",
    "    if name == layer_name:\n",
    "        print(f\"First 30 weights of layer '{layer_name}':\")\n",
    "        print(param.data.view(-1)[:30])\n",
    "        break"
   ]
  },
  {
   "cell_type": "markdown",
   "id": "833896a8",
   "metadata": {},
   "source": [
    "Try using the model for inference:"
   ]
  },
  {
   "cell_type": "code",
   "execution_count": null,
   "id": "bb7f1e5b-ad7a-429d-9268-3dc1abadc881",
   "metadata": {
    "height": 455
   },
   "outputs": [],
   "source": [
    "# Load a tokenizer from Upstage Solar, \n",
    "# which is compatible with the Llama-2 tokenizer\n",
    "from transformers import LlamaTokenizer\n",
    "model_dir = \"./models/upstage/SOLAR-10.7B-v1.0\"\n",
    "tokenizer = LlamaTokenizer.from_pretrained(model_dir)\n",
    "\n",
    "# Run simple inference with prompt\n",
    "from transformers import TextStreamer\n",
    "\n",
    "prompt = \"I am an engineer. I love\"\n",
    "\n",
    "inputs = tokenizer(prompt, return_tensors=\"pt\").to(model.device)\n",
    "\n",
    "streamer = TextStreamer(\n",
    "    tokenizer, \n",
    "    skip_prompt=True, \n",
    "    skip_special_tokens=True\n",
    ")\n",
    "\n",
    "outputs = model.generate(\n",
    "    **inputs, \n",
    "    streamer=streamer, \n",
    "    use_cache=True, \n",
    "    max_new_tokens=128, \n",
    "    do_sample=False\n",
    ")"
   ]
  },
  {
   "cell_type": "markdown",
   "id": "5b769aaf",
   "metadata": {},
   "source": [
    "Remove the model from memory to avoid crashing the kernel:"
   ]
  },
  {
   "cell_type": "code",
   "execution_count": null,
   "id": "6dfc8e08-f68c-422f-96dd-d0515ab00f29",
   "metadata": {
    "height": 115
   },
   "outputs": [],
   "source": [
    "# NOTE: We're running large models in a limited environment. Run me if you encounter any memory issues.\n",
    "import gc\n",
    "del model\n",
    "del streamer\n",
    "del outputs\n",
    "gc.collect()"
   ]
  },
  {
   "cell_type": "markdown",
   "id": "e6d55a00-3402-48a7-8bce-81d8a546e213",
   "metadata": {},
   "source": [
    "### Reuse general pretrained model weights\n",
    "\n",
    "If you load an existing model, you can use it as is to continue pretraining on new data."
   ]
  },
  {
   "cell_type": "code",
   "execution_count": null,
   "id": "2b8a27a2-e56c-406f-bf2a-086f6c01a703",
   "metadata": {
    "height": 149
   },
   "outputs": [],
   "source": [
    "from transformers import AutoModelForCausalLM\n",
    "\n",
    "model_name_or_path = \"./models/upstage/TinySolar-248m-4k\"\n",
    "model = AutoModelForCausalLM.from_pretrained(\n",
    "    model_name_or_path,\n",
    "    device_map=\"cpu\",\n",
    "    torch_dtype=torch.bfloat16,\n",
    ")"
   ]
  },
  {
   "cell_type": "markdown",
   "id": "0d36ced3",
   "metadata": {},
   "source": [
    "Remove the model from memory to avoid crashing the kernel:"
   ]
  },
  {
   "cell_type": "code",
   "execution_count": null,
   "id": "dffa497e-c35f-459b-9000-0b8d4c601491",
   "metadata": {
    "height": 64
   },
   "outputs": [],
   "source": [
    "# NOTE: We're running large models in a limited environment. Run me if you encounter any memory issues.\n",
    "del model\n",
    "gc.collect()"
   ]
  },
  {
   "cell_type": "markdown",
   "id": "e91cf37c-f8c6-45df-a7e2-95a8db9f1b93",
   "metadata": {},
   "source": [
    "### Downscaling from a general pretrained model\n",
    "\n",
    "Here you'll downscale the tinySolar-248m-4k model from a 12 layer model to a 10 layer model."
   ]
  },
  {
   "cell_type": "code",
   "execution_count": null,
   "id": "404ac9d5-a5bd-42b4-bdad-c1954f98da87",
   "metadata": {
    "height": 166
   },
   "outputs": [],
   "source": [
    "from transformers import AutoTokenizer, AutoConfig\n",
    "\n",
    "model_name_or_path = \"./models/upstage/TinySolar-248m-4k\"\n",
    "model = AutoModelForCausalLM.from_pretrained(\n",
    "    model_name_or_path,\n",
    "    device_map=\"cpu\",\n",
    "    torch_dtype=torch.bfloat16,\n",
    ")\n",
    "tokenizer = AutoTokenizer.from_pretrained(model_name_or_path)"
   ]
  },
  {
   "cell_type": "code",
   "execution_count": null,
   "id": "e32988c2-07ad-4858-ad4d-336a1dda3be5",
   "metadata": {
    "height": 30
   },
   "outputs": [],
   "source": [
    "print(model)"
   ]
  },
  {
   "cell_type": "code",
   "execution_count": null,
   "id": "813e119a-43cb-42c4-9a65-39adba7eb020",
   "metadata": {
    "height": 30
   },
   "outputs": [],
   "source": [
    "print_nparams(model)  # 248013824 => 248M"
   ]
  },
  {
   "cell_type": "markdown",
   "id": "0784dfa5",
   "metadata": {},
   "source": [
    "Remove the middle two layers (layers 5 and 6) and update the configuration:"
   ]
  },
  {
   "cell_type": "code",
   "execution_count": null,
   "id": "130e3016-dd42-4a5d-aa2e-ba203c9bb745",
   "metadata": {
    "height": 183
   },
   "outputs": [],
   "source": [
    "layers = model.model.layers\n",
    "model.model.layers = layers[:5] + layers[-5:]\n",
    "\n",
    "config = AutoConfig.from_pretrained(\n",
    "    model_name_or_path,    \n",
    "    num_hidden_layers=len(model.model.layers),\n",
    ")\n",
    "model.config = config\n",
    "\n",
    "print_nparams(model)  # 217601024 => 217M"
   ]
  },
  {
   "cell_type": "markdown",
   "id": "bc3ea7cd",
   "metadata": {},
   "source": [
    "Clear the memory to avoid crashing the kernel:"
   ]
  },
  {
   "cell_type": "code",
   "execution_count": null,
   "id": "35fa3dae-e6dd-4892-8965-b0a03d987456",
   "metadata": {
    "height": 81
   },
   "outputs": [],
   "source": [
    "# NOTE: We're running large models in a limited environment. Run me if you encounter any memory issues.\n",
    "import gc\n",
    "del model\n",
    "gc.collect()"
   ]
  },
  {
   "cell_type": "markdown",
   "id": "54991d43-488d-4474-be1a-db0531961672",
   "metadata": {},
   "source": [
    "### Depth Upscaling from a general pretrained model\n",
    "\n",
    "Here you are going to upscale the tinySolar-248m-4k model from 12 layers to 16 layers. Here are the steps you'll take:\n",
    "1. Configure a 16 layer model and initialize it with random weights\n",
    "2. Load the 12 layer tinySolar-248m-4k model into memory\n",
    "3. Copy the bottom 8 and top 8 layers from the 12 layer model and use them to overwrite the random weights of the 16 layer model\n",
    "4. Copy over the embedding and classifying layers to replace the randomly initialized counterparts in the 16 layer model"
   ]
  },
  {
   "cell_type": "code",
   "execution_count": null,
   "id": "0472958a-7243-46f6-bd6c-6787286a819a",
   "metadata": {
    "height": 183
   },
   "outputs": [],
   "source": [
    "config = LlamaConfig(\n",
    "    num_hidden_layers=16,  # We want our model to have 16 final layers\n",
    "    hidden_size=1024,\n",
    "    intermediate_size=4096,\n",
    "    num_attention_heads=32,\n",
    "    num_key_value_heads=8,\n",
    "    torch_dtype=\"bfloat16\",\n",
    "    use_cache=False \n",
    ")\n",
    "print(config)"
   ]
  },
  {
   "cell_type": "code",
   "execution_count": null,
   "id": "e8586992-1d23-45f7-86d9-480b34bc7894",
   "metadata": {
    "height": 64
   },
   "outputs": [],
   "source": [
    "model = LlamaForCausalLM(config)\n",
    "model = model.to(dtype=torch.bfloat16)  # convert to bfloat16\n",
    "print_nparams(model)  # 308839424 => 308M"
   ]
  },
  {
   "cell_type": "code",
   "execution_count": null,
   "id": "685b3dbe-3aa4-4858-b9d3-d59645108056",
   "metadata": {
    "height": 166
   },
   "outputs": [],
   "source": [
    "model_name_or_path = \"upstage/TinySolar-248m-4k\"\n",
    "pretrained_model = AutoModelForCausalLM.from_pretrained(\n",
    "    model_name_or_path,\n",
    "    device_map=\"cpu\",\n",
    "    torch_dtype=torch.bfloat16,    \n",
    ")\n",
    "tokenizer = AutoTokenizer.from_pretrained(model_name_or_path)\n",
    "\n",
    "print_nparams(pretrained_model) #  248013824 => 248M"
   ]
  },
  {
   "cell_type": "code",
   "execution_count": null,
   "id": "acaaefbf-d73a-4ed0-bac6-b92575012952",
   "metadata": {
    "height": 183
   },
   "outputs": [],
   "source": [
    "from copy import deepcopy\n",
    "\n",
    "model.model.layers = deepcopy(pretrained_model.model.layers[:-4]) \\\n",
    "    + deepcopy(pretrained_model.model.layers[4:])\n",
    "\n",
    "model.model.embed_tokens = deepcopy(pretrained_model.model.embed_tokens)\n",
    "\n",
    "model.lm_head = deepcopy(pretrained_model.lm_head)\n",
    "\n",
    "print(model.config)"
   ]
  },
  {
   "cell_type": "markdown",
   "id": "aebdfdb4",
   "metadata": {},
   "source": [
    "Check the number of parameters is still 308 million:"
   ]
  },
  {
   "cell_type": "code",
   "execution_count": null,
   "id": "54dffe64-8451-4146-9c5d-cdfd43e43230",
   "metadata": {
    "height": 30
   },
   "outputs": [],
   "source": [
    "print_nparams(model)  # 308839424 => 308M"
   ]
  },
  {
   "cell_type": "markdown",
   "id": "0df68e10",
   "metadata": {},
   "source": [
    "Try using the model for inference:"
   ]
  },
  {
   "cell_type": "code",
   "execution_count": null,
   "id": "f8a8a453-96cd-4f6c-91c5-5e529b2e41ce",
   "metadata": {
    "height": 319
   },
   "outputs": [],
   "source": [
    "# Run simple inference to show no trained model\n",
    "prompt = \"I am an engineer. I love\"\n",
    "\n",
    "inputs = tokenizer(prompt, return_tensors=\"pt\").to(model.device)\n",
    "\n",
    "streamer = TextStreamer(\n",
    "    tokenizer, \n",
    "    skip_prompt=True, \n",
    "    skip_special_tokens=True\n",
    ")\n",
    "\n",
    "outputs = model.generate(\n",
    "    **inputs, \n",
    "    streamer=streamer, \n",
    "    use_cache=True, \n",
    "    max_new_tokens=128, \n",
    "    do_sample=False\n",
    ")"
   ]
  },
  {
   "cell_type": "markdown",
   "id": "f1814e0d",
   "metadata": {},
   "source": [
    "### Save the model to disk\n",
    "\n",
    "Note the new model name here which reflects the 308 million parameters of the new, upscaled model. "
   ]
  },
  {
   "cell_type": "code",
   "execution_count": null,
   "id": "31215375-a0bd-4f9d-8ea2-1385c315c25b",
   "metadata": {
    "height": 30
   },
   "outputs": [],
   "source": [
    "model.save_pretrained('./data/TinySolar-308m-4k-init')"
   ]
  },
  {
   "cell_type": "code",
   "execution_count": null,
   "id": "41eb424e-58cc-4443-869f-fc870931741b",
   "metadata": {
    "height": 30
   },
   "outputs": [],
   "source": []
  },
  {
   "cell_type": "code",
   "execution_count": null,
   "id": "ea1a3eed-ef47-4d8e-a66b-b948eef59c2e",
   "metadata": {
    "height": 30
   },
   "outputs": [],
   "source": []
  },
  {
   "cell_type": "code",
   "execution_count": null,
   "id": "3018f3b5-f537-4a41-b50b-e558b34907b1",
   "metadata": {
    "height": 30
   },
   "outputs": [],
   "source": []
  },
  {
   "cell_type": "code",
   "execution_count": null,
   "id": "2ac6e160-e2a1-409d-abaa-7c4cf9f00348",
   "metadata": {
    "height": 30
   },
   "outputs": [],
   "source": []
  },
  {
   "cell_type": "code",
   "execution_count": null,
   "id": "681bfcb8-62c2-4254-bc08-211f09682c6c",
   "metadata": {
    "height": 30
   },
   "outputs": [],
   "source": []
  },
  {
   "cell_type": "code",
   "execution_count": null,
   "id": "5fd09352-9916-45d7-ab78-0d6a65c92ee5",
   "metadata": {
    "height": 30
   },
   "outputs": [],
   "source": []
  },
  {
   "cell_type": "code",
   "execution_count": null,
   "id": "b2818d5a-3fc7-431b-9220-7ffb1f2ea07d",
   "metadata": {
    "height": 30
   },
   "outputs": [],
   "source": []
  },
  {
   "cell_type": "code",
   "execution_count": null,
   "id": "89919278-f2d7-4c67-8a47-ca92140330a4",
   "metadata": {
    "height": 30
   },
   "outputs": [],
   "source": []
  },
  {
   "cell_type": "code",
   "execution_count": null,
   "id": "452c56f6-00fc-4637-8c9d-c824a11c192b",
   "metadata": {
    "height": 30
   },
   "outputs": [],
   "source": []
  },
  {
   "cell_type": "code",
   "execution_count": null,
   "id": "655b4c7e-eee5-462f-85a4-5d3b80618987",
   "metadata": {
    "height": 30
   },
   "outputs": [],
   "source": []
  },
  {
   "cell_type": "code",
   "execution_count": null,
   "id": "8c0d9ad8-69ad-4c70-aff2-c21389e268ad",
   "metadata": {
    "height": 30
   },
   "outputs": [],
   "source": []
  },
  {
   "cell_type": "code",
   "execution_count": null,
   "id": "2e268442-fac6-4852-ad4c-7829bff9a626",
   "metadata": {
    "height": 30
   },
   "outputs": [],
   "source": []
  },
  {
   "cell_type": "code",
   "execution_count": null,
   "id": "2c487c2a-fed5-493b-85f5-58c6354cf14c",
   "metadata": {
    "height": 30
   },
   "outputs": [],
   "source": []
  },
  {
   "cell_type": "code",
   "execution_count": null,
   "id": "6f7d9177-0ed2-4f1f-955c-34d202b3e8e4",
   "metadata": {
    "height": 30
   },
   "outputs": [],
   "source": []
  },
  {
   "cell_type": "code",
   "execution_count": null,
   "id": "d6514487-8b10-4463-9ab8-2294bce43ad4",
   "metadata": {
    "height": 30
   },
   "outputs": [],
   "source": []
  },
  {
   "cell_type": "code",
   "execution_count": null,
   "id": "b13c1198-5915-499e-b2d2-694ac73bcde5",
   "metadata": {
    "height": 30
   },
   "outputs": [],
   "source": []
  }
 ],
 "metadata": {
  "kernelspec": {
   "display_name": "Python 3 (ipykernel)",
   "language": "python",
   "name": "python3"
  },
  "language_info": {
   "codemirror_mode": {
    "name": "ipython",
    "version": 3
   },
   "file_extension": ".py",
   "mimetype": "text/x-python",
   "name": "python",
   "nbconvert_exporter": "python",
   "pygments_lexer": "ipython3",
   "version": "3.11.9"
  }
 },
 "nbformat": 4,
 "nbformat_minor": 5
}
