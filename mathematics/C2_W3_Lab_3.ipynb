{
 "cells": [
  {
   "cell_type": "markdown",
   "id": "fa9e9f53",
   "metadata": {},
   "source": [
    "# Optimization Using Newton's Method"
   ]
  },
  {
   "cell_type": "markdown",
   "id": "14154c8a",
   "metadata": {},
   "source": [
    "In this lab you will implement Newton's method optimizing some functions in one and two variables. You will also compare it with the gradient descent, experiencing advantages and disadvantages of each of the methods."
   ]
  },
  {
   "cell_type": "markdown",
   "id": "8aff2e4d",
   "metadata": {},
   "source": [
    "# Table of Contents\n",
    "\n",
    "- [ 1 - Function in One Variable](#1)\n",
    "- [ 2 - Function in Two Variables](#2)"
   ]
  },
  {
   "cell_type": "markdown",
   "id": "5202ca39",
   "metadata": {},
   "source": [
    "## Packages\n",
    "\n",
    "Run the following cell to load the packages you'll need."
   ]
  },
  {
   "cell_type": "code",
   "execution_count": null,
   "id": "21767de7",
   "metadata": {},
   "outputs": [],
   "source": [
    "import numpy as np\n",
    "import matplotlib.pyplot as plt\n",
    "from matplotlib.gridspec import GridSpec"
   ]
  },
  {
   "cell_type": "markdown",
   "id": "f12db316",
   "metadata": {},
   "source": [
    "<a name='1'></a>\n",
    "## 1 - Function in One Variable"
   ]
  },
  {
   "cell_type": "markdown",
   "id": "9d07eb61",
   "metadata": {},
   "source": [
    "You will use Newton's method to optimize a function $f\\left(x\\right)$. Aiming to find a point, where the derivative equals to zero, you need to start from some initial point $x_0$, calculate first and second derivatives ($f'(x_0)$ and $f''(x_0)$) and step to the next point using the expression:\n",
    "\n",
    "$$x_1 = x_0 - \\frac{f'(x_0)}{f''(x_0)},\\tag{1}$$\n",
    "\n",
    "Repeat the process iteratively. Number of iterations $n$ is usually also a parameter. \n",
    "\n",
    "Let's optimize function $f\\left(x\\right)=e^x - \\log(x)$ (defined for $x>0$) using Newton's method. To implement it in the code, define function $f\\left(x\\right)=e^x - \\log(x)$, its first and second derivatives $f'(x)=e^x - \\frac{1}{x}$, $f''(x)=e^x + \\frac{1}{x^2}$:"
   ]
  },
  {
   "cell_type": "code",
   "execution_count": null,
   "id": "314b980f",
   "metadata": {},
   "outputs": [],
   "source": [
    "def f_example_1(x):\n",
    "    return np.exp(x) - np.log(x)\n",
    "\n",
    "def dfdx_example_1(x):\n",
    "    return np.exp(x) - 1/x\n",
    "\n",
    "def d2fdx2_example_1(x):\n",
    "    return np.exp(x) + 1/(x**2)\n",
    "\n",
    "x_0 = 1.6\n",
    "print(f\"f({x_0}) = {f_example_1(x_0)}\")\n",
    "print(f\"f'({x_0}) = {dfdx_example_1(x_0)}\")\n",
    "print(f\"f''({x_0}) = {d2fdx2_example_1(x_0)}\")"
   ]
  },
  {
   "cell_type": "markdown",
   "id": "d69f6ee0",
   "metadata": {},
   "source": [
    "Plot the function to visualize the global minimum:"
   ]
  },
  {
   "cell_type": "code",
   "execution_count": null,
   "id": "905afb0d",
   "metadata": {},
   "outputs": [],
   "source": [
    "def plot_f(x_range, y_range, f, ox_position):\n",
    "    x = np.linspace(*x_range, 100)\n",
    "    fig, ax = plt.subplots(1,1,figsize=(8,4))\n",
    "\n",
    "    ax.set_ylim(*y_range)\n",
    "    ax.set_xlim(*x_range)\n",
    "    ax.set_ylabel('$f\\,(x)$')\n",
    "    ax.set_xlabel('$x$')\n",
    "    ax.spines['left'].set_position('zero')\n",
    "    ax.spines['bottom'].set_position(('data', ox_position))\n",
    "    ax.spines['right'].set_color('none')\n",
    "    ax.spines['top'].set_color('none')\n",
    "    ax.xaxis.set_ticks_position('bottom')\n",
    "    ax.yaxis.set_ticks_position('left')\n",
    "    ax.autoscale(enable=False)\n",
    "    \n",
    "    pf = ax.plot(x, f(x), 'k')\n",
    "    \n",
    "    return fig, ax\n",
    "\n",
    "plot_f([0.001, 2.5], [-0.3, 13], f_example_1, 0.0)"
   ]
  },
  {
   "cell_type": "markdown",
   "id": "3f3686a8",
   "metadata": {},
   "source": [
    "Implement Newton's method described above:"
   ]
  },
  {
   "cell_type": "code",
   "execution_count": null,
   "id": "103eb240",
   "metadata": {},
   "outputs": [],
   "source": [
    "def newtons_method(dfdx, d2fdx2, x, num_iterations=100):\n",
    "    for iteration in range(num_iterations):\n",
    "        x = x - dfdx(x) / d2fdx2(x)\n",
    "        print(x)\n",
    "    return x"
   ]
  },
  {
   "cell_type": "markdown",
   "id": "e94e6071",
   "metadata": {},
   "source": [
    "In addition to the first and second derivatives, there are two other parameters in this implementation: number of iterations `num_iterations`, initial point `x`. To optimize the function, set up the parameters and call the defined function gradient_descent:"
   ]
  },
  {
   "cell_type": "code",
   "execution_count": null,
   "id": "5f41dab9",
   "metadata": {},
   "outputs": [],
   "source": [
    "num_iterations_example_1 = 25; x_initial = 1.6\n",
    "newtons_example_1 = newtons_method(dfdx_example_1, d2fdx2_example_1, x_initial, num_iterations_example_1)\n",
    "print(\"Newton's method result: x_min =\", newtons_example_1)"
   ]
  },
  {
   "cell_type": "markdown",
   "id": "47e0c03e",
   "metadata": {},
   "source": [
    "You can see that starting from the initial point $x_0 = 1.6$ Newton's method converges after $6$ iterations. You could actually exit the loop when there is no significant change of $x$ each step (or when first derivative is close to zero).\n",
    "\n",
    "What if gradient descent was used starting from the same intial point?"
   ]
  },
  {
   "cell_type": "code",
   "execution_count": null,
   "id": "e77a4ff0",
   "metadata": {},
   "outputs": [],
   "source": [
    "def gradient_descent(dfdx, x, learning_rate=0.1, num_iterations=100):\n",
    "    for iteration in range(num_iterations):\n",
    "        x = x - learning_rate * dfdx(x)\n",
    "        print(x)\n",
    "    return x\n",
    "\n",
    "num_iterations = 25; learning_rate = 0.1; x_initial = 1.6\n",
    "# num_iterations = 25; learning_rate = 0.2; x_initial = 1.6\n",
    "gd_example_1 = gradient_descent(dfdx_example_1, x_initial, learning_rate, num_iterations)\n",
    "print(\"Gradient descent result: x_min =\", gd_example_1) "
   ]
  },
  {
   "cell_type": "markdown",
   "id": "37d76af5",
   "metadata": {},
   "source": [
    "Gradient descent method has an extra parameter `learning_rate`. If you take it equal to `0.1` in this example, the method will start to converge after about $15$ iterations (aiming for an accuracy of 4-5 decimal places). If you increase it to $0.2$, gradient descent will converge within about $12$ iterations, which is still slower than Newton's method. \n",
    "\n",
    "So, those are disadvantages of gradient descent method in comparison with Newton's method: there is an extra parameter to control and it converges slower. However it has an advantage - in each step you do not need to calculate second derivative, which in more complicated cases is quite computationally expensive to find. So, one step of gradient descent method is easier to make than one step of Newton's method.\n",
    "\n",
    "This is the reality of numerical optimization - convergency and actual result depend on the initial parameters. Also, there is no \"perfect\" algorithm - every method will have advantages and disadvantages."
   ]
  },
  {
   "cell_type": "markdown",
   "id": "a08f02b9",
   "metadata": {},
   "source": [
    "<a name='2'></a>\n",
    "## 2 - Function in Two Variables"
   ]
  },
  {
   "cell_type": "markdown",
   "id": "13ae722c",
   "metadata": {},
   "source": [
    "In case of a function in two variables, Newton's method will require even more computations. Starting from the intial point $(x_0, y_0)$, the step to the next point shoud be done using the expression: \n",
    "\n",
    "$$\\begin{bmatrix}x_1 \\\\ y_1\\end{bmatrix} = \\begin{bmatrix}x_0 \\\\ y_0\\end{bmatrix} - \n",
    "H^{-1}\\left(x_0, y_0\\right)\\nabla f\\left(x_0, y_0\\right),\\tag{2}$$\n",
    "\n",
    "where $H^{-1}\\left(x_0, y_0\\right)$ is an inverse of a Hessian matrix at point $(x_0, y_0)$ and $\\nabla f\\left(x_0, y_0\\right)$ is the gradient at that point.\n",
    "\n",
    "Let's implement that in the code. Define the function $f(x, y)$ like in the videos, its gradient and Hessian:\n",
    "\n",
    "\\begin{align}\n",
    "f\\left(x, y\\right) &= x^4 + 0.8 y^4 + 4x^2 + 2y^2 - xy - 0.2x^2y,\\\\\n",
    "\\nabla f\\left(x, y\\right) &= \\begin{bmatrix}4x^3 + 8x - y - 0.4xy \\\\ 3.2y^3 + 4y - x - 0.2x^2\\end{bmatrix}, \\\\\n",
    "H\\left(x, y\\right) &= \\begin{bmatrix}12x^2 + 8 - 0.4y && -1 - 0.4x \\\\ -1 - 0.4x && 9.6y^2 + 4\\end{bmatrix}.\n",
    "\\end{align}"
   ]
  },
  {
   "cell_type": "code",
   "execution_count": null,
   "id": "a5dd8cc2",
   "metadata": {},
   "outputs": [],
   "source": [
    "def f_example_2(x, y):\n",
    "    return x**4 + 0.8*y**4 + 4*x**2 + 2*y**2 - x*y -0.2*x**2*y\n",
    "\n",
    "def grad_f_example_2(x, y):\n",
    "    return np.array([[4*x**3 + 8*x - y - 0.4*x*y],\n",
    "                     [3.2*y**3 +4*y - x - 0.2*x**2]])\n",
    "\n",
    "def hessian_f_example_2(x, y):\n",
    "    hessian_f = np.array([[12*x**2 + 8 - 0.4*y, -1 - 0.4*x],\n",
    "                         [-1 - 0.4*x, 9.6*y**2 + 4]])\n",
    "    return hessian_f\n",
    "\n",
    "x_0, y_0 = 4, 4\n",
    "print(f\"f{x_0, y_0} = {f_example_2(x_0, y_0)}\")\n",
    "print(f\"grad f{x_0, y_0} = \\n{grad_f_example_2(x_0, y_0)}\")\n",
    "print(f\"H{x_0, y_0} = \\n{hessian_f_example_2(x_0, y_0)}\")"
   ]
  },
  {
   "cell_type": "markdown",
   "id": "53b87b92",
   "metadata": {},
   "source": [
    "Run the following cell to plot the function:"
   ]
  },
  {
   "cell_type": "code",
   "execution_count": null,
   "id": "1d243fba",
   "metadata": {},
   "outputs": [],
   "source": [
    "def plot_f_cont_and_surf(f):\n",
    "    \n",
    "    fig = plt.figure( figsize=(10,5))\n",
    "    fig.canvas.toolbar_visible = False\n",
    "    fig.canvas.header_visible = False\n",
    "    fig.canvas.footer_visible = False\n",
    "    fig.set_facecolor('#ffffff')\n",
    "    gs = GridSpec(1, 2, figure=fig)\n",
    "    axc = fig.add_subplot(gs[0, 0])\n",
    "    axs = fig.add_subplot(gs[0, 1],  projection='3d')\n",
    "    \n",
    "    x_range = [-4, 5]\n",
    "    y_range = [-4, 5]\n",
    "    z_range = [0, 1200]\n",
    "    x = np.linspace(*x_range, 100)\n",
    "    y = np.linspace(*y_range, 100)\n",
    "    X,Y = np.meshgrid(x,y)\n",
    "    \n",
    "    cont = axc.contour(X, Y, f(X, Y), cmap='terrain', levels=18, linewidths=2, alpha=0.7)\n",
    "    axc.set_xlabel('$x$')\n",
    "    axc.set_ylabel('$y$')\n",
    "    axc.set_xlim(*x_range)\n",
    "    axc.set_ylim(*y_range)\n",
    "    axc.set_aspect(\"equal\")\n",
    "    axc.autoscale(enable=False)\n",
    "    \n",
    "    surf = axs.plot_surface(X,Y, f(X,Y), cmap='terrain', \n",
    "                    antialiased=True,cstride=1,rstride=1, alpha=0.69)\n",
    "    axs.set_xlabel('$x$')\n",
    "    axs.set_ylabel('$y$')\n",
    "    axs.set_zlabel('$f$')\n",
    "    axs.set_xlim(*x_range)\n",
    "    axs.set_ylim(*y_range)\n",
    "    axs.set_zlim(*z_range)\n",
    "    axs.view_init(elev=20, azim=-100)\n",
    "    axs.autoscale(enable=False)\n",
    "    \n",
    "    return fig, axc, axs\n",
    "\n",
    "plot_f_cont_and_surf(f_example_2)"
   ]
  },
  {
   "cell_type": "markdown",
   "id": "88731f3c",
   "metadata": {},
   "source": [
    "Newton's method $(2)$ is implemented in the following function:"
   ]
  },
  {
   "cell_type": "code",
   "execution_count": null,
   "id": "f2f020fa",
   "metadata": {},
   "outputs": [],
   "source": [
    "def newtons_method_2(f, grad_f, hessian_f, x_y, num_iterations=100):\n",
    "    for iteration in range(num_iterations):\n",
    "        x_y = x_y - np.matmul(np.linalg.inv(hessian_f(x_y[0,0], x_y[1,0])), grad_f(x_y[0,0], x_y[1,0]))\n",
    "        print(x_y.T)\n",
    "    return x_y"
   ]
  },
  {
   "cell_type": "markdown",
   "id": "775700eb",
   "metadata": {},
   "source": [
    "Now run the following code to find the minimum:"
   ]
  },
  {
   "cell_type": "code",
   "execution_count": null,
   "id": "4d3066a3",
   "metadata": {},
   "outputs": [],
   "source": [
    "num_iterations_example_2 = 25; x_y_initial = np.array([[4], [4]])\n",
    "newtons_example_2 = newtons_method_2(f_example_2, grad_f_example_2, hessian_f_example_2, \n",
    "                                     x_y_initial, num_iterations=num_iterations_example_2)\n",
    "print(\"Newton's method result: x_min, y_min =\", newtons_example_2.T)"
   ]
  },
  {
   "cell_type": "markdown",
   "id": "66c1cb88",
   "metadata": {},
   "source": [
    "In this example starting from the initial point $(4, 4)$ it will converge after about $9$ iterations. Try to compare it with the gradient descent now:"
   ]
  },
  {
   "cell_type": "code",
   "execution_count": null,
   "id": "61f82d17",
   "metadata": {},
   "outputs": [],
   "source": [
    "def gradient_descent_2(grad_f, x_y, learning_rate=0.1, num_iterations=100):\n",
    "    for iteration in range(num_iterations):\n",
    "        x_y = x_y - learning_rate * grad_f(x_y[0,0], x_y[1,0])\n",
    "        print(x_y.T)\n",
    "    return x_y\n",
    "\n",
    "num_iterations_2 = 300; learning_rate_2 = 0.02; x_y_initial = np.array([[4], [4]])\n",
    "# num_iterations_2 = 300; learning_rate_2 = 0.03; x_y_initial = np.array([[4], [4]])\n",
    "gd_example_2 = gradient_descent_2(grad_f_example_2, x_y_initial, learning_rate_2, num_iterations_2)\n",
    "print(\"Gradient descent result: x_min, y_min =\", gd_example_2) "
   ]
  },
  {
   "cell_type": "markdown",
   "id": "9fa2602d",
   "metadata": {},
   "source": [
    "Obviously, gradient descent will converge much slower than Newton's method. And trying to increase learning rate, it might not even work at all. This illustrates again the disadvantages of gradient descent in comparison with Newton's method. However, note, that Newton's method required calculation of an inverted Hessian matrix, which is a very computationally expensive calculation to perform when you have, say, a thousand of parameters.\n",
    "\n",
    "Well done on finishing this lab!"
   ]
  },
  {
   "cell_type": "code",
   "execution_count": null,
   "id": "6c418025",
   "metadata": {},
   "outputs": [],
   "source": []
  }
 ],
 "metadata": {
  "kernelspec": {
   "display_name": "Python 3",
   "language": "python",
   "name": "python3"
  },
  "language_info": {
   "codemirror_mode": {
    "name": "ipython",
    "version": 3
   },
   "file_extension": ".py",
   "mimetype": "text/x-python",
   "name": "python",
   "nbconvert_exporter": "python",
   "pygments_lexer": "ipython3",
   "version": "3.8.8"
  }
 },
 "nbformat": 4,
 "nbformat_minor": 5
}
