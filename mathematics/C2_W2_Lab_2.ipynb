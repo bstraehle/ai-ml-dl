{
 "cells": [
  {
   "cell_type": "markdown",
   "id": "5e797b86",
   "metadata": {},
   "source": [
    "# Optimization Using Gradient Descent in Two Variables"
   ]
  },
  {
   "cell_type": "markdown",
   "id": "c29d4eb9",
   "metadata": {},
   "source": [
    "In this lab, you will implement and visualize the gradient descent method optimizing some functions in two variables. You will have a chance to experiment with the initial parameters, and investigate the results and limitations of the method."
   ]
  },
  {
   "cell_type": "markdown",
   "id": "18491c07",
   "metadata": {},
   "source": [
    "# Table of Contents\n",
    "\n",
    "- [ 1 - Function with One Global Minimum](#1)\n",
    "- [ 2 - Function with Multiple Minima](#2)"
   ]
  },
  {
   "cell_type": "markdown",
   "id": "4bd109eb",
   "metadata": {},
   "source": [
    "## Packages\n",
    "\n",
    "Run the following cell to load the packages you'll need."
   ]
  },
  {
   "cell_type": "code",
   "execution_count": null,
   "id": "ae466878",
   "metadata": {},
   "outputs": [],
   "source": [
    "import numpy as np\n",
    "import matplotlib.pyplot as plt\n",
    "# Some functions defined specifically for this notebook.\n",
    "from w2_tools import (plot_f_cont_and_surf, gradient_descent_two_variables, \n",
    "                      f_example_3, dfdx_example_3, dfdy_example_3, \n",
    "                      f_example_4, dfdx_example_4, dfdy_example_4)\n",
    "# Magic command to make matplotlib plots interactive.\n",
    "%matplotlib widget"
   ]
  },
  {
   "cell_type": "markdown",
   "id": "a605afb0",
   "metadata": {},
   "source": [
    "<a name='1'></a>\n",
    "## 1 - Function with One Global Minimum"
   ]
  },
  {
   "cell_type": "markdown",
   "id": "7df25271",
   "metadata": {},
   "source": [
    "Let's explore a simple example of a function in two variables $f\\left(x, y\\right)$ with one global minimum. Such a function was discussed in the videos, it is predefined and uploaded into this notebook as `f_example_3` with its partial derivatives `dfdx_example_3` and `dfdy_example_3`. At this stage, you do not need to worry about the exact expression for that function and its partial derivatives, so you can focus on the implementation of gradient descent and the choice of the related parameters. Run the following cell to plot the function."
   ]
  },
  {
   "cell_type": "code",
   "execution_count": null,
   "id": "d83526e4",
   "metadata": {},
   "outputs": [],
   "source": [
    "plot_f_cont_and_surf([0, 5], [0, 5], [74, 85], f_example_3, cmap='coolwarm', view={'azim':-60,'elev':28})"
   ]
  },
  {
   "cell_type": "markdown",
   "id": "f84421da",
   "metadata": {},
   "source": [
    "To find the minimum, you can implement gradient descent starting from the initial point $\\left(x_0, y_0\\right)$ and making steps iteration by iteration using the following equations:\n",
    "\n",
    "\n",
    "$$x_1 = x_0 - \\alpha \\frac{\\partial f}{\\partial x}(x_0, y_0),$$ \n",
    "$$y_1 = y_0 - \\alpha \\frac{\\partial f}{\\partial y}(x_0, y_0),\\tag{1}$$\n",
    "\n",
    "where $\\alpha>0$ is a learning rate. Number of iterations is also a parameter. The method is implemented with the following code:"
   ]
  },
  {
   "cell_type": "code",
   "execution_count": null,
   "id": "e5eb04ad",
   "metadata": {},
   "outputs": [],
   "source": [
    "def gradient_descent(dfdx, dfdy, x, y, learning_rate = 0.1, num_iterations = 100):\n",
    "    for iteration in range(num_iterations):\n",
    "        x, y = x - learning_rate * dfdx(x, y), y - learning_rate * dfdy(x, y)\n",
    "    return x, y"
   ]
  },
  {
   "cell_type": "markdown",
   "id": "eb8bdca3",
   "metadata": {},
   "source": [
    "Now to optimize the function, set up the parameters `num_iterations`, `learning_rate`, `x_initial`, `y_initial` and run gradient descent:"
   ]
  },
  {
   "cell_type": "code",
   "execution_count": null,
   "id": "5673ecfb",
   "metadata": {},
   "outputs": [],
   "source": [
    "num_iterations = 30; learning_rate = 0.25; x_initial = 0.5; y_initial = 0.6\n",
    "print(\"Gradient descent result: x_min, y_min =\", \n",
    "      gradient_descent(dfdx_example_3, dfdy_example_3, x_initial, y_initial, learning_rate, num_iterations)) "
   ]
  },
  {
   "cell_type": "markdown",
   "id": "73a835a0",
   "metadata": {},
   "source": [
    "You can see the visualization running the following code. Note that gradient descent in two variables performs steps on the plane, in a direction opposite to the gradient vector $\\begin{bmatrix}\\frac{\\partial f}{\\partial x}(x_0, y_0) \\\\ \\frac{\\partial f}{\\partial y}(x_0, y_0)\\end{bmatrix}$ with the learning rate $\\alpha$ as a scaling factor.\n",
    "\n",
    "By uncommenting different lines you can experiment with various sets of the parameter values and corresponding results. At the end of the animation, you can also click on the contour plot to choose the initial point and restart the animation automatically.\n",
    "\n",
    "Run a few experiments and try to explain what is actually happening in each of the cases."
   ]
  },
  {
   "cell_type": "code",
   "execution_count": null,
   "id": "20711620",
   "metadata": {},
   "outputs": [],
   "source": [
    "num_iterations = 20; learning_rate = 0.25; x_initial = 0.5; y_initial = 0.6\n",
    "# num_iterations = 20; learning_rate = 0.5; x_initial = 0.5; y_initial = 0.6\n",
    "# num_iterations = 20; learning_rate = 0.15; x_initial = 0.5; y_initial = 0.6\n",
    "# num_iterations = 20; learning_rate = 0.15; x_initial = 3.5; y_initial = 3.6\n",
    "\n",
    "gd_example_3 = gradient_descent_two_variables([0, 5], [0, 5], [74, 85], \n",
    "                                              f_example_3, dfdx_example_3, dfdy_example_3, \n",
    "                                              gradient_descent, num_iterations, learning_rate, \n",
    "                                              x_initial, y_initial, \n",
    "                                              [0.1, 0.1, 81.5], 2, [4, 1, 171], \n",
    "                                              cmap='coolwarm', view={'azim':-60,'elev':28})"
   ]
  },
  {
   "cell_type": "markdown",
   "id": "88824f8d",
   "metadata": {},
   "source": [
    "<a name='2'></a>\n",
    "## 2 - Function with Multiple Minima"
   ]
  },
  {
   "cell_type": "markdown",
   "id": "6e1c647c",
   "metadata": {},
   "source": [
    "Let's investigate a more complicated case of a function, which was also shown in the videos:"
   ]
  },
  {
   "cell_type": "code",
   "execution_count": null,
   "id": "d2ea18d3",
   "metadata": {},
   "outputs": [],
   "source": [
    "plot_f_cont_and_surf([0, 5], [0, 5], [6, 9.5], f_example_4, cmap='terrain', view={'azim':-63,'elev':21})"
   ]
  },
  {
   "cell_type": "markdown",
   "id": "3ddc17a8",
   "metadata": {},
   "source": [
    "You can find its global minimum point by using gradient descent with the following parameters:"
   ]
  },
  {
   "cell_type": "code",
   "execution_count": null,
   "id": "8fef9c35",
   "metadata": {},
   "outputs": [],
   "source": [
    "num_iterations = 100; learning_rate = 0.2; x_initial = 0.5; y_initial = 3\n",
    "\n",
    "print(\"Gradient descent result: x_min, y_min =\", \n",
    "      gradient_descent(dfdx_example_4, dfdy_example_4, x_initial, y_initial, learning_rate, num_iterations)) "
   ]
  },
  {
   "cell_type": "markdown",
   "id": "ba6499be",
   "metadata": {},
   "source": [
    "However, the shape of the surface is much more complicated and not every initial point will bring you to the global minimum of this surface. Use the following code to explore various sets of parameters and the results of gradient descent."
   ]
  },
  {
   "cell_type": "code",
   "execution_count": null,
   "id": "c9269ef2",
   "metadata": {},
   "outputs": [],
   "source": [
    "# Converges to the global minimum point.\n",
    "num_iterations = 30; learning_rate = 0.2; x_initial = 0.5; y_initial = 3\n",
    "# Converges to a local minimum point.\n",
    "# num_iterations = 20; learning_rate = 0.2; x_initial = 2; y_initial = 3\n",
    "# Converges to another local minimum point.\n",
    "# num_iterations = 20; learning_rate = 0.2; x_initial = 4; y_initial = 0.5\n",
    "\n",
    "gd_example_4 = gradient_descent_two_variables([0, 5], [0, 5], [6, 9.5], \n",
    "                                              f_example_4, dfdx_example_4, dfdy_example_4, \n",
    "                                              gradient_descent, num_iterations, learning_rate, \n",
    "                                              x_initial, y_initial, \n",
    "                                              [2, 2, 6], 0.5, [2, 1, 63], \n",
    "                                              cmap='terrain', view={'azim':-63,'elev':21})"
   ]
  },
  {
   "cell_type": "markdown",
   "id": "1028397e",
   "metadata": {},
   "source": [
    "You had a chance to experience the robustness and limitations of the gradient descent methods for a function in two variables. "
   ]
  },
  {
   "cell_type": "code",
   "execution_count": null,
   "id": "009daf3f",
   "metadata": {},
   "outputs": [],
   "source": []
  }
 ],
 "metadata": {
  "kernelspec": {
   "display_name": "Python 3",
   "language": "python",
   "name": "python3"
  },
  "language_info": {
   "codemirror_mode": {
    "name": "ipython",
    "version": 3
   },
   "file_extension": ".py",
   "mimetype": "text/x-python",
   "name": "python",
   "nbconvert_exporter": "python",
   "pygments_lexer": "ipython3",
   "version": "3.8.8"
  }
 },
 "nbformat": 4,
 "nbformat_minor": 5
}
