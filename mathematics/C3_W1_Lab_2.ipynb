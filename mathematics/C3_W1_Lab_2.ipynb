{
 "cells": [
  {
   "cell_type": "markdown",
   "id": "8db3caba",
   "metadata": {},
   "source": [
    "# Ungraded Lab: Birthday Problems\n",
    "\n",
    "Welcome! During this lab you will reinforce the notion of how counter-intuitive probabilities can be by taking a look at the famous birthday problem. In fact you will take a look at 4 variations of this problem. You can use one you have already seen the solution for, to try and come up with the solution for the next one, the results might surprise you!\n",
    "\n",
    "Let's get started!"
   ]
  },
  {
   "cell_type": "code",
   "execution_count": null,
   "id": "2d4d615c-0e4f-4001-a171-4d80e491e5ec",
   "metadata": {
    "tags": []
   },
   "outputs": [],
   "source": [
    "import numpy as np\n",
    "import matplotlib.pyplot as plt\n",
    "import utils\n",
    "\n",
    "%matplotlib widget"
   ]
  },
  {
   "cell_type": "markdown",
   "id": "7958a323",
   "metadata": {},
   "source": [
    "## Introduction to the problem\n",
    "\n",
    "All of these problems share a similar setting. You have a classroom full of students (the number may vary) and want to know the probabilities of two students having the same birthday or of any student having a particular birthday, anything along those lines. As mentioned before, you will see 4 variations of the problem.\n",
    "\n",
    "You can think of these problems in two ways:\n",
    "   - What is the minimum number of students `n` that need to be in the classroom to have a matching birthday with a given probability?\n",
    "   - Given `n` what is the probability of having a match?\n",
    "    \n",
    "Both ways model the situation from different angles but they are essentially covering the same.\n",
    "\n",
    "## Play the game of matching your birthday\n",
    "\n",
    "To further motivate this situation a game is presented. You can use the following cell to run an interactive game, it is very simple to use: you need to select your birthday (the year does not matter) in the dropdown widget and then you can click the `Simulate!` button to randomly create students until one of them has the same birthday as you. The left plot shows you the history of the result for each simulation and the right plot shows you the same information in a histogram so you can see how this variable distributes.\n",
    "\n",
    "You can try this for as long as you want so you get a sense of the probability distribution for this process (it is recommended to try it for at least 30 runs):"
   ]
  },
  {
   "cell_type": "code",
   "execution_count": null,
   "id": "6f450c24",
   "metadata": {},
   "outputs": [],
   "source": [
    "game = utils.your_bday()"
   ]
  },
  {
   "cell_type": "markdown",
   "id": "7ec3e024",
   "metadata": {},
   "source": [
    "## First Problem\n",
    "\n",
    "The first problem tries to answer the question: given a pre-defined date, what is the value of `n` such that the probability of having a match is greater than or equal to 0.5?\n",
    "\n",
    "<img src=\"./images/first.png\" style=\"height: 200px;\"/>\n",
    "\n",
    "Before taking a look at the analytical solution you will try to solve it by creating simulations with Python. For this purpose you can use the `simulate` helper function provided in the next cell. Run it to load this function which will be used shortly:"
   ]
  },
  {
   "cell_type": "code",
   "execution_count": null,
   "id": "075e35c5-85f4-427f-9d63-b540aec4caa3",
   "metadata": {
    "tags": []
   },
   "outputs": [],
   "source": [
    "def simulate(problem_func, n_students=365, n_simulations=1000):\n",
    "    \n",
    "    # Initialize the counter of matches at 0\n",
    "    matches = 0\n",
    "    \n",
    "    # Run the simulation for the desired number of times\n",
    "    for _ in range(n_simulations):\n",
    "        \n",
    "        # If there is a match in the classroom add 1 to the counter of matches\n",
    "        if problem_func(n_students):\n",
    "            matches += 1\n",
    "    \n",
    "    # Return the ratio of number of matches / number of simulations\n",
    "    return matches/n_simulations"
   ]
  },
  {
   "cell_type": "markdown",
   "id": "0aa06656",
   "metadata": {},
   "source": [
    "This function returns the simulated probability for a given problem when you pass to it the number of students and the number of simulations and it has these two properties:\n",
    "\n",
    "   - The higher the number of students the higher the probability of a match.\n",
    "   - The higher the number of simulations the more accurate the simulated probability will be (This fact will be discussed further in Week 3. This is known as the Central Limit Theorem). \n",
    "\n",
    "This is pretty cool but how do you use this helper function? You need to pass another function to it that models the situation at hand. This other function should have two criteria so that `simulate` works as expected:\n",
    "\n",
    "   - It should receive the number of students as input.\n",
    "   - It should return True if there was a match or False otherwise.\n",
    "    \n",
    "You can create a function that models problem number 1 by running the following cell:"
   ]
  },
  {
   "cell_type": "code",
   "execution_count": null,
   "id": "14557c4f-588f-40a9-8e4e-c188b947fe42",
   "metadata": {
    "tags": []
   },
   "outputs": [],
   "source": [
    "def problem_1(n_students):\n",
    "    \n",
    "    # Predefine a specific birthday\n",
    "    predef_bday = np.random.randint(0, 365)\n",
    "    \n",
    "    # Generate birthdays for every student\n",
    "    gen_bdays = np.random.randint(0, 365, (n_students))\n",
    "    \n",
    "    # Check if predefined bday is among students\n",
    "    return predef_bday in gen_bdays"
   ]
  },
  {
   "cell_type": "markdown",
   "id": "9e82157c",
   "metadata": {},
   "source": [
    "Now you can use these two functions in conjuction to get the probability of a match for a given classroom size. Notice that you can tweak the value of the `n` variable to simulate classrooms with different number of students. Also notice that this time the simulation is run 10,000 times instead of the default 1000. This gives you a more accurate simulated probability at the expense of taking longer to execute:"
   ]
  },
  {
   "cell_type": "code",
   "execution_count": null,
   "id": "977e402e-58c2-45ab-9a7d-2d2095cae6d3",
   "metadata": {
    "tags": []
   },
   "outputs": [],
   "source": [
    "n = 100 # try changing this value!\n",
    "simulated_prob = simulate(problem_1, n_students=n, n_simulations=10_000)\n",
    "\n",
    "print(f\"The simulated probability of any student to have a bday equal to a predefined value is {simulated_prob} in a classroom with {n} students\")"
   ]
  },
  {
   "cell_type": "markdown",
   "id": "07ca745b",
   "metadata": {},
   "source": [
    "This is very cool but it still has one major drawback: you would need to try a bunch of values for `n` before arriving at the solution. Instead of taking this approach you can generate a plot that shows the simulated probability as a function of the number of students in the classroom:"
   ]
  },
  {
   "cell_type": "code",
   "execution_count": null,
   "id": "5e201de4",
   "metadata": {},
   "outputs": [],
   "source": [
    "# Generate the simulated probability for every classroom\n",
    "simulated_probs_1 = [simulate(problem_1, n_students=n) for n in utils.big_classroom_sizes]\n",
    "\n",
    "# Create a scatterplot of simulated probabilities vs classroom size\n",
    "utils.plot_simulated_probs(simulated_probs_1, utils.big_classroom_sizes)"
   ]
  },
  {
   "cell_type": "markdown",
   "id": "ae84cc0c",
   "metadata": {},
   "source": [
    "Remember that this approach is a simulation and thus you are generating simulated (or approximated) probabilities. Because of this the curve is not completely smooth and you will get slightly different values every time you run the simulation.\n",
    "\n",
    "## Analytical Solution\n",
    "\n",
    "Now that you have built a stronger intuition, let's calculate explicitily the probability $P$ that at least one student in the room has the birthday the same as the pre-defined date. It is clear that $P = P(n)$, i.e., the value for $P$ depends on the number of students in the room and, as $n$ become large, $P(n)$ must become closer to $1$. With a formula for $P(n)$ we can then find the minimum $n$ such that $P(n) \\geq 0.5$. Let's suppose that a year has $365$ days.\n",
    "\n",
    "Let's consider $D$ the pre-defined birthday and suppose a student is selected at random. \n",
    "\n",
    "Defining the event $S_i$ as the $i$-th student has birthday in the day $D$. Then $P(S_i) = \\frac{1}{365}$, because there are $365$ equally likely possibilities for their birthday. So, using the **complement rule**, the probability that this student's birthday isn't day $D$ is $P(S_i^c) = 1 - P(S_i) = 1 - \\frac{1}{365}$. \n",
    "\n",
    "Note that this probability is the same for any student and we can fairily assume that each student's birthday is independent from each other. Consider the event $\\mathcal{S}$ the desired event, i.e., at least one student has birthday in day $D$. Note that:\n",
    "\n",
    "$\\mathcal{S}^c$ is the probability that **no student has birthday in day $D$** and this is the same as:\n",
    "\n",
    "- Student $1$ has birthday in a day different than D, AND\n",
    "- Student $2$ has birthday in a day different than D, AND,\n",
    "...\n",
    "- Student $k$ has birthday in a day different than D.\n",
    "\n",
    "With our definitions, this is just $S_1^c \\cap S_2^c \\cap \\ldots \\cap S_k^c.$ Therefore\n",
    "\n",
    "$\n",
    "\\begin{equation}\n",
    "\\begin{split}\n",
    "P(\\mathcal{S}) {} & = 1 - P(\\mathcal{S}^c) \\\\\n",
    "              & = 1 - P(S_1^c \\cap S_2^c \\cap \\ldots \\cap S_k^c) \\\\\n",
    "              & = 1 - P(S_1^c)P(S_2^c) \\cdots P(S_k^c) \\text{ (independence)}\\\\\n",
    "              & = 1 - (1 - \\frac{1}{365})^n.\n",
    "\\end{split}\n",
    "\\end{equation}\n",
    "$\n",
    "\n",
    "As you've expected, $P(\\mathcal{S}) = 1 - (1 - \\frac{1}{365})^n = P(n)$. Now, you are ready to answer the question: for wich value of $n$, $P(n) \\geq \\frac{1}{2}$?\n",
    "\n",
    "Well, $P(n) \\geq \\frac{1}{2}$ is equivalent to\n",
    "\n",
    "\\begin{align}\n",
    " 1 - \\left(1 - \\frac{1}{365}\\right)^n &\\geq \\frac{1}{2} \\textit{, passing 1 to the other side and inverting the inequality sign}\\\\\n",
    "\\left(1 - \\frac{1}{365}\\right)^n &\\leq \\frac{1}{2}\\\\\n",
    "\\left(\\frac{364}{365}\\right)^n &\\leq 2^{-1} \\\\\n",
    "\\ln{\\left(\\frac{364}{365}\\right)}^n &\\leq \\ln{2^{-1}} \\\\\n",
    "n \\ln{\\left(\\frac{364}{365}\\right)} &\\leq -\\ln{2}\\\\\n",
    "\\end{align}\n",
    "\n",
    "Now, using a calculator we can easily find that $\\ln{2} \\approx 0.693$ and $\\ln{\\frac{364}{365}} \\approx -0.003$, the last inequality becomes\n",
    "\n",
    "$$n \\cdot -0.003 \\leq -0.693,$$\n",
    "\n",
    "which is equivalent to $n \\geq \\frac{0.693}{0.003} = 253$. "
   ]
  },
  {
   "cell_type": "markdown",
   "id": "a326b10f",
   "metadata": {},
   "source": [
    "## Second Problem\n",
    "\n",
    "The second problem is very similar to the first one, with the difference that the predefined value is not previously defined but it is drawn from one of the students at random so it can be worded like this: given a classroom with `n` students, if you draw any student at random what is the value of `n` such that the probability of having a match with another student is greater than or equal to 0.5?\n",
    "\n",
    "<img src=\"./images/second.png\" style=\"height: 200px;\"/>\n",
    "\n",
    "You can reuse the `simulate` helper function defined earlier so the only thing left is to code the function that models this particular problem. **But before doing this try to come up with a hypothesis about the result. What do you think will happen? Will `n` be similar to the previous one or do you need a higher value? What about a smaller value?**\n",
    "\n",
    "Run the next cells to find out!"
   ]
  },
  {
   "cell_type": "code",
   "execution_count": null,
   "id": "b83a13c5-812d-4637-95da-8fc4058178ec",
   "metadata": {
    "tags": []
   },
   "outputs": [],
   "source": [
    "def problem_2(n_students):\n",
    "    \n",
    "    # Generate birthdays for every student\n",
    "    gen_bdays = np.random.randint(0, 365, (n_students))\n",
    "    \n",
    "    # Pick one student at random\n",
    "    rnd_index = np.random.randint(0, len(gen_bdays))\n",
    "    \n",
    "    # Get the bday from the selected student\n",
    "    rnd_bday = gen_bdays[rnd_index]\n",
    "    \n",
    "    # Take the bday out of the pool of bdays (otherwise there is always a match)\n",
    "    remaining_bdays = np.delete(gen_bdays, rnd_index, axis=0)\n",
    "    \n",
    "    # Check if another student shares the same bday\n",
    "    return rnd_bday in remaining_bdays"
   ]
  },
  {
   "cell_type": "code",
   "execution_count": null,
   "id": "a826e6e3-be69-42b5-8995-3c13239b05ee",
   "metadata": {
    "tags": []
   },
   "outputs": [],
   "source": [
    "# Generate the simulated probability for every classroom\n",
    "simulated_probs_2 = [simulate(problem_2, n_students=n) for n in utils.big_classroom_sizes]\n",
    "\n",
    "# Create a scatterplot of simulated probabilities vs classroom size\n",
    "utils.plot_simulated_probs(simulated_probs_2, utils.big_classroom_sizes)"
   ]
  },
  {
   "cell_type": "markdown",
   "id": "a158970e",
   "metadata": {},
   "source": [
    "## Analytical Solution\n",
    "\n",
    "Note that this problem is very similar to the first one. The difference is that, instead of selecting one day $D$ at random from the room, you select a student and fix their birthday $D$. You can reduce this problem to the previous one by removing this student from the room and considering now a room with $n-1$ students. The problem now is analogous to the previous one but you will end up with a  $n-1$ instead of $n$. Therefore, it is easy to see that, in this case,\n",
    "\n",
    "$$P(n) = 1 - \\left(1 - \\frac{1}{365} \\right)^{n-1}.$$\n",
    "\n",
    "With some calculations you get that $P(n) \\geq \\frac{1}{2}$ if and only if $n \\geq {\\frac{0.693}{0.003}} + 1 = 254$."
   ]
  },
  {
   "cell_type": "markdown",
   "id": "da320d6d",
   "metadata": {},
   "source": [
    "## Third Problem\n",
    "\n",
    "The third one is the most famous of all the birthday problems and it was covered in the lectures in a sligthly different way.\n",
    "\n",
    "This time you don't want to find a match with a predefined value but rather to find a match between any two birthdays, it can be worded like this: given a classroom with students, what is the value of `n` such that the probability of having a match is greater than or equal to 0.5 for any two students?\n",
    "\n",
    "<img src=\"./images/third.png\" style=\"height: 200px;\"/>\n",
    "\n",
    "Note that, in the lectures, it was calculated the probability that **no students share a birthday**. Here, you are dealing with the case that, **at least two students share a birthday**, which is the *complement* of the question discussed in the lecture.\n",
    "\n",
    "Before doing the simulation as with previous problems ask yourself: **Do you think that the value of `n` will be similar to that of the previous problems? If you have to guess would you say it needs to be greater than or lower?**\n",
    "\n",
    "To help you out run the next cell to play an interactive version of this problem. The instructions are simple:\n",
    "\n",
    "   - To start a new simulation click anywhere on the upper panel (just below where the `Figure` headline appears)\n",
    "   - The upper panel shows randomly generated birthdays and let's you know when there is a match between two students\n",
    "   - The bottom left panel keeps track of the number of students required to have a match for every run\n",
    "   - The bottom right panel shows that same information as a histogram\n",
    "   - **Try running the simulation at least 30 times to get a sense of how this particular problem behaves**"
   ]
  },
  {
   "cell_type": "code",
   "execution_count": null,
   "id": "4690bde7",
   "metadata": {},
   "outputs": [],
   "source": [
    "game_third_prob = utils.third_bday_problem()"
   ]
  },
  {
   "cell_type": "markdown",
   "id": "40186804",
   "metadata": {},
   "source": [
    "Now you should have a hypothesis of the number of students in the classroom needed for the match. Test your intuition by generating the simulated probabilities as before:"
   ]
  },
  {
   "cell_type": "code",
   "execution_count": null,
   "id": "fdc9a19c-2a85-4bae-9b57-1f3b0611da6c",
   "metadata": {
    "tags": []
   },
   "outputs": [],
   "source": [
    "def problem_3(n_students):\n",
    "    \n",
    "    # Generate birthdays for every student\n",
    "    gen_bdays = np.random.randint(0, 365, (n_students))\n",
    "    \n",
    "    # Get array containing unique bdays\n",
    "    unique_bdays = np.array(list(set(gen_bdays)))\n",
    "    \n",
    "    # Check that both the original and unique arrays have the same length \n",
    "    # (if so then no two students share the same bday)\n",
    "    return len(unique_bdays) != len(gen_bdays)"
   ]
  },
  {
   "cell_type": "code",
   "execution_count": null,
   "id": "083a603c-e5a4-4adf-a2f6-cf0045081da7",
   "metadata": {
    "tags": []
   },
   "outputs": [],
   "source": [
    "# Generate the simulated probability for every classroom\n",
    "simulated_probs_3 = [simulate(problem_3, n_students=n) for n in utils.small_classroom_sizes]\n",
    "\n",
    "# Create a scatterplot of simulated probabilities vs classroom size\n",
    "utils.plot_simulated_probs(simulated_probs_3, utils.small_classroom_sizes)"
   ]
  },
  {
   "cell_type": "markdown",
   "id": "9075640c",
   "metadata": {},
   "source": [
    "## Analytical solution\n",
    "\n",
    "This problem is a bit different from the previous two, so you will need to make some calculations again. Now, the idea is to perform the calculation by steps, selecting one student at time. So let's define $Q_i$ as the probability that the $i$-th student has birthday different from the previous students. Note that $Q_1 = 1$, because there is no previous student. Note also that,\n",
    "\n",
    "$$Q_2 = \\frac{364}{365}.$$\n",
    "\n",
    "This is because, given that you've selected one student, the second has $364$ possible values, it has a chance of $\\frac{364}{365}$ of not matching birthdays with the first. Now, for $Q_3$, there are $2$ selected students with different birthdays, so the probability that the third student not matches any of the previous two is:\n",
    "\n",
    "$$Q_3 = \\frac{363}{365}.$$\n",
    "\n",
    "Inductively, if we select $n$ students, then $$Q_n = \\frac{365 - (n-1)}{365}.$$\n",
    "\n",
    "Since we assume that we are choosing students independently from each other, then the probability of picking $n$ students that **don't have their birthday in common** is just the product of all $Q_n$. Let's call it $Q$, so:\n",
    "\n",
    "$$Q = Q_1 \\cdot Q_2 \\cdot \\ldots \\cdot Q_{n-1} \\cdot Q_n = 1 \\cdot \\frac{364}{365} \\cdot \\frac{363}{365} \\cdot \\ldots \\cdot \\frac{365 - (n-2)}{365} \\cdot \\frac{365 - (n-1)}{365}.$$\n",
    "\n",
    "The desired probability is, therefore, $P:= 1 - Q$, since we want the probability of **at least two students match their birthday** (this is just the complement rule).\n",
    "\n",
    "Note that we could just write a small program in Python to compute this value for every $n$ and return the first value that achieves the inequality we want ($P \\geq \\frac{1}{2}$), but for sake of completion we will provide an analytic solution.\n",
    "\n",
    "We will use the following approximation: $1 - x \\approx e^{-x}$ for $x$ small and positive. We can re-write $Q$ as\n",
    "\n",
    "$$Q = 1 \\cdot \\frac{364}{365} \\cdot \\frac{363}{365} \\cdot \\ldots \\cdot \\frac{365 - (n-2)}{365} \\cdot \\frac{365 - (n-1)}{365} \n",
    "    = \\left(1 - \\frac{1}{365} \\right) \\cdot \\left(1 - \\frac{2}{365} \\right) \\cdot \\ldots \\cdot \\left(1 - \\frac{n-2}{365} \\right) \\cdot \\left(1 - \\frac{n-1}{365} \\right).$$\n",
    "\n",
    "Thus, using the approximation:\n",
    "\n",
    "$$Q \\approx e^{-\\frac{1}{365}} \\cdot e^{-\\frac{2}{365}} \\cdot \\ldots \\cdot e^{-\\frac{n-2}{365}} \\cdot e^{-\\frac{n-1}{365}} = e^{- \\frac{1 + 2 + \\ldots + (n-1)}{365}}.$$\n",
    "\n",
    "Using the formula $1 + 2 + \\ldots + (n-1) = \\frac{n(n-1)}{2}$ (this is the sum of the first $n-1$ terms of a arithmetic progression with first term $1$ and common difference $1$), we have:\n",
    "\n",
    "$$Q \\approx e^{-\\frac{n(n-1)}{730}}.$$\n",
    "\n",
    "So, $P = 1 - Q = 1 - e^{-\\frac{n(n-1)}{730}}$ and $P \\geq \\frac{1}{2}$ is equivalent to $1 - e^{-\\frac{n(n-1)}{730}} \\geq \\frac{1}{2}$ which is equivalent to $\\frac{n(n-1)}{730} \\geq \\ln 2$, i.e., $n(n-1) \\geq 730 \\cdot \\ln 2$. Since $\\ln 2 \\approx 0.6931$, so $$n(n-1) \\geq 505.96 \\geq 505.$$\n",
    "\n",
    "Solving the quadratic equation $n(n-1) = 505$, the only positive value for $n$ is $n = \\frac{1 + \\sqrt{2021}}{2} \\approx 23.$\n",
    "\n",
    "Therefore, if $n\\geq23$ then $P \\geq \\frac{1}{2}$."
   ]
  },
  {
   "cell_type": "markdown",
   "id": "0106c0d8",
   "metadata": {},
   "source": [
    "## Fourth Problem\n",
    "\n",
    "The fourth and final one is similar to the third problem but with the difference that you have two classrooms and want to find a match between a student in one classroom and a student in the other, presenting it like a question it will be: given two classrooms with `n` students, what is the value of `n` such that the probability of having a match is greater than or equal to 0.5 for any two students in each classroom?\n",
    "\n",
    "<img src=\"./images/fourth.png\" style=\"height: 200px;\"/>\n",
    "\n",
    "**Once again try to come up with your own hypothesis before doing the simulation!**"
   ]
  },
  {
   "cell_type": "code",
   "execution_count": null,
   "id": "52476294-746a-4676-b898-a5c3563a5dbd",
   "metadata": {
    "tags": []
   },
   "outputs": [],
   "source": [
    "def problem_4(n_students):\n",
    "    \n",
    "    # Generate birthdays for every student in classroom 1\n",
    "    gen_bdays_1 = np.random.randint(0, 365, (n_students))\n",
    "    \n",
    "    # Generate birthdays for every student in classroom 2\n",
    "    gen_bdays_2 = np.random.randint(0, 365, (n_students))\n",
    "    \n",
    "    # Check for any match between both classrooms\n",
    "    return np.isin(gen_bdays_1, gen_bdays_2).any()"
   ]
  },
  {
   "cell_type": "code",
   "execution_count": null,
   "id": "411889a8-317b-435a-85be-bec3f94edbf0",
   "metadata": {
    "tags": []
   },
   "outputs": [],
   "source": [
    "# Generate the simulated probability for every classroom\n",
    "simulated_probs_4 = [simulate(problem_4, n_students=n) for n in utils.small_classroom_sizes]\n",
    "\n",
    "# Create a scatterplot of simulated probabilities vs classroom size\n",
    "utils.plot_simulated_probs(simulated_probs_4, utils.small_classroom_sizes)"
   ]
  },
  {
   "cell_type": "markdown",
   "id": "7fbc564d",
   "metadata": {},
   "source": [
    "## Analytical solution\n",
    "\n",
    "The solution to this problem is similar to the first one. Now, instead of only **one** date, there are $n$ dates to compare. \n",
    "Remember that if we have only one date $D$ to compare than the probability, let's say $Q_1$ of having **no** student with birthday $D$ is $Q_1 = (1 - \\frac{1}{365})^n$ (the complement of $P(\\mathcal{S})$ in that case). Now we proceed as problem three, by having independent samples of students. For each student sampled, the probability $Q_i$ is $(1 - \\frac{1}{365})^n$, so the probability of no student matches any of the $n$ given dates is therefore\n",
    "\n",
    "$$Q = Q_1 \\cdot Q_2 \\cdot \\ldots \\cdot Q_{n-1} \\cdot Q_n = (1 - \\frac{1}{365})^{n^2}$$\n",
    "\n",
    "Using the approximation $1 - x \\approx e^{-x}$ for $x$ small,\n",
    "\n",
    "$$Q \\approx e^{-\\frac{n^2}{365}}$$\n",
    "\n",
    "Therefore, $$P(n) \\approx 1 - e^{-\\frac{n^2}{365}}.$$ \n",
    "\n",
    "Thus, $P(n) \\geq \\frac{1}{2}$ if $n \\geq \\sqrt{\\ln 2 \\cdot 365} \\approx 15.9 \\geq 15$"
   ]
  },
  {
   "cell_type": "markdown",
   "id": "1597e9d7",
   "metadata": {},
   "source": [
    "**Congratulations! You have finished the ungraded lab on the Birthday problems!**"
   ]
  }
 ],
 "metadata": {
  "kernelspec": {
   "display_name": "Python 3 (ipykernel)",
   "language": "python",
   "name": "python3"
  },
  "language_info": {
   "codemirror_mode": {
    "name": "ipython",
    "version": 3
   },
   "file_extension": ".py",
   "mimetype": "text/x-python",
   "name": "python",
   "nbconvert_exporter": "python",
   "pygments_lexer": "ipython3",
   "version": "3.10.9"
  }
 },
 "nbformat": 4,
 "nbformat_minor": 5
}
