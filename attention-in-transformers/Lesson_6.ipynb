{
 "cells": [
  {
   "cell_type": "markdown",
   "id": "9f40c232-df6e-49df-9016-6459e4af2e1e",
   "metadata": {
    "tags": []
   },
   "source": [
    "# Coding Masked Self-Attention in PyTroch!!!\n",
    "\n",
    "By Josh Starmer"
   ]
  },
  {
   "cell_type": "markdown",
   "id": "00954337-fe38-445a-8de0-7544f6801121",
   "metadata": {},
   "source": [
    "<p style=\"background-color:#fff6e4; padding:15px; border-width:3px; border-color:#f5ecda; border-style:solid; border-radius:6px\"> ⏳ <b>Note <code>(Kernel Starting)</code>:</b> This notebook takes about 30 seconds to be ready to use. You may start and watch the video while you wait.</p>"
   ]
  },
  {
   "cell_type": "markdown",
   "id": "f4226d63-8d76-40bc-a8e6-0f290a159418",
   "metadata": {},
   "source": [
    "---- \n",
    "\n",
    "In this tutorial, we will code **Masked Self-Attention** in **[PyTorch](https://pytorch.org/)**. **Attention** is an essential component of neural network **Transformers**, which are driving the current excitement in **Large Language Models** and AI. Specifically, a **Decoder-Only Transformer**, illustrated below, is the foundation for the popular model **ChatGPT**. \n",
    "\n",
    "<img src=\"./images/dec_transformer.png\" alt=\"a decoder-only transformer neural network\" style=\"width: 800px;\">\n",
    "\n",
    "At the heart of **ChatGPT** is **Masked Self-Attention**, which allows it to establish relationships among the words, characters and symbols while also making it relatively easy to train the model to predict what should come next. For example, in the illustration below, where the word **it** could potentially refer to either **pizza** or **oven**, **Masked Self-Attention** could help a **Transformer** establish the correctly relationship between the word **it** and **pizza** as well as help efficiently train it to predict the words that came after, **tasted good**.\n",
    "\n",
    "<img src=\"./images/masked_self_attention_1.png\" alt=\"an illustration of how masked self-attention works\" style=\"width: 800px;\">\n",
    "\n",
    "In this tutorial, you will...\n",
    "\n",
    "- **[Code a Masked Self-Attention Class!!!](#masked)** The the masked self-attention class allows the transformer to establish relationships among words and tokens and be efficiently trained to predict what comes next.\n",
    "\n",
    "- **[Calculate Masked Self-Attention Values!!!](#calculate)** We'll then use the class that we created, MaskedSelfAttention, to calculate masked self-attention values for some sample data.\n",
    " \n",
    "- **[Verify The Calculations!!!](#validate)** Lastly, we'll validate the calculations made by the MaskedSelfAttention class..\n"
   ]
  },
  {
   "cell_type": "markdown",
   "id": "855d3a52-a43e-44cf-b8b6-b2ce88bea382",
   "metadata": {},
   "source": [
    "----"
   ]
  },
  {
   "cell_type": "markdown",
   "id": "63b86036-1369-441c-a14d-3ba7bdaa103b",
   "metadata": {
    "tags": []
   },
   "source": [
    "# Import the modules that will do all the work"
   ]
  },
  {
   "cell_type": "code",
   "execution_count": null,
   "id": "5c520e0b-c6e4-43ce-93f5-c0f2b5e75438",
   "metadata": {
    "height": 81
   },
   "outputs": [],
   "source": [
    "import torch ## torch let's us create tensors and also provides helper functions\n",
    "import torch.nn as nn ## torch.nn gives us nn.module() and nn.Linear()\n",
    "import torch.nn.functional as F # This gives us the softmax()"
   ]
  },
  {
   "cell_type": "markdown",
   "id": "a05d0a26-0e97-45bc-a19c-88fd2a551f2c",
   "metadata": {},
   "source": [
    "<p style=\"background-color:#fff6ff; padding:15px; border-width:3px; border-color:#efe6ef; border-style:solid; border-radius:6px\"> 💻 &nbsp; <b>Access <code>requirements.txt</code> file:</b> 1) click on the <em>\"File\"</em> option on the top menu of the notebook and then 2) click on <em>\"Open\"</em>. For more help, please see the <em>\"Appendix - Tips and Help\"</em> Lesson.</p>"
   ]
  },
  {
   "cell_type": "markdown",
   "id": "6e58ebb2-1798-41c3-9ff8-1b4f50605964",
   "metadata": {},
   "source": [
    "----"
   ]
  },
  {
   "cell_type": "markdown",
   "id": "125c4f0d-83b6-488f-8d91-66c54776bf2f",
   "metadata": {},
   "source": [
    "# Code Masked Self-Attention\n",
    "<a id=\"masked\"></a>"
   ]
  },
  {
   "cell_type": "code",
   "execution_count": null,
   "id": "e3392130-cd25-4000-97bb-9612764c83a8",
   "metadata": {
    "height": 693
   },
   "outputs": [],
   "source": [
    "class MaskedSelfAttention(nn.Module): \n",
    "                            \n",
    "    def __init__(self, d_model=2,  \n",
    "                 row_dim=0, \n",
    "                 col_dim=1):\n",
    "        \n",
    "        super().__init__()\n",
    "        \n",
    "        self.W_q = nn.Linear(in_features=d_model, out_features=d_model, bias=False)\n",
    "        self.W_k = nn.Linear(in_features=d_model, out_features=d_model, bias=False)\n",
    "        self.W_v = nn.Linear(in_features=d_model, out_features=d_model, bias=False)\n",
    "        \n",
    "        self.row_dim = row_dim\n",
    "        self.col_dim = col_dim\n",
    "\n",
    "        \n",
    "    def forward(self, token_encodings, mask=None):\n",
    "\n",
    "        q = self.W_q(token_encodings)\n",
    "        k = self.W_k(token_encodings)\n",
    "        v = self.W_v(token_encodings)\n",
    "\n",
    "        sims = torch.matmul(q, k.transpose(dim0=self.row_dim, dim1=self.col_dim))\n",
    "\n",
    "        scaled_sims = sims / torch.tensor(k.size(self.col_dim)**0.5)\n",
    "\n",
    "        if mask is not None:\n",
    "            ## Here we are masking out things we don't want to pay attention to\n",
    "            ##\n",
    "            ## We replace values we wanted masked out\n",
    "            ## with a very small negative number so that the SoftMax() function\n",
    "            ## will give all masked elements an output value (or \"probability\") of 0.\n",
    "            scaled_sims = scaled_sims.masked_fill(mask=mask, value=-1e9) # I've also seen -1e20 and -9e15 used in masking\n",
    "\n",
    "        attention_percents = F.softmax(scaled_sims, dim=self.col_dim)\n",
    "\n",
    "        attention_scores = torch.matmul(attention_percents, v)\n",
    "\n",
    "        return attention_scores"
   ]
  },
  {
   "cell_type": "markdown",
   "id": "62970aef-efbe-400e-b35f-bb5aeb0eafe7",
   "metadata": {},
   "source": [
    "# BAM!"
   ]
  },
  {
   "cell_type": "markdown",
   "id": "371cd1e0-0216-438d-a241-05533e4b374d",
   "metadata": {},
   "source": [
    "----"
   ]
  },
  {
   "cell_type": "markdown",
   "id": "c75aaaa3-29e0-4c03-8a11-816bd4b7aea3",
   "metadata": {},
   "source": [
    "# Calculate Masked Self-Attention\n",
    "<a id=\"masked\"></a>"
   ]
  },
  {
   "cell_type": "code",
   "execution_count": null,
   "id": "0946c6d7-9960-4f49-8aa6-20dd614efbdc",
   "metadata": {
    "height": 336
   },
   "outputs": [],
   "source": [
    "## create a matrix of token encodings...\n",
    "encodings_matrix = torch.tensor([[1.16, 0.23],\n",
    "                                 [0.57, 1.36],\n",
    "                                 [4.41, -2.16]])\n",
    "\n",
    "## set the seed for the random number generator\n",
    "torch.manual_seed(42)\n",
    "\n",
    "## create a masked self-attention object\n",
    "maskedSelfAttention = MaskedSelfAttention(d_model=2,\n",
    "                               row_dim=0,\n",
    "                               col_dim=1)\n",
    "\n",
    "## create the mask so that we don't use\n",
    "## tokens that come after a token of interest\n",
    "mask = torch.tril(torch.ones(3, 3))\n",
    "mask = mask == 0\n",
    "mask # print out the mask"
   ]
  },
  {
   "cell_type": "code",
   "execution_count": null,
   "id": "dbfda93b-f139-4bc4-aa17-a502888ef48c",
   "metadata": {
    "height": 48
   },
   "outputs": [],
   "source": [
    "## calculate masked self-attention\n",
    "maskedSelfAttention(encodings_matrix, mask)"
   ]
  },
  {
   "cell_type": "markdown",
   "id": "b74c4d95-8904-4a84-9c5f-6dcf522eb37d",
   "metadata": {},
   "source": [
    "# DOUBLE BAM!!"
   ]
  },
  {
   "cell_type": "markdown",
   "id": "1153eec7-5573-41f7-b7de-3106b2ca07f9",
   "metadata": {},
   "source": [
    "----"
   ]
  },
  {
   "cell_type": "markdown",
   "id": "c25086ad-92d0-4396-8484-d9dab376ef50",
   "metadata": {},
   "source": [
    "# Print Out Weights and Verify Calculations\n",
    "<a id=\"validate\"></a>"
   ]
  },
  {
   "cell_type": "code",
   "execution_count": null,
   "id": "0ceddcba-be60-46fe-80bd-fa74e97ea62f",
   "metadata": {
    "height": 64
   },
   "outputs": [],
   "source": [
    "## print out the weight matrix that creates the queries\n",
    "maskedSelfAttention.W_q.weight.transpose(0, 1)"
   ]
  },
  {
   "cell_type": "code",
   "execution_count": null,
   "id": "c4348097-376a-40fc-a133-7d366ca9a007",
   "metadata": {
    "height": 64
   },
   "outputs": [],
   "source": [
    "## print out the weight matrix that creates the queries\n",
    "maskedSelfAttention.W_q.weight.transpose(0, 1)"
   ]
  },
  {
   "cell_type": "code",
   "execution_count": null,
   "id": "03331fba-9985-48e0-92ba-d72118c7a9c0",
   "metadata": {
    "height": 64
   },
   "outputs": [],
   "source": [
    "## print out the weight matrix that creates the keys\n",
    "maskedSelfAttention.W_k.weight.transpose(0, 1)"
   ]
  },
  {
   "cell_type": "code",
   "execution_count": null,
   "id": "89d1e184-4fd0-4e6c-bd24-6916df2f76d8",
   "metadata": {
    "height": 64
   },
   "outputs": [],
   "source": [
    "## print out the weight matrix that creates the values\n",
    "maskedSelfAttention.W_v.weight.transpose(0, 1)"
   ]
  },
  {
   "cell_type": "code",
   "execution_count": null,
   "id": "55d27388-5b15-4ee5-b39c-61903df18286",
   "metadata": {
    "height": 48
   },
   "outputs": [],
   "source": [
    "## calculate the queries\n",
    "maskedSelfAttention.W_q(encodings_matrix)"
   ]
  },
  {
   "cell_type": "code",
   "execution_count": null,
   "id": "c4b3425e-7b2f-4282-b4df-a2da6712c1c6",
   "metadata": {
    "height": 48
   },
   "outputs": [],
   "source": [
    "## calculate the keys\n",
    "maskedSelfAttention.W_k(encodings_matrix)"
   ]
  },
  {
   "cell_type": "code",
   "execution_count": null,
   "id": "9ff03c5b-62a6-4cda-94fc-1aac994e4ad5",
   "metadata": {
    "height": 48
   },
   "outputs": [],
   "source": [
    "## calculate the values\n",
    "maskedSelfAttention.W_v(encodings_matrix)"
   ]
  },
  {
   "cell_type": "code",
   "execution_count": null,
   "id": "7d88e411-84ac-4759-abcf-512cf8ff0670",
   "metadata": {
    "height": 64
   },
   "outputs": [],
   "source": [
    "q = maskedSelfAttention.W_q(encodings_matrix)\n",
    "q"
   ]
  },
  {
   "cell_type": "code",
   "execution_count": null,
   "id": "95e191e2-fab3-4290-8085-b64b436dc5e7",
   "metadata": {
    "height": 64
   },
   "outputs": [],
   "source": [
    "k = maskedSelfAttention.W_k(encodings_matrix)\n",
    "k"
   ]
  },
  {
   "cell_type": "code",
   "execution_count": null,
   "id": "b4f55998-e89b-40b6-9021-f764ba32a3b5",
   "metadata": {
    "height": 64
   },
   "outputs": [],
   "source": [
    "sims = torch.matmul(q, k.transpose(dim0=0, dim1=1))\n",
    "sims"
   ]
  },
  {
   "cell_type": "code",
   "execution_count": null,
   "id": "91513a34-f0ab-4dd0-a45d-3eeed735681f",
   "metadata": {
    "height": 31
   },
   "outputs": [],
   "source": [
    "scaled_sims = sims / (torch.tensor(2)**0.5)"
   ]
  },
  {
   "cell_type": "code",
   "execution_count": null,
   "id": "25245f19-d931-4b79-83cf-2e7643ec15da",
   "metadata": {
    "height": 31
   },
   "outputs": [],
   "source": [
    "scaled_sims"
   ]
  },
  {
   "cell_type": "code",
   "execution_count": null,
   "id": "ccbf1f7f-f70c-429b-9820-f4b4a3429e9c",
   "metadata": {
    "height": 64
   },
   "outputs": [],
   "source": [
    "masked_scaled_sims = scaled_sims.masked_fill(mask=mask, value=-1e9)\n",
    "masked_scaled_sims"
   ]
  },
  {
   "cell_type": "code",
   "execution_count": null,
   "id": "e442e681-71c0-406a-a925-d3a08db3de23",
   "metadata": {
    "height": 64
   },
   "outputs": [],
   "source": [
    "attention_percents = F.softmax(masked_scaled_sims, dim=1)\n",
    "attention_percents"
   ]
  },
  {
   "cell_type": "code",
   "execution_count": null,
   "id": "aec91f97-5127-4f4c-949f-ffe913b99417",
   "metadata": {
    "height": 47
   },
   "outputs": [],
   "source": [
    "torch.matmul(attention_percents, maskedSelfAttention.W_v(encodings_matrix))"
   ]
  },
  {
   "cell_type": "markdown",
   "id": "d92c2f59-b64e-4dbc-9a33-74391ff84683",
   "metadata": {},
   "source": [
    "# TRIPLE BAM!!!"
   ]
  }
 ],
 "metadata": {
  "kernelspec": {
   "display_name": "Python 3 (ipykernel)",
   "language": "python",
   "name": "python3"
  },
  "language_info": {
   "codemirror_mode": {
    "name": "ipython",
    "version": 3
   },
   "file_extension": ".py",
   "mimetype": "text/x-python",
   "name": "python",
   "nbconvert_exporter": "python",
   "pygments_lexer": "ipython3",
   "version": "3.11.9"
  }
 },
 "nbformat": 4,
 "nbformat_minor": 5
}
