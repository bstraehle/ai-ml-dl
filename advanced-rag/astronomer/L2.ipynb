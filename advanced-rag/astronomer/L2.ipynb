{
 "cells": [
  {
   "cell_type": "markdown",
   "metadata": {
    "id": "WMGxBP-yQoCl"
   },
   "source": [
    "## Lesson 2: Your RAG Prototype\n"
   ]
  },
  {
   "cell_type": "markdown",
   "metadata": {},
   "source": [
    "In this lesson, you will build a RAG prototype in this notebook which you will learn how to automate in the next lesson. You are provided with text files containing book descriptions. You will create embeddings based on the book description and store them in a vector database. Here's what you will do:\n",
    "- read book descriptions from the text files stored under `include/data`\n",
    "- use `fastembed` to create the vector embedding for each book description\n",
    "- store the embeddings and the book metadata in a local `weaviate` database"
   ]
  },
  {
   "cell_type": "markdown",
   "metadata": {},
   "source": [
    "### Import libraries"
   ]
  },
  {
   "cell_type": "code",
   "execution_count": null,
   "metadata": {},
   "outputs": [],
   "source": [
    "import os\n",
    "import json\n",
    "from IPython.display import JSON\n",
    "\n",
    "from fastembed import TextEmbedding\n",
    "\n",
    "import weaviate\n",
    "from weaviate.classes.data import DataObject\n",
    "\n",
    "from helper import suppress_output"
   ]
  },
  {
   "cell_type": "code",
   "execution_count": null,
   "metadata": {},
   "outputs": [],
   "source": [
    "# Warning control\n",
    "import warnings\n",
    "warnings.filterwarnings('ignore')"
   ]
  },
  {
   "cell_type": "markdown",
   "metadata": {},
   "source": [
    "<p style=\"background-color:#fff6ff; padding:15px; border-width:3px; border-color:#efe6ef; border-style:solid; border-radius:6px\"> 💻 &nbsp; <b>To access <code>requirements.txt</code> and <code>helper.py</code> files, and <code>include</code> folder:</b> 1) click on the <em>\"File\"</em> option on the top menu of the notebook, 2) click on <em>\"Open\"</em> and then 3) click on <em>\"L2\"</em>. For more help, please see the <em>\"Appendix – Tips, Help, and Download\"</em> Lesson.</p>"
   ]
  },
  {
   "cell_type": "markdown",
   "metadata": {},
   "source": [
    "### Set variables"
   ]
  },
  {
   "cell_type": "code",
   "execution_count": null,
   "metadata": {},
   "outputs": [],
   "source": [
    "COLLECTION_NAME = \"Books\"  # capitalize the first letter of collection names\n",
    "BOOK_DESCRIPTION_FOLDER = \"include/data\"\n",
    "EMBEDDING_MODEL_NAME = \"BAAI/bge-small-en-v1.5\""
   ]
  },
  {
   "cell_type": "markdown",
   "metadata": {},
   "source": [
    "Note regarding the variable `COLLECTION_NAME`: Weaviate stores data in [\"collections\"](https://weaviate.io/developers/academy/py/starter_text_data/text_collections/create_collection). A collection is a set of objects that share the same data structure. In the Weaviate instance of this lesson, you will create a collection of books. Each book object will have a vector embedding and a set of properties."
   ]
  },
  {
   "cell_type": "markdown",
   "metadata": {},
   "source": [
    "### Instantiate Embedded Weaviate client"
   ]
  },
  {
   "cell_type": "markdown",
   "metadata": {},
   "source": [
    "You will now create a local Weaviate instance: [Embedded Weaviate](https://weaviate.io/developers/weaviate/connections/connect-embedded), which is a way to run a Weaviate instance from your application code rather than from a stand-alone Weaviate server installation. \n",
    "\n",
    "In the next lessons, you will be interacting with the latter option; you'll be provided with a Weaviate instance running in a [Docker](https://docs.docker.com/) container."
   ]
  },
  {
   "cell_type": "code",
   "execution_count": null,
   "metadata": {},
   "outputs": [],
   "source": [
    "with suppress_output():\n",
    "    client = weaviate.connect_to_embedded(\n",
    "        persistence_data_path= \"tmp/weaviate\",\n",
    "    )\n",
    "print(\"Started new embedded Weaviate instance.\")\n",
    "print(f\"Client is ready: {client.is_ready()}\")"
   ]
  },
  {
   "cell_type": "markdown",
   "metadata": {},
   "source": [
    "### Create the collection "
   ]
  },
  {
   "cell_type": "markdown",
   "metadata": {},
   "source": [
    "You will now create the Books collection inside the Weaviate instance."
   ]
  },
  {
   "cell_type": "code",
   "execution_count": null,
   "metadata": {},
   "outputs": [],
   "source": [
    "existing_collections = client.collections.list_all()\n",
    "existing_collection_names = existing_collections.keys()\n",
    "\n",
    "if COLLECTION_NAME not in existing_collection_names:\n",
    "    print(f\"Collection {COLLECTION_NAME} does not exist yet. Creating it...\")\n",
    "    collection = client.collections.create(name=COLLECTION_NAME)\n",
    "    print(f\"Collection {COLLECTION_NAME} created successfully.\")\n",
    "else:\n",
    "    print(f\"Collection {COLLECTION_NAME} already exists. No action taken.\")\n",
    "    collection = client.collections.get(COLLECTION_NAME)"
   ]
  },
  {
   "cell_type": "markdown",
   "metadata": {},
   "source": [
    "### Extract text from local files"
   ]
  },
  {
   "cell_type": "markdown",
   "metadata": {},
   "source": [
    "You are provided with the `BOOK_DESCRIPTION_FOLDER` (`include/data`) inside the L2 directory. It contains some text files, where each text file contains some book descriptions. You'll now list the text files to discover how many of such files you are provided. "
   ]
  },
  {
   "cell_type": "code",
   "execution_count": null,
   "metadata": {},
   "outputs": [],
   "source": [
    "# list the book description files\n",
    "book_description_files = [\n",
    "    f for f in os.listdir(BOOK_DESCRIPTION_FOLDER)\n",
    "    if f.endswith('.txt')\n",
    "]\n",
    "\n",
    "print(f\"The following files with book descriptions were found: {book_description_files}\")"
   ]
  },
  {
   "cell_type": "markdown",
   "metadata": {},
   "source": [
    "You'll add another file that contains some additional book descriptions. Feel free to add your own book description file. "
   ]
  },
  {
   "cell_type": "code",
   "execution_count": null,
   "metadata": {},
   "outputs": [],
   "source": [
    "# Add your own book description file\n",
    "# Format \n",
    "# [Integer Index] ::: [Book Title] ([Release year]) ::: [Author] ::: [Description]\n",
    "\n",
    "my_book_description = \"\"\"0 ::: The Idea of the World (2019) ::: Bernardo Kastrup ::: An ontological thesis arguing for the primacy of mind over matter.\n",
    "1 ::: Exploring the World of Lucid Dreaming (1990) ::: Stephen LaBerge ::: A practical guide to learning and enjoying lucid dreams.\n",
    "\"\"\"\n",
    "\n",
    "# Write to file\n",
    "with open(f\"{BOOK_DESCRIPTION_FOLDER}/my_book_descriptions.txt\", 'w') as f:\n",
    "    f.write(my_book_description)"
   ]
  },
  {
   "cell_type": "markdown",
   "metadata": {},
   "source": [
    "You'll now loop through each text file. For each text file, you will read each line, which corresponds to one book, to extract the title, author and text description of that book. You will save the data in a list of Python dictionaries, where each dictionary corresponds to one book.   "
   ]
  },
  {
   "cell_type": "code",
   "execution_count": null,
   "metadata": {},
   "outputs": [],
   "source": [
    "book_description_files = [\n",
    "    f for f in os.listdir(BOOK_DESCRIPTION_FOLDER)\n",
    "    if f.endswith('.txt')\n",
    "]\n",
    "\n",
    "list_of_book_data = []\n",
    "\n",
    "for book_description_file in book_description_files:\n",
    "    with open(\n",
    "        os.path.join(BOOK_DESCRIPTION_FOLDER, book_description_file), \"r\"\n",
    "    ) as f:\n",
    "        book_descriptions = f.readlines()\n",
    "    \n",
    "    titles = [\n",
    "        book_description.split(\":::\")[1].strip()\n",
    "        for book_description in book_descriptions\n",
    "    ]\n",
    "    authors = [\n",
    "        book_description.split(\":::\")[2].strip()\n",
    "        for book_description in book_descriptions\n",
    "    ]\n",
    "    book_description_text = [\n",
    "        book_description.split(\":::\")[3].strip()\n",
    "        for book_description in book_descriptions\n",
    "    ]\n",
    "    \n",
    "    book_descriptions = [\n",
    "        {\n",
    "            \"title\": title,\n",
    "            \"author\": author,\n",
    "            \"description\": description,\n",
    "        }\n",
    "        for title, author, description in zip(\n",
    "            titles, authors, book_description_text\n",
    "        )\n",
    "    ]\n",
    "\n",
    "    list_of_book_data.append(book_descriptions)"
   ]
  },
  {
   "cell_type": "code",
   "execution_count": null,
   "metadata": {},
   "outputs": [],
   "source": [
    "JSON(json.dumps(list_of_book_data))"
   ]
  },
  {
   "cell_type": "markdown",
   "metadata": {},
   "source": [
    "### Create vector embeddings from descriptions"
   ]
  },
  {
   "cell_type": "markdown",
   "metadata": {},
   "source": [
    "For each book in the list of book data you extracted, you will now create an embedding vector based on the text description. You will store the the vector of embeddings in the list `list_of_description_embeddings`."
   ]
  },
  {
   "cell_type": "code",
   "execution_count": null,
   "metadata": {},
   "outputs": [],
   "source": [
    "embedding_model = TextEmbedding(EMBEDDING_MODEL_NAME)  \n",
    "\n",
    "list_of_description_embeddings = []\n",
    "\n",
    "for book_data in list_of_book_data:\n",
    "    book_descriptions = [book[\"description\"] for book in book_data]\n",
    "    description_embeddings = [\n",
    "        list(embedding_model.embed([desc]))[0] for desc in book_descriptions\n",
    "    ]\n",
    "\n",
    "    list_of_description_embeddings.append(description_embeddings)"
   ]
  },
  {
   "cell_type": "markdown",
   "metadata": {},
   "source": [
    "### Load embeddings to Weaviate"
   ]
  },
  {
   "cell_type": "markdown",
   "metadata": {},
   "source": [
    "In the books collection of Weaviate, you will create an item for each data object (book). The item has two attributes:\n",
    "- `vector`: which represents the vector embedding of the book text description\n",
    "- `properties`: which is a python dictionary that contains the book metadata: title, author and text description."
   ]
  },
  {
   "cell_type": "code",
   "execution_count": null,
   "metadata": {},
   "outputs": [],
   "source": [
    "for book_data_list, emb_list in zip(list_of_book_data, list_of_description_embeddings):\n",
    "    items = []\n",
    "    \n",
    "    for book_data, emb in zip(book_data_list, emb_list):\n",
    "        item = DataObject(\n",
    "            properties={\n",
    "                \"title\": book_data[\"title\"],\n",
    "                \"author\": book_data[\"author\"],\n",
    "                \"description\": book_data[\"description\"],\n",
    "            },\n",
    "            vector=emb\n",
    "        )\n",
    "        items.append(item)\n",
    "    \n",
    "    collection.data.insert_many(items)"
   ]
  },
  {
   "cell_type": "markdown",
   "metadata": {},
   "source": [
    "### Query for a book recommendation using semantic search"
   ]
  },
  {
   "cell_type": "markdown",
   "metadata": {},
   "source": [
    "Now that you have the embeddings stored in the Weaviate instance, you can query the vector database. You are provided with a query that you will first map it to its embedding vector. You will then pass this vector embedding to the method: `query.near_vector` of the Weaviate `Books` collection. "
   ]
  },
  {
   "cell_type": "code",
   "execution_count": null,
   "metadata": {},
   "outputs": [],
   "source": [
    "query_str = \"A philosophical book\"\n",
    "\n",
    "embedding_model = TextEmbedding(EMBEDDING_MODEL_NAME)  \n",
    "collection = client.collections.get(COLLECTION_NAME)\n",
    "\n",
    "query_emb = list(embedding_model.embed([query_str]))[0]\n",
    "\n",
    "results = collection.query.near_vector(\n",
    "    near_vector=query_emb,\n",
    "    limit=1,\n",
    ")\n",
    "for result in results.objects:\n",
    "    print(f\"You should read: {result.properties['title']} by {result.properties['author']}\")\n",
    "    print(\"Description:\")\n",
    "    print(result.properties[\"description\"])"
   ]
  },
  {
   "cell_type": "markdown",
   "metadata": {},
   "source": [
    "### Optional Cleanup utilities\n",
    "\n",
    "These are optional cleanup utilities that you can locally use to remove the custom book description file, a collection in weaviate or the entire Weaviate instance."
   ]
  },
  {
   "cell_type": "code",
   "execution_count": null,
   "metadata": {},
   "outputs": [],
   "source": [
    "# ## Remove a book description file\n",
    "\n",
    "# import os\n",
    "\n",
    "# file_path = f\"{BOOK_DESCRIPTION_FOLDER}/my_book_descriptions.txt\"\n",
    "\n",
    "# # Remove the file\n",
    "# if os.path.exists(file_path):\n",
    "#     os.remove(file_path)\n",
    "# else:\n",
    "#     print(f\"File not found: {file_path}\")"
   ]
  },
  {
   "cell_type": "code",
   "execution_count": null,
   "metadata": {},
   "outputs": [],
   "source": [
    "# ## Remove a collection from an existing Weaviate instance\n",
    "\n",
    "# client.collections.delete(COLLECTION_NAME)"
   ]
  },
  {
   "cell_type": "code",
   "execution_count": null,
   "metadata": {},
   "outputs": [],
   "source": [
    "# ## Delete a Weaviate instance\n",
    "# ## This cell can take a few seconds to run  \n",
    "\n",
    "# import shutil\n",
    "\n",
    "# client.close()\n",
    "\n",
    "# EMBEDDED_WEAVIATE_PERSISTENCE_PATH = \"tmp/weaviate\"\n",
    "\n",
    "# if os.path.exists(EMBEDDED_WEAVIATE_PERSISTENCE_PATH):\n",
    "#     shutil.rmtree(EMBEDDED_WEAVIATE_PERSISTENCE_PATH)\n",
    "#     if not os.path.exists(EMBEDDED_WEAVIATE_PERSISTENCE_PATH):\n",
    "#         print(f\"Verified: '{EMBEDDED_WEAVIATE_PERSISTENCE_PATH}' no longer exists.\")\n",
    "#         print(f\"Weaviate embedded data at '{EMBEDDED_WEAVIATE_PERSISTENCE_PATH}' deleted.\")"
   ]
  },
  {
   "cell_type": "markdown",
   "metadata": {},
   "source": [
    "### Resources"
   ]
  },
  {
   "cell_type": "markdown",
   "metadata": {},
   "source": [
    "- [Weaviate Docs](https://weaviate.io/developers/weaviate)\n",
    "- [What is FastEmbed?](https://qdrant.github.io/fastembed/)\n",
    "- [Weaviate Short Course - Vector Databases: from Embeddings to Applications](https://www.deeplearning.ai/short-courses/vector-databases-embeddings-applications/)\n",
    "- [Weaviate Short Course - Building Multimodal Search and RAG](https://www.deeplearning.ai/short-courses/building-multimodal-search-and-rag/)"
   ]
  },
  {
   "cell_type": "markdown",
   "metadata": {},
   "source": [
    "<div style=\"background-color:#fff6ff; padding:13px; border-width:3px; border-color:#efe6ef; border-style:solid; border-radius:6px\">\n",
    "<p> 💻 &nbsp; <b>To access <code>requirements.txt</code> and <code>helper.py</code> files and <code> include</code> folder:</b> 1) click on the <em>\"File\"</em> option on the top menu of the notebook 2) click on <em>\"Open\"</em> and then 3) click on <em>\"L2\"</em>.\n",
    "\n",
    "<p> ⬇ &nbsp; <b>Download Notebooks:</b> 1) click on the <em>\"File\"</em> option on the top menu of the notebook and then 2) click on <em>\"Download as\"</em> and select <em>\"Notebook (.ipynb)\"</em>.</p>\n",
    "\n",
    "<p> 📒 &nbsp; For more help, please see the <em>\"Appendix – Tips, Help, and Download\"</em> Lesson.</p>\n",
    "\n",
    "</div>"
   ]
  }
 ],
 "metadata": {
  "colab": {
   "gpuType": "T4",
   "provenance": []
  },
  "kernelspec": {
   "display_name": "Python 3 (ipykernel)",
   "language": "python",
   "name": "python3"
  },
  "language_info": {
   "codemirror_mode": {
    "name": "ipython",
    "version": 3
   },
   "file_extension": ".py",
   "mimetype": "text/x-python",
   "name": "python",
   "nbconvert_exporter": "python",
   "pygments_lexer": "ipython3",
   "version": "3.10.11"
  }
 },
 "nbformat": 4,
 "nbformat_minor": 4
}
