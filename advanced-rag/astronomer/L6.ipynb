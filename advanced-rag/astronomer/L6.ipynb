{
 "cells": [
  {
   "cell_type": "markdown",
   "id": "dd50ba3f-f1f8-46fc-b2a0-4aac28a0000e",
   "metadata": {},
   "source": [
    "# Lesson 6: Make the Pipeline Adaptable"
   ]
  },
  {
   "cell_type": "markdown",
   "id": "3a10cbcc",
   "metadata": {},
   "source": [
    "You now use the concept of dynamic task mapping so that the book information is extracted from each text file in parallel."
   ]
  },
  {
   "cell_type": "markdown",
   "id": "cca3d655",
   "metadata": {},
   "source": [
    "### 6.1. Link to Airflow UI"
   ]
  },
  {
   "cell_type": "markdown",
   "id": "bdf2d942",
   "metadata": {},
   "source": [
    "Run the following cell to the link to the Airflow UI. If asked for username and password, make sure to type `airflow` for both."
   ]
  },
  {
   "cell_type": "code",
   "execution_count": null,
   "id": "af22478d-fda9-41b9-aadf-7c2c434474ad",
   "metadata": {},
   "outputs": [],
   "source": [
    "import os\n",
    "airflow_ui = os.environ.get('DLAI_LOCAL_URL').format(port=8080)\n",
    "airflow_ui #username:airflow password:airflow"
   ]
  },
  {
   "cell_type": "markdown",
   "id": "8e7444d2",
   "metadata": {},
   "source": [
    "<div style=\"background-color:#fff6e4; padding:15px; border-width:3px; border-color:#f5ecda; border-style:solid; border-radius:6px\"> ⏳ <b>Note <code>Airflow UI</code>:</b> \n",
    "\n",
    "<p>Changes to dags may take up to 30 seconds to show up in the Airflow UI in this environment! </p>\n",
    "<p>In the Airflow UI, if you see the error \"504 Gateway Timeout\", this can happen after 2 hours or after some time of inactivity 25 minutes (if there's no activity for 20 minutes, the jupyter kernel stops and if there's no kernel for 5 minutes, then the jupyter notebook stops and the resources are released). In this case, make sure to refresh the notebook, run the cell that outputs the link to the Airflow UI and then use the link to open the Airflow UI. </p>\n",
    "</div>"
   ]
  },
  {
   "cell_type": "markdown",
   "id": "ca26631b",
   "metadata": {},
   "source": [
    "### 6.2. What is the issue with the current fetch_data dag"
   ]
  },
  {
   "cell_type": "markdown",
   "id": "d20b4b1b",
   "metadata": {},
   "source": [
    "**Note:** The video starts with showing you the code from the previous lesson to explain the current issue with the dag: `fetch_data`\n",
    "\n",
    "In the task `transform_book_description_files`, you're iterating through all of the text files in one task and repeat the same process. If the task fails due to a formatting error in one text file, then you would need to repeat again the same processing for all the files. The better approach is to process the text files in parallel, i.e., transform the task `transform_book_description_files` into parallel tasks, where each task processes one text file. You'll learn how to do that using Dynamic Task Mapping.\n",
    "\n",
    "```python\n",
    "@task\n",
    "    def transform_book_description_files(book_description_files: list) -> list:\n",
    "        import json\n",
    "        import os\n",
    "\n",
    "        list_of_book_data = []\n",
    "        \n",
    "        for book_description_file in book_description_files:\n",
    "            with open(\n",
    "                os.path.join(BOOK_DESCRIPTION_FOLDER, book_description_file), \"r\"\n",
    "            ) as f:\n",
    "                book_descriptions = f.readlines()\n",
    "            \n",
    "            # the rest of the code\n",
    "            # .....\n",
    "        \n",
    "            list_of_book_data.append(book_descriptions)\n",
    "\n",
    "        \n",
    "\n",
    "        return list_of_book_data\n",
    "\n",
    "```"
   ]
  },
  {
   "cell_type": "markdown",
   "id": "a0fc742e",
   "metadata": {},
   "source": [
    "### 6.3. Simple dynamic task mapping example"
   ]
  },
  {
   "cell_type": "markdown",
   "id": "e6e12b01",
   "metadata": {},
   "source": [
    "Here's a dag showing a simple dynamic task mapping example. Make sure to run the cell and trigger the dag in the Airflow UI."
   ]
  },
  {
   "cell_type": "code",
   "execution_count": null,
   "id": "37f92b75-a33c-4f50-8bee-e5a49d9e7b91",
   "metadata": {},
   "outputs": [],
   "source": [
    "%%writefile ../../dags/simple_dynamic_task_mapping.py \n",
    "\n",
    "from airflow.sdk import dag, task \n",
    "\n",
    "\n",
    "@dag\n",
    "def simple_mapping():\n",
    "\n",
    "    @task\n",
    "    def get_numbers():\n",
    "        import random\n",
    "        \n",
    "        return [_ for _ in range(random.randint(0, 3))]  # [0,1,2]\n",
    "\n",
    "    _get_numbers = get_numbers()\n",
    "\n",
    "\n",
    "    @task\n",
    "    def mapped_task_one(my_constant_arg: int, my_changing_arg: int):\n",
    "        return my_constant_arg + my_changing_arg\n",
    "\n",
    "    _mapped_task_one = mapped_task_one.partial(\n",
    "        my_constant_arg=10\n",
    "    ).expand(my_changing_arg=_get_numbers)\n",
    "  \n",
    "\n",
    "simple_mapping()"
   ]
  },
  {
   "cell_type": "markdown",
   "id": "96cae77d",
   "metadata": {},
   "source": [
    "Adding another task to the same simple example. Make sure to run the cell and trigger the dag in the Airflow UI."
   ]
  },
  {
   "cell_type": "code",
   "execution_count": null,
   "id": "ffe73e36",
   "metadata": {},
   "outputs": [],
   "source": [
    "%%writefile ../../dags/simple_dynamic_task_mapping.py \n",
    "\n",
    "from airflow.sdk import dag, task \n",
    "\n",
    "\n",
    "@dag\n",
    "def simple_mapping():\n",
    "\n",
    "    @task\n",
    "    def get_numbers():\n",
    "        import random\n",
    "        \n",
    "        return [_ for _ in range(random.randint(0, 3))]  # [0,1,2]\n",
    "\n",
    "    _get_numbers = get_numbers()\n",
    "\n",
    "\n",
    "    @task\n",
    "    def mapped_task_one(my_constant_arg: int, my_changing_arg: int):\n",
    "        return my_constant_arg + my_changing_arg\n",
    "\n",
    "    _mapped_task_one = mapped_task_one.partial(\n",
    "        my_constant_arg=10\n",
    "    ).expand(my_changing_arg=_get_numbers)\n",
    "\n",
    "\n",
    "    @task\n",
    "    def mapped_task_two(my_cookie_number: int):\n",
    "        print(f\"There are {my_cookie_number} cookies in the jar!\")\n",
    "\n",
    "    mapped_task_two.expand(my_cookie_number=_mapped_task_one)    \n",
    "\n",
    "simple_mapping()"
   ]
  },
  {
   "cell_type": "markdown",
   "id": "23aa4f60",
   "metadata": {},
   "source": [
    "### 6.4. Applying dynamic task mapping to `fetch_data`"
   ]
  },
  {
   "cell_type": "markdown",
   "id": "67295901",
   "metadata": {},
   "source": [
    "Dynamically map the `transform_book_description_files` task over `list_book_description_files`.\n",
    "\n",
    "Here are the changes made to `transform_book_description_files`:\n",
    "- the input was changed from list to string\n",
    "- the outer for-loop was removed (that looped through the text files)\n",
    "- the descriptions of the books in one file `book_descriptions` are returned\n",
    "- the `.expand` was used to change the task into a dynamic task\n",
    "\n",
    "```python\n",
    "    _transform_book_description_files = transform_book_description_files.expand(\n",
    "        book_description_file=_list_book_description_files\n",
    "    )\n",
    "```\n",
    "\n",
    "\n",
    "Here are the changes made to `create_vector_embeddings`:\n",
    "- the input was changed to `book_data`\n",
    "- the outer for-loop was removed\n",
    "- the description embeddings are directly returned\n",
    "- the .expand was used to change the task into a dynamic task\n",
    "\n",
    "```python\n",
    "    _create_vector_embeddings = create_vector_embeddings.expand(\n",
    "        book_data=_transform_book_description_files\n",
    "    )\n",
    "```"
   ]
  },
  {
   "cell_type": "markdown",
   "id": "e9b9486d",
   "metadata": {},
   "source": [
    "Run the following cell, wait for 30 seconds then check the Airflow UI to trigger the dag. \n",
    "\n",
    "**Note:** Depending on when you're starting this lesson, if the Airflow UI does not have the dags from the previous lesson and this is the first time you write the dag to the folder `dags`, you can just unpause the dag. It will run automatically since it's scheduled to run every hour. If you trigger the dag, you will see two runs: the automatic one and the triggered one. "
   ]
  },
  {
   "cell_type": "code",
   "execution_count": null,
   "id": "f27403f2-b1ae-45b2-b78d-eed0d618d9c4",
   "metadata": {},
   "outputs": [],
   "source": [
    "%%writefile ../../dags/fetch_data.py \n",
    "\n",
    "from airflow.sdk import chain, dag, task, Asset\n",
    "from pendulum import datetime\n",
    "\n",
    "COLLECTION_NAME = \"Books\"\n",
    "BOOK_DESCRIPTION_FOLDER = \"/home/jovyan/include/data\"\n",
    "EMBEDDING_MODEL_NAME = \"BAAI/bge-small-en-v1.5\"\n",
    "\n",
    "\n",
    "@dag(\n",
    "    start_date=datetime(2025, 4, 1),\n",
    "    schedule=\"@hourly\"\n",
    ")\n",
    "def fetch_data():\n",
    "\n",
    "    @task\n",
    "    def create_collection_if_not_exists() -> None:\n",
    "        from airflow.providers.weaviate.hooks.weaviate import WeaviateHook\n",
    "\n",
    "        hook = WeaviateHook(\"my_weaviate_conn\")\n",
    "        client = hook.get_conn()\n",
    "\n",
    "        existing_collections = client.collections.list_all()\n",
    "        existing_collection_names = existing_collections.keys()\n",
    "\n",
    "        if COLLECTION_NAME not in existing_collection_names:\n",
    "            print(f\"Collection {COLLECTION_NAME} does not exist yet. Creating it...\")\n",
    "            collection = client.collections.create(name=COLLECTION_NAME)\n",
    "            print(f\"Collection {COLLECTION_NAME} created successfully.\")\n",
    "            print(f\"Collection details: {collection}\")\n",
    "\n",
    "    _create_collection_if_not_exists = create_collection_if_not_exists()\n",
    "\n",
    "    @task\n",
    "    def list_book_description_files() -> list:\n",
    "        import os\n",
    "\n",
    "        book_description_files = [\n",
    "            f for f in os.listdir(BOOK_DESCRIPTION_FOLDER) if f.endswith(\".txt\")\n",
    "        ]\n",
    "        return book_description_files\n",
    "\n",
    "    _list_book_description_files = list_book_description_files()\n",
    "\n",
    "    @task\n",
    "    def transform_book_description_files(book_description_file: str) -> str:\n",
    "        import json\n",
    "        import os\n",
    "\n",
    "        with open(\n",
    "            os.path.join(BOOK_DESCRIPTION_FOLDER, book_description_file), \"r\"\n",
    "        ) as f:\n",
    "            book_descriptions = f.readlines()\n",
    "\n",
    "        titles = [\n",
    "            book_description.split(\":::\")[1].strip()\n",
    "            for book_description in book_descriptions\n",
    "        ]\n",
    "        authors = [\n",
    "            book_description.split(\":::\")[2].strip()\n",
    "            for book_description in book_descriptions\n",
    "        ]\n",
    "        book_description_text = [\n",
    "            book_description.split(\":::\")[3].strip()\n",
    "            for book_description in book_descriptions\n",
    "        ]\n",
    "\n",
    "        book_descriptions = [\n",
    "            {\n",
    "                \"title\": title,\n",
    "                \"author\": author,\n",
    "                \"description\": description,\n",
    "            }\n",
    "            for title, author, description in zip(\n",
    "                titles, authors, book_description_text\n",
    "            )\n",
    "        ]\n",
    "\n",
    "        return book_descriptions\n",
    "\n",
    "    _transform_book_description_files = transform_book_description_files.expand(\n",
    "        book_description_file=_list_book_description_files\n",
    "    )\n",
    "\n",
    "    @task\n",
    "    def create_vector_embeddings(book_data: list) -> list:\n",
    "        from fastembed import TextEmbedding\n",
    "\n",
    "        embedding_model = TextEmbedding(EMBEDDING_MODEL_NAME)\n",
    "\n",
    "\n",
    "        book_descriptions = [book[\"description\"] for book in book_data]\n",
    "        description_embeddings = [\n",
    "            list(map(float, next(embedding_model.embed([desc]))))\n",
    "            for desc in book_descriptions\n",
    "        ]\n",
    "\n",
    "\n",
    "\n",
    "        return description_embeddings\n",
    "\n",
    "    _create_vector_embeddings = create_vector_embeddings.expand(\n",
    "        book_data=_transform_book_description_files\n",
    "    )\n",
    "\n",
    "    @task(\n",
    "        outlets=[Asset(\"my_book_vector_data\")]\n",
    "    )\n",
    "    def load_embeddings_to_vector_db(\n",
    "        list_of_book_data: list, list_of_description_embeddings: list\n",
    "    ) -> None:\n",
    "        from airflow.providers.weaviate.hooks.weaviate import WeaviateHook\n",
    "        from weaviate.classes.data import DataObject\n",
    "\n",
    "        hook = WeaviateHook(\"my_weaviate_conn\")\n",
    "        client = hook.get_conn()\n",
    "        collection = client.collections.get(COLLECTION_NAME)\n",
    "\n",
    "        for book_data_list, emb_list in zip(\n",
    "            list_of_book_data, list_of_description_embeddings\n",
    "        ):\n",
    "            items = []\n",
    "\n",
    "            for book_data, emb in zip(book_data_list, emb_list):\n",
    "                item = DataObject(\n",
    "                    properties={\n",
    "                        \"title\": book_data[\"title\"],\n",
    "                        \"author\": book_data[\"author\"],\n",
    "                        \"description\": book_data[\"description\"],\n",
    "                    },\n",
    "                    vector=emb,\n",
    "                )\n",
    "                items.append(item)\n",
    "\n",
    "            collection.data.insert_many(items)\n",
    "\n",
    "    _load_embeddings_to_vector_db = load_embeddings_to_vector_db(\n",
    "        list_of_book_data=_transform_book_description_files,\n",
    "        list_of_description_embeddings=_create_vector_embeddings,\n",
    "    )\n",
    "\n",
    "    chain(_create_collection_if_not_exists, _load_embeddings_to_vector_db)\n",
    "\n",
    "\n",
    "fetch_data()"
   ]
  },
  {
   "cell_type": "markdown",
   "id": "ca61c154",
   "metadata": {},
   "source": [
    "**Optional Part**: Add your own book files\n",
    "\n",
    "Feel free to add your own book description and then trigger the fetch_data dag."
   ]
  },
  {
   "cell_type": "code",
   "execution_count": null,
   "id": "2ccc1191",
   "metadata": {},
   "outputs": [],
   "source": [
    "# Add your own book description file\n",
    "# Format \n",
    "# [Integer Index] ::: [Book Title] ([Release year]) ::: [Author] ::: [Description]\n",
    "\n",
    "my_book_description = \"\"\"0 ::: The Idea of the World (2019) ::: Bernardo Kastrup ::: An ontological thesis arguing for the primacy of mind over matter.\n",
    "1 ::: Exploring the World of Lucid Dreaming (1990) ::: Stephen LaBerge ::: A practical guide to learning and enjoying lucid dreams.\n",
    "\"\"\"\n",
    "\n",
    "my_book_description_file_name = \"my_descs_1.txt\"\n",
    "\n",
    "# Write to file\n",
    "with open(f\"../../include/data/{my_book_description_file_name}\", 'w') as f:\n",
    "    f.write(my_book_description)"
   ]
  },
  {
   "cell_type": "code",
   "execution_count": null,
   "id": "711895e1",
   "metadata": {},
   "outputs": [],
   "source": [
    "# ## Remove a book description file\n",
    " \n",
    "# import os\n",
    "\n",
    "# my_book_description_file_name = \"my_descs_1.txt\"\n",
    "\n",
    "# file_path = f\"../../include/data/{my_book_description_file_name}\"\n",
    "\n",
    "# # Remove the file\n",
    "# if os.path.exists(file_path):\n",
    "#     os.remove(file_path)\n",
    "# else:\n",
    "#     print(f\"File not found: {file_path}\")"
   ]
  },
  {
   "cell_type": "markdown",
   "id": "0a45983e",
   "metadata": {},
   "source": [
    "## 6.5. Resources"
   ]
  },
  {
   "cell_type": "markdown",
   "id": "1fa6bac5",
   "metadata": {},
   "source": [
    "- [Create dynamic Airflow tasks](https://www.astronomer.io/docs/learn/dynamic-tasks/): Learn all about dynamic task mapping in Airflow.\n",
    "- Tip: you can limit the number of concurrently running mapped task instances using the task-level parameters `max_active_tis_per_dag` and `max_active_tis_per_dagrun`.\n",
    "- [Airflow configuration reference - AIRFLOW__CORE__MAX_MAP_LENGTH](https://airflow.apache.org/docs/apache-airflow/stable/configurations-ref.html#max-map-length): By default you can have up to 1024 dynamically mapped instances per task. Use this configuration environment variable to modify that limit."
   ]
  },
  {
   "cell_type": "markdown",
   "id": "10a81ce4",
   "metadata": {},
   "source": [
    "<div style=\"background-color:#fff6ff; padding:13px; border-width:3px; border-color:#efe6ef; border-style:solid; border-radius:6px\">\n",
    "\n",
    "<p> ⬇ &nbsp; <b>Download Notebooks:</b> 1) click on the <em>\"File\"</em> option on the top menu of the notebook and then 2) click on <em>\"Download as\"</em> and select <em>\"Notebook (.ipynb)\"</em>.</p>\n",
    "\n",
    "<p> 📒 &nbsp; For more help, please see the <em>\"Appendix – Tips, Help, and Download\"</em> Lesson.</p>\n",
    "\n",
    "</div>"
   ]
  }
 ],
 "metadata": {
  "kernelspec": {
   "display_name": "Python 3 (ipykernel)",
   "language": "python",
   "name": "python3"
  },
  "language_info": {
   "codemirror_mode": {
    "name": "ipython",
    "version": 3
   },
   "file_extension": ".py",
   "mimetype": "text/x-python",
   "name": "python",
   "nbconvert_exporter": "python",
   "pygments_lexer": "ipython3",
   "version": "3.10.11"
  }
 },
 "nbformat": 4,
 "nbformat_minor": 5
}
