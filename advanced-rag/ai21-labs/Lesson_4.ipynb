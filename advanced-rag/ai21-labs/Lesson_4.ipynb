{
 "cells": [
  {
   "cell_type": "markdown",
   "id": "30694aa9-029f-4010-bed4-0a5c30b66106",
   "metadata": {},
   "source": [
    "# L4: Tool Calling"
   ]
  },
  {
   "cell_type": "markdown",
   "id": "1d34f919-f424-46be-b3de-31f6f43dfdd7",
   "metadata": {},
   "source": [
    "<p style=\"background-color:#fff6e4; padding:15px; border-width:3px; border-color:#f5ecda; border-style:solid; border-radius:6px\"> ⏳ <b>Note <code>(Kernel Starting)</code>:</b> This notebook takes about 30 seconds to be ready to use. You may start and watch the video while you wait.</p>"
   ]
  },
  {
   "cell_type": "code",
   "execution_count": null,
   "id": "fd438387-264c-4e83-b2b0-7182a2ca74d9",
   "metadata": {
    "height": 48
   },
   "outputs": [],
   "source": [
    "import warnings\n",
    "warnings.filterwarnings('ignore')"
   ]
  },
  {
   "cell_type": "markdown",
   "id": "68b4ea83-601d-41b3-9119-ca95a8e50529",
   "metadata": {},
   "source": [
    "## Import libraries"
   ]
  },
  {
   "cell_type": "code",
   "execution_count": null,
   "id": "8a94104c-ad6a-4bfc-bc6b-75eed5e22bff",
   "metadata": {
    "height": 115
   },
   "outputs": [],
   "source": [
    "from ai21 import AI21Client\n",
    "from ai21.logger import set_verbose\n",
    "from ai21.models.chat import ChatMessage, ToolMessage, FunctionToolDefinition, ToolDefinition, ToolParameters\n",
    "import json, requests, re\n",
    "from bs4 import BeautifulSoup"
   ]
  },
  {
   "cell_type": "markdown",
   "id": "3feedf85-28df-4446-a3aa-2859039aa839",
   "metadata": {},
   "source": [
    "<div style=\"background-color:#fff6ff; padding:13px; border-width:3px; border-color:#efe6ef; border-style:solid; border-radius:6px\">\n",
    "<p> 💻 &nbsp; <b>Access <code>requirements.txt</code> and <code>utils.py</code> files:</b> 1) click on the <em>\"File\"</em> option on the top menu of the notebook and then 2) click on <em>\"Open\"</em>.\n",
    "\n",
    "<p> ⬇ &nbsp; <b>Download Notebooks:</b> 1) click on the <em>\"File\"</em> option on the top menu of the notebook and then 2) click on <em>\"Download as\"</em> and select <em>\"Notebook (.ipynb)\"</em>.</p>\n",
    "\n",
    "<p> 📒 &nbsp; For more help, please see the <em>\"Appendix – Tips, Help, and Download\"</em> Lesson.</p>\n",
    "</div>"
   ]
  },
  {
   "cell_type": "markdown",
   "id": "5f4ccb3d-8c39-466f-a9be-d6d4ddcc174a",
   "metadata": {},
   "source": [
    "## Load API key and create AI21Client"
   ]
  },
  {
   "cell_type": "code",
   "execution_count": null,
   "id": "9fba3d20-e66e-4de3-ad09-ad6cd77011c7",
   "metadata": {
    "height": 81
   },
   "outputs": [],
   "source": [
    "from utils import get_ai21_api_key\n",
    "ai21_api_key = get_ai21_api_key()\n",
    "\n",
    "client = AI21Client(api_key=ai21_api_key)"
   ]
  },
  {
   "cell_type": "markdown",
   "id": "7d78ec50-aa64-4514-8cdc-77c61e7c922d",
   "metadata": {},
   "source": [
    "# Arithmetic tools for Jamba"
   ]
  },
  {
   "cell_type": "code",
   "execution_count": null,
   "id": "1613170d-fe40-416c-982c-2ba11bff8e97",
   "metadata": {
    "height": 149
   },
   "outputs": [],
   "source": [
    "def multiplication(a: float, b: float) -> float:\n",
    "    print(f\"Multiplying {a} and {b}...\")\n",
    "    return a * b\n",
    "\n",
    "def addition(a: float, b: float) -> float:\n",
    "    print(f\"Adding {a} and {b}...\")\n",
    "    return a + b"
   ]
  },
  {
   "cell_type": "code",
   "execution_count": null,
   "id": "ba305c25-5eb8-489f-96b2-2d8675f6a4a0",
   "metadata": {
    "height": 285
   },
   "outputs": [],
   "source": [
    "multiplication_tool = ToolDefinition(\n",
    "    type=\"function\",\n",
    "    function=FunctionToolDefinition(\n",
    "        name=\"multiplication\",\n",
    "        description=\"Multiply two numbers\",\n",
    "        parameters=ToolParameters(\n",
    "            type=\"object\",\n",
    "            properties={\n",
    "                \"a\": {\"type\": \"number\", \"description\": \"The first number to multiply\"},\n",
    "                \"b\": {\"type\": \"number\", \"description\": \"The second number to multiply\"}\n",
    "            },\n",
    "            required=[\"a\", \"b\"],\n",
    "        ),\n",
    "    ),\n",
    ")"
   ]
  },
  {
   "cell_type": "code",
   "execution_count": null,
   "id": "e4d30d61-100e-4ac2-b35a-941afa16c2aa",
   "metadata": {
    "height": 285
   },
   "outputs": [],
   "source": [
    "addition_tool = ToolDefinition(\n",
    "    type=\"function\",\n",
    "    function=FunctionToolDefinition(\n",
    "        name=\"addition\",\n",
    "        description=\"Add two numbers\",\n",
    "        parameters=ToolParameters(\n",
    "            type=\"object\",\n",
    "            properties={\n",
    "                \"a\": {\"type\": \"number\", \"description\": \"The first number to add\"},\n",
    "                \"b\": {\"type\": \"number\", \"description\": \"The second number to add\"}\n",
    "            },\n",
    "            required=[\"a\", \"b\"],\n",
    "        ),\n",
    "    ),\n",
    ")"
   ]
  },
  {
   "cell_type": "code",
   "execution_count": null,
   "id": "d0e15d39-8728-4747-8862-b7c0ad10d2b5",
   "metadata": {
    "height": 47
   },
   "outputs": [],
   "source": [
    "tools = [multiplication_tool, addition_tool]"
   ]
  },
  {
   "cell_type": "code",
   "execution_count": null,
   "id": "d2b8b996-f740-447e-b1f3-2578280f4854",
   "metadata": {
    "height": 98
   },
   "outputs": [],
   "source": [
    "messages = [\n",
    "    ChatMessage(role=\"system\", content=\"You are a helpful math assistant. Use the supplied tools to assist the user.\"),\n",
    "    ChatMessage(role=\"user\", content=\"What is the capital of France\")\n",
    "]"
   ]
  },
  {
   "cell_type": "code",
   "execution_count": null,
   "id": "1c68d5b6-b7c4-4fa5-bb7b-2e4393e7d1e8",
   "metadata": {
    "height": 98
   },
   "outputs": [],
   "source": [
    "response = client.chat.completions.create(\n",
    "    messages=messages, \n",
    "    model=\"jamba-1.5-large\", \n",
    "    tools=tools)\n",
    "response.choices[0].message"
   ]
  },
  {
   "cell_type": "markdown",
   "id": "3d0e7e6c-cb77-4d66-995b-4892d66af81e",
   "metadata": {},
   "source": [
    "<p style=\"background-color:#f7fff8; padding:15px; border-width:3px; border-color:#e0f0e0; border-style:solid; border-radius:6px\"> 🚨\n",
    "&nbsp; <b>Different Run Results:</b> The output generated by AI chat models can vary with each execution due to their probabilistic nature. Don't be surprised if your results differ from those shown in the video.</p>"
   ]
  },
  {
   "cell_type": "code",
   "execution_count": null,
   "id": "50d8d4cb-aa5c-4f26-889c-a955cb6c5d6b",
   "metadata": {
    "height": 98
   },
   "outputs": [],
   "source": [
    "messages = [\n",
    "    ChatMessage(role=\"system\", content=\"You are a helpful math assistant. Use the supplied tools to assist the user.\"),\n",
    "    ChatMessage(role=\"user\", content=\"Can you help me multiply 62.74 and 3.5?\")\n",
    "]"
   ]
  },
  {
   "cell_type": "code",
   "execution_count": null,
   "id": "ad9b23a1-d11f-4e0c-b79d-5d381184a63c",
   "metadata": {
    "height": 64
   },
   "outputs": [],
   "source": [
    "response = client.chat.completions.create(messages=messages, model=\"jamba-1.5-large\", tools=tools)\n",
    "response.choices[0].message"
   ]
  },
  {
   "cell_type": "code",
   "execution_count": null,
   "id": "d3136b5f-4cf8-4a42-9acd-858ff34d5915",
   "metadata": {
    "height": 132
   },
   "outputs": [],
   "source": [
    "assistant_message = response.choices[0].message\n",
    "tool_call = assistant_message.tool_calls[0]\n",
    "tools_parameters_dict = json.loads(tool_call.function.arguments)\n",
    "\n",
    "tool_result = multiplication(tools_parameters_dict[\"a\"], tools_parameters_dict[\"b\"])\n",
    "tool_result"
   ]
  },
  {
   "cell_type": "code",
   "execution_count": null,
   "id": "58b7d2c5-681c-49db-a697-8bd186855455",
   "metadata": {
    "height": 81
   },
   "outputs": [],
   "source": [
    "tool_message = ToolMessage(role=\"tool\", \n",
    "                           tool_call_id=tool_call.id, \n",
    "                           content=str(tool_result))"
   ]
  },
  {
   "cell_type": "code",
   "execution_count": null,
   "id": "900d79a7-171b-4b96-adc5-6723f1da1f9c",
   "metadata": {
    "height": 132
   },
   "outputs": [],
   "source": [
    "messages.append(assistant_message)\n",
    "messages.append(tool_message)\n",
    "response_final = client.chat.completions.create(\n",
    "    messages=messages, \n",
    "    model=\"jamba-1.5-large\")\n",
    "response_final.choices[0].message.content"
   ]
  },
  {
   "cell_type": "code",
   "execution_count": null,
   "id": "8dda248e-94fb-4c8c-a26b-59afbd9fa1a0",
   "metadata": {
    "height": 115
   },
   "outputs": [],
   "source": [
    "tools_function = {\"multiplication\": multiplication, \"addition\": addition}\n",
    "function_name = tool_call.function.name\n",
    "tools_parameters = list(json.loads(tool_call.function.arguments).values())\n",
    "tool_result = tools_function[function_name](*tools_parameters)\n",
    "tool_result"
   ]
  },
  {
   "cell_type": "markdown",
   "id": "c897f6cf-c8fa-4435-9868-853cb0f9a421",
   "metadata": {},
   "source": [
    "## SEC 10-Q analysis tool calling with Jamba"
   ]
  },
  {
   "cell_type": "code",
   "execution_count": null,
   "id": "e677c26b-36ef-42e7-bc97-b4bec692d597",
   "metadata": {
    "height": 30
   },
   "outputs": [],
   "source": [
    "from utils import sec_10q"
   ]
  },
  {
   "cell_type": "code",
   "execution_count": null,
   "id": "f80b4925-74f9-402a-9d4a-d242a681e4ae",
   "metadata": {
    "height": 268
   },
   "outputs": [],
   "source": [
    "tool_definition = ToolDefinition(\n",
    "    type=\"function\",\n",
    "    function=FunctionToolDefinition(\n",
    "        name=\"sec_10q\",\n",
    "        description=\"Retrieve the full text of the latest 10-Q filing for a given company ticker\",\n",
    "        parameters=ToolParameters(\n",
    "            type=\"object\",\n",
    "            properties={\n",
    "                \"ticker\": {\"type\": \"string\", \"description\": \"The ticker symbol of the company\"}\n",
    "            },\n",
    "            required=[\"ticker\"],\n",
    "        ),\n",
    "    ),\n",
    ")"
   ]
  },
  {
   "cell_type": "code",
   "execution_count": null,
   "id": "052e524f-afba-4dd1-9f6d-f7cef551db7a",
   "metadata": {
    "height": 30
   },
   "outputs": [],
   "source": [
    "tools = [tool_definition]"
   ]
  },
  {
   "cell_type": "code",
   "execution_count": null,
   "id": "c7788610-9e36-4739-ad95-9e5d884238b2",
   "metadata": {
    "height": 183
   },
   "outputs": [],
   "source": [
    "messages = [\n",
    "    ChatMessage(\n",
    "        role=\"system\",\n",
    "        content=\"You are a helpful financial assistant. Use the supplied tools to assist the user with quarterly financial data.\",\n",
    "    ),\n",
    "    ChatMessage(\n",
    "        role=\"user\", \n",
    "        content=\"Provide a summary of Nvidia's most recent quarterly 10-Q filing\"),\n",
    "]"
   ]
  },
  {
   "cell_type": "code",
   "execution_count": null,
   "id": "aa70fb23-a348-4b93-aa99-fcae2e9b4ae9",
   "metadata": {
    "height": 98
   },
   "outputs": [],
   "source": [
    "response = client.chat.completions.create(\n",
    "    messages=messages, \n",
    "    model=\"jamba-1.5-large\", \n",
    "    tools=tools)\n",
    "response"
   ]
  },
  {
   "cell_type": "code",
   "execution_count": null,
   "id": "965c3a72-0e59-4161-b875-b5db07192b84",
   "metadata": {
    "height": 132
   },
   "outputs": [],
   "source": [
    "assistant_message = response.choices[0].message\n",
    "tool_call = assistant_message.tool_calls[0]\n",
    "tools_parameters_dict = json.loads(tool_call.function.arguments)\n",
    "\n",
    "tool_result = sec_10q(tools_parameters_dict[\"ticker\"])\n",
    "tool_result"
   ]
  },
  {
   "cell_type": "code",
   "execution_count": null,
   "id": "720f7257-4478-477e-9cd0-7373ccb6be04",
   "metadata": {
    "height": 217
   },
   "outputs": [],
   "source": [
    "messages.append(assistant_message)\n",
    "\n",
    "tool_message = ToolMessage(role=\"tool\", \n",
    "                           tool_call_id=tool_call.id, \n",
    "                           content=json.dumps(tool_result))\n",
    "messages.append(tool_message)\n",
    "\n",
    "response_final = client.chat.completions.create(\n",
    "    messages=messages, \n",
    "    model=\"jamba-1.5-large\")\n",
    "print(response_final.choices[0].message.content)"
   ]
  },
  {
   "cell_type": "code",
   "execution_count": null,
   "id": "551b71eb-3f64-4be1-8dfe-0a4db7f1f029",
   "metadata": {
    "height": 591
   },
   "outputs": [],
   "source": [
    "messages = [\n",
    "    ChatMessage(\n",
    "        role=\"system\",\n",
    "        content=\"You are a helpful financial assistant. Use the supplied tools to assist the user with quarterly financial data.\",\n",
    "    ),\n",
    "    ChatMessage(role=\"user\", content=\"Provide a summary of Nvidia's most recent quarterly 10-Q filing\"),\n",
    "]\n",
    "response = client.chat.completions.create(messages=messages, model=\"jamba-1.5-large\", tools=tools)\n",
    "assistant_message = response.choices[0].message\n",
    "messages.append(assistant_message)\n",
    "\n",
    "tool_result = None\n",
    "tool_calls = assistant_message.tool_calls\n",
    "if tool_calls:\n",
    "    tool_call = tool_calls[0]\n",
    "    if tool_call.function.name == \"sec_10q\":\n",
    "        tools_parameters_dict = json.loads(tool_call.function.arguments)\n",
    "        if \"ticker\" in tools_parameters_dict:\n",
    "            tool_result = sec_10q(tools_parameters_dict[\"ticker\"])\n",
    "        else:\n",
    "            print(\"Missing 'ticker' in function arguments\")\n",
    "    else:\n",
    "        print(f\"Unexpected tool call found - {tool_call.function.name}\")\n",
    "else:\n",
    "    print(\"No tool calls found\")\n",
    "\n",
    "if tool_result is not None:\n",
    "    tool_message = ToolMessage(role=\"tool\", tool_call_id=tool_call.id, content=json.dumps(tool_result))\n",
    "    messages.append(tool_message)\n",
    "    response_final = client.chat.completions.create(messages=messages, model=\"jamba-1.5-large\", tools=tools)\n",
    "\n",
    "print(\"Final response:\")\n",
    "print(response_final.choices[0].message.content)"
   ]
  },
  {
   "cell_type": "code",
   "execution_count": null,
   "id": "e9cf0b8f-a4de-4769-879a-d65a5f2ab69e",
   "metadata": {
    "height": 30
   },
   "outputs": [],
   "source": []
  },
  {
   "cell_type": "code",
   "execution_count": null,
   "id": "a58ac30e-de8f-4677-8ee5-45cf6dc13a3e",
   "metadata": {
    "height": 30
   },
   "outputs": [],
   "source": []
  },
  {
   "cell_type": "code",
   "execution_count": null,
   "id": "36a0d69b-f852-44e0-9201-48463a0814b0",
   "metadata": {
    "height": 30
   },
   "outputs": [],
   "source": []
  },
  {
   "cell_type": "code",
   "execution_count": null,
   "id": "a76821a5-0fde-4d66-bded-98f0b9e05527",
   "metadata": {
    "height": 30
   },
   "outputs": [],
   "source": []
  },
  {
   "cell_type": "code",
   "execution_count": null,
   "id": "9ac6f265-f706-4c4f-ac9b-c976dcd292b3",
   "metadata": {
    "height": 30
   },
   "outputs": [],
   "source": []
  },
  {
   "cell_type": "code",
   "execution_count": null,
   "id": "79e6c853-551a-4aa1-91ed-f2faf4953a47",
   "metadata": {
    "height": 30
   },
   "outputs": [],
   "source": []
  }
 ],
 "metadata": {
  "kernelspec": {
   "display_name": "Python 3 (ipykernel)",
   "language": "python",
   "name": "python3"
  },
  "language_info": {
   "codemirror_mode": {
    "name": "ipython",
    "version": 3
   },
   "file_extension": ".py",
   "mimetype": "text/x-python",
   "name": "python",
   "nbconvert_exporter": "python",
   "pygments_lexer": "ipython3",
   "version": "3.11.9"
  }
 },
 "nbformat": 4,
 "nbformat_minor": 5
}
