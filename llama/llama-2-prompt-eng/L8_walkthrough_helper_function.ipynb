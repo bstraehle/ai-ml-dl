{
 "cells": [
  {
   "cell_type": "markdown",
   "id": "61580a32-65c5-44d5-86de-af8cb35ab1e3",
   "metadata": {},
   "source": [
    "# Lesson 8 (Optional): Llama Helper Function\n",
    "\n",
    "Here, you'll walk through the code that makes up the `llama` helper function that you've been using throughout the course, to see how it works."
   ]
  },
  {
   "cell_type": "code",
   "execution_count": null,
   "id": "3b36ded9-cd1a-4840-adfa-7e8175946d7e",
   "metadata": {},
   "outputs": [],
   "source": [
    "# define the together.ai API url\n",
    "import os\n",
    "url = f\"{os.getenv('DLAI_TOGETHER_API_BASE')}/inference\""
   ]
  },
  {
   "cell_type": "code",
   "execution_count": null,
   "id": "a308d95d-baa7-49f4-b16e-928a8a440488",
   "metadata": {},
   "outputs": [],
   "source": [
    "# Set up environment\n",
    "from dotenv import load_dotenv, find_dotenv\n",
    "_ = load_dotenv(find_dotenv())"
   ]
  },
  {
   "cell_type": "code",
   "execution_count": null,
   "id": "584ddf0c-a9b2-4c60-b521-79c4e2923265",
   "metadata": {},
   "outputs": [],
   "source": []
  },
  {
   "cell_type": "code",
   "execution_count": null,
   "id": "a3dde643-106f-4a23-b209-e50076a94296",
   "metadata": {},
   "outputs": [],
   "source": [
    "# Set up the togerher.ai API key\n",
    "import os\n",
    "together_api_key = os.getenv('TOGETHER_API_KEY')"
   ]
  },
  {
   "cell_type": "code",
   "execution_count": null,
   "id": "e0c243a9-b5b0-49b5-8bfd-f7f4674c1ac0",
   "metadata": {},
   "outputs": [],
   "source": [
    "# Store keywords that will be passed to the API\n",
    "headers = {\n",
    "    \"Authorization\": f\"Bearer {together_api_key}\",\n",
    "    \"Content-Type\": \"application/json\"}"
   ]
  },
  {
   "cell_type": "code",
   "execution_count": null,
   "id": "a40e8b35-bcfe-4c79-a4bc-3d265f7bcb9a",
   "metadata": {},
   "outputs": [],
   "source": []
  },
  {
   "cell_type": "code",
   "execution_count": null,
   "id": "dc9a0dfe-e9c0-497a-bebc-24c8cc9967c1",
   "metadata": {},
   "outputs": [],
   "source": [
    "# Choose the model to call\n",
    "model=\"togethercomputer/llama-2-7b-chat\""
   ]
  },
  {
   "cell_type": "code",
   "execution_count": null,
   "id": "fe878753-c4a8-4226-992b-ccd7a4f3e355",
   "metadata": {},
   "outputs": [],
   "source": []
  },
  {
   "cell_type": "code",
   "execution_count": null,
   "id": "8c3fff18-0764-46f1-be74-1dbeefcc6ec9",
   "metadata": {},
   "outputs": [],
   "source": [
    "prompt = \"\"\"\n",
    "Please write me a birthday card for my dear friend, Andrew.\n",
    "\"\"\""
   ]
  },
  {
   "cell_type": "code",
   "execution_count": null,
   "id": "7c93eaa5-26b0-49c1-9357-8ceb4ae5d0e5",
   "metadata": {},
   "outputs": [],
   "source": []
  },
  {
   "cell_type": "code",
   "execution_count": null,
   "id": "24ce04fe-6f36-4004-b048-7e3c5329cf32",
   "metadata": {},
   "outputs": [],
   "source": [
    "# Add instruction tags to the prompt\n",
    "prompt = f\"[INST]{prompt}[/INST]\"\n",
    "print(prompt)"
   ]
  },
  {
   "cell_type": "code",
   "execution_count": null,
   "id": "41ff3105-94a0-40a3-95df-4cbef681f030",
   "metadata": {},
   "outputs": [],
   "source": []
  },
  {
   "cell_type": "code",
   "execution_count": null,
   "id": "30d34e02-4287-468d-b017-9e87ffe1d11b",
   "metadata": {},
   "outputs": [],
   "source": [
    "# Set temperature and max_tokens\n",
    "temperature = 0.0\n",
    "max_tokens = 1024"
   ]
  },
  {
   "cell_type": "code",
   "execution_count": null,
   "id": "bf65b6b3-dcfc-4931-96c4-e09a13ccc265",
   "metadata": {},
   "outputs": [],
   "source": []
  },
  {
   "cell_type": "code",
   "execution_count": null,
   "id": "087a60b7-2e39-4aa6-b313-0bcd176cfca8",
   "metadata": {},
   "outputs": [],
   "source": [
    "data = {\n",
    "    \"model\": model,\n",
    "    \"prompt\": prompt,\n",
    "    \"temperature\": temperature,\n",
    "    \"max_tokens\": max_tokens\n",
    "}\n",
    "data"
   ]
  },
  {
   "cell_type": "code",
   "execution_count": null,
   "id": "9e526947-a380-4002-b4a1-6f9157e162aa",
   "metadata": {},
   "outputs": [],
   "source": []
  },
  {
   "cell_type": "code",
   "execution_count": null,
   "id": "8947d405-f28e-402c-99f0-24cb4f09244c",
   "metadata": {},
   "outputs": [],
   "source": [
    "import requests\n",
    "response = requests.post(url,\n",
    "                         headers=headers,\n",
    "                         json=data)"
   ]
  },
  {
   "cell_type": "code",
   "execution_count": null,
   "id": "6498574e-aa3e-4d74-8cb1-96cbb9ae0fb4",
   "metadata": {},
   "outputs": [],
   "source": [
    "print(response)"
   ]
  },
  {
   "cell_type": "code",
   "execution_count": null,
   "id": "166f0536-6110-4868-9c8c-d4d9c55f69f9",
   "metadata": {},
   "outputs": [],
   "source": [
    "response.json()"
   ]
  },
  {
   "cell_type": "code",
   "execution_count": null,
   "id": "7b2bafc4-7d41-4553-a395-f612f6b19b98",
   "metadata": {},
   "outputs": [],
   "source": [
    "response.json()['output']"
   ]
  },
  {
   "cell_type": "code",
   "execution_count": null,
   "id": "21538273-2cb0-43a9-9e13-907b49071f80",
   "metadata": {},
   "outputs": [],
   "source": [
    "response.json()['output']['choices']"
   ]
  },
  {
   "cell_type": "code",
   "execution_count": null,
   "id": "00d77d89-9387-490a-9183-f1034162aea4",
   "metadata": {},
   "outputs": [],
   "source": [
    "response.json()['output']['choices'][0]"
   ]
  },
  {
   "cell_type": "code",
   "execution_count": null,
   "id": "da7983b3-3f50-431d-9e01-407dfad6d5fb",
   "metadata": {},
   "outputs": [],
   "source": [
    "response.json()['output']['choices'][0]['text']"
   ]
  },
  {
   "cell_type": "markdown",
   "id": "c1221356-c2eb-4351-a034-7f96a95f3235",
   "metadata": {},
   "source": [
    "### Compare to the output of the llama helper function"
   ]
  },
  {
   "cell_type": "code",
   "execution_count": null,
   "id": "d50bf4d7-870d-42d6-b54b-21e7394cc66a",
   "metadata": {},
   "outputs": [],
   "source": [
    "from utils import llama\n",
    "\n",
    "# compare to the output of the helper function\n",
    "llama(prompt)"
   ]
  }
 ],
 "metadata": {
  "kernelspec": {
   "display_name": "Python 3 (ipykernel)",
   "language": "python",
   "name": "python3"
  },
  "language_info": {
   "codemirror_mode": {
    "name": "ipython",
    "version": 3
   },
   "file_extension": ".py",
   "mimetype": "text/x-python",
   "name": "python",
   "nbconvert_exporter": "python",
   "pygments_lexer": "ipython3",
   "version": "3.10.13"
  }
 },
 "nbformat": 4,
 "nbformat_minor": 5
}
