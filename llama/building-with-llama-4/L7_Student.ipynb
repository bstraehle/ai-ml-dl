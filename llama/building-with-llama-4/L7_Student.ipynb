{
 "cells": [
  {
   "cell_type": "markdown",
   "id": "1021654a-a332-4104-be2b-6b1a32e2ddf1",
   "metadata": {},
   "source": [
    "# L7: Synthetic Data Kit"
   ]
  },
  {
   "cell_type": "markdown",
   "id": "7d628285-b3fc-4482-a38e-18163f34fe42",
   "metadata": {},
   "source": [
    "<p style=\"background-color:#fff6e4; padding:15px; border-width:3px; border-color:#f5ecda; border-style:solid; border-radius:6px\"> ⏳ <b>Note <code>(Kernel Starting)</code>:</b> This notebook takes about 30 seconds to be ready to use. You may start and watch the video while you wait.</p>"
   ]
  },
  {
   "cell_type": "code",
   "execution_count": null,
   "id": "70ae92f9-eecf-4491-b0ec-479591e4be21",
   "metadata": {
    "height": 47
   },
   "outputs": [],
   "source": [
    "import warnings\n",
    "warnings.filterwarnings('ignore')"
   ]
  },
  {
   "cell_type": "markdown",
   "id": "8afc9e3d-34e4-4155-88e5-12dc2ff4e743",
   "metadata": {},
   "source": [
    "## Load API keys"
   ]
  },
  {
   "cell_type": "code",
   "execution_count": null,
   "id": "e8b86aa8-d3b6-4d12-b8d7-fc7866675a23",
   "metadata": {
    "height": 64
   },
   "outputs": [],
   "source": [
    "import os\n",
    "from utils import get_llama_api_key\n",
    "llama_api_key = get_llama_api_key()"
   ]
  },
  {
   "cell_type": "code",
   "execution_count": null,
   "id": "2876631c-db76-43d8-8f20-bc964d070cf1",
   "metadata": {
    "height": 30
   },
   "outputs": [],
   "source": [
    "os.environ[\"API_ENDPOINT_KEY\"] = llama_api_key"
   ]
  },
  {
   "cell_type": "code",
   "execution_count": null,
   "id": "46a6a1a8-53d9-4ba1-9367-e45d62fd711c",
   "metadata": {
    "height": 30
   },
   "outputs": [],
   "source": [
    "#!pip install synthetic-data-kit==0.0.4b1"
   ]
  },
  {
   "cell_type": "markdown",
   "id": "ed6e10a1-b3b1-43ab-8df3-7d7b1495f9b2",
   "metadata": {},
   "source": [
    "<div style=\"background-color:#fff6ff; padding:13px; border-width:3px; border-color:#efe6ef; border-style:solid; border-radius:6px\">\n",
    "<p> 💻 &nbsp; <b>Access <code>requirements.txt</code> and <code>helper.py</code> files:</b> 1) click on the <em>\"File\"</em> option on the top menu of the notebook and then 2) click on <em>\"Open\"</em>.</p>\n",
    "\n",
    "<p> ⬇ &nbsp; <b>Download Notebooks:</b> 1) click on the <em>\"File\"</em> option on the top menu of the notebook and then 2) click on <em>\"Download as\"</em> and select <em>\"Notebook (.ipynb)\"</em>.</p>\n",
    "\n",
    "<p> 📒 &nbsp; For more help, please see the <em>\"Appendix – Tips, Help, and Download\"</em> Lesson.</p>\n",
    "</div>"
   ]
  },
  {
   "cell_type": "markdown",
   "id": "f9f00230-d9f2-4f7c-8484-0b7ff71984d3",
   "metadata": {},
   "source": [
    "# Ingeting PDF files and web pages"
   ]
  },
  {
   "cell_type": "code",
   "execution_count": null,
   "id": "15c55a8f-5082-4166-8b9c-6f65c4c6754b",
   "metadata": {
    "height": 30
   },
   "outputs": [],
   "source": [
    "!synthetic-data-kit ingest paper.pdf"
   ]
  },
  {
   "cell_type": "code",
   "execution_count": null,
   "id": "7a28c9e9-1cd5-4b2b-9416-7aafb9297066",
   "metadata": {
    "height": 30
   },
   "outputs": [],
   "source": [
    "!head -50 data/output/paper.txt | tail -10"
   ]
  },
  {
   "cell_type": "code",
   "execution_count": null,
   "id": "4b85284c-10b9-4593-bd0d-82aeb9fc06c6",
   "metadata": {
    "height": 45
   },
   "outputs": [],
   "source": [
    "!synthetic-data-kit ingest https://ai.meta.com/blog/llama-4-multimodal-intelligence/"
   ]
  },
  {
   "cell_type": "code",
   "execution_count": null,
   "id": "c53d0950-b3c7-4713-99bc-47a8d1a1fc04",
   "metadata": {
    "height": 30
   },
   "outputs": [],
   "source": [
    "!head -50 data/output/paper.txt | tail -10"
   ]
  },
  {
   "cell_type": "markdown",
   "id": "f1eba37e-00bf-42a5-aedd-5c69df939846",
   "metadata": {},
   "source": [
    "## Creating a QA dataset"
   ]
  },
  {
   "cell_type": "code",
   "execution_count": null,
   "id": "193dbd82-8b79-4564-8890-c5f15a51246a",
   "metadata": {
    "height": 45
   },
   "outputs": [],
   "source": [
    "!synthetic-data-kit create data/output/paper.txt --type qa"
   ]
  },
  {
   "cell_type": "code",
   "execution_count": null,
   "id": "98397945-4c85-48df-b464-b954464d2486",
   "metadata": {
    "height": 30,
    "scrolled": true
   },
   "outputs": [],
   "source": [
    "!cat data/generated/paper_qa_pairs.json"
   ]
  },
  {
   "cell_type": "markdown",
   "id": "94d425dc-088a-4501-9c5c-bec4c1429090",
   "metadata": {},
   "source": [
    "## Curating the dataset"
   ]
  },
  {
   "cell_type": "code",
   "execution_count": null,
   "id": "9f2b2a97-24c1-401e-a362-7cfbbb83697d",
   "metadata": {
    "height": 45
   },
   "outputs": [],
   "source": [
    "!synthetic-data-kit curate data/generated/paper_qa_pairs.json --threshold=8"
   ]
  },
  {
   "cell_type": "code",
   "execution_count": null,
   "id": "efe1bf0d-4b34-4b18-adc6-0bf5ab01967b",
   "metadata": {
    "height": 30,
    "scrolled": true
   },
   "outputs": [],
   "source": [
    "!cat data/cleaned/paper_qa_pairs_cleaned.json"
   ]
  },
  {
   "cell_type": "markdown",
   "id": "e7841804-88e8-4005-98a8-33843cec4798",
   "metadata": {},
   "source": [
    "## Saving the dataset"
   ]
  },
  {
   "cell_type": "code",
   "execution_count": null,
   "id": "56937fce-0f3c-4812-a7d8-9f8fd4aa9244",
   "metadata": {
    "height": 45
   },
   "outputs": [],
   "source": [
    "!synthetic-data-kit save-as data/cleaned/paper_qa_pairs_cleaned.json --format jsonl --storage json"
   ]
  },
  {
   "cell_type": "code",
   "execution_count": null,
   "id": "300eea7a-5c22-4698-8a45-070dfa5efbe8",
   "metadata": {
    "height": 45
   },
   "outputs": [],
   "source": [
    "!head -10  data/final/paper_qa_pairs_cleaned.jsonl"
   ]
  },
  {
   "cell_type": "code",
   "execution_count": null,
   "id": "8ec81999-eb77-48aa-be91-72cc2a1f1813",
   "metadata": {
    "height": 45
   },
   "outputs": [],
   "source": [
    "!synthetic-data-kit save-as data/cleaned/paper_qa_pairs_cleaned.json --format ft --storage json"
   ]
  },
  {
   "cell_type": "code",
   "execution_count": null,
   "id": "8b48b92e-5796-4cdb-9010-f2d92296334c",
   "metadata": {
    "height": 45,
    "scrolled": true
   },
   "outputs": [],
   "source": [
    "!head -30 data/final/paper_qa_pairs_cleaned_ft.json"
   ]
  },
  {
   "cell_type": "markdown",
   "id": "a708ec32-a725-4c91-8be1-110418045ed2",
   "metadata": {},
   "source": [
    "## Configuration file"
   ]
  },
  {
   "cell_type": "code",
   "execution_count": null,
   "id": "e1697ea2-f145-443d-889a-ee82355f86b0",
   "metadata": {
    "height": 45,
    "scrolled": true
   },
   "outputs": [],
   "source": [
    "!cat \"$(pip show synthetic-data-kit | grep Location | awk '{print $2}')/synthetic_data_kit/config.yaml\""
   ]
  },
  {
   "cell_type": "markdown",
   "id": "0d57c823-d28f-4c80-b9bb-912c7256daed",
   "metadata": {},
   "source": [
    "## Do it yourself: Creating a CoT dataset"
   ]
  },
  {
   "cell_type": "markdown",
   "id": "e308be53-0b4b-44ab-aa4d-d0b3b6e3b1e7",
   "metadata": {},
   "source": [
    "In this section you can see how a Chain of Thought reasoning dataset can be created from the paper. By default, 10 CoT examples will be created. You may change it either by using a command line parameter `--num-pairs` as shown below."
   ]
  },
  {
   "cell_type": "code",
   "execution_count": null,
   "id": "a1f79641-d850-4814-a98f-e08fdc1731ac",
   "metadata": {
    "height": 45
   },
   "outputs": [],
   "source": [
    "!synthetic-data-kit create data/output/paper.txt --type cot --num-pairs 5"
   ]
  },
  {
   "cell_type": "code",
   "execution_count": null,
   "id": "6e283ea3-77a0-4120-9b99-e63dfbf388fa",
   "metadata": {
    "height": 30,
    "scrolled": true
   },
   "outputs": [],
   "source": [
    "!cat  data/generated/paper_cot_examples.json"
   ]
  },
  {
   "cell_type": "markdown",
   "id": "892c2844-eef8-4e29-bfbb-8b26c67d55f6",
   "metadata": {},
   "source": [
    "Each created `cot_examples` is a dictionary with 3 keys: `question`, `reasoning` and `answer`. For example:\n",
    "\n",
    "```\n",
    "      \"question\": \"How does the Byte Latent Transformer (BLT) architecture dynamically allocate compute based on data complexity?\",\n",
    "\n",
    "      \"reasoning\": \"Step 1: Understand that BLT uses a dynamic method for grouping bytes into patches.\\nStep 2: Recognize that the patching function segments bytes based on the entropy of the next byte prediction.\\nStep 3: Analyze how the entropy patching method uses a small byte-level language model to compute next byte entropies.\\nStep 4: Determine how patch boundaries are identified based on entropy thresholds or relative changes in entropy.\\nStep 5: Conclude that BLT dynamically allocates compute by invoking the Latent Transformer based on patch boundaries determined by entropy.\",\n",
    "      \n",
    "      \"answer\": \"BLT dynamically allocates compute by segmenting bytes into patches based on the entropy of the next byte prediction, using a small byte-level language model to determine patch boundaries.\"\n",
    "```\n",
    "\n",
    "If the `reasoning` steps above are not obvious from `question` to `answer`, below is a grade level math reasoning example for you to easily verify the correctness of reasoning."
   ]
  },
  {
   "cell_type": "markdown",
   "id": "c7301117-f3c0-49d0-b487-dbb338362d42",
   "metadata": {},
   "source": [
    "## Do it yourself: Creating a math reasoning dataset\n",
    "\n",
    "GSM8K is a dataset of 8500 high quality linguistically diverse grade school math word problems. To use it you need to run: `pip install -U datasets==2.14.6`. Run the code below to get 50 examples from the dataset and save the questions in the examples to a text file."
   ]
  },
  {
   "cell_type": "code",
   "execution_count": null,
   "id": "4d1c1c7c-a3d5-4d37-8826-c32789264ccb",
   "metadata": {
    "height": 419
   },
   "outputs": [],
   "source": [
    "import pandas as pd\n",
    "import os\n",
    "from datasets import load_dataset\n",
    "from datasets import logging as datasets_logging\n",
    "datasets_logging.set_verbosity_error()\n",
    "\n",
    "# Create directories if they don't exist\n",
    "os.makedirs('data/output', exist_ok=True)\n",
    "\n",
    "# Load GSM8K dataset\n",
    "gsm8k = load_dataset('gsm8k', 'main')\n",
    "\n",
    "# Take 50 samples from the training set\n",
    "samples = gsm8k['train'].select(range(50))\n",
    "\n",
    "# Create a text file with the questions\n",
    "with open('data/output/gsm8k_sample.txt', 'w') as f:\n",
    "    for i, item in enumerate(samples):\n",
    "        f.write(f\"Problem {i+1}:\\n{item['question']}\\n\\n\")\n",
    "\n",
    "print(f\"Created sample with {len(samples)} problems\")\n",
    "print(f\"Sample saved to data/output/gsm8k_sample.txt\")\n"
   ]
  },
  {
   "cell_type": "markdown",
   "id": "22af33ed-908a-4ab4-987e-b1028ed4d74e",
   "metadata": {},
   "source": [
    "The first 3 examples of the dataset's questions are:\n",
    "\n",
    "```\n",
    "Problem 1:\n",
    "Natalia sold clips to 48 of her friends in April, and then she sold half as many clips in May. How many clips did Natalia sell altogether in April and May?\n",
    "\n",
    "Problem 2:\n",
    "Weng earns $12 an hour for babysitting. Yesterday, she just did 50 minutes of babysitting. How much did she earn?\n",
    "\n",
    "Problem 3:\n",
    "Betty is saving money for a new wallet which costs $100. Betty has only half of the money she needs. Her parents decided to give her $15 for that purpose, and her grandparents twice as much as her parents. How much more money does Betty need to buy the wallet?\n",
    "```"
   ]
  },
  {
   "cell_type": "code",
   "execution_count": null,
   "id": "12d8d953-cd71-4f4a-a115-6dbd5b318a43",
   "metadata": {
    "height": 30,
    "scrolled": true
   },
   "outputs": [],
   "source": [
    "!cat data/output/gsm8k_sample.txt"
   ]
  },
  {
   "cell_type": "markdown",
   "id": "e2e0a946-fcf2-41a5-91b0-589311fbc11a",
   "metadata": {},
   "source": [
    "Now run the data kit tool to create a math reasoning <code>cot</code> dataset from the text file."
   ]
  },
  {
   "cell_type": "code",
   "execution_count": null,
   "id": "b12a8ac8-8c85-4821-aaa9-d5e4d57afd9a",
   "metadata": {
    "height": 45,
    "scrolled": true
   },
   "outputs": [],
   "source": [
    "!synthetic-data-kit create data/output/gsm8k_sample.txt --type cot"
   ]
  },
  {
   "cell_type": "code",
   "execution_count": null,
   "id": "bfb38152-ea9f-487a-8f77-8e530a16d0c3",
   "metadata": {
    "height": 45,
    "scrolled": true
   },
   "outputs": [],
   "source": [
    "!cat data/generated/gsm8k_sample_cot_examples.json"
   ]
  },
  {
   "cell_type": "markdown",
   "id": "1d0567aa-a267-408e-ad4c-a3aa492c05dc",
   "metadata": {},
   "source": [
    "You can check two examples of the generated dataset and confirm the added reasoning steps are correct:"
   ]
  },
  {
   "cell_type": "code",
   "execution_count": null,
   "id": "91eb1ae3-9120-44e2-8e42-8b344a8e7827",
   "metadata": {
    "height": 181
   },
   "outputs": [],
   "source": [
    "import glob\n",
    "json_files = glob.glob(\"data/generated/gsm8k_sample_cot_examples.json\")\n",
    "\n",
    "import json\n",
    "with open(json_files[0], \"r\") as f:\n",
    "    data = json.load(f)\n",
    "print(data['cot_examples'][0]['question'])\n",
    "print(data['cot_examples'][0]['reasoning'])\n",
    "print(data['cot_examples'][0]['answer'])"
   ]
  },
  {
   "cell_type": "code",
   "execution_count": null,
   "id": "53d54bc3-1edb-4278-985b-2572d5718954",
   "metadata": {
    "height": 64
   },
   "outputs": [],
   "source": [
    "print(data['cot_examples'][-1]['question'])\n",
    "print(data['cot_examples'][-1]['reasoning'])\n",
    "print(data['cot_examples'][-1]['answer'])"
   ]
  },
  {
   "cell_type": "code",
   "execution_count": null,
   "id": "b968fcad-51c0-4906-9ff9-d6fd2ecd5f81",
   "metadata": {
    "height": 30
   },
   "outputs": [],
   "source": []
  },
  {
   "cell_type": "code",
   "execution_count": null,
   "id": "784cdfaf-a859-4aa8-8de4-cc0a3c5610b2",
   "metadata": {
    "height": 30
   },
   "outputs": [],
   "source": []
  },
  {
   "cell_type": "code",
   "execution_count": null,
   "id": "0bc0f6a6-73ff-4f89-9b0f-c906c472bd7f",
   "metadata": {
    "height": 30
   },
   "outputs": [],
   "source": []
  },
  {
   "cell_type": "code",
   "execution_count": null,
   "id": "63037f3f-ff52-4486-81ef-c5c67e4faed8",
   "metadata": {
    "height": 30
   },
   "outputs": [],
   "source": []
  },
  {
   "cell_type": "code",
   "execution_count": null,
   "id": "27e8702d-f733-4882-ab51-a0d38e072edc",
   "metadata": {
    "height": 30
   },
   "outputs": [],
   "source": []
  },
  {
   "cell_type": "code",
   "execution_count": null,
   "id": "84e281b5-7e26-4608-943f-c18debe28695",
   "metadata": {
    "height": 30
   },
   "outputs": [],
   "source": []
  }
 ],
 "metadata": {
  "kernelspec": {
   "display_name": "Python 3 (ipykernel)",
   "language": "python",
   "name": "python3"
  },
  "language_info": {
   "codemirror_mode": {
    "name": "ipython",
    "version": 3
   },
   "file_extension": ".py",
   "mimetype": "text/x-python",
   "name": "python",
   "nbconvert_exporter": "python",
   "pygments_lexer": "ipython3",
   "version": "3.11.3"
  }
 },
 "nbformat": 4,
 "nbformat_minor": 5
}
