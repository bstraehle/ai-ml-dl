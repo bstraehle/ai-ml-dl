{
 "cells": [
  {
   "cell_type": "markdown",
   "id": "87157037-4e6e-4c8c-995c-622d05b4b299",
   "metadata": {},
   "source": [
    "# L4: Prompt format"
   ]
  },
  {
   "cell_type": "markdown",
   "id": "a139a4fd-52f7-4981-b45c-57c581fedeee",
   "metadata": {},
   "source": [
    "<p style=\"background-color:#fff6e4; padding:15px; border-width:3px; border-color:#f5ecda; border-style:solid; border-radius:6px\"> ⏳ <b>Note <code>(Kernel Starting)</code>:</b> This notebook takes about 30 seconds to be ready to use. You may start and watch the video while you wait.</p>"
   ]
  },
  {
   "cell_type": "code",
   "execution_count": null,
   "id": "2b0569c4-0b2d-4b4c-9968-616ebdfa3291",
   "metadata": {
    "height": 47
   },
   "outputs": [],
   "source": [
    "import warnings\n",
    "warnings.filterwarnings('ignore')"
   ]
  },
  {
   "cell_type": "markdown",
   "id": "f83bd59b-1efe-48e9-9422-775465af956b",
   "metadata": {},
   "source": [
    "## Load API Keys"
   ]
  },
  {
   "cell_type": "code",
   "execution_count": null,
   "id": "229ccd49-5258-4646-8517-b1fad334acdf",
   "metadata": {
    "height": 113
   },
   "outputs": [],
   "source": [
    "import os\n",
    "from utils import get_llama_api_key, get_hf_access_token\n",
    "\n",
    "llama_api_key = get_llama_api_key()\n",
    "hf_access_token = get_hf_access_token()"
   ]
  },
  {
   "cell_type": "markdown",
   "id": "7c89a5cb-070e-48b9-998e-d8500db6a8d9",
   "metadata": {},
   "source": [
    "<div style=\"background-color:#fff6ff; padding:13px; border-width:3px; border-color:#efe6ef; border-style:solid; border-radius:6px\">\n",
    "<p> 💻 &nbsp; <b>Access <code>requirements.txt</code> and <code>helper.py</code> files:</b> 1) click on the <em>\"File\"</em> option on the top menu of the notebook and then 2) click on <em>\"Open\"</em>.</p>\n",
    "\n",
    "<p> ⬇ &nbsp; <b>Download Notebooks:</b> 1) click on the <em>\"File\"</em> option on the top menu of the notebook and then 2) click on <em>\"Download as\"</em> and select <em>\"Notebook (.ipynb)\"</em>.</p>\n",
    "\n",
    "<p> 📒 &nbsp; For more help, please see the <em>\"Appendix – Tips, Help, and Download\"</em> Lesson.</p>\n",
    "</div>"
   ]
  },
  {
   "cell_type": "markdown",
   "id": "66657c34-6056-4af0-8031-9da8ac099f34",
   "metadata": {},
   "source": [
    "## Using Hugging Face transformers"
   ]
  },
  {
   "cell_type": "code",
   "execution_count": null,
   "id": "2876631c-db76-43d8-8f20-bc964d070cf1",
   "metadata": {
    "height": 147
   },
   "outputs": [],
   "source": [
    "from transformers import AutoProcessor\n",
    "\n",
    "model_llama4_id = \"meta-llama/Llama-4-Scout-17B-16E-Instruct\"\n",
    "model_llama33_id = \"meta-llama/Llama-3.3-70B-Instruct\"\n",
    "\n",
    "processor_llama4 = AutoProcessor.from_pretrained(model_llama4_id)\n",
    "processor_llama33 = AutoProcessor.from_pretrained(model_llama33_id)"
   ]
  },
  {
   "cell_type": "markdown",
   "id": "9edc3307-8bd6-432d-91f2-0c620ee2831f",
   "metadata": {},
   "source": [
    "## Comparing Llama 4 and 3 raw text prompts"
   ]
  },
  {
   "cell_type": "code",
   "execution_count": null,
   "id": "b6ec5c2f-c274-4f93-b181-e2f8be467525",
   "metadata": {
    "height": 81
   },
   "outputs": [],
   "source": [
    "messages=[{\n",
    "    \"role\": \"user\",\n",
    "    \"content\": \"The best quote in Godfather.\"\n",
    "}]"
   ]
  },
  {
   "cell_type": "code",
   "execution_count": null,
   "id": "7a28c9e9-1cd5-4b2b-9416-7aafb9297066",
   "metadata": {
    "height": 96
   },
   "outputs": [],
   "source": [
    "raw_prompt = processor_llama4.apply_chat_template(messages,\n",
    "    tokenize=False,\n",
    "    add_generation_prompt=True)\n",
    "raw_prompt"
   ]
  },
  {
   "cell_type": "code",
   "execution_count": null,
   "id": "4b85284c-10b9-4593-bd0d-82aeb9fc06c6",
   "metadata": {
    "height": 96
   },
   "outputs": [],
   "source": [
    "raw_prompt = processor_llama33.apply_chat_template(messages,\n",
    "    tokenize=False,\n",
    "    add_generation_prompt=True)\n",
    "raw_prompt"
   ]
  },
  {
   "cell_type": "code",
   "execution_count": null,
   "id": "8bb825fe-d586-4a92-9c92-2ec0c2690e50",
   "metadata": {
    "height": 96
   },
   "outputs": [],
   "source": [
    "messages = [\n",
    "    {\"role\": \"system\", \"content\": \"Respond in French.\"},\n",
    "    {\"role\": \"user\", \"content\": \"Best quote in Godfather.\"},\n",
    "]"
   ]
  },
  {
   "cell_type": "code",
   "execution_count": null,
   "id": "08521291-31dc-4f85-8aa1-86b8b965a82c",
   "metadata": {
    "height": 96
   },
   "outputs": [],
   "source": [
    "raw_input_prompt = processor_llama4.apply_chat_template(messages,\n",
    "    tokenize=False,\n",
    "    add_generation_prompt=True)\n",
    "raw_input_prompt"
   ]
  },
  {
   "cell_type": "code",
   "execution_count": null,
   "id": "378a2ff9-ea3e-481f-b215-ab342340d2ee",
   "metadata": {
    "height": 96
   },
   "outputs": [],
   "source": [
    "raw_input_prompt = processor_llama33.apply_chat_template(messages,\n",
    "    tokenize=False,\n",
    "    add_generation_prompt=True)\n",
    "raw_input_prompt"
   ]
  },
  {
   "cell_type": "markdown",
   "id": "6f6215dd-04fd-4508-af1c-58eae60e58bf",
   "metadata": {},
   "source": [
    "## Image prompt format"
   ]
  },
  {
   "cell_type": "code",
   "execution_count": null,
   "id": "33250074-4e92-43bc-b436-5646da901086",
   "metadata": {
    "height": 283
   },
   "outputs": [],
   "source": [
    "url = \"https://raw.githubusercontent.com/meta-llama/llama-models/refs/heads/main/Llama_Repo.jpeg\"\n",
    "\n",
    "import requests\n",
    "from PIL import Image\n",
    "from io import BytesIO\n",
    "import matplotlib.pyplot as plt\n",
    "\n",
    "def display_image(image_url):\n",
    "    response = requests.get(image_url)\n",
    "    img = Image.open(BytesIO(response.content))\n",
    "    plt.imshow(img)\n",
    "    plt.axis('off')\n",
    "    plt.show()\n",
    "\n",
    "display_image(url)"
   ]
  },
  {
   "cell_type": "code",
   "execution_count": null,
   "id": "6f49a6d5-51fe-4a21-8b3d-f4f5f1b8870f",
   "metadata": {
    "height": 232
   },
   "outputs": [],
   "source": [
    "messages = [\n",
    "    {\n",
    "        \"role\": \"user\",\n",
    "        \"content\": [\n",
    "            {\n",
    "                \"type\": \"text\",\n",
    "                \"text\": \"Describe the image below.\",\n",
    "            },\n",
    "            {\"type\": \"image\", \"url\": url},\n",
    "        ],\n",
    "    },\n",
    "]"
   ]
  },
  {
   "cell_type": "code",
   "execution_count": null,
   "id": "ff7635eb-da7a-4ded-9bc7-3f9c64bbea2e",
   "metadata": {
    "height": 132
   },
   "outputs": [],
   "source": [
    "inputs = processor_llama4.apply_chat_template(\n",
    "    messages,\n",
    "    add_generation_prompt=True,\n",
    "    tokenize=True,\n",
    "    return_dict=True,\n",
    "    return_tensors=\"pt\",\n",
    ")"
   ]
  },
  {
   "cell_type": "code",
   "execution_count": null,
   "id": "9365464e-7d56-4ba3-bb0c-54c951a9c6e7",
   "metadata": {
    "height": 30
   },
   "outputs": [],
   "source": [
    "inputs.keys()"
   ]
  },
  {
   "cell_type": "code",
   "execution_count": null,
   "id": "9f2b2a97-24c1-401e-a362-7cfbbb83697d",
   "metadata": {
    "height": 30
   },
   "outputs": [],
   "source": [
    "inputs.pixel_values.size()"
   ]
  },
  {
   "cell_type": "code",
   "execution_count": null,
   "id": "efe1bf0d-4b34-4b18-adc6-0bf5ab01967b",
   "metadata": {
    "height": 62
   },
   "outputs": [],
   "source": [
    "from utils import plot_tiled_image\n",
    "plot_tiled_image(width=768, height=768, tile_size=336, patch_size=28)"
   ]
  },
  {
   "cell_type": "code",
   "execution_count": null,
   "id": "1124b18c-8599-4bec-9a9d-59f2dd26368d",
   "metadata": {
    "height": 62
   },
   "outputs": [],
   "source": [
    "raw_prompt = processor_llama4.tokenizer.batch_decode(inputs[\"input_ids\"])\n",
    "raw_prompt[0].replace(\"<|patch|>\"*144, \"<|patch|>...<|patch|>\")"
   ]
  },
  {
   "cell_type": "code",
   "execution_count": null,
   "id": "300eea7a-5c22-4698-8a45-070dfa5efbe8",
   "metadata": {
    "height": 30
   },
   "outputs": [],
   "source": []
  },
  {
   "cell_type": "code",
   "execution_count": null,
   "id": "8ec81999-eb77-48aa-be91-72cc2a1f1813",
   "metadata": {
    "height": 30
   },
   "outputs": [],
   "source": []
  },
  {
   "cell_type": "code",
   "execution_count": null,
   "id": "8b48b92e-5796-4cdb-9010-f2d92296334c",
   "metadata": {
    "height": 30
   },
   "outputs": [],
   "source": []
  },
  {
   "cell_type": "code",
   "execution_count": null,
   "id": "33e1e09b-5349-44e7-83f8-bddbfac0aea7",
   "metadata": {
    "height": 30
   },
   "outputs": [],
   "source": []
  },
  {
   "cell_type": "code",
   "execution_count": null,
   "id": "e1697ea2-f145-443d-889a-ee82355f86b0",
   "metadata": {
    "height": 30
   },
   "outputs": [],
   "source": []
  },
  {
   "cell_type": "code",
   "execution_count": null,
   "id": "d3266383-69ad-4240-a0a0-1be2c627c84c",
   "metadata": {
    "height": 30
   },
   "outputs": [],
   "source": []
  },
  {
   "cell_type": "code",
   "execution_count": null,
   "id": "9ac2452f-946e-435e-8929-5f82549c0b3a",
   "metadata": {
    "height": 30
   },
   "outputs": [],
   "source": []
  },
  {
   "cell_type": "code",
   "execution_count": null,
   "id": "a1f79641-d850-4814-a98f-e08fdc1731ac",
   "metadata": {
    "height": 30
   },
   "outputs": [],
   "source": []
  },
  {
   "cell_type": "code",
   "execution_count": null,
   "id": "6e283ea3-77a0-4120-9b99-e63dfbf388fa",
   "metadata": {
    "height": 30
   },
   "outputs": [],
   "source": []
  },
  {
   "cell_type": "code",
   "execution_count": null,
   "id": "546162af-e8a7-4f37-9c30-4d8a071941e4",
   "metadata": {
    "height": 30
   },
   "outputs": [],
   "source": []
  },
  {
   "cell_type": "code",
   "execution_count": null,
   "id": "12d8d953-cd71-4f4a-a115-6dbd5b318a43",
   "metadata": {
    "height": 30
   },
   "outputs": [],
   "source": []
  },
  {
   "cell_type": "code",
   "execution_count": null,
   "id": "c0dc8e7f-2e30-4cb5-bc17-384020905ce2",
   "metadata": {
    "height": 30
   },
   "outputs": [],
   "source": []
  },
  {
   "cell_type": "code",
   "execution_count": null,
   "id": "35252a41-2047-49c9-9c6a-bbdd9014da08",
   "metadata": {
    "height": 30
   },
   "outputs": [],
   "source": []
  },
  {
   "cell_type": "code",
   "execution_count": null,
   "id": "c5297b14-aa9c-4ecc-b94d-1f934743afc3",
   "metadata": {
    "height": 30
   },
   "outputs": [],
   "source": []
  },
  {
   "cell_type": "code",
   "execution_count": null,
   "id": "2e5f9c03-75ca-4ca8-b960-9ccd428ea201",
   "metadata": {
    "height": 30
   },
   "outputs": [],
   "source": []
  }
 ],
 "metadata": {
  "kernelspec": {
   "display_name": "Python 3 (ipykernel)",
   "language": "python",
   "name": "python3"
  },
  "language_info": {
   "codemirror_mode": {
    "name": "ipython",
    "version": 3
   },
   "file_extension": ".py",
   "mimetype": "text/x-python",
   "name": "python",
   "nbconvert_exporter": "python",
   "pygments_lexer": "ipython3",
   "version": "3.11.3"
  }
 },
 "nbformat": 4,
 "nbformat_minor": 5
}
