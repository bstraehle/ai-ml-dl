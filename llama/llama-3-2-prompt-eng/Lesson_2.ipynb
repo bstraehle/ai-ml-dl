{
 "cells": [
  {
   "cell_type": "markdown",
   "id": "62b64880-9216-4329-be3f-ca88958b1e2d",
   "metadata": {},
   "source": [
    "# Llama 3.2 Multimodal Prompting"
   ]
  },
  {
   "cell_type": "markdown",
   "id": "60bacfba-58f3-4cc5-8c80-006c3c32281c",
   "metadata": {},
   "source": [
    "<p style=\"background-color:#fff6e4; padding:15px; border-width:3px; border-color:#f5ecda; border-style:solid; border-radius:6px\"> ⏳ <b>Note <code>(Kernel Starting)</code>:</b> This notebook takes about 30 seconds to be ready to use. You may start and watch the video while you wait.</p>"
   ]
  },
  {
   "cell_type": "code",
   "execution_count": null,
   "id": "a560f3f0-84bd-436e-ad42-194a21f48e4e",
   "metadata": {
    "height": 47
   },
   "outputs": [],
   "source": [
    "import warnings\n",
    "warnings.filterwarnings('ignore')"
   ]
  },
  {
   "cell_type": "code",
   "execution_count": null,
   "id": "ea4a7628-fa0d-4008-9cba-46cfe4838613",
   "metadata": {
    "height": 48
   },
   "outputs": [],
   "source": [
    "from utils import load_env\n",
    "load_env()"
   ]
  },
  {
   "cell_type": "markdown",
   "id": "2634badc-f54d-445e-aba4-3b2fa89474fb",
   "metadata": {},
   "source": [
    "## Text input only question"
   ]
  },
  {
   "cell_type": "code",
   "execution_count": null,
   "id": "88a5faf2-7b1d-42cc-8f1e-9d14f51efec3",
   "metadata": {
    "height": 48
   },
   "outputs": [],
   "source": [
    "from utils import llama32\n",
    "from utils import llama31"
   ]
  },
  {
   "cell_type": "markdown",
   "id": "77b5e00e-80e1-4034-8cc6-bae18a3d307d",
   "metadata": {},
   "source": [
    "<p style=\"background-color:#fff6ff; padding:15px; border-width:3px; border-color:#efe6ef; border-style:solid; border-radius:6px\"> 💻 &nbsp; <b>Access <code>requirements.txt</code> and <code>utils.py</code> files:</b> 1) click on the <em>\"File\"</em> option on the top menu of the notebook and then 2) click on <em>\"Open\"</em>. For more help, please see the <em>\"Appendix - Tips and Help\"</em> Lesson.</p>"
   ]
  },
  {
   "cell_type": "code",
   "execution_count": null,
   "id": "afca78d0-7caa-489f-98a8-ec59edeab9a8",
   "metadata": {
    "height": 98
   },
   "outputs": [],
   "source": [
    "messages = [\n",
    "  {\"role\": \"user\",\n",
    "    \"content\": \"Who wrote the book Charlotte's Web?\"}\n",
    "]"
   ]
  },
  {
   "cell_type": "code",
   "execution_count": null,
   "id": "81481e5b-da23-4dcd-a6b4-ad92ea6d8bd0",
   "metadata": {
    "height": 48
   },
   "outputs": [],
   "source": [
    "response_32 = llama32(messages, 90)\n",
    "print(response_32)"
   ]
  },
  {
   "cell_type": "code",
   "execution_count": null,
   "id": "1abf111b-459a-47fd-9691-246e012affb5",
   "metadata": {
    "height": 48
   },
   "outputs": [],
   "source": [
    "response_31 = llama31(messages,70)\n",
    "print(response_31)"
   ]
  },
  {
   "cell_type": "markdown",
   "id": "72425e13-2e9a-46cb-a72e-9da04d523f80",
   "metadata": {},
   "source": [
    "## Reprompting with new question"
   ]
  },
  {
   "cell_type": "code",
   "execution_count": null,
   "id": "7e055602-c6b4-40cc-ab81-c11c7d153425",
   "metadata": {
    "height": 166
   },
   "outputs": [],
   "source": [
    "messages = [\n",
    "  {\"role\": \"user\",\n",
    "    \"content\": \"Who wrote the book Charlotte's Web?\"},\n",
    "      {\"role\": \"assistant\",\n",
    "    \"content\": response_32},\n",
    "      {\"role\": \"user\",\n",
    "    \"content\": \"3 of the best quotes\"}\n",
    "]"
   ]
  },
  {
   "cell_type": "code",
   "execution_count": null,
   "id": "7300f74e-7d0b-4918-b687-89e7303975e2",
   "metadata": {
    "height": 48
   },
   "outputs": [],
   "source": [
    "response_32 = llama32(messages,90)\n",
    "print(response_32)"
   ]
  },
  {
   "cell_type": "code",
   "execution_count": null,
   "id": "accdc2e2-28d8-47f2-b190-3a98fc455f79",
   "metadata": {
    "height": 48
   },
   "outputs": [],
   "source": [
    "response_31 = llama31(messages,70)\n",
    "print(response_31)"
   ]
  },
  {
   "cell_type": "markdown",
   "id": "f33c9294-6c42-4caa-b504-0875f2978acb",
   "metadata": {},
   "source": [
    "## Question about an image"
   ]
  },
  {
   "cell_type": "code",
   "execution_count": null,
   "id": "215feb44-49b2-4b60-88e9-d8309089bc7a",
   "metadata": {
    "height": 31
   },
   "outputs": [],
   "source": [
    "from utils import disp_image"
   ]
  },
  {
   "cell_type": "code",
   "execution_count": null,
   "id": "bb9a380b-b2f9-41a7-892f-43d1a6923c70",
   "metadata": {
    "height": 47
   },
   "outputs": [],
   "source": [
    "disp_image(\"images/Llama_Repo.jpeg\") # Example usage for local image"
   ]
  },
  {
   "cell_type": "markdown",
   "id": "3c69ad20-03b3-43ff-9597-5bfa39d9733e",
   "metadata": {},
   "source": [
    "### Image from a URL"
   ]
  },
  {
   "cell_type": "code",
   "execution_count": null,
   "id": "f72ce84e-7dee-4223-9fcc-df6efe760cae",
   "metadata": {
    "height": 268
   },
   "outputs": [],
   "source": [
    "image_url = (\"https://raw.githubusercontent.com/meta-llama/\"\n",
    "            \"llama-models/refs/heads/main/Llama_Repo.jpeg\")\n",
    "messages = [\n",
    "  {\"role\": \"user\",\n",
    "    \"content\": [\n",
    "      {\"type\": \"text\",\n",
    "        \"text\": \"describe the image in one sentence\"\n",
    "      },\n",
    "      {\"type\": \"image_url\",\n",
    "        \"image_url\": {\"url\": image_url}\n",
    "      }\n",
    "    ]\n",
    "  },\n",
    "]"
   ]
  },
  {
   "cell_type": "code",
   "execution_count": null,
   "id": "45aedfab-122d-407a-9c13-6b0abe68109d",
   "metadata": {
    "height": 65
   },
   "outputs": [],
   "source": [
    "disp_image(image_url)\n",
    "result = llama32(messages,90)\n",
    "print(result)"
   ]
  },
  {
   "cell_type": "markdown",
   "id": "628c1ea4-48c7-439f-989a-aaef59285053",
   "metadata": {},
   "source": [
    "### Using a local image"
   ]
  },
  {
   "cell_type": "code",
   "execution_count": null,
   "id": "1e12cec8-bc52-4fd8-93b9-63092011a49d",
   "metadata": {
    "height": 132
   },
   "outputs": [],
   "source": [
    "import base64\n",
    "\n",
    "def encode_image(image_path):\n",
    "  with open(image_path, \"rb\") as image_file:\n",
    "    return base64.b64encode(image_file.read()).decode('utf-8')\n",
    "base64_image = encode_image(\"images/Llama_Repo.jpeg\")"
   ]
  },
  {
   "cell_type": "code",
   "execution_count": null,
   "id": "f436f385-aefe-406a-873a-b8479cba85c2",
   "metadata": {
    "height": 234
   },
   "outputs": [],
   "source": [
    "messages = [\n",
    "  {\"role\": \"user\",\n",
    "    \"content\": [\n",
    "      {\"type\": \"text\",\n",
    "        \"text\": \"describe the image in one sentence\"\n",
    "      },\n",
    "      {\"type\": \"image_url\",\n",
    "        \"image_url\": {\"url\": f\"data:image/jpeg;base64,{base64_image}\"}\n",
    "      }\n",
    "    ]\n",
    "  },\n",
    "]"
   ]
  },
  {
   "cell_type": "code",
   "execution_count": null,
   "id": "73d71ecc-0cda-4bb3-a533-15a352f4274a",
   "metadata": {
    "height": 65
   },
   "outputs": [],
   "source": [
    "disp_image(image_url)\n",
    "result = llama32(messages,90)\n",
    "print(result)"
   ]
  },
  {
   "cell_type": "markdown",
   "id": "aecd8db8-81f2-4ae1-bddc-ba045010822d",
   "metadata": {},
   "source": [
    "## Follow up question about an image"
   ]
  },
  {
   "cell_type": "code",
   "execution_count": null,
   "id": "126746fc-38b5-48c4-a130-12ff52a35079",
   "metadata": {
    "height": 268
   },
   "outputs": [],
   "source": [
    "messages = [\n",
    "  {\"role\": \"user\",\n",
    "    \"content\": [\n",
    "      {\"type\": \"text\",\n",
    "        \"text\": \"describe the image in one sentence\"\n",
    "      },\n",
    "      {\"type\": \"image_url\",\n",
    "        \"image_url\": {\"url\": f\"data:image/jpeg;base64,{base64_image}\"}\n",
    "      }\n",
    "    ]\n",
    "  },\n",
    "  {\"role\": \"assistant\", \"content\": result},\n",
    "  {\"role\": \"user\", \"content\": \"how many of them are purple?\"}\n",
    "]"
   ]
  },
  {
   "cell_type": "code",
   "execution_count": null,
   "id": "25d31f7e-dc74-4342-af0a-e9beca290c93",
   "metadata": {
    "height": 48
   },
   "outputs": [],
   "source": [
    "result = llama32(messages)\n",
    "print(result)"
   ]
  },
  {
   "cell_type": "markdown",
   "id": "df39b37e-20f0-455a-b116-089ac9a8238c",
   "metadata": {},
   "source": [
    "### Define llama32pi() helper"
   ]
  },
  {
   "cell_type": "code",
   "execution_count": null,
   "id": "c362e712-a44d-4026-9338-3a0fface5459",
   "metadata": {
    "height": 302
   },
   "outputs": [],
   "source": [
    "def llama32pi(prompt, image_url, model_size=90):\n",
    "  messages = [\n",
    "    {\n",
    "      \"role\": \"user\",\n",
    "      \"content\": [\n",
    "        {\"type\": \"text\",\n",
    "          \"text\": prompt},\n",
    "        {\"type\": \"image_url\",\n",
    "          \"image_url\": {\n",
    "            \"url\": image_url}\n",
    "        }\n",
    "      ]\n",
    "    },\n",
    "  ]\n",
    "  result = llama32(messages, model_size)\n",
    "  return result"
   ]
  },
  {
   "cell_type": "code",
   "execution_count": null,
   "id": "735f50f4-44c0-4a2a-8b28-cc59b7410660",
   "metadata": {
    "height": 81
   },
   "outputs": [],
   "source": [
    "print(llama32pi(\"describe the image in one sentence\",\n",
    "                \"https://raw.githubusercontent.com/meta-llama/\"\n",
    "                \"llama-models/refs/heads/main/Llama_Repo.jpeg\"))"
   ]
  },
  {
   "cell_type": "code",
   "execution_count": null,
   "id": "fdfb78fc-94c8-4858-becc-015d09fe886b",
   "metadata": {
    "height": 64
   },
   "outputs": [],
   "source": [
    "print(llama32pi(\"describe the image in one sentence\",\n",
    "                f\"data:image/jpeg;base64,{base64_image}\"))"
   ]
  },
  {
   "cell_type": "markdown",
   "id": "503344e4-4d87-46f6-8eb8-ef482c338c7d",
   "metadata": {},
   "source": [
    "## Plant recognition"
   ]
  },
  {
   "cell_type": "code",
   "execution_count": null,
   "id": "78a16781-9c5c-4752-9329-38d122f99a0a",
   "metadata": {
    "height": 31
   },
   "outputs": [],
   "source": [
    "disp_image(\"images/tree.jpg\")"
   ]
  },
  {
   "cell_type": "code",
   "execution_count": null,
   "id": "19865b1c-55d6-4014-84f5-95b1c47f698e",
   "metadata": {
    "height": 64
   },
   "outputs": [],
   "source": [
    "question = (\"What kind of plant is this in my garden?\"\n",
    "            \"Describe it in a short paragraph.\")"
   ]
  },
  {
   "cell_type": "code",
   "execution_count": null,
   "id": "7e581ea2-8801-4d4c-84f1-cf382459cb10",
   "metadata": {
    "height": 81
   },
   "outputs": [],
   "source": [
    "base64_image = encode_image(\"images/tree.jpg\")\n",
    "result = llama32pi(question, f\"data:image/jpg;base64,{base64_image}\")\n",
    "print(result)"
   ]
  },
  {
   "cell_type": "markdown",
   "id": "08359ef9-dba6-468c-b23b-c6e3f6e08eba",
   "metadata": {},
   "source": [
    "## Dog breed recognition"
   ]
  },
  {
   "cell_type": "code",
   "execution_count": null,
   "id": "8e063d07-cd90-4dbf-93c6-7c063a17fe92",
   "metadata": {
    "height": 31
   },
   "outputs": [],
   "source": [
    "disp_image(\"images/ww1.jpg\")"
   ]
  },
  {
   "cell_type": "code",
   "execution_count": null,
   "id": "3b938c45-b307-47bf-bded-52260b4f1705",
   "metadata": {
    "height": 115
   },
   "outputs": [],
   "source": [
    "question = ((\"What dog breed is this? Describe in one paragraph,\"\n",
    "             \"and 3-5 short bullet points\"))\n",
    "base64_image = encode_image(\"images/ww1.jpg\")\n",
    "result = llama32pi(question, f\"data:image/jpg;base64,{base64_image}\")\n",
    "print(result)"
   ]
  },
  {
   "cell_type": "code",
   "execution_count": null,
   "id": "882d0eb1-698e-4841-a7bc-de63215b6179",
   "metadata": {
    "height": 31
   },
   "outputs": [],
   "source": [
    "disp_image(\"images/ww2.png\")"
   ]
  },
  {
   "cell_type": "code",
   "execution_count": null,
   "id": "62851e90-cc4e-4aae-a912-a47a00886efa",
   "metadata": {
    "height": 81
   },
   "outputs": [],
   "source": [
    "base64_image = encode_image(\"images/ww2.png\")\n",
    "result = llama32pi(question, f\"data:image/png;base64,{base64_image}\")\n",
    "print(result)"
   ]
  },
  {
   "cell_type": "markdown",
   "id": "74573008-4ea3-491d-8554-76b3ef414616",
   "metadata": {},
   "source": [
    "## Tire pressure warning"
   ]
  },
  {
   "cell_type": "code",
   "execution_count": null,
   "id": "423bd23c-991e-4b93-93ee-1aa19df662be",
   "metadata": {
    "height": 31
   },
   "outputs": [],
   "source": [
    "disp_image(\"images/tire_pressure.png\")"
   ]
  },
  {
   "cell_type": "code",
   "execution_count": null,
   "id": "95d33279-b71e-495d-b3f2-c714829ef8ba",
   "metadata": {
    "height": 64
   },
   "outputs": [],
   "source": [
    "question = ((\"What's the problem this is about?\"\n",
    "             \" What should be good numbers?\"))"
   ]
  },
  {
   "cell_type": "code",
   "execution_count": null,
   "id": "828b3fbd-5f45-4e42-b06f-536ca410d8e7",
   "metadata": {
    "height": 81
   },
   "outputs": [],
   "source": [
    "base64_image = encode_image(\"images/tire_pressure.png\")\n",
    "result = llama32pi(question, f\"data:image/png;base64,{base64_image}\")\n",
    "print(result)"
   ]
  },
  {
   "cell_type": "code",
   "execution_count": null,
   "id": "c5735177-e227-4062-8a51-5a87cdcc786a",
   "metadata": {
    "height": 31
   },
   "outputs": [],
   "source": []
  },
  {
   "cell_type": "code",
   "execution_count": null,
   "id": "f8174346-415c-4341-983b-9bd0796a85ed",
   "metadata": {
    "height": 31
   },
   "outputs": [],
   "source": []
  },
  {
   "cell_type": "code",
   "execution_count": null,
   "id": "17579201-4fe1-4d6e-8d41-bc51ee0bea39",
   "metadata": {
    "height": 31
   },
   "outputs": [],
   "source": []
  },
  {
   "cell_type": "code",
   "execution_count": null,
   "id": "52513590-36e7-403d-8563-1d36d2983235",
   "metadata": {
    "height": 31
   },
   "outputs": [],
   "source": []
  },
  {
   "cell_type": "code",
   "execution_count": null,
   "id": "30111c0f-8bdd-47bb-89d6-068244f41bff",
   "metadata": {
    "height": 31
   },
   "outputs": [],
   "source": []
  }
 ],
 "metadata": {
  "kernelspec": {
   "display_name": "Python 3 (ipykernel)",
   "language": "python",
   "name": "python3"
  },
  "language_info": {
   "codemirror_mode": {
    "name": "ipython",
    "version": 3
   },
   "file_extension": ".py",
   "mimetype": "text/x-python",
   "name": "python",
   "nbconvert_exporter": "python",
   "pygments_lexer": "ipython3",
   "version": "3.11.9"
  }
 },
 "nbformat": 4,
 "nbformat_minor": 5
}
