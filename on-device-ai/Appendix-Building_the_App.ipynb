{
 "cells": [
  {
   "cell_type": "markdown",
   "id": "9bfcf953",
   "metadata": {},
   "source": [
    "# Appendix - Building the App\n",
    "\n",
    "Going into the details of the building the final mobile app was slightly outside the scope of this course. We have build this help guide for you to show the main steps and code samples you need to build the app we saw in the last lesson."
   ]
  },
  {
   "cell_type": "markdown",
   "id": "2b874e72-56f8-4b8d-bfe2-abfb6e86d5bf",
   "metadata": {},
   "source": [
    "## TensorFlow Lite\n",
    "TensorFlow Lite is a runtime that enables on-device machine learning by helping developers run their models on mobile, embedded, and edge devices. The models produced by TensorFlow Lite work on multiple platform support, covering Android and iOS devices, embedded Linux, and microcontrollers. The toolchain also has diverse language support, which includes Java, Swift, Objective-C, C++, and Python.\n",
    "\n",
    "<a href=\"https://www.tensorflow.org/lite/guide\">🔗 &nbsp; TensorFlow Lite guide [ + ]</a>\n"
   ]
  },
  {
   "cell_type": "markdown",
   "id": "1f2ee196-7f19-4760-8098-f5c6c77027f1",
   "metadata": {},
   "source": [
    "## Delegation\n",
    "\n",
    "In the context of TensorFlow Lite, \"delegation\" refers to the use of delegates to enable hardware acceleration of machine learning models on mobile and edge devices. Delegates act as a bridge between TensorFlow Lite and on-device accelerators like GPUs and DSPs, optimizing performance and efficiency by leveraging specialized hardware capabilities. This process can significantly improve the speed and power consumption of running machine learning models on such devices. For more details, you can visit the TensorFlow Lite Delegates page.\n",
    "\n",
    "<a href=\"https://ai.google.dev/edge/lite/performance/delegates\">🔗 &nbsp; TensorFlow Lite Delegates page [ + ]</a>\n",
    "\n",
    "### Qualcomm QNN delegate\n",
    "\n",
    "Qualcomm QNN delegate allows you to run models on the NPU.\n",
    "\n",
    "<a href=\"https://softwarecenter.qualcomm.com/api/download/software/qualcomm_neural_processing_sdk/v2.22.6.240515.zip\">🔗 &nbsp; Download Qualcomm QNN Delegate – (Zip 724 MB)</a>"
   ]
  },
  {
   "cell_type": "markdown",
   "id": "7b10ed25-96cc-496a-bf62-b4705d4d76bd",
   "metadata": {},
   "source": [
    "## End-to-end examples\n",
    "\n",
    "You can find end-to-end examples, for common machine learning tasks such as image classification, object detection, pose estimation, question answering, text classification, etc. on multiple platforms. Here is the link to some models we have provided for you.\n",
    "\n",
    "<a href=\"\n",
    "https://github.com/quic/ai-hub-models/tree/main/apps/android\">🔗 &nbsp; End-to-end examples – GitHub [ + ]</a>\n",
    "\n",
    "<b>Models available</b>:\n",
    "- ImageClassification\n",
    "- ImageSuperResolution\n",
    "- SemanticSegmentation"
   ]
  },
  {
   "cell_type": "markdown",
   "id": "bd371612-2801-40eb-8b24-670a0fe406a8",
   "metadata": {},
   "source": [
    "## Semantic segmentation code\n",
    "The code for the semantic segmentation app we developed in this course is available on Github for you to try.\n",
    "\n",
    "<b> Requirements:</b>\n",
    "- Java, android-sdk and sdkmanager is already set at user's end\n",
    "- User should have Linux QNN SDK in local machine.\n",
    "- ANDROID_HOME is set to android-sdk path\n",
    "- AI-Hub is properly configured with user token.\n",
    "\n",
    "<b>Note:</b> Please execute build_apk.py. This script will compile and download a model from AI-Hub and paste it in your Android Project and Generate app-debug.apk.\n",
    "\n",
    "<a href=\"https://github.com/quic/ai-hub-models/tree/main/apps/android/SemanticSegmentation\">🔗 &nbsp; Semantic segmentation code + Guide – GitHub [ + ]</a>"
   ]
  },
  {
   "cell_type": "markdown",
   "id": "e0bcc2c3-5133-4f79-842e-4430ee4544b3",
   "metadata": {},
   "source": [
    "## Course Community\n",
    "You can discuss your questions related to course content, notebooks, and building your on-device apps with other course learners in Deeplearning.AI community created for this course.\n",
    "\n",
    "<a href=\"https://learn.deeplearning.ai/courses/introduction-to-on-device-ai/community\">🔗 &nbsp; Course Community [ + ]</a>\n",
    "\n"
   ]
  }
 ],
 "metadata": {
  "kernelspec": {
   "display_name": "Python 3 (ipykernel)",
   "language": "python",
   "name": "python3"
  },
  "language_info": {
   "codemirror_mode": {
    "name": "ipython",
    "version": 3
   },
   "file_extension": ".py",
   "mimetype": "text/x-python",
   "name": "python",
   "nbconvert_exporter": "python",
   "pygments_lexer": "ipython3",
   "version": "3.8.19"
  }
 },
 "nbformat": 4,
 "nbformat_minor": 5
}
