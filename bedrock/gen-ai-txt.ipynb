{
 "cells": [
  {
   "cell_type": "code",
   "execution_count": 1,
   "metadata": {},
   "outputs": [],
   "source": [
    "!pip install -q --upgrade pip\n",
    "!pip install -q botocore\n",
    "!pip install -q boto3"
   ]
  },
  {
   "cell_type": "code",
   "execution_count": 2,
   "metadata": {},
   "outputs": [],
   "source": [
    "import boto3, json"
   ]
  },
  {
   "cell_type": "code",
   "execution_count": 3,
   "metadata": {},
   "outputs": [],
   "source": [
    "bedrock_runtime = boto3.client(\n",
    "    service_name=\"bedrock-runtime\",\n",
    "    region_name=\"us-west-2\"\n",
    ")"
   ]
  },
  {
   "cell_type": "code",
   "execution_count": 4,
   "metadata": {},
   "outputs": [],
   "source": [
    "prompt = \"Hello\""
   ]
  },
  {
   "cell_type": "code",
   "execution_count": 5,
   "metadata": {},
   "outputs": [
    {
     "name": "stdout",
     "output_type": "stream",
     "text": [
      "{'modelId': 'ai21.j2-mid-v1', 'contentType': 'application/json', 'accept': '*/*', 'body': '{\"prompt\":\"Hello\",\"maxTokens\":200,\"temperature\":0.7,\"topP\":1,\"stopSequences\":[],\"countPenalty\":{\"scale\":0},\"presencePenalty\":{\"scale\":0},\"frequencyPenalty\":{\"scale\":0}}'}\n"
     ]
    }
   ],
   "source": [
    "args = {\n",
    "  \"modelId\": \"ai21.j2-mid-v1\",\n",
    "  \"contentType\": \"application/json\",\n",
    "  \"accept\": \"*/*\",\n",
    "  \"body\": \"{\\\"prompt\\\":\\\"\" + prompt + \"\\\",\\\"maxTokens\\\":200,\\\"temperature\\\":0.7,\\\"topP\\\":1,\\\"stopSequences\\\":[],\\\"countPenalty\\\":{\\\"scale\\\":0},\\\"presencePenalty\\\":{\\\"scale\\\":0},\\\"frequencyPenalty\\\":{\\\"scale\\\":0}}\"\n",
    "}\n",
    "\n",
    "print(args)"
   ]
  },
  {
   "cell_type": "code",
   "execution_count": 6,
   "metadata": {},
   "outputs": [
    {
     "data": {
      "text/plain": [
       "{'ResponseMetadata': {'RequestId': '9c8ee018-4ca5-4e84-b2ab-29c524039323',\n",
       "  'HTTPStatusCode': 200,\n",
       "  'HTTPHeaders': {'date': 'Fri, 29 Sep 2023 01:23:26 GMT',\n",
       "   'content-type': 'application/json',\n",
       "   'content-length': '1265',\n",
       "   'connection': 'keep-alive',\n",
       "   'x-amzn-requestid': '9c8ee018-4ca5-4e84-b2ab-29c524039323'},\n",
       "  'RetryAttempts': 0},\n",
       " 'contentType': 'application/json',\n",
       " 'body': <botocore.response.StreamingBody at 0x1a11329abb0>}"
      ]
     },
     "execution_count": 6,
     "metadata": {},
     "output_type": "execute_result"
    }
   ],
   "source": [
    "response = bedrock_runtime.invoke_model(**args)\n",
    "\n",
    "response"
   ]
  },
  {
   "cell_type": "code",
   "execution_count": 7,
   "metadata": {},
   "outputs": [
    {
     "data": {
      "text/plain": [
       "{'id': 1234,\n",
       " 'prompt': {'text': 'Hello',\n",
       "  'tokens': [{'generatedToken': {'token': '▁Hello',\n",
       "     'logprob': -8.232519149780273,\n",
       "     'raw_logprob': -8.232519149780273},\n",
       "    'topTokens': None,\n",
       "    'textRange': {'start': 0, 'end': 5}}]},\n",
       " 'completions': [{'data': {'text': '\\nHow can I help you today?',\n",
       "    'tokens': [{'generatedToken': {'token': '<|newline|>',\n",
       "       'logprob': -0.16034109890460968,\n",
       "       'raw_logprob': -0.39846518635749817},\n",
       "      'topTokens': None,\n",
       "      'textRange': {'start': 0, 'end': 1}},\n",
       "     {'generatedToken': {'token': '▁How▁can▁I',\n",
       "       'logprob': -0.348929762840271,\n",
       "       'raw_logprob': -0.6885401606559753},\n",
       "      'topTokens': None,\n",
       "      'textRange': {'start': 1, 'end': 10}},\n",
       "     {'generatedToken': {'token': '▁help▁you',\n",
       "       'logprob': -0.2998587489128113,\n",
       "       'raw_logprob': -0.43133169412612915},\n",
       "      'topTokens': None,\n",
       "      'textRange': {'start': 10, 'end': 19}},\n",
       "     {'generatedToken': {'token': '▁today',\n",
       "       'logprob': -0.0005532164941541851,\n",
       "       'raw_logprob': -0.005273479502648115},\n",
       "      'topTokens': None,\n",
       "      'textRange': {'start': 19, 'end': 25}},\n",
       "     {'generatedToken': {'token': '?',\n",
       "       'logprob': -8.940656698541716e-06,\n",
       "       'raw_logprob': -0.0004210777406115085},\n",
       "      'topTokens': None,\n",
       "      'textRange': {'start': 25, 'end': 26}},\n",
       "     {'generatedToken': {'token': '<|endoftext|>',\n",
       "       'logprob': -0.13770639896392822,\n",
       "       'raw_logprob': -0.33765313029289246},\n",
       "      'topTokens': None,\n",
       "      'textRange': {'start': 26, 'end': 26}}]},\n",
       "   'finishReason': {'reason': 'endoftext'}}]}"
      ]
     },
     "execution_count": 7,
     "metadata": {},
     "output_type": "execute_result"
    }
   ],
   "source": [
    "response_body = json.loads(response.get('body').read())\n",
    "\n",
    "response_body"
   ]
  },
  {
   "cell_type": "code",
   "execution_count": 8,
   "metadata": {},
   "outputs": [
    {
     "data": {
      "text/plain": [
       "'\\nHow can I help you today?'"
      ]
     },
     "execution_count": 8,
     "metadata": {},
     "output_type": "execute_result"
    }
   ],
   "source": [
    "completion = response_body.get('completions')[0].get('data').get('text')\n",
    "\n",
    "completion"
   ]
  }
 ],
 "metadata": {
  "kernelspec": {
   "display_name": "Python 3",
   "language": "python",
   "name": "python3"
  },
  "language_info": {
   "codemirror_mode": {
    "name": "ipython",
    "version": 3
   },
   "file_extension": ".py",
   "mimetype": "text/x-python",
   "name": "python",
   "nbconvert_exporter": "python",
   "pygments_lexer": "ipython3",
   "version": "3.9.13"
  },
  "orig_nbformat": 4
 },
 "nbformat": 4,
 "nbformat_minor": 2
}
